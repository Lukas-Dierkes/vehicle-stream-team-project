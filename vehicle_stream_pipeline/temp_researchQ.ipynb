{
 "cells": [
  {
   "cell_type": "code",
   "execution_count": 1,
   "metadata": {},
   "outputs": [],
   "source": [
    "from datetime import datetime as dt\n",
    "\n",
    "import dash\n",
    "import dash_bootstrap_components as dbc\n",
    "import git\n",
    "import numpy as np\n",
    "import pandas as pd\n",
    "import plotly.express as px\n",
    "import plotly.graph_objects as go\n",
    "from dash import MATCH, Dash, Input, Output, callback, dcc, html\n",
    "import networkx as nx\n"
   ]
  },
  {
   "cell_type": "code",
   "execution_count": 2,
   "metadata": {},
   "outputs": [],
   "source": [
    "from vehicle_stream_pipeline import utils"
   ]
  },
  {
   "cell_type": "code",
   "execution_count": 190,
   "metadata": {},
   "outputs": [],
   "source": [
    "repo = git.Repo(\".\", search_parent_directories=True).git.rev_parse(\"--show-toplevel\")\n",
    "# fetch data (here we can automate it)\n",
    "df_stops = pd.read_excel(\n",
    "    f\"{repo}/data/other/MoDstops+Preismodell.xlsx\", sheet_name=\"MoDstops\"\n",
    ")\n",
    "\n",
    "df_edges = pd.read_excel(\n",
    "    f\"{repo}/data/other/MoDstops+Preismodell.xlsx\", sheet_name=\"Liste 2022\"\n",
    ")\n",
    "df_simulated = pd.read_csv(\n",
    "    f\"{repo}/data/sim_rides_2m.csv\"\n",
    ")\n",
    "\n",
    "results = pd.read_csv(\n",
    "    f\"{repo}/data/graph_metrics_5Ksteps.csv\"\n",
    ")\n"
   ]
  },
  {
   "cell_type": "code",
   "execution_count": 7,
   "metadata": {},
   "outputs": [],
   "source": [
    "repo = git.Repo(\".\", search_parent_directories=True).git.rev_parse(\"--show-toplevel\")\n",
    "results = pd.read_csv(\n",
    "    f\"{repo}/data/regression/graph_metrics_5Ksteps.csv\"\n",
    ")"
   ]
  },
  {
   "cell_type": "code",
   "execution_count": 5,
   "metadata": {},
   "outputs": [],
   "source": [
    "\n",
    "df_edges.rename(columns={\"Start #\": \"start_id\", \"Ende #\": \"end_id\"}, inplace=True)\n",
    "\n",
    "rides_df = pd.read_csv(f\"{repo}/data/cleaning/data_cleaned.csv\")\n",
    "rides_df = rides_df[(rides_df[\"state\"] == \"completed\")]\n",
    "rides_df[\"scheduled_to\"] = pd.to_datetime(rides_df[\"scheduled_to\"])\n",
    "\n"
   ]
  },
  {
   "cell_type": "code",
   "execution_count": null,
   "metadata": {},
   "outputs": [],
   "source": [
    "def getDeliveryTimes(rides_simulated, drone_radius=500):\n",
    "    rides_simulated['scheduled_to'] = pd.to_datetime(rides_simulated['scheduled_to'])\n",
    "    start_date = rides_simulated['scheduled_to'].min()\n",
    "    end_date = rides_simulated['scheduled_to'].max()\n",
    "\n",
    "    drives_without_drones = utils.calculate_drives(\n",
    "        rides_simulated, start_date, end_date\n",
    "    )\n",
    "    graph_without_drones = utils.calculate_graph(drives_without_drones)\n",
    "    if nx.is_strongly_connected(graph_without_drones):\n",
    "        diameter = nx.diameter(graph_without_drones, weight=\"avg_time_to_destination\")\n",
    "    else: \n",
    "        diameter = 0\n",
    "    avg = nx.average_shortest_path_length(graph_without_drones, weight=\"avg_time_to_destination\")\n",
    "\n",
    "    drone_spots = [15011, 13001, 2002, 11007, 4016, 1002, 3020, 9019, 9005]\n",
    "    drives_with_drones = utils.add_drone_flights(\n",
    "        df_edges, drives_without_drones, drone_spots=drone_spots, radius=drone_radius\n",
    "    )\n",
    "    graph_with_drones = utils.calculate_graph(drives_with_drones)\n",
    "    if nx.is_strongly_connected(graph_with_drones):\n",
    "        diameter_with_drones = nx.diameter(graph_with_drones, weight=\"avg_time_to_destination\")\n",
    "    else: \n",
    "        diameter = 0\n",
    "    avg_with_drones = nx.average_shortest_path_length(graph_with_drones, weight=\"avg_time_to_destination\")\n",
    "\n",
    "    return [len(rides_simulated), diameter, avg, diameter_with_drones, avg_with_drones]"
   ]
  },
  {
   "cell_type": "code",
   "execution_count": null,
   "metadata": {},
   "outputs": [],
   "source": [
    "\n",
    "results = pd.DataFrame(columns=[\"#_simulated_rides\", \"diameter_w/o_drones\", \"avg_w/o_drones\", \"diameter_with_drones\", \"avg_with_drones\"])\n",
    "for n in list(range(10000,2000000,5000)):\n",
    "    current_sample_df = df_simulated.sample(n=n)\n",
    "    results.loc[len(results)] = getDeliveryTimes(current_sample_df)\n",
    "\n"
   ]
  },
  {
   "cell_type": "code",
   "execution_count": 6,
   "metadata": {},
   "outputs": [
    {
     "data": {
      "text/plain": [
       "Index(['Unnamed: 0', '#_simulated_rides', 'diameter_w/o_drones',\n",
       "       'avg_w/o_drones', 'diameter_with_drones', 'avg_with_drones'],\n",
       "      dtype='object')"
      ]
     },
     "execution_count": 6,
     "metadata": {},
     "output_type": "execute_result"
    }
   ],
   "source": [
    "results.columns\n"
   ]
  },
  {
   "cell_type": "code",
   "execution_count": null,
   "metadata": {},
   "outputs": [],
   "source": [
    "results.to_csv(f\"{repo}/data/graph_metrics.csv\")"
   ]
  },
  {
   "cell_type": "code",
   "execution_count": 7,
   "metadata": {},
   "outputs": [],
   "source": [
    "import matplotlib.pyplot as plt"
   ]
  },
  {
   "cell_type": "code",
   "execution_count": 207,
   "metadata": {},
   "outputs": [
    {
     "data": {
      "image/png": "[encoded data removed]",
      "text/plain": [
       "<Figure size 432x288 with 1 Axes>"
      ]
     },
     "metadata": {
      "needs_background": "light"
     },
     "output_type": "display_data"
    }
   ],
   "source": [
    "plt.plot(results[\"#_simulated_rides\"],results['diameter_w/o_drones'], label='diameter_w/o_drones')\n",
    "plt.plot(results[\"#_simulated_rides\"],results['avg_w/o_drones'], label='avg_w/o_drones')\n",
    "plt.plot(results[\"#_simulated_rides\"],results['diameter_with_drones'], label='diameter_with_drones' )\n",
    "plt.plot(results[\"#_simulated_rides\"],results['avg_with_drones'], label='avg_with_drones' )\n",
    "\n",
    "plt.legend()\n",
    "plt.show()"
   ]
  },
  {
   "cell_type": "code",
   "execution_count": 37,
   "metadata": {},
   "outputs": [],
   "source": [
    "import itertools\n",
    "import matplotlib.pyplot as plt\n",
    "from sklearn.model_selection import train_test_split\n",
    "from sklearn.linear_model import LinearRegression\n",
    "from sklearn.preprocessing import PolynomialFeatures\n",
    "from sklearn.pipeline import Pipeline\n",
    "from sklearn.metrics import mean_squared_error, r2_score\n",
    "from math import sqrt\n"
   ]
  },
  {
   "cell_type": "code",
   "execution_count": 191,
   "metadata": {},
   "outputs": [],
   "source": [
    "# separate features and target variable\n",
    "diameter = results['diameter_w/o_drones']\n",
    "\n",
    "# special case: we only have one feature, so we must reshape the data here\n",
    "features = results['#_simulated_rides'].values.reshape(-1, 1)\n",
    "\n",
    "# create a train/test split\n",
    "dia_train, dia_test, dia_target_train, dia_target_test = train_test_split(\n",
    "    features, diameter, test_size=0.2, random_state=42)"
   ]
  },
  {
   "cell_type": "code",
   "execution_count": 194,
   "metadata": {},
   "outputs": [],
   "source": [
    "# create a transformer that generates polynomial features\n",
    "transformer = PolynomialFeatures(degree=2, include_bias=True)\n",
    "estimator = LinearRegression()\n",
    "\n",
    "pipeline = Pipeline([ ('transformer', transformer), ('estimator', estimator)])\n",
    "\n",
    "pipeline.fit(dia_train, dia_target_train)\n",
    "\n",
    "prediction = pipeline.predict(features)"
   ]
  },
  {
   "cell_type": "code",
   "execution_count": 195,
   "metadata": {},
   "outputs": [
    {
     "data": {
      "image/png": "[encoded data removed]",
      "text/plain": [
       "<Figure size 432x288 with 1 Axes>"
      ]
     },
     "metadata": {
      "needs_background": "light"
     },
     "output_type": "display_data"
    },
    {
     "name": "stdout",
     "output_type": "stream",
     "text": [
      "length = 0.0*1 + -0.00038884209015728244*age + 1.4621680884292776e-10*age^2 + 260.68176383099143\n"
     ]
    },
    {
     "name": "stderr",
     "output_type": "stream",
     "text": [
      "c:\\Users\\jostm7\\AppData\\Local\\Programs\\Python\\Python39\\lib\\site-packages\\sklearn\\utils\\deprecation.py:87: FutureWarning: Function get_feature_names is deprecated; get_feature_names is deprecated in 1.0 and will be removed in 1.2. Please use get_feature_names_out instead.\n",
      "  warnings.warn(msg, category=FutureWarning)\n"
     ]
    }
   ],
   "source": [
    "# plot the original values\n",
    "plt.scatter(dia_train, dia_target_train, c='green', label='train')\n",
    "plt.scatter(dia_test, dia_target_test, c='blue', label='test')\n",
    "\n",
    "# create a new dataframe that contains the age and the predictions\n",
    "d = results[['#_simulated_rides']]\n",
    "d = d.assign(prediction=prediction)\n",
    "\n",
    "# sort the data before plotting it\n",
    "d = d.sort_values(by='#_simulated_rides')\n",
    "\n",
    "# plot the predicted values\n",
    "plt.plot(d['#_simulated_rides'], d['prediction'], c='red', label='prediction')\n",
    "\n",
    "plt.xlabel('#_simulated_rides')\n",
    "plt.ylabel('dia_w/o_drones')\n",
    "plt.legend()\n",
    "plt.show()\n",
    "\n",
    "\n",
    "# print the model that was fitted (the regression formula)\n",
    "print(\"length = \", end='')\n",
    "for i, f in enumerate(pipeline.named_steps['transformer'].get_feature_names(['age'])):\n",
    "    if i > 0:\n",
    "        print(\" + \", end='')\n",
    "    print(\"{}*{}\".format(pipeline.named_steps['estimator'].coef_[i], f), end='')\n",
    "print(\" + {}\".format(pipeline.named_steps['estimator'].intercept_))"
   ]
  },
  {
   "cell_type": "code",
   "execution_count": 52,
   "metadata": {},
   "outputs": [
    {
     "name": "stdout",
     "output_type": "stream",
     "text": [
      "MSE: 1909.7007595578282\n",
      "RMSE: 43.70012310689557\n",
      "R^2: 0.39610568580040484\n",
      "length = 0.0*1 + -0.00043070332168940997*age + 1.6058981775661854e-10*age^2 + 286.71686975338184\n"
     ]
    },
    {
     "name": "stderr",
     "output_type": "stream",
     "text": [
      "c:\\Users\\jostm7\\AppData\\Local\\Programs\\Python\\Python39\\lib\\site-packages\\sklearn\\utils\\deprecation.py:87: FutureWarning: Function get_feature_names is deprecated; get_feature_names is deprecated in 1.0 and will be removed in 1.2. Please use get_feature_names_out instead.\n",
      "  warnings.warn(msg, category=FutureWarning)\n"
     ]
    }
   ],
   "source": [
    "from sklearn.metrics import mean_squared_error, r2_score\n",
    "from math import sqrt\n",
    "\n",
    "# predict the values for the test data\n",
    "predictions = pipeline.predict(dia_test)\n",
    "\n",
    "# evaluate using different measures\n",
    "mse = mean_squared_error(dia_target_test, predictions)\n",
    "r2 = r2_score(dia_target_test, predictions)\n",
    "\n",
    "print(\"MSE:\", mse)\n",
    "print(\"RMSE:\", sqrt(mse))\n",
    "print(\"R^2:\", r2)\n",
    "\n",
    "# print the model that was fitted (the regression formula)\n",
    "print(\"length = \", end='')\n",
    "for i, f in enumerate(pipeline.named_steps['transformer'].get_feature_names(['age'])):\n",
    "    if i > 0:\n",
    "        print(\" + \", end='')\n",
    "    print(\"{}*{}\".format(pipeline.named_steps['estimator'].coef_[i], f), end='')\n",
    "print(\" + {}\".format(pipeline.named_steps['estimator'].intercept_))"
   ]
  },
  {
   "cell_type": "markdown",
   "metadata": {},
   "source": [
    "### Polynomial Regression with Numpy"
   ]
  },
  {
   "cell_type": "code",
   "execution_count": 197,
   "metadata": {},
   "outputs": [
    {
     "name": "stderr",
     "output_type": "stream",
     "text": [
      "c:\\Users\\jostm7\\AppData\\Local\\Programs\\Python\\Python39\\lib\\site-packages\\numpy\\lib\\polynomial.py:666: RuntimeWarning: overflow encountered in multiply\n",
      "  scale = NX.sqrt((lhs*lhs).sum(axis=0))\n",
      "c:\\Users\\jostm7\\AppData\\Local\\Programs\\Python\\Python39\\lib\\site-packages\\numpy\\core\\_methods.py:48: RuntimeWarning: overflow encountered in reduce\n",
      "  return umr_sum(a, axis, dtype, out, keepdims, initial, where)\n",
      "c:\\Users\\jostm7\\AppData\\Local\\Programs\\Python\\Python39\\lib\\site-packages\\IPython\\core\\interactiveshell.py:3444: RankWarning: Polyfit may be poorly conditioned\n",
      "  exec(code_obj, self.user_global_ns, self.user_ns)\n"
     ]
    },
    {
     "data": {
      "image/png": "[encoded data removed]",
      "text/plain": [
       "<Figure size 432x288 with 1 Axes>"
      ]
     },
     "metadata": {
      "needs_background": "light"
     },
     "output_type": "display_data"
    }
   ],
   "source": [
    "import numpy\n",
    "import matplotlib.pyplot as plot\n",
    "\n",
    "x = results['#_simulated_rides']\n",
    "y = results['diameter_w/o_drones']\n",
    "\n",
    "model = numpy.poly1d(numpy.polyfit(x, y, 30))\n",
    "\n",
    "linesp = numpy.linspace(0, 2000000, 100000)\n",
    "\n",
    "plot.scatter(x, y)\n",
    "plot.plot(linesp, model(linesp),c='red')\n",
    "plot.show()"
   ]
  },
  {
   "cell_type": "code",
   "execution_count": 209,
   "metadata": {},
   "outputs": [
    {
     "name": "stdout",
     "output_type": "stream",
     "text": [
      "1055.2240798356877\n",
      "800.6494687144476\n",
      "10.959487470506247\n",
      "-6.967937485143859e+18\n",
      "-8.430608701388883e+26\n"
     ]
    }
   ],
   "source": [
    "print(model(1))\n",
    "print(model(10000))\n",
    "print(model(2000000))\n",
    "print(model(5000000))\n",
    "print(model(10000000))"
   ]
  },
  {
   "cell_type": "markdown",
   "metadata": {},
   "source": [
    "### Exponential Regression with Numpy"
   ]
  },
  {
   "cell_type": "code",
   "execution_count": 199,
   "metadata": {},
   "outputs": [
    {
     "name": "stdout",
     "output_type": "stream",
     "text": [
      "[-1.83731250e-06  5.61702567e+00]\n"
     ]
    },
    {
     "data": {
      "image/png": "[encoded data removed]",
      "text/plain": [
       "<Figure size 432x288 with 1 Axes>"
      ]
     },
     "metadata": {
      "needs_background": "light"
     },
     "output_type": "display_data"
    }
   ],
   "source": [
    "# x = np.divide(results['#_simulated_rides'].to_numpy(),10000)\n",
    "x = results['#_simulated_rides'].to_numpy()\n",
    "y = results['diameter_w/o_drones'].to_numpy()\n",
    "\n",
    "def func(x, a, b):\n",
    "    return np.exp(b) * np.exp(a * x) \n",
    "\n",
    "# popt = numpy.polyfit(x, numpy.log(y), 1) # biased towards small values\n",
    "popt = numpy.polyfit(x, numpy.log(y), 1, w=numpy.sqrt(y))\n",
    "print(popt)\n",
    "\n",
    "plt.figure()\n",
    "plt.scatter(x, y, label=\"Original Data\")\n",
    "plt.plot(x, func(x, *popt), 'r-', label=\"Fitted Curve\")\n",
    "plt.legend()\n",
    "plt.show()\n"
   ]
  },
  {
   "cell_type": "code",
   "execution_count": 200,
   "metadata": {},
   "outputs": [
    {
     "name": "stdout",
     "output_type": "stream",
     "text": [
      "275.07001667805395\n",
      "3.4890667619684244e-38\n"
     ]
    }
   ],
   "source": [
    "print(func(0, *popt))\n",
    "print(func(50000000, *popt))"
   ]
  },
  {
   "cell_type": "markdown",
   "metadata": {},
   "source": [
    "### Exponential Regression with Scipy"
   ]
  },
  {
   "cell_type": "code",
   "execution_count": 11,
   "metadata": {},
   "outputs": [
    {
     "name": "stdout",
     "output_type": "stream",
     "text": [
      "[ 4.41320623e+06 -2.53034486e-01 -4.41317243e+06]\n"
     ]
    },
    {
     "name": "stderr",
     "output_type": "stream",
     "text": [
      "C:\\Users\\jostm7\\AppData\\Local\\Temp/ipykernel_6648/522651494.py:6: RuntimeWarning: overflow encountered in exp\n",
      "  return a * np.exp(-b / x) + c\n",
      "c:\\Users\\jostm7\\AppData\\Local\\Programs\\Python\\Python39\\lib\\site-packages\\scipy\\optimize\\_minpack_py.py:881: OptimizeWarning: Covariance of the parameters could not be estimated\n",
      "  warnings.warn('Covariance of the parameters could not be estimated',\n"
     ]
    },
    {
     "data": {
      "image/png": "[encoded data removed]",
      "text/plain": [
       "<Figure size 432x288 with 1 Axes>"
      ]
     },
     "metadata": {
      "needs_background": "light"
     },
     "output_type": "display_data"
    }
   ],
   "source": [
    "import numpy as np\n",
    "import matplotlib.pyplot as plt\n",
    "from scipy.optimize import curve_fit\n",
    "\n",
    "def func(x, a, b, c):\n",
    "    return a * np.exp(-b / x) + c\n",
    "\n",
    "xdata = np.divide(results['#_simulated_rides'].to_numpy(),10) #needed to be normalized, else optimization not possible\n",
    "ydata = results['diameter_w/o_drones'].to_numpy()\n",
    "\n",
    "popt, pcov = curve_fit(func, xdata, ydata)\n",
    "print(popt)\n",
    "\n",
    "plt.figure()\n",
    "plt.scatter(xdata, ydata, label=\"Original Data\")\n",
    "plt.plot(xdata, func(xdata, *popt), 'r-', label=\"Fitted Curve\")\n",
    "plt.legend()\n",
    "plt.show()"
   ]
  },
  {
   "cell_type": "code",
   "execution_count": 202,
   "metadata": {},
   "outputs": [
    {
     "name": "stdout",
     "output_type": "stream",
     "text": [
      "685.2485313200991\n",
      "36.58469580007826\n"
     ]
    }
   ],
   "source": [
    "print(func(0, *popt))\n",
    "print(func(50000000, *popt))\n"
   ]
  }
 ],
 "metadata": {
  "kernelspec": {
   "display_name": "Python 3.9.7 64-bit",
   "language": "python",
   "name": "python3"
  },
  "language_info": {
   "codemirror_mode": {
    "name": "ipython",
    "version": 3
   },
   "file_extension": ".py",
   "mimetype": "text/x-python",
   "name": "python",
   "nbconvert_exporter": "python",
   "pygments_lexer": "ipython3",
   "version": "3.9.7"
  },
  "orig_nbformat": 4,
  "vscode": {
   "interpreter": {
    "hash": "08186daf039cfcc5bc76541d6f73a7110f0b8b534dd53f312a60fa15e930ca43"
   }
  }
 },
 "nbformat": 4,
 "nbformat_minor": 2
}
