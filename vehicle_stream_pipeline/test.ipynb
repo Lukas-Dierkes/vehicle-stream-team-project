{
 "cells": [
  {
   "cell_type": "code",
   "execution_count": 1,
   "metadata": {},
   "outputs": [],
   "source": [
    "import pandas as pd\n",
    "import numpy as np\n",
    "import git\n",
    "from datetime import datetime as dt\n",
    "from connect_to_mysql import Database\n",
    "import networkx as nx\n",
    "import matplotlib.pyplot as plt\n",
    "import collections \n",
    "pd.set_option(\"display.max_columns\", None)"
   ]
  },
  {
   "cell_type": "code",
   "execution_count": 2,
   "metadata": {},
   "outputs": [],
   "source": [
    "repo = git.Repo(\".\", search_parent_directories=True).git.rev_parse(\"--show-toplevel\")\n",
    "#df = pd.read_csv(f\"{repo}/data/cleaning/test_1651834681.csv\")\n",
    "#df = df[(df[\"state\"] == \"completed\")]"
   ]
  },
  {
   "cell_type": "code",
   "execution_count": 3,
   "metadata": {},
   "outputs": [
    {
     "ename": "KeyboardInterrupt",
     "evalue": "",
     "output_type": "error",
     "traceback": [
      "\u001b[0;31m---------------------------------------------------------------------------\u001b[0m",
      "\u001b[0;31mOperationalError\u001b[0m                          Traceback (most recent call last)",
      "    \u001b[0;31m[... skipping hidden 1 frame]\u001b[0m\n",
      "\u001b[1;32m/Users/ericchittka/Documents/GitHub/vehicle-stream-team-project/vehicle_stream_pipeline/test.ipynb Cell 3'\u001b[0m in \u001b[0;36m<cell line: 1>\u001b[0;34m()\u001b[0m\n\u001b[0;32m----> <a href='vscode-notebook-cell:/Users/ericchittka/Documents/GitHub/vehicle-stream-team-project/vehicle_stream_pipeline/test.ipynb#ch0000002?line=0'>1</a>\u001b[0m Database\u001b[39m.\u001b[39;49mquery_dataframe(\u001b[39m'\u001b[39;49m\u001b[39mrides\u001b[39;49m\u001b[39m'\u001b[39;49m, \u001b[39m'\u001b[39;49m\u001b[39mShow tables\u001b[39;49m\u001b[39m'\u001b[39;49m)\n",
      "File \u001b[0;32m~/Documents/GitHub/vehicle-stream-team-project/vehicle_stream_pipeline/connect_to_mysql.py:36\u001b[0m, in \u001b[0;36mDatabase.query_dataframe\u001b[0;34m(table, query, local)\u001b[0m\n\u001b[1;32m     <a href='file:///Users/ericchittka/Documents/GitHub/vehicle-stream-team-project/vehicle_stream_pipeline/connect_to_mysql.py?line=34'>35</a>\u001b[0m \u001b[39melse\u001b[39;00m:\n\u001b[0;32m---> <a href='file:///Users/ericchittka/Documents/GitHub/vehicle-stream-team-project/vehicle_stream_pipeline/connect_to_mysql.py?line=35'>36</a>\u001b[0m     cnx \u001b[39m=\u001b[39m my\u001b[39m.\u001b[39;49mconnect(\u001b[39m*\u001b[39;49mDatabase\u001b[39m.\u001b[39;49mcnx_parameters)\n\u001b[1;32m     <a href='file:///Users/ericchittka/Documents/GitHub/vehicle-stream-team-project/vehicle_stream_pipeline/connect_to_mysql.py?line=37'>38</a>\u001b[0m \u001b[39m# queries\u001b[39;00m\n",
      "File \u001b[0;32m~/Library/Python/3.8/lib/python/site-packages/MySQLdb/__init__.py:123\u001b[0m, in \u001b[0;36mConnect\u001b[0;34m(*args, **kwargs)\u001b[0m\n\u001b[1;32m    <a href='file:///Users/ericchittka/Library/Python/3.8/lib/python/site-packages/MySQLdb/__init__.py?line=120'>121</a>\u001b[0m \u001b[39mfrom\u001b[39;00m \u001b[39mMySQLdb\u001b[39;00m\u001b[39m.\u001b[39;00m\u001b[39mconnections\u001b[39;00m \u001b[39mimport\u001b[39;00m Connection\n\u001b[0;32m--> <a href='file:///Users/ericchittka/Library/Python/3.8/lib/python/site-packages/MySQLdb/__init__.py?line=122'>123</a>\u001b[0m \u001b[39mreturn\u001b[39;00m Connection(\u001b[39m*\u001b[39;49margs, \u001b[39m*\u001b[39;49m\u001b[39m*\u001b[39;49mkwargs)\n",
      "File \u001b[0;32m~/Library/Python/3.8/lib/python/site-packages/MySQLdb/connections.py:185\u001b[0m, in \u001b[0;36mConnection.__init__\u001b[0;34m(self, *args, **kwargs)\u001b[0m\n\u001b[1;32m    <a href='file:///Users/ericchittka/Library/Python/3.8/lib/python/site-packages/MySQLdb/connections.py?line=182'>183</a>\u001b[0m autocommit \u001b[39m=\u001b[39m kwargs2\u001b[39m.\u001b[39mpop(\u001b[39m\"\u001b[39m\u001b[39mautocommit\u001b[39m\u001b[39m\"\u001b[39m, \u001b[39mFalse\u001b[39;00m)\n\u001b[0;32m--> <a href='file:///Users/ericchittka/Library/Python/3.8/lib/python/site-packages/MySQLdb/connections.py?line=184'>185</a>\u001b[0m \u001b[39msuper\u001b[39;49m()\u001b[39m.\u001b[39;49m\u001b[39m__init__\u001b[39;49m(\u001b[39m*\u001b[39;49margs, \u001b[39m*\u001b[39;49m\u001b[39m*\u001b[39;49mkwargs2)\n\u001b[1;32m    <a href='file:///Users/ericchittka/Library/Python/3.8/lib/python/site-packages/MySQLdb/connections.py?line=185'>186</a>\u001b[0m \u001b[39mself\u001b[39m\u001b[39m.\u001b[39mcursorclass \u001b[39m=\u001b[39m cursorclass\n",
      "\u001b[0;31mOperationalError\u001b[0m: (2003, \"Can't connect to MySQL server on '134.155.95.141:3306' (56)\")",
      "\nDuring handling of the above exception, another exception occurred:\n",
      "\u001b[0;31mKeyboardInterrupt\u001b[0m                         Traceback (most recent call last)",
      "\u001b[0;31mKeyboardInterrupt\u001b[0m: "
     ]
    }
   ],
   "source": [
    "Database.query_dataframe('rides', 'Show tables')"
   ]
  },
  {
   "cell_type": "code",
   "execution_count": null,
   "metadata": {},
   "outputs": [],
   "source": [
    "df_edges = Database.query_dataframe('stopconnection', \"Select * From stopconnection\")"
   ]
  },
  {
   "cell_type": "code",
   "execution_count": null,
   "metadata": {},
   "outputs": [],
   "source": [
    "df_edges.dtypes"
   ]
  },
  {
   "cell_type": "markdown",
   "metadata": {},
   "source": [
    "### Number of Drives "
   ]
  },
  {
   "cell_type": "code",
   "execution_count": null,
   "metadata": {},
   "outputs": [],
   "source": [
    "df.columns"
   ]
  },
  {
   "cell_type": "code",
   "execution_count": null,
   "metadata": {},
   "outputs": [],
   "source": [
    "pd.to_datetime(df[\"scheduled_to\"])[0].month"
   ]
  },
  {
   "cell_type": "code",
   "execution_count": null,
   "metadata": {},
   "outputs": [],
   "source": [
    "frequencies = pd.DataFrame(df[(pd.to_datetime(df[\"scheduled_to\"]).dt.month == 2) & (pd.to_datetime(df[\"scheduled_to\"]).dt.year == 2022) ].groupby([\"pickup_address\", \"dropoff_address\"], group_keys=False).size().to_frame('number_of_drives')).reset_index()\n",
    "\n",
    "frequencies"
   ]
  },
  {
   "cell_type": "code",
   "execution_count": null,
   "metadata": {},
   "outputs": [],
   "source": [
    "frequencies[\"pickup_address\"] = frequencies[\"pickup_address\"].astype(str)\n",
    "frequencies[\"dropoff_address\"] = frequencies[\"dropoff_address\"].astype(str)"
   ]
  },
  {
   "cell_type": "code",
   "execution_count": null,
   "metadata": {},
   "outputs": [],
   "source": [
    "#df_edges = pd.read_excel(\n",
    "#        f\"{repo}/data/other/MoDstops+Preismodell.xlsx\", sheet_name=\"Liste 2022\"\n",
    "#)"
   ]
  },
  {
   "cell_type": "code",
   "execution_count": null,
   "metadata": {},
   "outputs": [],
   "source": [
    "df_edges.columns"
   ]
  },
  {
   "cell_type": "code",
   "execution_count": null,
   "metadata": {},
   "outputs": [],
   "source": [
    "df_edges = df_edges[[\"id_start\", \"id_end\"]]"
   ]
  },
  {
   "cell_type": "code",
   "execution_count": null,
   "metadata": {},
   "outputs": [],
   "source": [
    "df_edges[\"id_start\"] = df_edges[\"id_start\"].astype(str)\n",
    "df_edges[\"id_end\"] = df_edges[\"id_end\"].astype(str)"
   ]
  },
  {
   "cell_type": "code",
   "execution_count": null,
   "metadata": {},
   "outputs": [],
   "source": [
    "edges = pd.merge(df_edges, frequencies,  how='left', left_on=['id_start','id_end'], right_on = ['pickup_address','dropoff_address'])[[\"id_start\", \"id_end\", \"number_of_drives\"]]\n",
    "edges = edges[edges[\"number_of_drives\"].isna() == False]\n",
    "edges[\"number_of_drives\"] = 28  / edges[\"number_of_drives\"] "
   ]
  },
  {
   "cell_type": "code",
   "execution_count": null,
   "metadata": {},
   "outputs": [],
   "source": [
    "edges"
   ]
  },
  {
   "cell_type": "code",
   "execution_count": null,
   "metadata": {},
   "outputs": [],
   "source": [
    "edges[\"number_of_drives\"].fillna(0, inplace=True)"
   ]
  },
  {
   "cell_type": "code",
   "execution_count": null,
   "metadata": {},
   "outputs": [],
   "source": [
    "#G = nx.from_pandas_edgelist(\n",
    "#    edges,\n",
    "#    source = \"id_start\",\n",
    "#    target = \"id_end\",\n",
    "#    edge_attr= \"number_of_drives\"\n",
    "#)"
   ]
  },
  {
   "cell_type": "code",
   "execution_count": null,
   "metadata": {},
   "outputs": [],
   "source": [
    "#plt.figure(3,figsize=(30,30)) \n",
    "#nx.draw(G)\n",
    "#plt.show()"
   ]
  },
  {
   "cell_type": "code",
   "execution_count": null,
   "metadata": {},
   "outputs": [],
   "source": [
    "#print(nx.shortest_path(G, source=\"10002\", target=\"4007\", weight = \"number_of_drives\"))\n",
    "#print(nx.shortest_path_length(G, source=\"10002\", target=\"4007\", weight=\"number_of_drives\", method='dijkstra'))"
   ]
  },
  {
   "cell_type": "markdown",
   "metadata": {},
   "source": [
    "### Average Ride Time per drive  "
   ]
  },
  {
   "cell_type": "code",
   "execution_count": null,
   "metadata": {},
   "outputs": [],
   "source": [
    "#df\n",
    "#df.dtypes['ride_time']"
   ]
  },
  {
   "cell_type": "code",
   "execution_count": null,
   "metadata": {},
   "outputs": [],
   "source": [
    "average = pd.DataFrame(df.groupby([\"pickup_address\", \"dropoff_address\"], as_index=False, group_keys=False)[\"ride_time\"].mean())\n",
    "average.rename(columns = {\"ride_time\":\"avg_ride_time\"}, inplace = True)\n",
    "average"
   ]
  },
  {
   "cell_type": "code",
   "execution_count": null,
   "metadata": {},
   "outputs": [],
   "source": [
    "average[\"pickup_address\"] = average[\"pickup_address\"].astype(str)\n",
    "average[\"dropoff_address\"] = average[\"dropoff_address\"].astype(str)"
   ]
  },
  {
   "cell_type": "code",
   "execution_count": null,
   "metadata": {},
   "outputs": [],
   "source": [
    "edges2 = pd.merge(df_edges, average,  how='left', left_on=['id_start','id_end'], right_on = ['pickup_address','dropoff_address'])[[\"id_start\", \"id_end\", \"avg_ride_time\"]]\n",
    "edges2 = edges2[edges2[\"avg_ride_time\"].isna() == False]\n",
    "edges2"
   ]
  },
  {
   "cell_type": "code",
   "execution_count": null,
   "metadata": {},
   "outputs": [],
   "source": [
    "#G1 = nx.from_pandas_edgelist(\n",
    "#    edges2,\n",
    "#    source = \"id_start\",\n",
    "#    target = \"id_end\",\n",
    "#    edge_attr= \"avg_ride_time\"\n",
    "#)"
   ]
  },
  {
   "cell_type": "code",
   "execution_count": null,
   "metadata": {},
   "outputs": [],
   "source": [
    "#plt.figure(3,figsize=(30,30)) \n",
    "#nx.draw(G1)\n",
    "#plt.show()"
   ]
  },
  {
   "cell_type": "code",
   "execution_count": null,
   "metadata": {},
   "outputs": [],
   "source": [
    "#print(nx.shortest_path(G1, source=\"1001\", target=\"9015\", weight = \"avg_ride_time\"))\n",
    "#print(nx.shortest_path_length(G1, source=\"1001\", target=\"9015\", weight=\"avg_ride_time\", method='dijkstra'))"
   ]
  },
  {
   "cell_type": "markdown",
   "metadata": {},
   "source": [
    "### Original Function"
   ]
  },
  {
   "cell_type": "code",
   "execution_count": null,
   "metadata": {},
   "outputs": [],
   "source": [
    "def get_shortest_ride(startpoint, endpoint, start_date, end_date):\n",
    "    start_date = dt.strptime(start_date, \"%m/%d/%Y\")\n",
    "    end_date = dt.strptime(end_date, \"%m/%d/%Y\")\n",
    "    days = (end_date - start_date).days + 1\n",
    "    df = Database.query_dataframe('rides', \"Select * From rides where state = 'completed'\")\n",
    "    df = df[(df[\"scheduled_to\"] > start_date) & (df[\"scheduled_to\"] < end_date)]\n",
    "    \n",
    "    drives = pd.DataFrame(df.groupby([\"pickup_address\", \"dropoff_address\"], group_keys=False).size().to_frame('number_of_drives')).reset_index()\n",
    "    \n",
    "    drives[\"waiting_time\"] = days / drives[\"number_of_drives\"]\n",
    "\n",
    "    drives[\"avg_ride_time\"] = df.groupby([\"pickup_address\", \"dropoff_address\"], as_index=False, group_keys=False)[\"ride_time\"].mean()[\"ride_time\"] / 60 / 60 / 24\n",
    "    \n",
    "    drives[\"avg_time_to_destination\"] = drives[\"waiting_time\"] + drives[\"avg_ride_time\"]\n",
    "\n",
    "    G = nx.from_pandas_edgelist(\n",
    "        drives,\n",
    "        source = \"pickup_address\",\n",
    "        target = \"dropoff_address\",\n",
    "        edge_attr= \"avg_time_to_destination\"\n",
    "    )\n",
    "\n",
    "    path = nx.shortest_path(G, source=startpoint, target=endpoint, weight = \"avg_time_to_destination\")\n",
    "    shortest_time = nx.shortest_path_length(G, source=startpoint, target=endpoint, weight=\"avg_time_to_destination\", method='dijkstra') \n",
    "\n",
    "    return (path, shortest_time)"
   ]
  },
  {
   "cell_type": "markdown",
   "metadata": {},
   "source": [
    "### Set start and end date "
   ]
  },
  {
   "cell_type": "code",
   "execution_count": null,
   "metadata": {},
   "outputs": [],
   "source": [
    "df = Database.query_dataframe('rides', \"Select * From rides where state = 'completed'\")\n",
    "startdate = df.scheduled_to.min()\n",
    "startdate = startdate.strftime('%m/%d/%Y')\n",
    "start_date = dt.strptime(startdate, \"%m/%d/%Y\")\n",
    "enddate = df.scheduled_to.max()\n",
    "enddate = enddate.strftime('%m/%d/%Y')\n",
    "end_date = dt.strptime(enddate, \"%m/%d/%Y\")"
   ]
  },
  {
   "cell_type": "code",
   "execution_count": null,
   "metadata": {},
   "outputs": [],
   "source": [
    "#df['pickup_address'] = df['pickup_address'].map(str)\n",
    "#df['dropoff_address'] = df['dropoff_address'].map(str)"
   ]
  },
  {
   "cell_type": "markdown",
   "metadata": {},
   "source": [
    "### Drive DF"
   ]
  },
  {
   "cell_type": "code",
   "execution_count": null,
   "metadata": {},
   "outputs": [],
   "source": [
    "days = (end_date - start_date).days + 1\n",
    "drives = pd.DataFrame(df.groupby([\"pickup_address\", \"dropoff_address\"], group_keys=False).size().to_frame('number_of_drives')).reset_index()\n",
    "drives[\"waiting_time\"] = days / drives[\"number_of_drives\"]\n",
    "drives[\"avg_ride_time\"] = df.groupby([\"pickup_address\", \"dropoff_address\"], as_index=False, group_keys=False)[\"ride_time\"].mean()[\"ride_time\"] / 60 / 60 / 24\n",
    "drives[\"avg_time_to_destination\"] = drives[\"waiting_time\"] + drives[\"avg_ride_time\"]"
   ]
  },
  {
   "cell_type": "code",
   "execution_count": null,
   "metadata": {},
   "outputs": [],
   "source": [
    "drives.dtypes"
   ]
  },
  {
   "cell_type": "markdown",
   "metadata": {},
   "source": [
    "### Graph"
   ]
  },
  {
   "cell_type": "code",
   "execution_count": null,
   "metadata": {},
   "outputs": [],
   "source": [
    "G = nx.from_pandas_edgelist(\n",
    "    drives,\n",
    "    source = \"pickup_address\",\n",
    "    target = \"dropoff_address\",\n",
    "    edge_attr= \"avg_time_to_destination\"\n",
    ")"
   ]
  },
  {
   "cell_type": "code",
   "execution_count": null,
   "metadata": {},
   "outputs": [],
   "source": [
    "G.nodes"
   ]
  },
  {
   "cell_type": "code",
   "execution_count": null,
   "metadata": {},
   "outputs": [],
   "source": [
    "def calculate_graph(start_date, end_date):\n",
    "    days = (end_date - start_date).days + 1\n",
    "    df = Database.query_dataframe('rides', \"Select * From rides where state = 'completed'\")\n",
    "    df = df[(df[\"scheduled_to\"] > start_date) & (df[\"scheduled_to\"] < end_date)]\n",
    "    \n",
    "    drives = pd.DataFrame(df.groupby([\"pickup_address\", \"dropoff_address\"], group_keys=False).size().to_frame('number_of_drives')).reset_index()\n",
    "    \n",
    "    drives[\"waiting_time\"] = days / drives[\"number_of_drives\"]\n",
    "\n",
    "    drives[\"avg_ride_time\"] = df.groupby([\"pickup_address\", \"dropoff_address\"], as_index=False, group_keys=False)[\"ride_time\"].mean()[\"ride_time\"] / 60 / 60 / 24\n",
    "    \n",
    "    drives[\"avg_time_to_destination\"] = drives[\"waiting_time\"] + drives[\"avg_ride_time\"]\n",
    "\n",
    "    G = nx.from_pandas_edgelist(\n",
    "        drives,\n",
    "        source = \"pickup_address\",\n",
    "        target = \"dropoff_address\",\n",
    "        edge_attr= \"avg_time_to_destination\"\n",
    "    )\n",
    "    return G"
   ]
  },
  {
   "cell_type": "code",
   "execution_count": null,
   "metadata": {},
   "outputs": [],
   "source": [
    "def get_shortest_ride(startpoint, endpoint, G):\n",
    "\n",
    "    if startpoint not in G:\n",
    "        return 'Not in G'\n",
    "    elif endpoint not in G: \n",
    "        return 'Not in G'\n",
    "    else:\n",
    "        path = nx.shortest_path(G, source=startpoint, target=endpoint, weight = \"avg_time_to_destination\")\n",
    "        return path"
   ]
  },
  {
   "cell_type": "code",
   "execution_count": null,
   "metadata": {},
   "outputs": [],
   "source": [
    "df_test = pd.DataFrame({'Start':['1001', '1002', '1931391'], 'End': ['10004', '1008', '32432432']})\n",
    "df_test[\"Start\"] = df_test[\"Start\"].astype(str).astype(int)\n",
    "df_test[\"End\"] = df_test[\"End\"].astype(str).astype(int)"
   ]
  },
  {
   "cell_type": "code",
   "execution_count": null,
   "metadata": {},
   "outputs": [],
   "source": [
    "G = calculate_graph(start_date, end_date)"
   ]
  },
  {
   "cell_type": "code",
   "execution_count": null,
   "metadata": {},
   "outputs": [],
   "source": [
    "df_test['HotSpots'] = df_test.apply(lambda x: get_shortest_ride(x.Start, x.End, G), axis=1)"
   ]
  },
  {
   "cell_type": "code",
   "execution_count": null,
   "metadata": {},
   "outputs": [],
   "source": [
    "df_edges['HotSpots'] = df_edges.apply(lambda x: get_shortest_ride(x.id_start, x.id_end, G), axis=1)"
   ]
  },
  {
   "cell_type": "code",
   "execution_count": null,
   "metadata": {},
   "outputs": [],
   "source": [
    "df_edges"
   ]
  },
  {
   "cell_type": "code",
   "execution_count": null,
   "metadata": {},
   "outputs": [],
   "source": [
    "hotSpots_list = list(df_edges['HotSpots'])"
   ]
  },
  {
   "cell_type": "code",
   "execution_count": null,
   "metadata": {},
   "outputs": [],
   "source": [
    "flat_hotSpots_list = [item for sublist in hotSpots_list for item in sublist]"
   ]
  },
  {
   "cell_type": "code",
   "execution_count": null,
   "metadata": {},
   "outputs": [],
   "source": [
    "flat_hotSpots_list"
   ]
  },
  {
   "cell_type": "code",
   "execution_count": null,
   "metadata": {},
   "outputs": [],
   "source": [
    "counter=collections.Counter(flat_hotSpots_list)\n",
    "print(counter.most_common(20))"
   ]
  }
 ],
 "metadata": {
  "interpreter": {
   "hash": "31f2aee4e71d21fbe5cf8b01ff0e069b9275f58929596ceb00d14d90e3e16cd6"
  },
  "kernelspec": {
   "display_name": "Python 3.8.9 64-bit",
   "language": "python",
   "name": "python3"
  },
  "language_info": {
   "codemirror_mode": {
    "name": "ipython",
    "version": 3
   },
   "file_extension": ".py",
   "mimetype": "text/x-python",
   "name": "python",
   "nbconvert_exporter": "python",
   "pygments_lexer": "ipython3",
   "version": "3.8.9"
  },
  "orig_nbformat": 4
 },
 "nbformat": 4,
 "nbformat_minor": 2
}
