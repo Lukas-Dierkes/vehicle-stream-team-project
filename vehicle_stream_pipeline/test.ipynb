{
 "cells": [
  {
   "cell_type": "code",
   "execution_count": 1,
   "metadata": {},
   "outputs": [],
   "source": [
    "from datetime import datetime as dt\n",
    "import git\n",
    "import numpy as np\n",
    "import pandas as pd\n",
    "import plotly.express as px\n",
    "import plotly.graph_objects as go\n",
    "import collections\n",
    "import json\n",
    "import time\n",
    "from vehicle_stream_pipeline import utils "
   ]
  },
  {
   "cell_type": "code",
   "execution_count": 2,
   "metadata": {},
   "outputs": [
    {
     "name": "stderr",
     "output_type": "stream",
     "text": [
      "/var/folders/kw/t27bnrpn52lfl7x3g64tdw1r0000gn/T/ipykernel_11523/666691188.py:11: DtypeWarning: Columns (44,45,46) have mixed types. Specify dtype option on import or set low_memory=False.\n",
      "  rides_df = pd.read_csv(f\"{repo}/data/cleaning/data_cleaned.csv\")\n"
     ]
    }
   ],
   "source": [
    "repo = git.Repo(\".\", search_parent_directories=True).git.rev_parse(\"--show-toplevel\")\n",
    "\n",
    "df_stops = pd.read_excel(\n",
    "    f\"{repo}/data/other/MoDstops+Preismodell.xlsx\", sheet_name=\"MoDstops\"\n",
    ")\n",
    "df_edges = pd.read_excel(\n",
    "    f\"{repo}/data/other/MoDstops+Preismodell.xlsx\", sheet_name=\"Liste 2022\"\n",
    ")\n",
    "df_edges.rename(columns={\"Start #\": \"start_id\", \"Ende #\": \"end_id\"}, inplace=True)\n",
    "\n",
    "rides_df = pd.read_csv(f\"{repo}/data/cleaning/data_cleaned.csv\")\n",
    "rides_df = rides_df[(rides_df[\"state\"] == \"completed\")]\n",
    "rides_df[\"scheduled_to\"] = pd.to_datetime(rides_df[\"scheduled_to\"])"
   ]
  },
  {
   "cell_type": "code",
   "execution_count": 3,
   "metadata": {},
   "outputs": [],
   "source": [
    "pickup_address = utils.find_id_for_name('Mandelgasse', df_stops)\n",
    "dropoff_address = utils.find_id_for_name('Schütt', df_stops)"
   ]
  },
  {
   "cell_type": "code",
   "execution_count": 4,
   "metadata": {},
   "outputs": [],
   "source": [
    "radius = 500"
   ]
  },
  {
   "cell_type": "code",
   "execution_count": 5,
   "metadata": {},
   "outputs": [],
   "source": [
    "start_date = rides_df.scheduled_to.min()\n",
    "start_date = dt.strftime(start_date, \"%Y-%m-%d\")\n",
    "end_date = rides_df.scheduled_to.max()\n",
    "end_date = dt.strftime(end_date, \"%Y-%m-%d\")\n",
    "start_date = dt.strptime(start_date, \"%Y-%m-%d\")\n",
    "end_date = dt.strptime(end_date, \"%Y-%m-%d\")"
   ]
  },
  {
   "cell_type": "code",
   "execution_count": 22,
   "metadata": {},
   "outputs": [],
   "source": [
    "start_month = start_date.month\n",
    "start_year = start_date.year\n",
    "end_month = end_date.month\n",
    "end_year = end_date.year"
   ]
  },
  {
   "cell_type": "code",
   "execution_count": 23,
   "metadata": {},
   "outputs": [
    {
     "name": "stdout",
     "output_type": "stream",
     "text": [
      "7 2021 5 2022\n"
     ]
    }
   ],
   "source": [
    "print(start_month, start_year, end_month, end_year)"
   ]
  },
  {
   "cell_type": "code",
   "execution_count": 24,
   "metadata": {},
   "outputs": [],
   "source": [
    "years = list(range(start_year, end_year + 1))\n",
    "i = len(years)\n",
    "j = 0\n",
    "months = []\n",
    "if i == 1: \n",
    "    months.extend(range(start_month, end_month + 1))\n",
    "else: \n",
    "    while i > 1:\n",
    "        if j == 0:\n",
    "            months.extend(range(start_month, 13))\n",
    "            j = j+1\n",
    "        else: \n",
    "            months.extend(range(1, 13))\n",
    "        i = i-1\n",
    "    else: \n",
    "        months.extend(range(1, end_month +1))\n",
    "        i = i-1"
   ]
  },
  {
   "cell_type": "code",
   "execution_count": 29,
   "metadata": {},
   "outputs": [],
   "source": [
    "rides_df_1 = rides_df.copy()\n",
    "sim_rides = 0\n",
    "if sim_rides != 0:\n",
    "\n",
    "        new_rides_all = pd.DataFrame(columns=rides_df_1.columns)\n",
    "        for year in years:\n",
    "            for month in months:\n",
    "                new_rides = utils.generateRideSpecs(\n",
    "                    rides_df_1,\n",
    "                    new_rides_all,\n",
    "                    df_stops,\n",
    "                    df_edges,\n",
    "                    sim_rides,\n",
    "                    month,\n",
    "                    year,\n",
    "                )\n",
    "                new_rides_all = pd.concat([new_rides, new_rides_all])\n",
    "\n",
    "        new_rides_all[\"simulated\"] = True\n",
    "        rides_df_1[\"simulated\"] = False\n",
    "\n",
    "        new_rides_all = pd.concat([rides_df_1, new_rides_all])\n",
    "\n",
    "else:\n",
    "    new_rides_all = rides_df_1"
   ]
  },
  {
   "cell_type": "code",
   "execution_count": 32,
   "metadata": {},
   "outputs": [],
   "source": [
    "rides_df_filterd = new_rides_all[\n",
    "    (new_rides_all[\"scheduled_to\"] > start_date)\n",
    "    & (new_rides_all[\"scheduled_to\"] < end_date)\n",
    "]"
   ]
  },
  {
   "cell_type": "code",
   "execution_count": 34,
   "metadata": {},
   "outputs": [],
   "source": [
    "drives_without_drones = utils.calculate_drives(\n",
    "    rides_df_filterd, start_date, end_date\n",
    ")"
   ]
  },
  {
   "cell_type": "code",
   "execution_count": 35,
   "metadata": {},
   "outputs": [],
   "source": [
    "hotspots = [1008, 4025, 1005, 1009, 1007, 12007, 7001, 6004, 1010, 11017]\n",
    "drone_spots = [15011, 13001, 2002, 11007, 4016, 1002, 3020, 9019, 9005]\n",
    "df_stops_drones = df_stops[df_stops[\"MoDStop Id\"].isin(drone_spots)]"
   ]
  },
  {
   "cell_type": "code",
   "execution_count": 43,
   "metadata": {},
   "outputs": [],
   "source": [
    "# if drones not activated\n",
    "layers = []\n",
    "\n",
    "graph_without_drones = utils.calculate_graph(drives_without_drones)\n",
    "path, shortest_time = utils.get_shortest_ride(\n",
    "    pickup_address, dropoff_address, graph_without_drones\n",
    ")\n",
    "route_information = utils.get_route_information(\n",
    "    drives_without_drones, path, df_stops\n",
    ")"
   ]
  },
  {
   "cell_type": "code",
   "execution_count": 45,
   "metadata": {},
   "outputs": [
    {
     "name": "stdout",
     "output_type": "stream",
     "text": [
      "[1001, 1005, 4025, 1009] The shortest path is :\n",
      " \n",
      "Mandelgasse - Rathaus: 17.63312 days\n",
      " \n",
      "Rathaus - Rathaus Hambach: 17.63945 days\n",
      " \n",
      "Rathaus Hambach - Schütt: 7.98268 days\n"
     ]
    }
   ],
   "source": [
    "print(path, route_information)"
   ]
  },
  {
   "cell_type": "code",
   "execution_count": null,
   "metadata": {},
   "outputs": [],
   "source": [
    "# if drones activated \n",
    "layers = utils.create_circles_around_drone_spots(df_stops_drones, radius)\n",
    "\n",
    "drives_with_drones = utils.add_drone_flights(\n",
    "    df_edges, drives_without_drones, drone_spots=drone_spots, radius=radius\n",
    ")\n",
    "\n",
    "graph_with_drones = utils.calculate_graph(drives_with_drones)\n",
    "\n",
    "path_w_d, shortest_time = utils.get_shortest_ride(\n",
    "    pickup_address, dropoff_address, graph_with_drones\n",
    ")\n",
    "\n",
    "route_information_w_d = utils.get_route_information(\n",
    "    drives_with_drones, path_w_d, df_stops\n",
    ")"
   ]
  },
  {
   "cell_type": "code",
   "execution_count": null,
   "metadata": {},
   "outputs": [],
   "source": [
    "print(path_w_d, route_information_w_d)"
   ]
  },
  {
   "cell_type": "code",
   "execution_count": null,
   "metadata": {},
   "outputs": [],
   "source": [
    "pickup_counts = (\n",
    "    rides_df_filterd.groupby(\"pickup_address\")\n",
    "    .size()\n",
    "    .to_frame(\"number_of_pickups\")\n",
    "    .reset_index()\n",
    ")\n",
    "dropoff_counts = (\n",
    "    rides_df_filterd.groupby(\"dropoff_address\")\n",
    "    .size()\n",
    "    .to_frame(\"number_of_dropoffs\")\n",
    "    .reset_index()\n",
    ")\n",
    "pickup_counts[\"pickup_address\"] = pickup_counts[\"pickup_address\"].astype(int)\n",
    "dropoff_counts[\"dropoff_address\"] = dropoff_counts[\"dropoff_address\"].astype(int)"
   ]
  },
  {
   "cell_type": "code",
   "execution_count": null,
   "metadata": {},
   "outputs": [],
   "source": [
    "df_stops_1 = pd.merge(\n",
    "    df_stops, pickup_counts, left_on=\"MoDStop Id\", right_on=\"pickup_address\"\n",
    ").drop(\"pickup_address\", axis=1)"
   ]
  },
  {
   "cell_type": "code",
   "execution_count": null,
   "metadata": {},
   "outputs": [],
   "source": [
    "df_stops_1 = pd.merge(\n",
    "    df_stops_1, dropoff_counts, left_on=\"MoDStop Id\", right_on=\"dropoff_address\"\n",
    ").drop(\"dropoff_address\", axis=1)"
   ]
  },
  {
   "cell_type": "code",
   "execution_count": null,
   "metadata": {},
   "outputs": [],
   "source": []
  }
 ],
 "metadata": {
  "kernelspec": {
   "display_name": "Python 3.9.4 64-bit",
   "language": "python",
   "name": "python3"
  },
  "language_info": {
   "codemirror_mode": {
    "name": "ipython",
    "version": 3
   },
   "file_extension": ".py",
   "mimetype": "text/x-python",
   "name": "python",
   "nbconvert_exporter": "python",
   "pygments_lexer": "ipython3",
   "version": "3.9.4"
  },
  "vscode": {
   "interpreter": {
    "hash": "aee8b7b246df8f9039afb4144a1f6fd8d2ca17a180786b69acc140d282b71a49"
   }
  }
 },
 "nbformat": 4,
 "nbformat_minor": 2
}
