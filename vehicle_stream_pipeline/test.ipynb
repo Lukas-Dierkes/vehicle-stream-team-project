{
 "cells": [
  {
   "cell_type": "code",
   "execution_count": 1,
   "metadata": {},
   "outputs": [],
   "source": [
    "import pandas as pd\n",
    "import numpy as np\n",
    "import git\n",
    "import regex as re\n",
    "pd.set_option(\"display.max_columns\", None)"
   ]
  },
  {
   "cell_type": "code",
   "execution_count": 2,
   "metadata": {},
   "outputs": [],
   "source": [
    "repo = git.Repo(\".\", search_parent_directories=True).git.rev_parse(\"--show-toplevel\")\n",
    "df = pd.read_csv(f\"{repo}/data/mtd_combined.csv\")\n",
    "df = df[(df[\"state\"] == \"completed\")]\n"
   ]
  },
  {
   "cell_type": "code",
   "execution_count": 3,
   "metadata": {},
   "outputs": [],
   "source": [
    "def check_format(df, col_type_dict):\n",
    "    # check time format in order to avoid errors in cleaning\n",
    "    for col, col_type in col_type_dict.items():\n",
    "        if col_type == \"timestamp\":\n",
    "            df = df[(df[col].str.match(r'[0-9]{1,4}.[0-9]{1,2}.[0-9]{1,2} [0-9]{1,2}:[0-9]{1,2}') == True) | (df[col].isna())]\n",
    "            df_inconsistencies = df[~((df[col].str.match(r'[0-9]{1,4}.[0-9]{1,2}.[0-9]{1,2} [0-9]{1,2}:[0-9]{1,2}') == True) | (df[col].isna()))]\n",
    "        elif col_type == \"time\":\n",
    "            df = df[(df[col].str.match(r'[0-9]{1,2}:[0-9]{1,2}:[0-9]{1,2}') == True) | (df[col].str.contains(\"1899\")) | (df[col].str.contains(\"1900\") | (df[col].isna()))]\n",
    "            df_inconsistencies = df[~((df[col].str.match(r'[0-9]{1,2}:[0-9]{1,2}:[0-9]{1,2}') == True) | (df[col].str.contains(\"1899\")) | (df[col].str.contains(\"1900\")) | (df[col].isna()))]\n",
    "    return (df, df_inconsistencies)"
   ]
  },
  {
   "cell_type": "code",
   "execution_count": 20,
   "metadata": {},
   "outputs": [],
   "source": [
    "df, df_inconsistencies = check_format(df, {\"created_at\": \"timestamp\"}) # here use all time related columns in the dict"
   ]
  },
  {
   "cell_type": "code",
   "execution_count": 4,
   "metadata": {},
   "outputs": [],
   "source": [
    "def clean_created_at(df):\n",
    "    created_at = pd.to_datetime(df[\"created_at\"])\n",
    "    return created_at"
   ]
  },
  {
   "cell_type": "code",
   "execution_count": 5,
   "metadata": {},
   "outputs": [],
   "source": [
    "df[\"created_at\"] = clean_created_at(df)"
   ]
  },
  {
   "cell_type": "code",
   "execution_count": 6,
   "metadata": {},
   "outputs": [],
   "source": [
    "def clean_scheduled_to(df):\n",
    "    scheduled_to = pd.to_datetime(df[\"scheduled_to\"])\n",
    "    scheduled_to = scheduled_to.fillna(df[\"created_at\"])\n",
    "\n",
    "    scheduled_to = np.where(\n",
    "        scheduled_to < df[\"created_at\"],\n",
    "        df[\"created_at\"],\n",
    "        scheduled_to\n",
    "    )\n",
    "    return scheduled_to"
   ]
  },
  {
   "cell_type": "code",
   "execution_count": 7,
   "metadata": {},
   "outputs": [],
   "source": [
    "df[\"scheduled_to\"] = clean_scheduled_to(df)"
   ]
  },
  {
   "cell_type": "code",
   "execution_count": 8,
   "metadata": {},
   "outputs": [],
   "source": [
    "def clean_dispatched_at(df): \n",
    "    # Cast to correct dtype\n",
    "    dispatched_at = pd.to_datetime(df[\"dispatched_at\"])\n",
    "    \n",
    "    # Fill missing values of dispatched_at\n",
    "    dispatched_at = np.where(\n",
    "        dispatched_at.isna(),\n",
    "        df[\"created_at\"],\n",
    "        dispatched_at\n",
    "    )\n",
    "    \n",
    "    # Check correct ordering\n",
    "    dispatched_at = np.where(\n",
    "        (dispatched_at <= df[\"created_at\"]) | (dispatched_at <= df[\"scheduled_to\"] - pd.Timedelta(minutes = 9)),\n",
    "        df[\"scheduled_to\"] - pd.Timedelta(minutes = 8), \n",
    "        dispatched_at\n",
    "    )\n",
    "    dispatched_at = pd.to_datetime(dispatched_at)\n",
    "    return dispatched_at"
   ]
  },
  {
   "cell_type": "code",
   "execution_count": 9,
   "metadata": {},
   "outputs": [],
   "source": [
    "df[\"dispatched_at\"] = clean_dispatched_at(df)"
   ]
  },
  {
   "cell_type": "code",
   "execution_count": 10,
   "metadata": {},
   "outputs": [],
   "source": [
    "def clean_vehicle_arrived_at(df):\n",
    "    arriving_push = pd.to_datetime(df[\"arriving_push\"])\n",
    "    vehicle_arrived_at = pd.to_datetime(df[\"vehicle_arrived_at\"])\n",
    "    pickup_at = pd.to_datetime(df[\"pickup_at\"])\n",
    "    \n",
    "    times = [3600,60,1]\n",
    "    pickup_arrival_time = df[\"pickup_arrival_time\"].fillna(\"-9\")\n",
    "    pickup_arrival_time = pd.Series(np.where(\n",
    "        pickup_arrival_time.str.contains(\"1899\"),\n",
    "        \"-9\",\n",
    "        pickup_arrival_time\n",
    "    ))\n",
    "    \n",
    "    pickup_arrival_time = pickup_arrival_time.str[0:8].apply(lambda row : sum([a*b for a,b in zip(times, map(int,row.split(':'))) if len(row) == 8]))\n",
    "\n",
    "    avg_pickup_arrival_time = sum(x for x in pickup_arrival_time if x != -9) / len(list(x for x in pickup_arrival_time if x != -9))\n",
    "    print(avg_pickup_arrival_time)\n",
    "\n",
    "    vehicle_arrived_at = np.where(\n",
    "        vehicle_arrived_at.isna(),\n",
    "        np.where(\n",
    "            (df[\"dispatched_at\"] + pd.Timedelta(seconds=avg_pickup_arrival_time)\n",
    "            < pickup_at) | (pickup_at.isna() == True),\n",
    "            df[\"dispatched_at\"] + pd.Timedelta(seconds=avg_pickup_arrival_time),\n",
    "            pickup_at,\n",
    "        ),\n",
    "        vehicle_arrived_at,\n",
    "    )\n",
    "\n",
    "    vehicle_arrived_at = pd.to_datetime(vehicle_arrived_at)\n",
    "\n",
    "    # Check ordering\n",
    "    vehicle_arrived_at = np.where(\n",
    "        (vehicle_arrived_at < arriving_push) | (vehicle_arrived_at + pd.Timedelta(minutes = 60) < df[\"scheduled_to\"]),\n",
    "        np.where(\n",
    "            arriving_push.isna(),\n",
    "            np.where(\n",
    "                (df[\"dispatched_at\"] + pd.Timedelta(seconds=avg_pickup_arrival_time) < df[\"pickup_at\"]) | (df[\"pickup_at\"].isna() == True),\n",
    "                df[\"dispatched_at\"] + pd.Timedelta(seconds=avg_pickup_arrival_time),\n",
    "                df[\"pickup_at\"]\n",
    "            ),\n",
    "            arriving_push\n",
    "        \n",
    "        ),\n",
    "        vehicle_arrived_at\n",
    "    )\n",
    "\n",
    "    vehicle_arrived_at = pd.to_datetime(vehicle_arrived_at)\n",
    "    vehicle_arrived_at = vehicle_arrived_at.floor(\"s\")\n",
    "    \n",
    "    return vehicle_arrived_at"
   ]
  },
  {
   "cell_type": "code",
   "execution_count": 11,
   "metadata": {},
   "outputs": [
    {
     "name": "stdout",
     "output_type": "stream",
     "text": [
      "433.89880707527766\n"
     ]
    }
   ],
   "source": [
    "df[\"vehicle_arrived_at\"] = clean_vehicle_arrived_at(df)"
   ]
  },
  {
   "cell_type": "code",
   "execution_count": 12,
   "metadata": {},
   "outputs": [],
   "source": [
    "def clean_arriving_push(df):\n",
    "    arriving_push = pd.to_datetime(df[\"arriving_push\"])\n",
    "    arriving_push = arriving_push.fillna(\n",
    "        df[\"vehicle_arrived_at\"] - pd.Timedelta(minutes=3)\n",
    "    )\n",
    "    return arriving_push"
   ]
  },
  {
   "cell_type": "code",
   "execution_count": 13,
   "metadata": {},
   "outputs": [],
   "source": [
    "df[\"arriving_push\"] = clean_arriving_push(df)"
   ]
  },
  {
   "cell_type": "code",
   "execution_count": 14,
   "metadata": {},
   "outputs": [],
   "source": [
    "def clean_pickup_arrival_time(df):\n",
    "    pickup_arrival_time = (df['vehicle_arrived_at'] - df['dispatched_at']).dt.seconds\n",
    "\n",
    "    return pickup_arrival_time"
   ]
  },
  {
   "cell_type": "code",
   "execution_count": 15,
   "metadata": {},
   "outputs": [],
   "source": [
    "df[\"pickup_arrival_time\"] = clean_pickup_arrival_time(df)"
   ]
  },
  {
   "cell_type": "code",
   "execution_count": 17,
   "metadata": {},
   "outputs": [],
   "source": [
    "def clean_earlierst_pickup_expectation(df):\n",
    "    earlierst_pickup_expectation = pd.to_datetime(df[\"earliest_pickup_expectation\"])\n",
    "    earlierst_pickup_expectation = df[\"scheduled_to\"] - pd.Timedelta(minutes = 3)\n",
    "\n",
    "    return earlierst_pickup_expectation"
   ]
  },
  {
   "cell_type": "code",
   "execution_count": 18,
   "metadata": {},
   "outputs": [],
   "source": [
    "df[\"earliest_pickup_expectation\"] = clean_earlierst_pickup_expectation(df)"
   ]
  },
  {
   "cell_type": "code",
   "execution_count": 19,
   "metadata": {},
   "outputs": [],
   "source": [
    "def clean_pickup_at(df):\n",
    "    pickup_at = pd.to_datetime(df[\"pickup_at\"])\n",
    " \n",
    "    boarding_time = pd.Series(np.where(\n",
    "        df[\"vehicle_arrived_at\"] < pickup_at,\n",
    "        (pickup_at - df[\"vehicle_arrived_at\"]).dt.seconds,\n",
    "        -9\n",
    "    ))\n",
    "    boarding_time = boarding_time.fillna(-9)\n",
    "\n",
    "    avg_boarding_time = sum(x for x in boarding_time if x != -9) / len(list(x for x in boarding_time if x != -9))\n",
    "    print(avg_boarding_time)\n",
    "\n",
    "    pickup_at = np.where(\n",
    "        pickup_at.isna() == True,\n",
    "        np.where(\n",
    "            df[\"pickup_eta\"].isna(),\n",
    "            df['vehicle_arrived_at'] +  pd.Timedelta(avg_boarding_time),\n",
    "            df[\"pickup_eta\"]\n",
    "        ),\n",
    "        pickup_at\n",
    "    )\n",
    "\n",
    "    pickup_at = pd.to_datetime(pickup_at) \n",
    "\n",
    "\n",
    "    ## Check ordering\n",
    "    pickup_at = np.where(\n",
    "        (pickup_at < df[\"vehicle_arrived_at\"]),\n",
    "        np.where(\n",
    "            df[\"pickup_eta\"].isna(),\n",
    "            np.where(\n",
    "                (df[\"vehicle_arrived_at\"] + pd.Timedelta(seconds=avg_boarding_time) < df[\"dropoff_at\"]) | (df[\"dropoff_at\"].isna() == True),\n",
    "                df[\"vehicle_arrived_at\"] + pd.Timedelta(seconds=avg_boarding_time),\n",
    "                df[\"dropoff_at\"]\n",
    "\n",
    "            ),\n",
    "            df[\"pickup_eta\"]\n",
    "        \n",
    "        ),\n",
    "        pickup_at\n",
    "    )\n",
    "\n",
    "    pickup_at = pd.to_datetime(pickup_at) \n",
    "\n",
    "    return pickup_at\n",
    "\n"
   ]
  },
  {
   "cell_type": "code",
   "execution_count": 20,
   "metadata": {},
   "outputs": [
    {
     "name": "stdout",
     "output_type": "stream",
     "text": [
      "77.06826286296484\n"
     ]
    }
   ],
   "source": [
    "df[\"pickup_at\"] = clean_pickup_at(df)"
   ]
  },
  {
   "cell_type": "code",
   "execution_count": 21,
   "metadata": {},
   "outputs": [],
   "source": [
    "def clean_pickup_eta(df):\n",
    "    pickup_eta = pd.to_datetime(df[\"pickup_eta\"])\n",
    "\n",
    "    pickup_eta = pickup_eta.fillna(df[\"pickup_at\"])\n",
    "\n",
    "    return pickup_eta"
   ]
  },
  {
   "cell_type": "code",
   "execution_count": 22,
   "metadata": {},
   "outputs": [],
   "source": [
    "df[\"pickup_eta\"] = clean_pickup_eta(df)"
   ]
  },
  {
   "cell_type": "code",
   "execution_count": 23,
   "metadata": {},
   "outputs": [],
   "source": [
    "def clean_pickup_first_eta(df):\n",
    "    pickup_first_eta = pd.to_datetime(df[\"pickup_first_eta\"])\n",
    "\n",
    "    pickup_first_eta = pickup_first_eta.fillna(df[\"pickup_eta\"])\n",
    "\n",
    "    return pickup_first_eta"
   ]
  },
  {
   "cell_type": "code",
   "execution_count": 24,
   "metadata": {},
   "outputs": [],
   "source": [
    "df[\"pickup_first_eta\"] = clean_pickup_first_eta(df)"
   ]
  },
  {
   "cell_type": "code",
   "execution_count": 25,
   "metadata": {},
   "outputs": [],
   "source": [
    "def clean_dropoff_at(df):\n",
    "    dropoff_at = pd.to_datetime(df[\"dropoff_at\"])\n",
    "    ftr = [3600,60,1]\n",
    "    shortest_ridetime = df[\"shortest_ridetime\"].str[0:8].apply(lambda row : sum([a*b for a,b in zip(ftr, map(int,row.split(':')))]))\n",
    "\n",
    "    dropoff_at = np.where(\n",
    "        dropoff_at.isna(),\n",
    "        np.where(\n",
    "            df[\"dropoff_eta\"].isna(),\n",
    "            dropoff_at + pd.to_timedelta(shortest_ridetime),\n",
    "            df[\"dropoff_eta\"]\n",
    "        ),\n",
    "        dropoff_at\n",
    "    )\n",
    "    dropoff_at = pd.to_datetime(dropoff_at) \n",
    "\n",
    "\n",
    "    # Check ordering\n",
    "    dropoff_at = np.where(\n",
    "        (dropoff_at < df[\"pickup_at\"]),\n",
    "        np.where(\n",
    "            df[\"dropoff_eta\"].isna(),\n",
    "            dropoff_at + pd.to_timedelta(shortest_ridetime),\n",
    "            df[\"dropoff_eta\"]\n",
    "        \n",
    "        ),\n",
    "        dropoff_at\n",
    "    )\n",
    "\n",
    "    dropoff_at = pd.to_datetime(dropoff_at) \n",
    "\n",
    "    return dropoff_at"
   ]
  },
  {
   "cell_type": "code",
   "execution_count": 26,
   "metadata": {},
   "outputs": [],
   "source": [
    "df[\"dropoff_at\"] = clean_dropoff_at(df)"
   ]
  },
  {
   "cell_type": "code",
   "execution_count": 27,
   "metadata": {},
   "outputs": [],
   "source": [
    "def clean_dropoff_eta(df):\n",
    "    dropoff_eta = pd.to_datetime(df[\"dropoff_eta\"])\n",
    "\n",
    "    dropoff_eta = dropoff_eta.fillna(df[\"dropoff_at\"])\n",
    "\n",
    "    return dropoff_eta"
   ]
  },
  {
   "cell_type": "code",
   "execution_count": 28,
   "metadata": {},
   "outputs": [],
   "source": [
    "df[\"dropoff_eta\"] = clean_dropoff_eta(df)"
   ]
  },
  {
   "cell_type": "code",
   "execution_count": 29,
   "metadata": {},
   "outputs": [],
   "source": [
    "def clean_dropoff_first_eta(df):\n",
    "    dropoff_first_eta = pd.to_datetime(df[\"dropoff_first_eta\"])\n",
    "    ftr = [3600,60,1]\n",
    "    shortest_ridetime = df[\"shortest_ridetime\"].str[0:8].apply(lambda row : sum([a*b for a,b in zip(ftr, map(int,row.split(':')))]))\n",
    "\n",
    "    dropoff_first_eta = dropoff_first_eta.fillna(df[\"pickup_first_eta\"] + pd.to_timedelta(shortest_ridetime))\n",
    "\n",
    "    return dropoff_first_eta"
   ]
  },
  {
   "cell_type": "code",
   "execution_count": 30,
   "metadata": {},
   "outputs": [],
   "source": [
    "df[\"dropoff_first_eta\"] = clean_dropoff_first_eta(df)"
   ]
  },
  {
   "cell_type": "code",
   "execution_count": 135,
   "metadata": {},
   "outputs": [],
   "source": [
    "df.to_csv(f\"{repo}/data/data_cleaned.csv\")"
   ]
  }
 ],
 "metadata": {
  "interpreter": {
   "hash": "8283c6141b98f09519a80d187cd09329350a005cab350ef956c4c0e8edba5e43"
  },
  "kernelspec": {
   "display_name": "Python 3.9.7 64-bit ('vecstre': conda)",
   "language": "python",
   "name": "python3"
  },
  "language_info": {
   "codemirror_mode": {
    "name": "ipython",
    "version": 3
   },
   "file_extension": ".py",
   "mimetype": "text/x-python",
   "name": "python",
   "nbconvert_exporter": "python",
   "pygments_lexer": "ipython3",
   "version": "3.8.2"
  },
  "orig_nbformat": 4
 },
 "nbformat": 4,
 "nbformat_minor": 2
}
