{
 "cells": [
  {
   "cell_type": "code",
   "execution_count": 21,
   "metadata": {},
   "outputs": [],
   "source": [
    "import pandas as pd\n",
    "import numpy as np\n",
    "#import git\n",
    "from datetime import datetime as dt\n",
    "pd.set_option(\"display.max_columns\", None)"
   ]
  },
  {
   "cell_type": "code",
   "execution_count": null,
   "metadata": {},
   "outputs": [],
   "source": [
    "repo = git.Repo(\".\", search_parent_directories=True).git.rev_parse(\"--show-toplevel\")\n",
    "df = pd.read_csv(f\"{repo}/data/mtd_combined.csv\")\n",
    "df = df[(df[\"state\"] == \"completed\")]"
   ]
  },
  {
   "cell_type": "code",
   "execution_count": 35,
   "metadata": {},
   "outputs": [
    {
     "data": {
      "text/plain": [
       "0        00:10:37\n",
       "1             NaN\n",
       "2        00:12:59\n",
       "3             NaN\n",
       "4             NaN\n",
       "           ...   \n",
       "10343         NaN\n",
       "10344         NaN\n",
       "10345         NaN\n",
       "10346    00:02:48\n",
       "10347    00:17:51\n",
       "Name: pickup_arrival_time, Length: 10348, dtype: object"
      ]
     },
     "execution_count": 35,
     "metadata": {},
     "output_type": "execute_result"
    }
   ],
   "source": [
    "df = pd.read_csv(\"../data/mtd_combined.csv\", index_col=0)\n",
    "df['pickup_arrival_time']"
   ]
  },
  {
   "cell_type": "code",
   "execution_count": 32,
   "metadata": {},
   "outputs": [
    {
     "data": {
      "text/plain": [
       "'99:99:99'"
      ]
     },
     "execution_count": 32,
     "metadata": {},
     "output_type": "execute_result"
    }
   ],
   "source": [
    "df[\"pickup_arrival_time\"][1568]"
   ]
  },
  {
   "cell_type": "code",
   "execution_count": 30,
   "metadata": {},
   "outputs": [],
   "source": [
    "pickup_arrival_time = df[\"pickup_arrival_time\"].fillna(\"99:99:99\")\n",
    "i = 0\n",
    "for x in pickup_arrival_time:\n",
    "    if len(x) != 8:\n",
    "        print(x, i)\n",
    "    i = i + 1"
   ]
  },
  {
   "cell_type": "code",
   "execution_count": 3,
   "metadata": {},
   "outputs": [],
   "source": [
    "def clean_created_at(df):\n",
    "    created_at = pd.to_datetime(df[\"created_at\"])\n",
    "    return created_at"
   ]
  },
  {
   "cell_type": "code",
   "execution_count": 4,
   "metadata": {},
   "outputs": [],
   "source": [
    "df[\"created_at\"] = clean_created_at(df)"
   ]
  },
  {
   "cell_type": "code",
   "execution_count": 5,
   "metadata": {},
   "outputs": [],
   "source": [
    "def clean_scheduled_to(df):\n",
    "    scheduled_to = pd.to_datetime(df[\"scheduled_to\"])\n",
    "    scheduled_to = scheduled_to.fillna(df[\"created_at\"])\n",
    "\n",
    "    scheduled_to = np.where(\n",
    "        scheduled_to < df[\"created_at\"],\n",
    "        df[\"created_at\"],\n",
    "        scheduled_to\n",
    "    )\n",
    "    return scheduled_to"
   ]
  },
  {
   "cell_type": "code",
   "execution_count": 6,
   "metadata": {},
   "outputs": [],
   "source": [
    "df[\"scheduled_to\"] = clean_scheduled_to(df)"
   ]
  },
  {
   "cell_type": "code",
   "execution_count": 7,
   "metadata": {},
   "outputs": [],
   "source": [
    "def clean_dispatched_at(df):\n",
    "    # Cast to correct dtype\n",
    "    dispatched_at = pd.to_datetime(df[\"dispatched_at\"])\n",
    "    \n",
    "    # Fill missing values of dispatched_at\n",
    "    dispatched_at = np.where(\n",
    "        dispatched_at.isna(),\n",
    "        df[\"created_at\"],\n",
    "        dispatched_at\n",
    "    )\n",
    "    \n",
    "    # Check correct ordering\n",
    "    dispatched_at = np.where(\n",
    "        (dispatched_at <= df[\"created_at\"]) | (dispatched_at <= df[\"scheduled_to\"] - pd.Timedelta(minutes = 9)),\n",
    "        df[\"scheduled_to\"] - pd.Timedelta(minutes = 8),\n",
    "        dispatched_at\n",
    "    )\n",
    "    dispatched_at = pd.to_datetime(df[\"dispatched_at\"])\n",
    "    return dispatched_at"
   ]
  },
  {
   "cell_type": "code",
   "execution_count": 9,
   "metadata": {},
   "outputs": [],
   "source": [
    "df[\"dispatched_at\"] = clean_dispatched_at(df)"
   ]
  },
  {
   "cell_type": "code",
   "execution_count": 10,
   "metadata": {},
   "outputs": [],
   "source": [
    "def clean_vehicle_arrived_at(df):\n",
    "    arriving_push = pd.to_datetime(df[\"arriving_push\"])\n",
    "    vehicle_arrived_at = pd.to_datetime(df[\"vehicle_arrived_at\"])\n",
    "    pickup_at = pd.to_datetime(df[\"pickup_at\"])\n",
    "    \n",
    "    pickup_arrival_time = (vehicle_arrived_at - df['dispatched_at']).dt.seconds  \n",
    "    pickup_arrival_time = pickup_arrival_time.fillna(-9)\n",
    "\n",
    "    \n",
    "    avg_pickup_arrival_time = sum(x for x in pickup_arrival_time if x != -9) / len(list(x for x in pickup_arrival_time if x != -9))\n",
    "    print(avg_pickup_arrival_time)\n",
    "\n",
    "\n",
    "    vehicle_arrived_at = np.where(\n",
    "        vehicle_arrived_at.isna(),\n",
    "        np.where(\n",
    "            pickup_arrival_time == -9,\n",
    "            np.where(\n",
    "                (df[\"dispatched_at\"] + pd.Timedelta(seconds=avg_pickup_arrival_time)\n",
    "                < pickup_at) | (pickup_at.isna() == True),\n",
    "                df[\"dispatched_at\"] + pd.Timedelta(seconds=avg_pickup_arrival_time),\n",
    "                pickup_at,\n",
    "            ),\n",
    "            np.where(\n",
    "                (df[\"dispatched_at\"] + pd.to_timedelta(pickup_arrival_time) < pickup_at) | (pickup_at.isna() == True),\n",
    "                df[\"dispatched_at\"] + pd.to_timedelta(pickup_arrival_time),\n",
    "                pickup_at,\n",
    "            ),\n",
    "        ),\n",
    "        vehicle_arrived_at,\n",
    "    )\n",
    "\n",
    "    vehicle_arrived_at = pd.to_datetime(vehicle_arrived_at)\n",
    "\n",
    "    # Check ordering\n",
    "    vehicle_arrived_at = np.where(\n",
    "        (vehicle_arrived_at < arriving_push) | (vehicle_arrived_at + pd.Timedelta(minutes = 60) < df[\"scheduled_to\"]),\n",
    "        np.where(\n",
    "            arriving_push.isna(),\n",
    "            np.where(\n",
    "                (df[\"dispatched_at\"] + pd.to_timedelta(pickup_arrival_time) < df[\"pickup_at\"]) | (df[\"pickup_at\"].isna() == True),\n",
    "                df[\"dispatched_at\"] + pd.Timedelta(seconds=avg_pickup_arrival_time),\n",
    "                df[\"pickup_at\"]\n",
    "\n",
    "            ),\n",
    "            arriving_push\n",
    "        \n",
    "        ),\n",
    "        vehicle_arrived_at\n",
    "    )\n",
    "\n",
    "    vehicle_arrived_at = pd.to_datetime(vehicle_arrived_at)\n",
    "    vehicle_arrived_at = vehicle_arrived_at.floor(\"s\")\n",
    "    \n",
    "    return vehicle_arrived_at"
   ]
  },
  {
   "cell_type": "code",
   "execution_count": 12,
   "metadata": {},
   "outputs": [
    {
     "name": "stdout",
     "output_type": "stream",
     "text": [
      "512.351376574895\n"
     ]
    }
   ],
   "source": [
    "df[\"vehicle_arrived_at\"] = clean_vehicle_arrived_at(df)"
   ]
  },
  {
   "cell_type": "code",
   "execution_count": 13,
   "metadata": {},
   "outputs": [],
   "source": [
    "def clean_arriving_push(df):\n",
    "    arriving_push = pd.to_datetime(df[\"arriving_push\"])\n",
    "    arriving_push = arriving_push.fillna(\n",
    "        df[\"vehicle_arrived_at\"] - pd.Timedelta(minutes=3)\n",
    "    )\n",
    "    return arriving_push"
   ]
  },
  {
   "cell_type": "code",
   "execution_count": 14,
   "metadata": {},
   "outputs": [],
   "source": [
    "df[\"arriving_push\"] = clean_arriving_push(df)"
   ]
  },
  {
   "cell_type": "code",
   "execution_count": 15,
   "metadata": {},
   "outputs": [],
   "source": [
    "def clean_pickup_arrival_time(df):\n",
    "    pickup_arrival_time = (df['vehicle_arrived_at'] - df['dispatched_at']).dt.seconds\n",
    "\n",
    "    return pickup_arrival_time"
   ]
  },
  {
   "cell_type": "code",
   "execution_count": 16,
   "metadata": {},
   "outputs": [],
   "source": [
    "df[\"pickup_arrival_time\"] = clean_pickup_arrival_time(df)"
   ]
  },
  {
   "cell_type": "code",
   "execution_count": 19,
   "metadata": {},
   "outputs": [],
   "source": [
    "def clean_earlierst_pickup_expectation(df):\n",
    "    earlierst_pickup_expectation = pd.to_datetime(df[\"earliest_pickup_expectation\"])\n",
    "    earlierst_pickup_expectation = df[\"dispatched_at\"] + pd.Timedelta(minutes = 3)\n",
    "\n",
    "    return earlierst_pickup_expectation"
   ]
  },
  {
   "cell_type": "code",
   "execution_count": 20,
   "metadata": {},
   "outputs": [],
   "source": [
    "df[\"earliest_pickup_expectation\"] = clean_earlierst_pickup_expectation(df)"
   ]
  },
  {
   "cell_type": "code",
   "execution_count": 31,
   "metadata": {},
   "outputs": [],
   "source": [
    "def clean_pick_up_at(df):\n",
    "    pickup_at = pd.to_datetime(df[\"pickup_at\"])\n",
    " \n",
    "    boarding_time = pd.Series(np.where(\n",
    "        df[\"vehicle_arrived_at\"] < pickup_at,\n",
    "        (pickup_at - df[\"vehicle_arrived_at\"]).dt.seconds,\n",
    "        0\n",
    "    ))\n",
    "    boarding_time = boarding_time.fillna(-9)\n",
    "\n",
    "    avg_boarding_time = sum(x for x in boarding_time if x != -9) / len(list(x for x in boarding_time if x != -9))\n",
    "    print(avg_boarding_time)\n",
    "    pickup_at = np.where(\n",
    "        pickup_at.isna() == True,\n",
    "        np.where(\n",
    "            df[\"pickup_eta\"].isna(),\n",
    "            df['vehicle_arrived_at'] +  pd.Timedelta(avg_boarding_time),\n",
    "            df[\"pickup_eta\"]\n",
    "        ),\n",
    "        pickup_at\n",
    "    )\n",
    "\n",
    "    return pickup_at\n",
    "\n"
   ]
  },
  {
   "cell_type": "code",
   "execution_count": 32,
   "metadata": {},
   "outputs": [
    {
     "name": "stdout",
     "output_type": "stream",
     "text": [
      "167.08864664747017\n"
     ]
    }
   ],
   "source": [
    "df[\"pickup_at\"] = clean_pick_up_at(df)"
   ]
  },
  {
   "cell_type": "code",
   "execution_count": 242,
   "metadata": {},
   "outputs": [
    {
     "data": {
      "text/plain": [
       "0       2021-07-01 07:33:08\n",
       "2       2021-07-01 09:35:40\n",
       "6       2021-07-01 17:22:06\n",
       "7       2021-07-01 18:33:23\n",
       "8       2021-07-01 18:53:59\n",
       "                ...        \n",
       "10300   2021-08-30 22:53:10\n",
       "10308   2021-08-31 11:21:36\n",
       "10316   2021-08-31 13:52:50\n",
       "10327   2021-08-31 17:22:04\n",
       "10332   2021-08-31 18:37:22\n",
       "Name: pickup_at, Length: 3832, dtype: datetime64[ns]"
      ]
     },
     "execution_count": 242,
     "metadata": {},
     "output_type": "execute_result"
    }
   ],
   "source": [
    "def clean_dropoff_at(df):\n",
    "    \n",
    "    pass "
   ]
  },
  {
   "cell_type": "code",
   "execution_count": 201,
   "metadata": {},
   "outputs": [
    {
     "data": {
      "text/plain": [
       "0"
      ]
     },
     "execution_count": 201,
     "metadata": {},
     "output_type": "execute_result"
    }
   ],
   "source": [
    "def clean_pickup_first_eta(df):\n",
    "    pass\n"
   ]
  },
  {
   "cell_type": "code",
   "execution_count": null,
   "metadata": {},
   "outputs": [],
   "source": [
    "df[\"pickup_first_eta\"] = clean_pickup_first_eta(df)"
   ]
  },
  {
   "cell_type": "code",
   "execution_count": 214,
   "metadata": {},
   "outputs": [
    {
     "data": {
      "text/plain": [
       "0        8.0\n",
       "2        8.0\n",
       "6        8.0\n",
       "7        8.0\n",
       "8        8.0\n",
       "        ... \n",
       "10340    NaN\n",
       "10341    NaN\n",
       "10342    NaN\n",
       "10343    NaN\n",
       "10345    NaN\n",
       "Name: boarding_time, Length: 4861, dtype: float64"
      ]
     },
     "execution_count": 214,
     "metadata": {},
     "output_type": "execute_result"
    }
   ],
   "source": [
    "df[\"boarding_time\"].str.len()"
   ]
  }
 ],
 "metadata": {
  "interpreter": {
   "hash": "8283c6141b98f09519a80d187cd09329350a005cab350ef956c4c0e8edba5e43"
  },
  "kernelspec": {
   "display_name": "Python 3.9.7 64-bit ('vecstre': conda)",
   "language": "python",
   "name": "python3"
  },
  "language_info": {
   "codemirror_mode": {
    "name": "ipython",
    "version": 3
   },
   "file_extension": ".py",
   "mimetype": "text/x-python",
   "name": "python",
   "nbconvert_exporter": "python",
   "pygments_lexer": "ipython3",
   "version": "3.8.8"
  },
  "orig_nbformat": 4
 },
 "nbformat": 4,
 "nbformat_minor": 2
}
