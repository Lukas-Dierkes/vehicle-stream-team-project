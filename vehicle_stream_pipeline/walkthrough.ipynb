{
 "cells": [
  {
   "cell_type": "markdown",
   "metadata": {},
   "source": [
    "# Walkthrough"
   ]
  },
  {
   "cell_type": "code",
   "execution_count": 4,
   "metadata": {},
   "outputs": [],
   "source": [
    "#from vehicle_stream_pipeline import utils\n",
    "from vehicle_stream_pipeline.utils import data_cleaning as dc\n",
    "from vehicle_stream_pipeline.utils import feasibility_analysis as fa\n",
    "from vehicle_stream_pipeline.utils import prob_model as pm\n",
    "from vehicle_stream_pipeline.utils import ride_simulation as rs\n",
    "\n",
    "import pandas as pd\n",
    "import git\n",
    "import os\n",
    "import warnings\n",
    "import time\n",
    "import plotly.express as px\n",
    "from plotly.subplots import make_subplots\n",
    "import plotly.graph_objects as go\n",
    "\n",
    "warnings.filterwarnings(\"ignore\")\n",
    "repo = git.Repo(\".\", search_parent_directories=True).git.rev_parse(\n",
    "    \"--show-toplevel\")"
   ]
  },
  {
   "cell_type": "code",
   "execution_count": null,
   "metadata": {},
   "outputs": [],
   "source": []
  },
  {
   "cell_type": "markdown",
   "metadata": {},
   "source": [
    "## Combining the normal rides from MoD"
   ]
  },
  {
   "cell_type": "code",
   "execution_count": 5,
   "metadata": {},
   "outputs": [],
   "source": [
    "all_rides = dc.create_overall_dataframes(f\"{repo}/data/normal_rides\")\n",
    "\n",
    "all_rides[\"df_kpi\"].to_csv(f\"{repo}/data/other/kpi_combined.csv\")\n",
    "all_rides[\"df_mtd\"].to_csv(f\"{repo}/data/other/mtd_combined.csv\")\n",
    "all_rides[\"df_rides\"].to_csv(f\"{repo}/data/other/rides_combined.csv\")"
   ]
  },
  {
   "cell_type": "markdown",
   "metadata": {},
   "source": [
    "## Cleaning the data"
   ]
  },
  {
   "cell_type": "code",
   "execution_count": 7,
   "metadata": {},
   "outputs": [
    {
     "name": "stdout",
     "output_type": "stream",
     "text": [
      "clean id\n",
      "clean distance\n",
      "clean addresses\n"
     ]
    },
    {
     "ename": "KeyboardInterrupt",
     "evalue": "",
     "output_type": "error",
     "traceback": [
      "\u001b[0;31m---------------------------------------------------------------------------\u001b[0m",
      "\u001b[0;31mKeyboardInterrupt\u001b[0m                         Traceback (most recent call last)",
      "\u001b[1;32m/Users/lukasdierkes/Desktop/Repos/vehicle-stream-team-project/vehicle_stream_pipeline/walkthrough.ipynb Zelle 7\u001b[0m in \u001b[0;36m<cell line: 17>\u001b[0;34m()\u001b[0m\n\u001b[1;32m     <a href='vscode-notebook-cell:/Users/lukasdierkes/Desktop/Repos/vehicle-stream-team-project/vehicle_stream_pipeline/walkthrough.ipynb#W5sZmlsZQ%3D%3D?line=13'>14</a>\u001b[0m df \u001b[39m=\u001b[39m data_cleaning\u001b[39m.\u001b[39mclean_duplicates(df)\n\u001b[1;32m     <a href='vscode-notebook-cell:/Users/lukasdierkes/Desktop/Repos/vehicle-stream-team-project/vehicle_stream_pipeline/walkthrough.ipynb#W5sZmlsZQ%3D%3D?line=15'>16</a>\u001b[0m \u001b[39m# Clean the data using our cleaning functions\u001b[39;00m\n\u001b[0;32m---> <a href='vscode-notebook-cell:/Users/lukasdierkes/Desktop/Repos/vehicle-stream-team-project/vehicle_stream_pipeline/walkthrough.ipynb#W5sZmlsZQ%3D%3D?line=16'>17</a>\u001b[0m df \u001b[39m=\u001b[39m data_cleaning\u001b[39m.\u001b[39;49mdata_cleaning(df, df_stops)\n\u001b[1;32m     <a href='vscode-notebook-cell:/Users/lukasdierkes/Desktop/Repos/vehicle-stream-team-project/vehicle_stream_pipeline/walkthrough.ipynb#W5sZmlsZQ%3D%3D?line=18'>19</a>\u001b[0m \u001b[39m# Add shared rides to our data pool\u001b[39;00m\n\u001b[1;32m     <a href='vscode-notebook-cell:/Users/lukasdierkes/Desktop/Repos/vehicle-stream-team-project/vehicle_stream_pipeline/walkthrough.ipynb#W5sZmlsZQ%3D%3D?line=19'>20</a>\u001b[0m df \u001b[39m=\u001b[39m data_cleaning\u001b[39m.\u001b[39madd_shared_rides(df, vehicle_usage_df, external_df)\n",
      "File \u001b[0;32m/usr/local/lib/python3.9/site-packages/vehicle_stream_pipeline/utils/data_cleaning.py:769\u001b[0m, in \u001b[0;36mdata_cleaning\u001b[0;34m(df, df_stops)\u001b[0m\n\u001b[1;32m    766\u001b[0m df \u001b[39m=\u001b[39m clean_distance(df)  \u001b[39m# Hier mit gesamten df, da Zeilen gelöscht werden\u001b[39;00m\n\u001b[1;32m    768\u001b[0m \u001b[39mprint\u001b[39m(\u001b[39m\"\u001b[39m\u001b[39mclean addresses\u001b[39m\u001b[39m\"\u001b[39m)\n\u001b[0;32m--> 769\u001b[0m df[[\u001b[39m\"\u001b[39m\u001b[39mpickup_address\u001b[39m\u001b[39m\"\u001b[39m, \u001b[39m\"\u001b[39m\u001b[39mdropoff_address\u001b[39m\u001b[39m\"\u001b[39m]] \u001b[39m=\u001b[39m clean_addresses(df, df_stops)\n\u001b[1;32m    771\u001b[0m \u001b[39mprint\u001b[39m(\u001b[39m\"\u001b[39m\u001b[39mclean free_rides\u001b[39m\u001b[39m\"\u001b[39m)\n\u001b[1;32m    772\u001b[0m df[\u001b[39m\"\u001b[39m\u001b[39mfree_ride\u001b[39m\u001b[39m\"\u001b[39m] \u001b[39m=\u001b[39m clean_free_ride(df)\n",
      "File \u001b[0;32m/usr/local/lib/python3.9/site-packages/vehicle_stream_pipeline/utils/data_cleaning.py:221\u001b[0m, in \u001b[0;36mclean_addresses\u001b[0;34m(df, df_stops)\u001b[0m\n\u001b[1;32m    219\u001b[0m addresses[[\u001b[39m\"\u001b[39m\u001b[39mpickup_id\u001b[39m\u001b[39m\"\u001b[39m, \u001b[39m\"\u001b[39m\u001b[39mdropoff_id\u001b[39m\u001b[39m\"\u001b[39m]] \u001b[39m=\u001b[39m \u001b[39m\"\u001b[39m\u001b[39m\"\u001b[39m\n\u001b[1;32m    220\u001b[0m \u001b[39mfor\u001b[39;00m index, row \u001b[39min\u001b[39;00m addresses\u001b[39m.\u001b[39miterrows():\n\u001b[0;32m--> 221\u001b[0m     addresses\u001b[39m.\u001b[39mat[index, \u001b[39m\"\u001b[39m\u001b[39mpickup_id\u001b[39m\u001b[39m\"\u001b[39m] \u001b[39m=\u001b[39m get_stop_id(\n\u001b[1;32m    222\u001b[0m         row[\u001b[39m\"\u001b[39;49m\u001b[39mpickup_address\u001b[39;49m\u001b[39m\"\u001b[39;49m], df_stops)\n\u001b[1;32m    223\u001b[0m     addresses\u001b[39m.\u001b[39mat[index, \u001b[39m\"\u001b[39m\u001b[39mdropoff_id\u001b[39m\u001b[39m\"\u001b[39m] \u001b[39m=\u001b[39m get_stop_id(\n\u001b[1;32m    224\u001b[0m         row[\u001b[39m\"\u001b[39m\u001b[39mdropoff_address\u001b[39m\u001b[39m\"\u001b[39m], df_stops\n\u001b[1;32m    225\u001b[0m     )\n\u001b[1;32m    226\u001b[0m \u001b[39m# export list of unmatched addresses\u001b[39;00m\n",
      "File \u001b[0;32m/usr/local/lib/python3.9/site-packages/vehicle_stream_pipeline/utils/data_cleaning.py:206\u001b[0m, in \u001b[0;36mget_stop_id\u001b[0;34m(address, df_stops)\u001b[0m\n\u001b[1;32m    204\u001b[0m \u001b[39melif\u001b[39;00m address \u001b[39m==\u001b[39m \u001b[39m\"\u001b[39m\u001b[39mLachener Straße\u001b[39m\u001b[39m\"\u001b[39m:\n\u001b[1;32m    205\u001b[0m     address \u001b[39m=\u001b[39m \u001b[39m\"\u001b[39m\u001b[39mLaachener Straße\u001b[39m\u001b[39m\"\u001b[39m\n\u001b[0;32m--> 206\u001b[0m \u001b[39mfor\u001b[39;00m index, row \u001b[39min\u001b[39;00m df_stops\u001b[39m.\u001b[39miterrows():\n\u001b[1;32m    207\u001b[0m     \u001b[39mif\u001b[39;00m row[\u001b[39m\"\u001b[39m\u001b[39mMoDStop Name\u001b[39m\u001b[39m\"\u001b[39m] \u001b[39m==\u001b[39m address:\n\u001b[1;32m    208\u001b[0m         \u001b[39mreturn\u001b[39;00m row[\u001b[39m\"\u001b[39m\u001b[39mMoDStop Id\u001b[39m\u001b[39m\"\u001b[39m]\n",
      "File \u001b[0;32m/usr/local/lib/python3.9/site-packages/pandas/core/frame.py:1323\u001b[0m, in \u001b[0;36mDataFrame.iterrows\u001b[0;34m(self)\u001b[0m\n\u001b[1;32m   1321\u001b[0m columns \u001b[39m=\u001b[39m \u001b[39mself\u001b[39m\u001b[39m.\u001b[39mcolumns\n\u001b[1;32m   1322\u001b[0m klass \u001b[39m=\u001b[39m \u001b[39mself\u001b[39m\u001b[39m.\u001b[39m_constructor_sliced\n\u001b[0;32m-> 1323\u001b[0m \u001b[39mfor\u001b[39;00m k, v \u001b[39min\u001b[39;00m \u001b[39mzip\u001b[39m(\u001b[39mself\u001b[39m\u001b[39m.\u001b[39mindex, \u001b[39mself\u001b[39;49m\u001b[39m.\u001b[39;49mvalues):\n\u001b[1;32m   1324\u001b[0m     s \u001b[39m=\u001b[39m klass(v, index\u001b[39m=\u001b[39mcolumns, name\u001b[39m=\u001b[39mk)\n\u001b[1;32m   1325\u001b[0m     \u001b[39myield\u001b[39;00m k, s\n",
      "File \u001b[0;32m/usr/local/lib/python3.9/site-packages/pandas/core/frame.py:10892\u001b[0m, in \u001b[0;36mDataFrame.values\u001b[0;34m(self)\u001b[0m\n\u001b[1;32m  10819\u001b[0m \u001b[39m\"\"\"\u001b[39;00m\n\u001b[1;32m  10820\u001b[0m \u001b[39mReturn a Numpy representation of the DataFrame.\u001b[39;00m\n\u001b[1;32m  10821\u001b[0m \n\u001b[0;32m   (...)\u001b[0m\n\u001b[1;32m  10889\u001b[0m \u001b[39m       ['monkey', nan, None]], dtype=object)\u001b[39;00m\n\u001b[1;32m  10890\u001b[0m \u001b[39m\"\"\"\u001b[39;00m\n\u001b[1;32m  10891\u001b[0m \u001b[39mself\u001b[39m\u001b[39m.\u001b[39m_consolidate_inplace()\n\u001b[0;32m> 10892\u001b[0m \u001b[39mreturn\u001b[39;00m \u001b[39mself\u001b[39;49m\u001b[39m.\u001b[39;49m_mgr\u001b[39m.\u001b[39;49mas_array()\n",
      "File \u001b[0;32m/usr/local/lib/python3.9/site-packages/pandas/core/internals/managers.py:1599\u001b[0m, in \u001b[0;36mBlockManager.as_array\u001b[0;34m(self, dtype, copy, na_value)\u001b[0m\n\u001b[1;32m   1597\u001b[0m             arr \u001b[39m=\u001b[39m arr\u001b[39m.\u001b[39mastype(dtype, copy\u001b[39m=\u001b[39m\u001b[39mFalse\u001b[39;00m)\n\u001b[1;32m   1598\u001b[0m \u001b[39melse\u001b[39;00m:\n\u001b[0;32m-> 1599\u001b[0m     arr \u001b[39m=\u001b[39m \u001b[39mself\u001b[39;49m\u001b[39m.\u001b[39;49m_interleave(dtype\u001b[39m=\u001b[39;49mdtype, na_value\u001b[39m=\u001b[39;49mna_value)\n\u001b[1;32m   1600\u001b[0m     \u001b[39m# The underlying data was copied within _interleave\u001b[39;00m\n\u001b[1;32m   1601\u001b[0m     copy \u001b[39m=\u001b[39m \u001b[39mFalse\u001b[39;00m\n",
      "\u001b[0;31mKeyboardInterrupt\u001b[0m: "
     ]
    }
   ],
   "source": [
    "# Read in all necessary files for cleaning the data\n",
    "df = pd.read_csv(f\"{repo}/data/other/rides_combined.csv\", index_col=0)\n",
    "df_stops = pd.read_excel(\n",
    "    f\"{repo}/data/other/MoDstops+Preismodell.xlsx\", sheet_name=\"MoDstops\"\n",
    ")\n",
    "vehicle_usage_df = pd.read_excel(\n",
    "    f\"{repo}/data/vehicle_data/MoD_Vehicle Usage_2021+2022-05-15.xlsx\"\n",
    ")\n",
    "external_df = pd.read_excel(\n",
    "    f\"{repo}/data/vehicle_data/Autofleet_Rides with External ID_2021+2022-05-15.xlsx\"\n",
    ")\n",
    "\n",
    "# Eliminating duplicates\n",
    "df = dc.clean_duplicates(df)\n",
    "\n",
    "# Clean the data using our cleaning functions\n",
    "df = dc.data_cleaning(df, df_stops)\n",
    "\n",
    "# Add shared rides to our data pool\n",
    "df = dc.add_shared_rides(df, vehicle_usage_df, external_df)\n",
    "\n",
    "# Last check if data is correct if some rows are incorrect we store them in a file to analyze them and thus can adapt our cleaning script\n",
    "print(\"check cleaned data\")\n",
    "df, df_incorrect = dc.data_check(df)\n",
    "if df_incorrect.empty == False:\n",
    "    df_incorrect.to_excel(f\"{repo}/data/cleaning/incorrect{int(time.time())}.xlsx\")\n",
    "\n",
    "# Save our cleaned script. This will be used for the later use cases\n",
    "df.to_csv(f\"{repo}/data/cleaning/data_cleaned.csv\", index=False)"
   ]
  },
  {
   "cell_type": "markdown",
   "metadata": {},
   "source": [
    "## Ride Simulation"
   ]
  },
  {
   "cell_type": "code",
   "execution_count": null,
   "metadata": {},
   "outputs": [],
   "source": []
  },
  {
   "cell_type": "markdown",
   "metadata": {},
   "source": [
    "## Use case 1: Probablistic graph model - shortest path, drones"
   ]
  },
  {
   "cell_type": "code",
   "execution_count": 8,
   "metadata": {},
   "outputs": [
    {
     "data": {
      "text/html": [
       "<div>\n",
       "<style scoped>\n",
       "    .dataframe tbody tr th:only-of-type {\n",
       "        vertical-align: middle;\n",
       "    }\n",
       "\n",
       "    .dataframe tbody tr th {\n",
       "        vertical-align: top;\n",
       "    }\n",
       "\n",
       "    .dataframe thead th {\n",
       "        text-align: right;\n",
       "    }\n",
       "</style>\n",
       "<table border=\"1\" class=\"dataframe\">\n",
       "  <thead>\n",
       "    <tr style=\"text-align: right;\">\n",
       "      <th></th>\n",
       "      <th>pickup_address</th>\n",
       "      <th>dropoff_address</th>\n",
       "      <th>number_of_drives</th>\n",
       "      <th>waiting_time</th>\n",
       "      <th>avg_ride_time</th>\n",
       "      <th>avg_time_to_destination</th>\n",
       "    </tr>\n",
       "  </thead>\n",
       "  <tbody>\n",
       "    <tr>\n",
       "      <th>0</th>\n",
       "      <td>1001</td>\n",
       "      <td>1004</td>\n",
       "      <td>4</td>\n",
       "      <td>83.750000</td>\n",
       "      <td>0.001704</td>\n",
       "      <td>83.751704</td>\n",
       "    </tr>\n",
       "    <tr>\n",
       "      <th>1</th>\n",
       "      <td>1001</td>\n",
       "      <td>1005</td>\n",
       "      <td>19</td>\n",
       "      <td>17.631579</td>\n",
       "      <td>0.001543</td>\n",
       "      <td>17.633122</td>\n",
       "    </tr>\n",
       "    <tr>\n",
       "      <th>2</th>\n",
       "      <td>1001</td>\n",
       "      <td>1007</td>\n",
       "      <td>2</td>\n",
       "      <td>167.500000</td>\n",
       "      <td>0.002882</td>\n",
       "      <td>167.502882</td>\n",
       "    </tr>\n",
       "    <tr>\n",
       "      <th>3</th>\n",
       "      <td>1001</td>\n",
       "      <td>1008</td>\n",
       "      <td>3</td>\n",
       "      <td>111.666667</td>\n",
       "      <td>0.003538</td>\n",
       "      <td>111.670204</td>\n",
       "    </tr>\n",
       "    <tr>\n",
       "      <th>4</th>\n",
       "      <td>1001</td>\n",
       "      <td>1012</td>\n",
       "      <td>2</td>\n",
       "      <td>167.500000</td>\n",
       "      <td>0.005694</td>\n",
       "      <td>167.505694</td>\n",
       "    </tr>\n",
       "  </tbody>\n",
       "</table>\n",
       "</div>"
      ],
      "text/plain": [
       "   pickup_address  dropoff_address  number_of_drives  waiting_time  \\\n",
       "0            1001             1004                 4     83.750000   \n",
       "1            1001             1005                19     17.631579   \n",
       "2            1001             1007                 2    167.500000   \n",
       "3            1001             1008                 3    111.666667   \n",
       "4            1001             1012                 2    167.500000   \n",
       "\n",
       "   avg_ride_time  avg_time_to_destination  \n",
       "0       0.001704                83.751704  \n",
       "1       0.001543                17.633122  \n",
       "2       0.002882               167.502882  \n",
       "3       0.003538               111.670204  \n",
       "4       0.005694               167.505694  "
      ]
     },
     "execution_count": 8,
     "metadata": {},
     "output_type": "execute_result"
    }
   ],
   "source": [
    "#First we create our aggregated drives so that for every route we calculate the average time to destination\n",
    "cleaned_drives = pd.read_csv(f\"{repo}/data/cleaning/data_cleaned.csv\")\n",
    "cleaned_drives[\"scheduled_to\"] = pd.to_datetime(cleaned_drives[\"scheduled_to\"])\n",
    "start_date = cleaned_drives[\"scheduled_to\"].min()\n",
    "end_date = cleaned_drives[\"scheduled_to\"].max()\n",
    "aggregated_drives = pm.calculate_drives(cleaned_drives, start_date, end_date)\n",
    "aggregated_drives.head()"
   ]
  },
  {
   "cell_type": "code",
   "execution_count": 9,
   "metadata": {},
   "outputs": [],
   "source": [
    "# Based on our aggregated drives will build a graph. The weight on an edge between two spots is defined as the avg_time_to_destination\n",
    "graph = pm.calculate_graph(aggregated_drives)"
   ]
  },
  {
   "cell_type": "code",
   "execution_count": 10,
   "metadata": {},
   "outputs": [
    {
     "name": "stdout",
     "output_type": "stream",
     "text": [
      "The shortest path uses the following stops [1001, 1005, 4018] and takes 185 days\n"
     ]
    }
   ],
   "source": [
    "path, time_to_destination = pm.get_shortest_ride(1001, 4018, graph)\n",
    "print(f\"The shortest path uses the following stops {path} and takes {int(time_to_destination)} days\")"
   ]
  },
  {
   "cell_type": "code",
   "execution_count": 12,
   "metadata": {},
   "outputs": [
    {
     "name": "stdout",
     "output_type": "stream",
     "text": [
      "The following spots are the hotspots of our graph: [1008, 4025, 1005, 1009, 1007, 12007, 7001, 6004, 1010, 11017]\n"
     ]
    }
   ],
   "source": [
    "edges = pd.read_excel(f\"{repo}/data/other/MoDstops+Preismodell.xlsx\", sheet_name= 'Liste 2022')\n",
    "hotspots = pm.get_hotspots(edges, aggregated_drives, n = 10)\n",
    "print(f\"The following spots are the hotspots of our graph: {hotspots}\")"
   ]
  },
  {
   "cell_type": "code",
   "execution_count": 13,
   "metadata": {},
   "outputs": [
    {
     "data": {
      "text/html": [
       "<div>\n",
       "<style scoped>\n",
       "    .dataframe tbody tr th:only-of-type {\n",
       "        vertical-align: middle;\n",
       "    }\n",
       "\n",
       "    .dataframe tbody tr th {\n",
       "        vertical-align: top;\n",
       "    }\n",
       "\n",
       "    .dataframe thead th {\n",
       "        text-align: right;\n",
       "    }\n",
       "</style>\n",
       "<table border=\"1\" class=\"dataframe\">\n",
       "  <thead>\n",
       "    <tr style=\"text-align: right;\">\n",
       "      <th></th>\n",
       "      <th>pickup_address</th>\n",
       "      <th>dropoff_address</th>\n",
       "      <th>avg_time_to_destination</th>\n",
       "    </tr>\n",
       "  </thead>\n",
       "  <tbody>\n",
       "    <tr>\n",
       "      <th>38793</th>\n",
       "      <td>15012</td>\n",
       "      <td>15013</td>\n",
       "      <td>0.000451</td>\n",
       "    </tr>\n",
       "    <tr>\n",
       "      <th>38991</th>\n",
       "      <td>15013</td>\n",
       "      <td>15010</td>\n",
       "      <td>0.000536</td>\n",
       "    </tr>\n",
       "    <tr>\n",
       "      <th>38993</th>\n",
       "      <td>15013</td>\n",
       "      <td>15012</td>\n",
       "      <td>0.000451</td>\n",
       "    </tr>\n",
       "    <tr>\n",
       "      <th>38994</th>\n",
       "      <td>15013</td>\n",
       "      <td>15014</td>\n",
       "      <td>0.000747</td>\n",
       "    </tr>\n",
       "    <tr>\n",
       "      <th>39194</th>\n",
       "      <td>15014</td>\n",
       "      <td>15013</td>\n",
       "      <td>0.000747</td>\n",
       "    </tr>\n",
       "  </tbody>\n",
       "</table>\n",
       "</div>"
      ],
      "text/plain": [
       "       pickup_address  dropoff_address  avg_time_to_destination\n",
       "38793           15012            15013                 0.000451\n",
       "38991           15013            15010                 0.000536\n",
       "38993           15013            15012                 0.000451\n",
       "38994           15013            15014                 0.000747\n",
       "39194           15014            15013                 0.000747"
      ]
     },
     "execution_count": 13,
     "metadata": {},
     "output_type": "execute_result"
    }
   ],
   "source": [
    "drone_spots = [1008, 4025, 6004, 12007, 11017, 15013, 3021, 8001, 5001, 11003, 4016]\n",
    "aggregated_drives_with_drone_flights = pm.add_drone_flights(edges, aggregated_drives, drone_spots, radius = 500)\n",
    "aggregated_drives_with_drone_flights.tail()"
   ]
  },
  {
   "cell_type": "code",
   "execution_count": 14,
   "metadata": {},
   "outputs": [],
   "source": [
    "graph_with_drone_flights = pm.calculate_graph(aggregated_drives_with_drone_flights)"
   ]
  },
  {
   "cell_type": "code",
   "execution_count": 15,
   "metadata": {},
   "outputs": [
    {
     "name": "stdout",
     "output_type": "stream",
     "text": [
      "The shortest path uses the following stops [1001, 1005, 4025, 1010, 4017, 4016, 4018] and takes 110 days\n"
     ]
    }
   ],
   "source": [
    "path, time_to_destination = pm.get_shortest_ride(1001, 4018, graph_with_drone_flights)\n",
    "print(f\"The shortest path uses the following stops {path} and takes {int(time_to_destination)} days\")"
   ]
  },
  {
   "cell_type": "markdown",
   "metadata": {},
   "source": [
    "## Use case 2: Feasibility Analysis using our ride simulation"
   ]
  },
  {
   "cell_type": "code",
   "execution_count": 16,
   "metadata": {},
   "outputs": [
    {
     "data": {
      "text/html": [
       "<div>\n",
       "<style scoped>\n",
       "    .dataframe tbody tr th:only-of-type {\n",
       "        vertical-align: middle;\n",
       "    }\n",
       "\n",
       "    .dataframe tbody tr th {\n",
       "        vertical-align: top;\n",
       "    }\n",
       "\n",
       "    .dataframe thead th {\n",
       "        text-align: right;\n",
       "    }\n",
       "</style>\n",
       "<table border=\"1\" class=\"dataframe\">\n",
       "  <thead>\n",
       "    <tr style=\"text-align: right;\">\n",
       "      <th></th>\n",
       "      <th>#_simulated_rides</th>\n",
       "      <th>diameter_w/o_drones</th>\n",
       "      <th>avg_w/o_drones</th>\n",
       "      <th>diameter_with_drones</th>\n",
       "      <th>avg_with_drones</th>\n",
       "    </tr>\n",
       "  </thead>\n",
       "  <tbody>\n",
       "    <tr>\n",
       "      <th>0</th>\n",
       "      <td>909.090909</td>\n",
       "      <td>788.286237</td>\n",
       "      <td>240.121443</td>\n",
       "      <td>788.286237</td>\n",
       "      <td>240.121443</td>\n",
       "    </tr>\n",
       "    <tr>\n",
       "      <th>1</th>\n",
       "      <td>2272.727273</td>\n",
       "      <td>566.824320</td>\n",
       "      <td>114.041593</td>\n",
       "      <td>566.824320</td>\n",
       "      <td>114.041593</td>\n",
       "    </tr>\n",
       "    <tr>\n",
       "      <th>2</th>\n",
       "      <td>3636.363636</td>\n",
       "      <td>351.428939</td>\n",
       "      <td>78.554808</td>\n",
       "      <td>351.428939</td>\n",
       "      <td>78.554808</td>\n",
       "    </tr>\n",
       "    <tr>\n",
       "      <th>3</th>\n",
       "      <td>5000.000000</td>\n",
       "      <td>346.182608</td>\n",
       "      <td>57.883003</td>\n",
       "      <td>346.182608</td>\n",
       "      <td>57.883003</td>\n",
       "    </tr>\n",
       "    <tr>\n",
       "      <th>4</th>\n",
       "      <td>6363.636364</td>\n",
       "      <td>311.140444</td>\n",
       "      <td>46.528476</td>\n",
       "      <td>311.140444</td>\n",
       "      <td>46.528476</td>\n",
       "    </tr>\n",
       "    <tr>\n",
       "      <th>5</th>\n",
       "      <td>7727.272727</td>\n",
       "      <td>236.965661</td>\n",
       "      <td>39.925927</td>\n",
       "      <td>236.965661</td>\n",
       "      <td>39.925927</td>\n",
       "    </tr>\n",
       "    <tr>\n",
       "      <th>6</th>\n",
       "      <td>9090.909091</td>\n",
       "      <td>231.169627</td>\n",
       "      <td>34.328291</td>\n",
       "      <td>231.169627</td>\n",
       "      <td>34.328291</td>\n",
       "    </tr>\n",
       "    <tr>\n",
       "      <th>7</th>\n",
       "      <td>10454.545455</td>\n",
       "      <td>210.173713</td>\n",
       "      <td>30.096059</td>\n",
       "      <td>210.173713</td>\n",
       "      <td>30.096059</td>\n",
       "    </tr>\n",
       "    <tr>\n",
       "      <th>8</th>\n",
       "      <td>11818.181818</td>\n",
       "      <td>199.637274</td>\n",
       "      <td>27.198740</td>\n",
       "      <td>199.637274</td>\n",
       "      <td>27.198740</td>\n",
       "    </tr>\n",
       "    <tr>\n",
       "      <th>9</th>\n",
       "      <td>13181.818182</td>\n",
       "      <td>168.480334</td>\n",
       "      <td>24.882718</td>\n",
       "      <td>168.480334</td>\n",
       "      <td>24.882718</td>\n",
       "    </tr>\n",
       "    <tr>\n",
       "      <th>10</th>\n",
       "      <td>14545.454545</td>\n",
       "      <td>155.537504</td>\n",
       "      <td>22.669779</td>\n",
       "      <td>155.537504</td>\n",
       "      <td>22.669779</td>\n",
       "    </tr>\n",
       "    <tr>\n",
       "      <th>11</th>\n",
       "      <td>15909.090909</td>\n",
       "      <td>156.874528</td>\n",
       "      <td>20.463626</td>\n",
       "      <td>156.874528</td>\n",
       "      <td>20.463626</td>\n",
       "    </tr>\n",
       "    <tr>\n",
       "      <th>12</th>\n",
       "      <td>17272.727273</td>\n",
       "      <td>163.169770</td>\n",
       "      <td>19.233193</td>\n",
       "      <td>163.169770</td>\n",
       "      <td>19.233193</td>\n",
       "    </tr>\n",
       "    <tr>\n",
       "      <th>13</th>\n",
       "      <td>18636.363636</td>\n",
       "      <td>138.632512</td>\n",
       "      <td>17.534932</td>\n",
       "      <td>138.632512</td>\n",
       "      <td>17.534932</td>\n",
       "    </tr>\n",
       "    <tr>\n",
       "      <th>14</th>\n",
       "      <td>20000.000000</td>\n",
       "      <td>130.618911</td>\n",
       "      <td>16.557647</td>\n",
       "      <td>130.618911</td>\n",
       "      <td>16.557647</td>\n",
       "    </tr>\n",
       "    <tr>\n",
       "      <th>15</th>\n",
       "      <td>21363.636364</td>\n",
       "      <td>126.130683</td>\n",
       "      <td>15.313351</td>\n",
       "      <td>126.130683</td>\n",
       "      <td>15.313351</td>\n",
       "    </tr>\n",
       "    <tr>\n",
       "      <th>16</th>\n",
       "      <td>22727.272727</td>\n",
       "      <td>123.665142</td>\n",
       "      <td>14.404483</td>\n",
       "      <td>123.665142</td>\n",
       "      <td>14.404483</td>\n",
       "    </tr>\n",
       "    <tr>\n",
       "      <th>17</th>\n",
       "      <td>24090.909091</td>\n",
       "      <td>114.385739</td>\n",
       "      <td>13.744128</td>\n",
       "      <td>114.385739</td>\n",
       "      <td>13.744128</td>\n",
       "    </tr>\n",
       "    <tr>\n",
       "      <th>18</th>\n",
       "      <td>25454.545455</td>\n",
       "      <td>115.127715</td>\n",
       "      <td>13.214986</td>\n",
       "      <td>115.127715</td>\n",
       "      <td>13.214986</td>\n",
       "    </tr>\n",
       "    <tr>\n",
       "      <th>19</th>\n",
       "      <td>26818.181818</td>\n",
       "      <td>105.783911</td>\n",
       "      <td>12.309178</td>\n",
       "      <td>105.783911</td>\n",
       "      <td>12.309178</td>\n",
       "    </tr>\n",
       "    <tr>\n",
       "      <th>20</th>\n",
       "      <td>28181.818182</td>\n",
       "      <td>103.081513</td>\n",
       "      <td>11.908423</td>\n",
       "      <td>103.081513</td>\n",
       "      <td>11.908423</td>\n",
       "    </tr>\n",
       "    <tr>\n",
       "      <th>21</th>\n",
       "      <td>29545.454545</td>\n",
       "      <td>96.388338</td>\n",
       "      <td>11.371966</td>\n",
       "      <td>96.388338</td>\n",
       "      <td>11.371966</td>\n",
       "    </tr>\n",
       "    <tr>\n",
       "      <th>22</th>\n",
       "      <td>30909.090909</td>\n",
       "      <td>89.425403</td>\n",
       "      <td>11.040704</td>\n",
       "      <td>89.425403</td>\n",
       "      <td>11.040704</td>\n",
       "    </tr>\n",
       "    <tr>\n",
       "      <th>23</th>\n",
       "      <td>32272.727273</td>\n",
       "      <td>91.233419</td>\n",
       "      <td>10.565701</td>\n",
       "      <td>91.233419</td>\n",
       "      <td>10.565701</td>\n",
       "    </tr>\n",
       "    <tr>\n",
       "      <th>24</th>\n",
       "      <td>33636.363636</td>\n",
       "      <td>92.091506</td>\n",
       "      <td>10.128724</td>\n",
       "      <td>92.091506</td>\n",
       "      <td>10.128724</td>\n",
       "    </tr>\n",
       "    <tr>\n",
       "      <th>25</th>\n",
       "      <td>35000.000000</td>\n",
       "      <td>81.745125</td>\n",
       "      <td>9.680920</td>\n",
       "      <td>81.745125</td>\n",
       "      <td>9.680920</td>\n",
       "    </tr>\n",
       "    <tr>\n",
       "      <th>26</th>\n",
       "      <td>36363.636364</td>\n",
       "      <td>82.357106</td>\n",
       "      <td>9.264078</td>\n",
       "      <td>82.357106</td>\n",
       "      <td>9.264078</td>\n",
       "    </tr>\n",
       "    <tr>\n",
       "      <th>27</th>\n",
       "      <td>37727.272727</td>\n",
       "      <td>75.202465</td>\n",
       "      <td>9.043952</td>\n",
       "      <td>75.202465</td>\n",
       "      <td>9.043952</td>\n",
       "    </tr>\n",
       "    <tr>\n",
       "      <th>28</th>\n",
       "      <td>39090.909091</td>\n",
       "      <td>74.805283</td>\n",
       "      <td>8.624614</td>\n",
       "      <td>74.805283</td>\n",
       "      <td>8.624614</td>\n",
       "    </tr>\n",
       "    <tr>\n",
       "      <th>29</th>\n",
       "      <td>40454.545455</td>\n",
       "      <td>73.102564</td>\n",
       "      <td>8.380132</td>\n",
       "      <td>73.102564</td>\n",
       "      <td>8.380132</td>\n",
       "    </tr>\n",
       "    <tr>\n",
       "      <th>30</th>\n",
       "      <td>41818.181818</td>\n",
       "      <td>73.258389</td>\n",
       "      <td>8.182706</td>\n",
       "      <td>73.258389</td>\n",
       "      <td>8.182706</td>\n",
       "    </tr>\n",
       "    <tr>\n",
       "      <th>31</th>\n",
       "      <td>43181.818182</td>\n",
       "      <td>73.229348</td>\n",
       "      <td>7.939403</td>\n",
       "      <td>73.229348</td>\n",
       "      <td>7.939403</td>\n",
       "    </tr>\n",
       "    <tr>\n",
       "      <th>32</th>\n",
       "      <td>44545.454545</td>\n",
       "      <td>70.906535</td>\n",
       "      <td>7.687812</td>\n",
       "      <td>70.906535</td>\n",
       "      <td>7.687812</td>\n",
       "    </tr>\n",
       "  </tbody>\n",
       "</table>\n",
       "</div>"
      ],
      "text/plain": [
       "    #_simulated_rides  diameter_w/o_drones  avg_w/o_drones  \\\n",
       "0          909.090909           788.286237      240.121443   \n",
       "1         2272.727273           566.824320      114.041593   \n",
       "2         3636.363636           351.428939       78.554808   \n",
       "3         5000.000000           346.182608       57.883003   \n",
       "4         6363.636364           311.140444       46.528476   \n",
       "5         7727.272727           236.965661       39.925927   \n",
       "6         9090.909091           231.169627       34.328291   \n",
       "7        10454.545455           210.173713       30.096059   \n",
       "8        11818.181818           199.637274       27.198740   \n",
       "9        13181.818182           168.480334       24.882718   \n",
       "10       14545.454545           155.537504       22.669779   \n",
       "11       15909.090909           156.874528       20.463626   \n",
       "12       17272.727273           163.169770       19.233193   \n",
       "13       18636.363636           138.632512       17.534932   \n",
       "14       20000.000000           130.618911       16.557647   \n",
       "15       21363.636364           126.130683       15.313351   \n",
       "16       22727.272727           123.665142       14.404483   \n",
       "17       24090.909091           114.385739       13.744128   \n",
       "18       25454.545455           115.127715       13.214986   \n",
       "19       26818.181818           105.783911       12.309178   \n",
       "20       28181.818182           103.081513       11.908423   \n",
       "21       29545.454545            96.388338       11.371966   \n",
       "22       30909.090909            89.425403       11.040704   \n",
       "23       32272.727273            91.233419       10.565701   \n",
       "24       33636.363636            92.091506       10.128724   \n",
       "25       35000.000000            81.745125        9.680920   \n",
       "26       36363.636364            82.357106        9.264078   \n",
       "27       37727.272727            75.202465        9.043952   \n",
       "28       39090.909091            74.805283        8.624614   \n",
       "29       40454.545455            73.102564        8.380132   \n",
       "30       41818.181818            73.258389        8.182706   \n",
       "31       43181.818182            73.229348        7.939403   \n",
       "32       44545.454545            70.906535        7.687812   \n",
       "\n",
       "    diameter_with_drones  avg_with_drones  \n",
       "0             788.286237       240.121443  \n",
       "1             566.824320       114.041593  \n",
       "2             351.428939        78.554808  \n",
       "3             346.182608        57.883003  \n",
       "4             311.140444        46.528476  \n",
       "5             236.965661        39.925927  \n",
       "6             231.169627        34.328291  \n",
       "7             210.173713        30.096059  \n",
       "8             199.637274        27.198740  \n",
       "9             168.480334        24.882718  \n",
       "10            155.537504        22.669779  \n",
       "11            156.874528        20.463626  \n",
       "12            163.169770        19.233193  \n",
       "13            138.632512        17.534932  \n",
       "14            130.618911        16.557647  \n",
       "15            126.130683        15.313351  \n",
       "16            123.665142        14.404483  \n",
       "17            114.385739        13.744128  \n",
       "18            115.127715        13.214986  \n",
       "19            105.783911        12.309178  \n",
       "20            103.081513        11.908423  \n",
       "21             96.388338        11.371966  \n",
       "22             89.425403        11.040704  \n",
       "23             91.233419        10.565701  \n",
       "24             92.091506        10.128724  \n",
       "25             81.745125         9.680920  \n",
       "26             82.357106         9.264078  \n",
       "27             75.202465         9.043952  \n",
       "28             74.805283         8.624614  \n",
       "29             73.102564         8.380132  \n",
       "30             73.258389         8.182706  \n",
       "31             73.229348         7.939403  \n",
       "32             70.906535         7.687812  "
      ]
     },
     "execution_count": 16,
     "metadata": {},
     "output_type": "execute_result"
    }
   ],
   "source": [
    "simulated_rides = pd.read_csv(f\"{repo}/data/simulated/sim_rides_500k.csv\")\n",
    "regression_metrics = fa.getRegressionMetrics(simulated_rides, edges)\n",
    "regression_metrics"
   ]
  },
  {
   "cell_type": "code",
   "execution_count": 18,
   "metadata": {},
   "outputs": [],
   "source": [
    "needed_rides = fa.get_rides_num(5, regression_metrics, \"avg_w/o_drones\")"
   ]
  },
  {
   "cell_type": "code",
   "execution_count": 19,
   "metadata": {},
   "outputs": [
    {
     "data": {
      "text/html": [
       "<div>\n",
       "<style scoped>\n",
       "    .dataframe tbody tr th:only-of-type {\n",
       "        vertical-align: middle;\n",
       "    }\n",
       "\n",
       "    .dataframe tbody tr th {\n",
       "        vertical-align: top;\n",
       "    }\n",
       "\n",
       "    .dataframe thead th {\n",
       "        text-align: right;\n",
       "    }\n",
       "</style>\n",
       "<table border=\"1\" class=\"dataframe\">\n",
       "  <thead>\n",
       "    <tr style=\"text-align: right;\">\n",
       "      <th></th>\n",
       "      <th>#_simulated_rides</th>\n",
       "      <th>diameter_w/o_drones</th>\n",
       "      <th>avg_w/o_drones</th>\n",
       "      <th>diameter_with_drones</th>\n",
       "      <th>avg_with_drones</th>\n",
       "    </tr>\n",
       "  </thead>\n",
       "  <tbody>\n",
       "    <tr>\n",
       "      <th>0</th>\n",
       "      <td>90.909091</td>\n",
       "      <td>140.520376</td>\n",
       "      <td>42.478167</td>\n",
       "      <td>140.520376</td>\n",
       "      <td>42.478167</td>\n",
       "    </tr>\n",
       "    <tr>\n",
       "      <th>1</th>\n",
       "      <td>100.000000</td>\n",
       "      <td>394.381531</td>\n",
       "      <td>67.565746</td>\n",
       "      <td>394.381531</td>\n",
       "      <td>67.565746</td>\n",
       "    </tr>\n",
       "    <tr>\n",
       "      <th>2</th>\n",
       "      <td>109.090909</td>\n",
       "      <td>418.758542</td>\n",
       "      <td>62.769783</td>\n",
       "      <td>418.758542</td>\n",
       "      <td>62.769783</td>\n",
       "    </tr>\n",
       "    <tr>\n",
       "      <th>3</th>\n",
       "      <td>118.181818</td>\n",
       "      <td>127.413133</td>\n",
       "      <td>37.196231</td>\n",
       "      <td>127.413133</td>\n",
       "      <td>37.196231</td>\n",
       "    </tr>\n",
       "    <tr>\n",
       "      <th>4</th>\n",
       "      <td>127.272727</td>\n",
       "      <td>347.423449</td>\n",
       "      <td>54.158921</td>\n",
       "      <td>347.423449</td>\n",
       "      <td>54.158921</td>\n",
       "    </tr>\n",
       "    <tr>\n",
       "      <th>...</th>\n",
       "      <td>...</td>\n",
       "      <td>...</td>\n",
       "      <td>...</td>\n",
       "      <td>...</td>\n",
       "      <td>...</td>\n",
       "    </tr>\n",
       "    <tr>\n",
       "      <th>154</th>\n",
       "      <td>1490.909091</td>\n",
       "      <td>16.429578</td>\n",
       "      <td>3.429338</td>\n",
       "      <td>16.429578</td>\n",
       "      <td>3.429338</td>\n",
       "    </tr>\n",
       "    <tr>\n",
       "      <th>155</th>\n",
       "      <td>1500.000000</td>\n",
       "      <td>16.125935</td>\n",
       "      <td>3.397624</td>\n",
       "      <td>16.125935</td>\n",
       "      <td>3.397624</td>\n",
       "    </tr>\n",
       "    <tr>\n",
       "      <th>156</th>\n",
       "      <td>1509.090909</td>\n",
       "      <td>16.013559</td>\n",
       "      <td>3.358964</td>\n",
       "      <td>16.013559</td>\n",
       "      <td>3.358964</td>\n",
       "    </tr>\n",
       "    <tr>\n",
       "      <th>157</th>\n",
       "      <td>1518.181818</td>\n",
       "      <td>15.626391</td>\n",
       "      <td>3.315844</td>\n",
       "      <td>15.626391</td>\n",
       "      <td>3.315844</td>\n",
       "    </tr>\n",
       "    <tr>\n",
       "      <th>158</th>\n",
       "      <td>1527.272727</td>\n",
       "      <td>15.572571</td>\n",
       "      <td>3.304366</td>\n",
       "      <td>15.572571</td>\n",
       "      <td>3.304366</td>\n",
       "    </tr>\n",
       "  </tbody>\n",
       "</table>\n",
       "<p>159 rows × 5 columns</p>\n",
       "</div>"
      ],
      "text/plain": [
       "     #_simulated_rides  diameter_w/o_drones  avg_w/o_drones  \\\n",
       "0            90.909091           140.520376       42.478167   \n",
       "1           100.000000           394.381531       67.565746   \n",
       "2           109.090909           418.758542       62.769783   \n",
       "3           118.181818           127.413133       37.196231   \n",
       "4           127.272727           347.423449       54.158921   \n",
       "..                 ...                  ...             ...   \n",
       "154        1490.909091            16.429578        3.429338   \n",
       "155        1500.000000            16.125935        3.397624   \n",
       "156        1509.090909            16.013559        3.358964   \n",
       "157        1518.181818            15.626391        3.315844   \n",
       "158        1527.272727            15.572571        3.304366   \n",
       "\n",
       "     diameter_with_drones  avg_with_drones  \n",
       "0              140.520376        42.478167  \n",
       "1              394.381531        67.565746  \n",
       "2              418.758542        62.769783  \n",
       "3              127.413133        37.196231  \n",
       "4              347.423449        54.158921  \n",
       "..                    ...              ...  \n",
       "154             16.429578         3.429338  \n",
       "155             16.125935         3.397624  \n",
       "156             16.013559         3.358964  \n",
       "157             15.626391         3.315844  \n",
       "158             15.572571         3.304366  \n",
       "\n",
       "[159 rows x 5 columns]"
      ]
     },
     "execution_count": 19,
     "metadata": {},
     "output_type": "execute_result"
    }
   ],
   "source": [
    "# Build regression_metrics for main routes\n",
    "main_spots = [1008, 4025, 6004, 12007, 11017, 15013, 3021, 8001, 5001, 11003, 4016]\n",
    "rides_main_routes = simulated_rides[(simulated_rides[\"pickup_address\"].isin(main_spots)) & (simulated_rides[\"dropoff_address\"].isin(main_spots))]\n",
    "regression_metrics_main_routes = fa.getRegressionMetrics(rides_main_routes, edges, 100, 1000)\n",
    "regression_metrics_main_routes"
   ]
  },
  {
   "cell_type": "code",
   "execution_count": 20,
   "metadata": {},
   "outputs": [],
   "source": [
    "needed_rides_main_routes = fa.get_rides_num(2, regression_metrics_main_routes, \"avg_w/o_drones\")"
   ]
  },
  {
   "cell_type": "code",
   "execution_count": 21,
   "metadata": {},
   "outputs": [
    {
     "data": {
      "application/vnd.plotly.v1+json": {
       "config": {
        "plotlyServerURL": "https://plot.ly"
       },
       "data": [
        {
         "hovertemplate": "avg_w/o_drones=%{x}<br>#_simulated_rides=%{y}<extra></extra>",
         "legendgroup": "",
         "marker": {
          "color": "DarkKhaki",
          "symbol": "circle"
         },
         "mode": "markers",
         "name": "Simulated Rides Data",
         "orientation": "v",
         "showlegend": false,
         "type": "scatter",
         "x": [
          42.47816708882252,
          67.5657460583078,
          62.76978332469559,
          37.19623060334306,
          54.15892141643912,
          53.461980762898285,
          36.998725741651626,
          32.04533132916844,
          29.14396214773841,
          26.573584051934247,
          26.375005229977923,
          26.64243293125702,
          22.738283760735943,
          23.02827149327936,
          31.47469276271412,
          21.223707959322706,
          20.123869404201496,
          22.44264390853282,
          20.01999443555221,
          18.43225865782999,
          24.450487493273123,
          22.74334285969321,
          18.05862686207404,
          21.67412542232977,
          23.221655466232626,
          17.77999805818425,
          20.620324706142085,
          17.8050608225943,
          16.03409275131659,
          13.3262185393147,
          14.86295476032075,
          12.869597356334602,
          12.370472577046328,
          12.714421331486252,
          13.004304144117341,
          11.902076379217798,
          13.173257188510156,
          12.304579522707064,
          9.9302846839225,
          11.777301436203667,
          10.531451751765623,
          12.29207885046229,
          11.568966949600544,
          10.09696285993896,
          11.084937709389513,
          10.17714364075257,
          9.265941199054513,
          10.487656835652423,
          12.805257927938131,
          11.111204979261721,
          8.417250348644645,
          8.720910949985292,
          9.341980142425122,
          8.836662215738635,
          7.831319400449546,
          10.128187211246505,
          8.540142223535831,
          8.34003110235039,
          8.86199112185861,
          7.411538210021208,
          8.021055890157978,
          7.153809956029601,
          6.631295662580348,
          7.643507100062354,
          7.947363841319055,
          8.293900892085581,
          7.880476528408226,
          6.68954912992219,
          7.27108592790965,
          7.036193309420409,
          7.283578994927086,
          6.981678684097292,
          6.3728358345685425,
          6.202829759989428,
          5.9837431950059,
          6.588009379014029,
          5.980667783579002,
          6.049062610753426,
          6.28264870175729,
          6.1305576381417595,
          7.025488609841713,
          6.547973142313707,
          6.038322660072026,
          6.516629787731256,
          6.306046523848583,
          6.22716904024218,
          5.844433430060309,
          6.063744527466855,
          5.578274798573275,
          5.76742311571402,
          5.295204340426841,
          5.78591823709009,
          5.010267367432164,
          5.340338435911379,
          4.912772250253707,
          5.155340597560503,
          4.952450362410409,
          5.3232877545177635,
          5.157101996723992,
          4.753329862476861,
          5.729045182149542,
          5.114838079124476,
          4.828065378236082,
          5.164589759830427,
          5.002936603957827,
          4.732976474731711,
          4.667728448437266,
          4.8591456907840636,
          4.905050813537162,
          4.598156667420375,
          4.60407999689397,
          5.289063183017959,
          4.635051061912478,
          4.205994981767958,
          4.425071375712279,
          4.586159668418892,
          4.516446016370396,
          4.458941527219141,
          4.112570714956126,
          4.046084542502163,
          4.261515159205998,
          4.363041385721559,
          4.2188199936683075,
          4.5320319077711195,
          3.972475762081641,
          4.0103734472831,
          3.846653740386648,
          4.058878143593351,
          4.073528677885634,
          4.0179405462677895,
          3.909571840575065,
          4.148584419522184,
          3.90936349551385,
          3.8017663235787196,
          3.7760765698576657,
          3.8587005782141537,
          3.763768903304146,
          3.722475001205717,
          3.7341835168842614,
          3.756155696318185,
          3.8251482050573697,
          3.547833180131589,
          3.7225029915109085,
          3.6746031656309053,
          3.5691506064690866,
          3.662111757644384,
          3.589231279750972,
          3.4475173173898503,
          3.5874087007375937,
          3.6380060158784993,
          3.5224720236110607,
          3.4216388764080996,
          3.369584468239193,
          3.511448864204851,
          3.4293378818359876,
          3.397623578877739,
          3.358964298192358,
          3.315843681442708,
          3.3043664206204344
         ],
         "xaxis": "x",
         "y": [
          90.9090909090909,
          100,
          109.0909090909091,
          118.18181818181819,
          127.27272727272727,
          136.36363636363637,
          145.45454545454547,
          154.54545454545453,
          163.63636363636363,
          172.72727272727272,
          181.8181818181818,
          190.9090909090909,
          200,
          209.0909090909091,
          218.1818181818182,
          227.27272727272728,
          236.36363636363637,
          245.45454545454547,
          254.54545454545453,
          263.6363636363636,
          272.72727272727275,
          281.8181818181818,
          290.90909090909093,
          300,
          309.09090909090907,
          318.1818181818182,
          327.27272727272725,
          336.3636363636364,
          345.45454545454544,
          354.54545454545456,
          363.6363636363636,
          372.72727272727275,
          381.8181818181818,
          390.90909090909093,
          400,
          409.09090909090907,
          418.1818181818182,
          427.27272727272725,
          436.3636363636364,
          445.45454545454544,
          454.54545454545456,
          463.6363636363636,
          472.72727272727275,
          481.8181818181818,
          490.90909090909093,
          500,
          509.09090909090907,
          518.1818181818181,
          527.2727272727273,
          536.3636363636364,
          545.4545454545455,
          554.5454545454545,
          563.6363636363636,
          572.7272727272727,
          581.8181818181819,
          590.9090909090909,
          600,
          609.0909090909091,
          618.1818181818181,
          627.2727272727273,
          636.3636363636364,
          645.4545454545455,
          654.5454545454545,
          663.6363636363636,
          672.7272727272727,
          681.8181818181819,
          690.9090909090909,
          700,
          709.0909090909091,
          718.1818181818181,
          727.2727272727273,
          736.3636363636364,
          745.4545454545455,
          754.5454545454545,
          763.6363636363636,
          772.7272727272727,
          781.8181818181819,
          790.9090909090909,
          800,
          809.0909090909091,
          818.1818181818181,
          827.2727272727273,
          836.3636363636364,
          845.4545454545455,
          854.5454545454545,
          863.6363636363636,
          872.7272727272727,
          881.8181818181819,
          890.9090909090909,
          900,
          909.0909090909091,
          918.1818181818181,
          927.2727272727273,
          936.3636363636364,
          945.4545454545455,
          954.5454545454545,
          963.6363636363636,
          972.7272727272727,
          981.8181818181819,
          990.9090909090909,
          1000,
          1009.0909090909091,
          1018.1818181818181,
          1027.2727272727273,
          1036.3636363636363,
          1045.4545454545455,
          1054.5454545454545,
          1063.6363636363637,
          1072.7272727272727,
          1081.8181818181818,
          1090.909090909091,
          1100,
          1109.090909090909,
          1118.1818181818182,
          1127.2727272727273,
          1136.3636363636363,
          1145.4545454545455,
          1154.5454545454545,
          1163.6363636363637,
          1172.7272727272727,
          1181.8181818181818,
          1190.909090909091,
          1200,
          1209.090909090909,
          1218.1818181818182,
          1227.2727272727273,
          1236.3636363636363,
          1245.4545454545455,
          1254.5454545454545,
          1263.6363636363637,
          1272.7272727272727,
          1281.8181818181818,
          1290.909090909091,
          1300,
          1309.090909090909,
          1318.1818181818182,
          1327.2727272727273,
          1336.3636363636363,
          1345.4545454545455,
          1354.5454545454545,
          1363.6363636363637,
          1372.7272727272727,
          1381.8181818181818,
          1390.909090909091,
          1400,
          1409.090909090909,
          1418.1818181818182,
          1427.2727272727273,
          1436.3636363636363,
          1445.4545454545455,
          1454.5454545454545,
          1463.6363636363637,
          1472.7272727272727,
          1481.8181818181818,
          1490.909090909091,
          1500,
          1509.090909090909,
          1518.1818181818182,
          1527.2727272727273
         ],
         "yaxis": "y"
        },
        {
         "hovertemplate": "x=%{x}<br>y=%{y}<extra></extra>",
         "legendgroup": "",
         "line": {
          "color": "DarkCyan",
          "dash": "solid"
         },
         "marker": {
          "symbol": "circle"
         },
         "mode": "lines",
         "name": "Regression of Rides Data",
         "orientation": "v",
         "showlegend": false,
         "type": "scatter",
         "x": [
          42.47816708882252,
          67.5657460583078,
          62.76978332469559,
          37.19623060334306,
          54.15892141643912,
          53.461980762898285,
          36.998725741651626,
          32.04533132916844,
          29.14396214773841,
          26.573584051934247,
          26.375005229977923,
          26.64243293125702,
          22.738283760735943,
          23.02827149327936,
          31.47469276271412,
          21.223707959322706,
          20.123869404201496,
          22.44264390853282,
          20.01999443555221,
          18.43225865782999,
          24.450487493273123,
          22.74334285969321,
          18.05862686207404,
          21.67412542232977,
          23.221655466232626,
          17.77999805818425,
          20.620324706142085,
          17.8050608225943,
          16.03409275131659,
          13.3262185393147,
          14.86295476032075,
          12.869597356334602,
          12.370472577046328,
          12.714421331486252,
          13.004304144117341,
          11.902076379217798,
          13.173257188510156,
          12.304579522707064,
          9.9302846839225,
          11.777301436203667,
          10.531451751765623,
          12.29207885046229,
          11.568966949600544,
          10.09696285993896,
          11.084937709389513,
          10.17714364075257,
          9.265941199054513,
          10.487656835652423,
          12.805257927938131,
          11.111204979261721,
          8.417250348644645,
          8.720910949985292,
          9.341980142425122,
          8.836662215738635,
          7.831319400449546,
          10.128187211246505,
          8.540142223535831,
          8.34003110235039,
          8.86199112185861,
          7.411538210021208,
          8.021055890157978,
          7.153809956029601,
          6.631295662580348,
          7.643507100062354,
          7.947363841319055,
          8.293900892085581,
          7.880476528408226,
          6.68954912992219,
          7.27108592790965,
          7.036193309420409,
          7.283578994927086,
          6.981678684097292,
          6.3728358345685425,
          6.202829759989428,
          5.9837431950059,
          6.588009379014029,
          5.980667783579002,
          6.049062610753426,
          6.28264870175729,
          6.1305576381417595,
          7.025488609841713,
          6.547973142313707,
          6.038322660072026,
          6.516629787731256,
          6.306046523848583,
          6.22716904024218,
          5.844433430060309,
          6.063744527466855,
          5.578274798573275,
          5.76742311571402,
          5.295204340426841,
          5.78591823709009,
          5.010267367432164,
          5.340338435911379,
          4.912772250253707,
          5.155340597560503,
          4.952450362410409,
          5.3232877545177635,
          5.157101996723992,
          4.753329862476861,
          5.729045182149542,
          5.114838079124476,
          4.828065378236082,
          5.164589759830427,
          5.002936603957827,
          4.732976474731711,
          4.667728448437266,
          4.8591456907840636,
          4.905050813537162,
          4.598156667420375,
          4.60407999689397,
          5.289063183017959,
          4.635051061912478,
          4.205994981767958,
          4.425071375712279,
          4.586159668418892,
          4.516446016370396,
          4.458941527219141,
          4.112570714956126,
          4.046084542502163,
          4.261515159205998,
          4.363041385721559,
          4.2188199936683075,
          4.5320319077711195,
          3.972475762081641,
          4.0103734472831,
          3.846653740386648,
          4.058878143593351,
          4.073528677885634,
          4.0179405462677895,
          3.909571840575065,
          4.148584419522184,
          3.90936349551385,
          3.8017663235787196,
          3.7760765698576657,
          3.8587005782141537,
          3.763768903304146,
          3.722475001205717,
          3.7341835168842614,
          3.756155696318185,
          3.8251482050573697,
          3.547833180131589,
          3.7225029915109085,
          3.6746031656309053,
          3.5691506064690866,
          3.662111757644384,
          3.589231279750972,
          3.4475173173898503,
          3.5874087007375937,
          3.6380060158784993,
          3.5224720236110607,
          3.4216388764080996,
          3.369584468239193,
          3.511448864204851,
          3.4293378818359876,
          3.397623578877739,
          3.358964298192358,
          3.315843681442708,
          3.3043664206204344
         ],
         "xaxis": "x",
         "y": [
          142.2746868879658,
          99.92861908213672,
          105.40364620919718,
          158.48481059658297,
          117.6706456447173,
          118.83661593286888,
          159.18090570356435,
          179.45189398853836,
          194.53396757813607,
          210.65483328162009,
          212.03141783803585,
          210.18236510537463,
          241.50876941474417,
          238.81551891941126,
          182.1980158808401,
          256.7757748978511,
          269.30812161316135,
          244.32641250496818,
          270.5631919748157,
          291.51509754604194,
          226.53467967928373,
          241.46119254646692,
          296.98340536694013,
          252.01182000764675,
          237.05698417242093,
          301.2115487816409,
          263.4849942445071,
          300.82578560552065,
          331.06693255236314,
          392.93904287095575,
          355.0448913993896,
          405.9534294441255,
          421.28528449570877,
          410.5903053138027,
          402.0184710162612,
          436.8505345106969,
          397.1975776074214,
          423.4028887742861,
          518.6036741536373,
          441.2071492963332,
          490.41042931378615,
          423.80720114737414,
          448.69217717605716,
          510.44790111296606,
          467.17621549736214,
          506.6204526839683,
          554.0509259247847,
          492.35433271605507,
          407.86225978053335,
          466.1315078069383,
          607.5500738418123,
          587.2010794815069,
          549.7360879105872,
          579.8157417956354,
          651.3195271186705,
          508.95013901295897,
          599.1388922658734,
          612.9632534136545,
          578.2256233857042,
          686.9776204831869,
          636.4391511696813,
          710.9662930072336,
          765.3905586211768,
          666.7840133415375,
          642.1333426099663,
          616.2455954676116,
          647.3948468491581,
          758.8969396730499,
          699.8374253086586,
          722.5042384355038,
          698.6732488266098,
          727.9853360112902,
          795.6509823472261,
          816.9475384430407,
          846.2003548643916,
          770.2910131165263,
          846.6264426811904,
          837.2542197606381,
          806.8033454552424,
          826.3633879718582,
          723.573741209013,
          774.8818948949811,
          838.7116932867793,
          778.5158208449502,
          803.8789919697738,
          813.8263524913054,
          865.9571888551727,
          835.2702596404779,
          906.4858978182674,
          877.2939530347976,
          954.1268436737628,
          874.54335956039,
          1007.6036197918038,
          946.1873383071761,
          1027.3485488153528,
          979.6264769225381,
          1019.2175524500708,
          949.1706547399081,
          979.2966123647129,
          1061.413407102711,
          883.0589520681096,
          987.2751879392927,
          1045.1614813386877,
          977.896897167182,
          1009.0610867277101,
          1065.9298330435959,
          1080.6783797379321,
          1038.552335973931,
          1028.9463910630548,
          1096.8732083399882,
          1095.474997632704,
          955.2177582149525,
          1088.223408174239,
          1198.3684588147771,
          1139.4123281013235,
          1099.716372438601,
          1116.5418721662209,
          1130.8236073064727,
          1225.4569162032203,
          1245.5113060462609,
          1182.8433176168437,
          1155.4937055856935,
          1194.7452251865507,
          1112.734488799626,
          1268.5125684410377,
          1256.562792708246,
          1309.909353997744,
          1241.6003067222118,
          1237.152397524591,
          1254.2042849770733,
          1288.8688846779114,
          1214.8674726084246,
          1288.9374174286168,
          1325.3546069179429,
          1334.3628063820943,
          1305.826576198182,
          1338.7230083431277,
          1353.567166613153,
          1349.324192188251,
          1341.434720082194,
          1317.2630065386293,
          1420.2521448533298,
          1353.5569908872058,
          1371.2024167732743,
          1411.7549794912738,
          1375.8815327287339,
          1403.8451214425586,
          1461.6810764693619,
          1404.5593089956965,
          1385.004016610601,
          1430.4980897990645,
          1472.7716744565041,
          1495.6083441205083,
          1434.9986365212753,
          1469.454258095975,
          1483.2184187931052,
          1500.3564573496296,
          1519.9548538115705,
          1525.2595241075906
         ],
         "yaxis": "y"
        },
        {
         "hovertemplate": "x=%{x}<br>y=%{y}<extra></extra>",
         "legendgroup": "",
         "line": {
          "color": "tomato",
          "dash": "solid"
         },
         "marker": {
          "symbol": "circle"
         },
         "mode": "lines",
         "name": "Max Days for Delivery",
         "orientation": "v",
         "showlegend": false,
         "type": "scatter",
         "x": [
          2,
          2
         ],
         "xaxis": "x",
         "y": [
          0,
          2540.4627317937193
         ],
         "yaxis": "y"
        },
        {
         "hovertemplate": "x=%{x}<br>y=%{y}<extra></extra>",
         "legendgroup": "",
         "line": {
          "color": "tomato",
          "dash": "solid"
         },
         "marker": {
          "symbol": "circle"
         },
         "mode": "lines",
         "name": "",
         "orientation": "v",
         "showlegend": false,
         "type": "scatter",
         "x": [
          0,
          2
         ],
         "xaxis": "x",
         "y": [
          2540.4627317937193,
          2540.4627317937193
         ],
         "yaxis": "y"
        }
       ],
       "layout": {
        "legend": {
         "tracegroupgap": 0
        },
        "template": {
         "data": {
          "bar": [
           {
            "error_x": {
             "color": "#2a3f5f"
            },
            "error_y": {
             "color": "#2a3f5f"
            },
            "marker": {
             "line": {
              "color": "#E5ECF6",
              "width": 0.5
             },
             "pattern": {
              "fillmode": "overlay",
              "size": 10,
              "solidity": 0.2
             }
            },
            "type": "bar"
           }
          ],
          "barpolar": [
           {
            "marker": {
             "line": {
              "color": "#E5ECF6",
              "width": 0.5
             },
             "pattern": {
              "fillmode": "overlay",
              "size": 10,
              "solidity": 0.2
             }
            },
            "type": "barpolar"
           }
          ],
          "carpet": [
           {
            "aaxis": {
             "endlinecolor": "#2a3f5f",
             "gridcolor": "white",
             "linecolor": "white",
             "minorgridcolor": "white",
             "startlinecolor": "#2a3f5f"
            },
            "baxis": {
             "endlinecolor": "#2a3f5f",
             "gridcolor": "white",
             "linecolor": "white",
             "minorgridcolor": "white",
             "startlinecolor": "#2a3f5f"
            },
            "type": "carpet"
           }
          ],
          "choropleth": [
           {
            "colorbar": {
             "outlinewidth": 0,
             "ticks": ""
            },
            "type": "choropleth"
           }
          ],
          "contour": [
           {
            "colorbar": {
             "outlinewidth": 0,
             "ticks": ""
            },
            "colorscale": [
             [
              0,
              "#0d0887"
             ],
             [
              0.1111111111111111,
              "#46039f"
             ],
             [
              0.2222222222222222,
              "#7201a8"
             ],
             [
              0.3333333333333333,
              "#9c179e"
             ],
             [
              0.4444444444444444,
              "#bd3786"
             ],
             [
              0.5555555555555556,
              "#d8576b"
             ],
             [
              0.6666666666666666,
              "#ed7953"
             ],
             [
              0.7777777777777778,
              "#fb9f3a"
             ],
             [
              0.8888888888888888,
              "#fdca26"
             ],
             [
              1,
              "#f0f921"
             ]
            ],
            "type": "contour"
           }
          ],
          "contourcarpet": [
           {
            "colorbar": {
             "outlinewidth": 0,
             "ticks": ""
            },
            "type": "contourcarpet"
           }
          ],
          "heatmap": [
           {
            "colorbar": {
             "outlinewidth": 0,
             "ticks": ""
            },
            "colorscale": [
             [
              0,
              "#0d0887"
             ],
             [
              0.1111111111111111,
              "#46039f"
             ],
             [
              0.2222222222222222,
              "#7201a8"
             ],
             [
              0.3333333333333333,
              "#9c179e"
             ],
             [
              0.4444444444444444,
              "#bd3786"
             ],
             [
              0.5555555555555556,
              "#d8576b"
             ],
             [
              0.6666666666666666,
              "#ed7953"
             ],
             [
              0.7777777777777778,
              "#fb9f3a"
             ],
             [
              0.8888888888888888,
              "#fdca26"
             ],
             [
              1,
              "#f0f921"
             ]
            ],
            "type": "heatmap"
           }
          ],
          "heatmapgl": [
           {
            "colorbar": {
             "outlinewidth": 0,
             "ticks": ""
            },
            "colorscale": [
             [
              0,
              "#0d0887"
             ],
             [
              0.1111111111111111,
              "#46039f"
             ],
             [
              0.2222222222222222,
              "#7201a8"
             ],
             [
              0.3333333333333333,
              "#9c179e"
             ],
             [
              0.4444444444444444,
              "#bd3786"
             ],
             [
              0.5555555555555556,
              "#d8576b"
             ],
             [
              0.6666666666666666,
              "#ed7953"
             ],
             [
              0.7777777777777778,
              "#fb9f3a"
             ],
             [
              0.8888888888888888,
              "#fdca26"
             ],
             [
              1,
              "#f0f921"
             ]
            ],
            "type": "heatmapgl"
           }
          ],
          "histogram": [
           {
            "marker": {
             "pattern": {
              "fillmode": "overlay",
              "size": 10,
              "solidity": 0.2
             }
            },
            "type": "histogram"
           }
          ],
          "histogram2d": [
           {
            "colorbar": {
             "outlinewidth": 0,
             "ticks": ""
            },
            "colorscale": [
             [
              0,
              "#0d0887"
             ],
             [
              0.1111111111111111,
              "#46039f"
             ],
             [
              0.2222222222222222,
              "#7201a8"
             ],
             [
              0.3333333333333333,
              "#9c179e"
             ],
             [
              0.4444444444444444,
              "#bd3786"
             ],
             [
              0.5555555555555556,
              "#d8576b"
             ],
             [
              0.6666666666666666,
              "#ed7953"
             ],
             [
              0.7777777777777778,
              "#fb9f3a"
             ],
             [
              0.8888888888888888,
              "#fdca26"
             ],
             [
              1,
              "#f0f921"
             ]
            ],
            "type": "histogram2d"
           }
          ],
          "histogram2dcontour": [
           {
            "colorbar": {
             "outlinewidth": 0,
             "ticks": ""
            },
            "colorscale": [
             [
              0,
              "#0d0887"
             ],
             [
              0.1111111111111111,
              "#46039f"
             ],
             [
              0.2222222222222222,
              "#7201a8"
             ],
             [
              0.3333333333333333,
              "#9c179e"
             ],
             [
              0.4444444444444444,
              "#bd3786"
             ],
             [
              0.5555555555555556,
              "#d8576b"
             ],
             [
              0.6666666666666666,
              "#ed7953"
             ],
             [
              0.7777777777777778,
              "#fb9f3a"
             ],
             [
              0.8888888888888888,
              "#fdca26"
             ],
             [
              1,
              "#f0f921"
             ]
            ],
            "type": "histogram2dcontour"
           }
          ],
          "mesh3d": [
           {
            "colorbar": {
             "outlinewidth": 0,
             "ticks": ""
            },
            "type": "mesh3d"
           }
          ],
          "parcoords": [
           {
            "line": {
             "colorbar": {
              "outlinewidth": 0,
              "ticks": ""
             }
            },
            "type": "parcoords"
           }
          ],
          "pie": [
           {
            "automargin": true,
            "type": "pie"
           }
          ],
          "scatter": [
           {
            "fillpattern": {
             "fillmode": "overlay",
             "size": 10,
             "solidity": 0.2
            },
            "type": "scatter"
           }
          ],
          "scatter3d": [
           {
            "line": {
             "colorbar": {
              "outlinewidth": 0,
              "ticks": ""
             }
            },
            "marker": {
             "colorbar": {
              "outlinewidth": 0,
              "ticks": ""
             }
            },
            "type": "scatter3d"
           }
          ],
          "scattercarpet": [
           {
            "marker": {
             "colorbar": {
              "outlinewidth": 0,
              "ticks": ""
             }
            },
            "type": "scattercarpet"
           }
          ],
          "scattergeo": [
           {
            "marker": {
             "colorbar": {
              "outlinewidth": 0,
              "ticks": ""
             }
            },
            "type": "scattergeo"
           }
          ],
          "scattergl": [
           {
            "marker": {
             "colorbar": {
              "outlinewidth": 0,
              "ticks": ""
             }
            },
            "type": "scattergl"
           }
          ],
          "scattermapbox": [
           {
            "marker": {
             "colorbar": {
              "outlinewidth": 0,
              "ticks": ""
             }
            },
            "type": "scattermapbox"
           }
          ],
          "scatterpolar": [
           {
            "marker": {
             "colorbar": {
              "outlinewidth": 0,
              "ticks": ""
             }
            },
            "type": "scatterpolar"
           }
          ],
          "scatterpolargl": [
           {
            "marker": {
             "colorbar": {
              "outlinewidth": 0,
              "ticks": ""
             }
            },
            "type": "scatterpolargl"
           }
          ],
          "scatterternary": [
           {
            "marker": {
             "colorbar": {
              "outlinewidth": 0,
              "ticks": ""
             }
            },
            "type": "scatterternary"
           }
          ],
          "surface": [
           {
            "colorbar": {
             "outlinewidth": 0,
             "ticks": ""
            },
            "colorscale": [
             [
              0,
              "#0d0887"
             ],
             [
              0.1111111111111111,
              "#46039f"
             ],
             [
              0.2222222222222222,
              "#7201a8"
             ],
             [
              0.3333333333333333,
              "#9c179e"
             ],
             [
              0.4444444444444444,
              "#bd3786"
             ],
             [
              0.5555555555555556,
              "#d8576b"
             ],
             [
              0.6666666666666666,
              "#ed7953"
             ],
             [
              0.7777777777777778,
              "#fb9f3a"
             ],
             [
              0.8888888888888888,
              "#fdca26"
             ],
             [
              1,
              "#f0f921"
             ]
            ],
            "type": "surface"
           }
          ],
          "table": [
           {
            "cells": {
             "fill": {
              "color": "#EBF0F8"
             },
             "line": {
              "color": "white"
             }
            },
            "header": {
             "fill": {
              "color": "#C8D4E3"
             },
             "line": {
              "color": "white"
             }
            },
            "type": "table"
           }
          ]
         },
         "layout": {
          "annotationdefaults": {
           "arrowcolor": "#2a3f5f",
           "arrowhead": 0,
           "arrowwidth": 1
          },
          "autotypenumbers": "strict",
          "coloraxis": {
           "colorbar": {
            "outlinewidth": 0,
            "ticks": ""
           }
          },
          "colorscale": {
           "diverging": [
            [
             0,
             "#8e0152"
            ],
            [
             0.1,
             "#c51b7d"
            ],
            [
             0.2,
             "#de77ae"
            ],
            [
             0.3,
             "#f1b6da"
            ],
            [
             0.4,
             "#fde0ef"
            ],
            [
             0.5,
             "#f7f7f7"
            ],
            [
             0.6,
             "#e6f5d0"
            ],
            [
             0.7,
             "#b8e186"
            ],
            [
             0.8,
             "#7fbc41"
            ],
            [
             0.9,
             "#4d9221"
            ],
            [
             1,
             "#276419"
            ]
           ],
           "sequential": [
            [
             0,
             "#0d0887"
            ],
            [
             0.1111111111111111,
             "#46039f"
            ],
            [
             0.2222222222222222,
             "#7201a8"
            ],
            [
             0.3333333333333333,
             "#9c179e"
            ],
            [
             0.4444444444444444,
             "#bd3786"
            ],
            [
             0.5555555555555556,
             "#d8576b"
            ],
            [
             0.6666666666666666,
             "#ed7953"
            ],
            [
             0.7777777777777778,
             "#fb9f3a"
            ],
            [
             0.8888888888888888,
             "#fdca26"
            ],
            [
             1,
             "#f0f921"
            ]
           ],
           "sequentialminus": [
            [
             0,
             "#0d0887"
            ],
            [
             0.1111111111111111,
             "#46039f"
            ],
            [
             0.2222222222222222,
             "#7201a8"
            ],
            [
             0.3333333333333333,
             "#9c179e"
            ],
            [
             0.4444444444444444,
             "#bd3786"
            ],
            [
             0.5555555555555556,
             "#d8576b"
            ],
            [
             0.6666666666666666,
             "#ed7953"
            ],
            [
             0.7777777777777778,
             "#fb9f3a"
            ],
            [
             0.8888888888888888,
             "#fdca26"
            ],
            [
             1,
             "#f0f921"
            ]
           ]
          },
          "colorway": [
           "#636efa",
           "#EF553B",
           "#00cc96",
           "#ab63fa",
           "#FFA15A",
           "#19d3f3",
           "#FF6692",
           "#B6E880",
           "#FF97FF",
           "#FECB52"
          ],
          "font": {
           "color": "#2a3f5f"
          },
          "geo": {
           "bgcolor": "white",
           "lakecolor": "white",
           "landcolor": "#E5ECF6",
           "showlakes": true,
           "showland": true,
           "subunitcolor": "white"
          },
          "hoverlabel": {
           "align": "left"
          },
          "hovermode": "closest",
          "mapbox": {
           "style": "light"
          },
          "paper_bgcolor": "white",
          "plot_bgcolor": "#E5ECF6",
          "polar": {
           "angularaxis": {
            "gridcolor": "white",
            "linecolor": "white",
            "ticks": ""
           },
           "bgcolor": "#E5ECF6",
           "radialaxis": {
            "gridcolor": "white",
            "linecolor": "white",
            "ticks": ""
           }
          },
          "scene": {
           "xaxis": {
            "backgroundcolor": "#E5ECF6",
            "gridcolor": "white",
            "gridwidth": 2,
            "linecolor": "white",
            "showbackground": true,
            "ticks": "",
            "zerolinecolor": "white"
           },
           "yaxis": {
            "backgroundcolor": "#E5ECF6",
            "gridcolor": "white",
            "gridwidth": 2,
            "linecolor": "white",
            "showbackground": true,
            "ticks": "",
            "zerolinecolor": "white"
           },
           "zaxis": {
            "backgroundcolor": "#E5ECF6",
            "gridcolor": "white",
            "gridwidth": 2,
            "linecolor": "white",
            "showbackground": true,
            "ticks": "",
            "zerolinecolor": "white"
           }
          },
          "shapedefaults": {
           "line": {
            "color": "#2a3f5f"
           }
          },
          "ternary": {
           "aaxis": {
            "gridcolor": "white",
            "linecolor": "white",
            "ticks": ""
           },
           "baxis": {
            "gridcolor": "white",
            "linecolor": "white",
            "ticks": ""
           },
           "bgcolor": "#E5ECF6",
           "caxis": {
            "gridcolor": "white",
            "linecolor": "white",
            "ticks": ""
           }
          },
          "title": {
           "x": 0.05
          },
          "xaxis": {
           "automargin": true,
           "gridcolor": "white",
           "linecolor": "white",
           "ticks": "",
           "title": {
            "standoff": 15
           },
           "zerolinecolor": "white",
           "zerolinewidth": 2
          },
          "yaxis": {
           "automargin": true,
           "gridcolor": "white",
           "linecolor": "white",
           "ticks": "",
           "title": {
            "standoff": 15
           },
           "zerolinecolor": "white",
           "zerolinewidth": 2
          }
         }
        },
        "title": {
         "text": "Break Even of Rides"
        },
        "xaxis": {
         "anchor": "y",
         "domain": [
          0,
          1
         ],
         "range": [
          0,
          20
         ],
         "title": {
          "text": "avg_w/o_drones"
         }
        },
        "yaxis": {
         "anchor": "x",
         "domain": [
          0,
          1
         ],
         "title": {
          "text": "#_simulated_rides"
         }
        }
       }
      }
     },
     "metadata": {},
     "output_type": "display_data"
    }
   ],
   "source": [
    "needed_rides_fig1 = px.scatter(\n",
    "    regression_metrics_main_routes,\n",
    "    x=\"avg_w/o_drones\",\n",
    "    y=\"#_simulated_rides\",\n",
    "    color_discrete_sequence=[\"DarkKhaki\"],\n",
    "    title=\"Break Even of Rides\",\n",
    "    range_x=[0, 20],\n",
    ")\n",
    "needed_rides_fig1[\"data\"][0][\"name\"] = \"Simulated Rides Data\"\n",
    "needed_rides_fig1[\"data\"][0][\"showlegend\"] = False\n",
    "# Line Plot of Regressed Data\n",
    "needed_rides_fig2 = px.line(\n",
    "    x=regression_metrics_main_routes[\"avg_w/o_drones\"],\n",
    "    y=fa.regression_function(\n",
    "        regression_metrics_main_routes[\"avg_w/o_drones\"],\n",
    "        *fa.get_opt_parameter(regression_metrics_main_routes, \"avg_w/o_drones\"),\n",
    "    ),\n",
    "    color_discrete_sequence=[\"DarkCyan\"],\n",
    "    range_x=[0, 20],\n",
    ")\n",
    "needed_rides_fig2[\"data\"][0][\"name\"] = \"Regression of Rides Data\"\n",
    "needed_rides_fig2[\"data\"][0][\"showlegend\"] = False\n",
    "# Line Plot working as cursor for current max days\n",
    "needed_rides_fig3 = px.line(\n",
    "    x=[2, 2], y=[0, needed_rides_main_routes], color_discrete_sequence=[\"tomato\"]\n",
    ")\n",
    "needed_rides_fig3[\"data\"][0][\"name\"] = \"Max Days for Delivery\"\n",
    "needed_rides_fig3[\"data\"][0][\"showlegend\"] = False\n",
    "needed_rides_fig4 = px.line(\n",
    "    x=[0, 2],\n",
    "    y=[needed_rides_main_routes, needed_rides_main_routes],\n",
    "    color_discrete_sequence=[\"tomato\"],\n",
    ")\n",
    "\n",
    "needed_rides_fig = go.Figure(\n",
    "    data=needed_rides_fig1.data\n",
    "    + needed_rides_fig2.data\n",
    "    + needed_rides_fig3.data\n",
    "    + needed_rides_fig4.data,\n",
    "    layout=needed_rides_fig1.layout,\n",
    ")\n",
    "needed_rides_fig"
   ]
  },
  {
   "cell_type": "code",
   "execution_count": 22,
   "metadata": {},
   "outputs": [
    {
     "data": {
      "application/vnd.plotly.v1+json": {
       "config": {
        "plotlyServerURL": "https://plot.ly"
       },
       "data": [
        {
         "alignmentgroup": "True",
         "hovertemplate": "hour=%{x}<br>drives=%{y}<extra></extra>",
         "legendgroup": "",
         "marker": {
          "color": "#636efa",
          "pattern": {
           "shape": ""
          }
         },
         "name": "",
         "offsetgroup": "",
         "orientation": "v",
         "showlegend": false,
         "textposition": "auto",
         "type": "bar",
         "x": [
          0,
          1,
          2,
          3,
          4,
          5,
          6,
          7,
          8,
          9,
          10,
          11,
          12,
          13,
          14,
          15,
          16,
          17,
          18,
          19,
          20,
          21,
          22,
          23
         ],
         "xaxis": "x",
         "y": [
          0.4741935483870967,
          0.11290322580645161,
          0,
          0,
          0,
          0,
          0.022580645161290325,
          3.296774193548387,
          3.8387096774193545,
          3.2516129032258068,
          2.596774193548387,
          3.1612903225806455,
          2.6870967741935488,
          3.048387096774193,
          2.6193548387096772,
          3.048387096774193,
          4.1322580645161295,
          4.764516129032258,
          4.493548387096774,
          3.9967741935483874,
          3.703225806451613,
          3.3193548387096774,
          2.935483870967742,
          1.8516129032258064
         ],
         "yaxis": "y"
        }
       ],
       "layout": {
        "barmode": "relative",
        "legend": {
         "tracegroupgap": 0
        },
        "margin": {
         "t": 60
        },
        "template": {
         "data": {
          "bar": [
           {
            "error_x": {
             "color": "#2a3f5f"
            },
            "error_y": {
             "color": "#2a3f5f"
            },
            "marker": {
             "line": {
              "color": "#E5ECF6",
              "width": 0.5
             },
             "pattern": {
              "fillmode": "overlay",
              "size": 10,
              "solidity": 0.2
             }
            },
            "type": "bar"
           }
          ],
          "barpolar": [
           {
            "marker": {
             "line": {
              "color": "#E5ECF6",
              "width": 0.5
             },
             "pattern": {
              "fillmode": "overlay",
              "size": 10,
              "solidity": 0.2
             }
            },
            "type": "barpolar"
           }
          ],
          "carpet": [
           {
            "aaxis": {
             "endlinecolor": "#2a3f5f",
             "gridcolor": "white",
             "linecolor": "white",
             "minorgridcolor": "white",
             "startlinecolor": "#2a3f5f"
            },
            "baxis": {
             "endlinecolor": "#2a3f5f",
             "gridcolor": "white",
             "linecolor": "white",
             "minorgridcolor": "white",
             "startlinecolor": "#2a3f5f"
            },
            "type": "carpet"
           }
          ],
          "choropleth": [
           {
            "colorbar": {
             "outlinewidth": 0,
             "ticks": ""
            },
            "type": "choropleth"
           }
          ],
          "contour": [
           {
            "colorbar": {
             "outlinewidth": 0,
             "ticks": ""
            },
            "colorscale": [
             [
              0,
              "#0d0887"
             ],
             [
              0.1111111111111111,
              "#46039f"
             ],
             [
              0.2222222222222222,
              "#7201a8"
             ],
             [
              0.3333333333333333,
              "#9c179e"
             ],
             [
              0.4444444444444444,
              "#bd3786"
             ],
             [
              0.5555555555555556,
              "#d8576b"
             ],
             [
              0.6666666666666666,
              "#ed7953"
             ],
             [
              0.7777777777777778,
              "#fb9f3a"
             ],
             [
              0.8888888888888888,
              "#fdca26"
             ],
             [
              1,
              "#f0f921"
             ]
            ],
            "type": "contour"
           }
          ],
          "contourcarpet": [
           {
            "colorbar": {
             "outlinewidth": 0,
             "ticks": ""
            },
            "type": "contourcarpet"
           }
          ],
          "heatmap": [
           {
            "colorbar": {
             "outlinewidth": 0,
             "ticks": ""
            },
            "colorscale": [
             [
              0,
              "#0d0887"
             ],
             [
              0.1111111111111111,
              "#46039f"
             ],
             [
              0.2222222222222222,
              "#7201a8"
             ],
             [
              0.3333333333333333,
              "#9c179e"
             ],
             [
              0.4444444444444444,
              "#bd3786"
             ],
             [
              0.5555555555555556,
              "#d8576b"
             ],
             [
              0.6666666666666666,
              "#ed7953"
             ],
             [
              0.7777777777777778,
              "#fb9f3a"
             ],
             [
              0.8888888888888888,
              "#fdca26"
             ],
             [
              1,
              "#f0f921"
             ]
            ],
            "type": "heatmap"
           }
          ],
          "heatmapgl": [
           {
            "colorbar": {
             "outlinewidth": 0,
             "ticks": ""
            },
            "colorscale": [
             [
              0,
              "#0d0887"
             ],
             [
              0.1111111111111111,
              "#46039f"
             ],
             [
              0.2222222222222222,
              "#7201a8"
             ],
             [
              0.3333333333333333,
              "#9c179e"
             ],
             [
              0.4444444444444444,
              "#bd3786"
             ],
             [
              0.5555555555555556,
              "#d8576b"
             ],
             [
              0.6666666666666666,
              "#ed7953"
             ],
             [
              0.7777777777777778,
              "#fb9f3a"
             ],
             [
              0.8888888888888888,
              "#fdca26"
             ],
             [
              1,
              "#f0f921"
             ]
            ],
            "type": "heatmapgl"
           }
          ],
          "histogram": [
           {
            "marker": {
             "pattern": {
              "fillmode": "overlay",
              "size": 10,
              "solidity": 0.2
             }
            },
            "type": "histogram"
           }
          ],
          "histogram2d": [
           {
            "colorbar": {
             "outlinewidth": 0,
             "ticks": ""
            },
            "colorscale": [
             [
              0,
              "#0d0887"
             ],
             [
              0.1111111111111111,
              "#46039f"
             ],
             [
              0.2222222222222222,
              "#7201a8"
             ],
             [
              0.3333333333333333,
              "#9c179e"
             ],
             [
              0.4444444444444444,
              "#bd3786"
             ],
             [
              0.5555555555555556,
              "#d8576b"
             ],
             [
              0.6666666666666666,
              "#ed7953"
             ],
             [
              0.7777777777777778,
              "#fb9f3a"
             ],
             [
              0.8888888888888888,
              "#fdca26"
             ],
             [
              1,
              "#f0f921"
             ]
            ],
            "type": "histogram2d"
           }
          ],
          "histogram2dcontour": [
           {
            "colorbar": {
             "outlinewidth": 0,
             "ticks": ""
            },
            "colorscale": [
             [
              0,
              "#0d0887"
             ],
             [
              0.1111111111111111,
              "#46039f"
             ],
             [
              0.2222222222222222,
              "#7201a8"
             ],
             [
              0.3333333333333333,
              "#9c179e"
             ],
             [
              0.4444444444444444,
              "#bd3786"
             ],
             [
              0.5555555555555556,
              "#d8576b"
             ],
             [
              0.6666666666666666,
              "#ed7953"
             ],
             [
              0.7777777777777778,
              "#fb9f3a"
             ],
             [
              0.8888888888888888,
              "#fdca26"
             ],
             [
              1,
              "#f0f921"
             ]
            ],
            "type": "histogram2dcontour"
           }
          ],
          "mesh3d": [
           {
            "colorbar": {
             "outlinewidth": 0,
             "ticks": ""
            },
            "type": "mesh3d"
           }
          ],
          "parcoords": [
           {
            "line": {
             "colorbar": {
              "outlinewidth": 0,
              "ticks": ""
             }
            },
            "type": "parcoords"
           }
          ],
          "pie": [
           {
            "automargin": true,
            "type": "pie"
           }
          ],
          "scatter": [
           {
            "fillpattern": {
             "fillmode": "overlay",
             "size": 10,
             "solidity": 0.2
            },
            "type": "scatter"
           }
          ],
          "scatter3d": [
           {
            "line": {
             "colorbar": {
              "outlinewidth": 0,
              "ticks": ""
             }
            },
            "marker": {
             "colorbar": {
              "outlinewidth": 0,
              "ticks": ""
             }
            },
            "type": "scatter3d"
           }
          ],
          "scattercarpet": [
           {
            "marker": {
             "colorbar": {
              "outlinewidth": 0,
              "ticks": ""
             }
            },
            "type": "scattercarpet"
           }
          ],
          "scattergeo": [
           {
            "marker": {
             "colorbar": {
              "outlinewidth": 0,
              "ticks": ""
             }
            },
            "type": "scattergeo"
           }
          ],
          "scattergl": [
           {
            "marker": {
             "colorbar": {
              "outlinewidth": 0,
              "ticks": ""
             }
            },
            "type": "scattergl"
           }
          ],
          "scattermapbox": [
           {
            "marker": {
             "colorbar": {
              "outlinewidth": 0,
              "ticks": ""
             }
            },
            "type": "scattermapbox"
           }
          ],
          "scatterpolar": [
           {
            "marker": {
             "colorbar": {
              "outlinewidth": 0,
              "ticks": ""
             }
            },
            "type": "scatterpolar"
           }
          ],
          "scatterpolargl": [
           {
            "marker": {
             "colorbar": {
              "outlinewidth": 0,
              "ticks": ""
             }
            },
            "type": "scatterpolargl"
           }
          ],
          "scatterternary": [
           {
            "marker": {
             "colorbar": {
              "outlinewidth": 0,
              "ticks": ""
             }
            },
            "type": "scatterternary"
           }
          ],
          "surface": [
           {
            "colorbar": {
             "outlinewidth": 0,
             "ticks": ""
            },
            "colorscale": [
             [
              0,
              "#0d0887"
             ],
             [
              0.1111111111111111,
              "#46039f"
             ],
             [
              0.2222222222222222,
              "#7201a8"
             ],
             [
              0.3333333333333333,
              "#9c179e"
             ],
             [
              0.4444444444444444,
              "#bd3786"
             ],
             [
              0.5555555555555556,
              "#d8576b"
             ],
             [
              0.6666666666666666,
              "#ed7953"
             ],
             [
              0.7777777777777778,
              "#fb9f3a"
             ],
             [
              0.8888888888888888,
              "#fdca26"
             ],
             [
              1,
              "#f0f921"
             ]
            ],
            "type": "surface"
           }
          ],
          "table": [
           {
            "cells": {
             "fill": {
              "color": "#EBF0F8"
             },
             "line": {
              "color": "white"
             }
            },
            "header": {
             "fill": {
              "color": "#C8D4E3"
             },
             "line": {
              "color": "white"
             }
            },
            "type": "table"
           }
          ]
         },
         "layout": {
          "annotationdefaults": {
           "arrowcolor": "#2a3f5f",
           "arrowhead": 0,
           "arrowwidth": 1
          },
          "autotypenumbers": "strict",
          "coloraxis": {
           "colorbar": {
            "outlinewidth": 0,
            "ticks": ""
           }
          },
          "colorscale": {
           "diverging": [
            [
             0,
             "#8e0152"
            ],
            [
             0.1,
             "#c51b7d"
            ],
            [
             0.2,
             "#de77ae"
            ],
            [
             0.3,
             "#f1b6da"
            ],
            [
             0.4,
             "#fde0ef"
            ],
            [
             0.5,
             "#f7f7f7"
            ],
            [
             0.6,
             "#e6f5d0"
            ],
            [
             0.7,
             "#b8e186"
            ],
            [
             0.8,
             "#7fbc41"
            ],
            [
             0.9,
             "#4d9221"
            ],
            [
             1,
             "#276419"
            ]
           ],
           "sequential": [
            [
             0,
             "#0d0887"
            ],
            [
             0.1111111111111111,
             "#46039f"
            ],
            [
             0.2222222222222222,
             "#7201a8"
            ],
            [
             0.3333333333333333,
             "#9c179e"
            ],
            [
             0.4444444444444444,
             "#bd3786"
            ],
            [
             0.5555555555555556,
             "#d8576b"
            ],
            [
             0.6666666666666666,
             "#ed7953"
            ],
            [
             0.7777777777777778,
             "#fb9f3a"
            ],
            [
             0.8888888888888888,
             "#fdca26"
            ],
            [
             1,
             "#f0f921"
            ]
           ],
           "sequentialminus": [
            [
             0,
             "#0d0887"
            ],
            [
             0.1111111111111111,
             "#46039f"
            ],
            [
             0.2222222222222222,
             "#7201a8"
            ],
            [
             0.3333333333333333,
             "#9c179e"
            ],
            [
             0.4444444444444444,
             "#bd3786"
            ],
            [
             0.5555555555555556,
             "#d8576b"
            ],
            [
             0.6666666666666666,
             "#ed7953"
            ],
            [
             0.7777777777777778,
             "#fb9f3a"
            ],
            [
             0.8888888888888888,
             "#fdca26"
            ],
            [
             1,
             "#f0f921"
            ]
           ]
          },
          "colorway": [
           "#636efa",
           "#EF553B",
           "#00cc96",
           "#ab63fa",
           "#FFA15A",
           "#19d3f3",
           "#FF6692",
           "#B6E880",
           "#FF97FF",
           "#FECB52"
          ],
          "font": {
           "color": "#2a3f5f"
          },
          "geo": {
           "bgcolor": "white",
           "lakecolor": "white",
           "landcolor": "#E5ECF6",
           "showlakes": true,
           "showland": true,
           "subunitcolor": "white"
          },
          "hoverlabel": {
           "align": "left"
          },
          "hovermode": "closest",
          "mapbox": {
           "style": "light"
          },
          "paper_bgcolor": "white",
          "plot_bgcolor": "#E5ECF6",
          "polar": {
           "angularaxis": {
            "gridcolor": "white",
            "linecolor": "white",
            "ticks": ""
           },
           "bgcolor": "#E5ECF6",
           "radialaxis": {
            "gridcolor": "white",
            "linecolor": "white",
            "ticks": ""
           }
          },
          "scene": {
           "xaxis": {
            "backgroundcolor": "#E5ECF6",
            "gridcolor": "white",
            "gridwidth": 2,
            "linecolor": "white",
            "showbackground": true,
            "ticks": "",
            "zerolinecolor": "white"
           },
           "yaxis": {
            "backgroundcolor": "#E5ECF6",
            "gridcolor": "white",
            "gridwidth": 2,
            "linecolor": "white",
            "showbackground": true,
            "ticks": "",
            "zerolinecolor": "white"
           },
           "zaxis": {
            "backgroundcolor": "#E5ECF6",
            "gridcolor": "white",
            "gridwidth": 2,
            "linecolor": "white",
            "showbackground": true,
            "ticks": "",
            "zerolinecolor": "white"
           }
          },
          "shapedefaults": {
           "line": {
            "color": "#2a3f5f"
           }
          },
          "ternary": {
           "aaxis": {
            "gridcolor": "white",
            "linecolor": "white",
            "ticks": ""
           },
           "baxis": {
            "gridcolor": "white",
            "linecolor": "white",
            "ticks": ""
           },
           "bgcolor": "#E5ECF6",
           "caxis": {
            "gridcolor": "white",
            "linecolor": "white",
            "ticks": ""
           }
          },
          "title": {
           "x": 0.05
          },
          "xaxis": {
           "automargin": true,
           "gridcolor": "white",
           "linecolor": "white",
           "ticks": "",
           "title": {
            "standoff": 15
           },
           "zerolinecolor": "white",
           "zerolinewidth": 2
          },
          "yaxis": {
           "automargin": true,
           "gridcolor": "white",
           "linecolor": "white",
           "ticks": "",
           "title": {
            "standoff": 15
           },
           "zerolinecolor": "white",
           "zerolinewidth": 2
          }
         }
        },
        "xaxis": {
         "anchor": "y",
         "domain": [
          0,
          1
         ],
         "title": {
          "text": "hour"
         }
        },
        "yaxis": {
         "anchor": "x",
         "domain": [
          0,
          1
         ],
         "title": {
          "text": "drives"
         }
        }
       }
      }
     },
     "metadata": {},
     "output_type": "display_data"
    },
    {
     "data": {
      "application/vnd.plotly.v1+json": {
       "config": {
        "plotlyServerURL": "https://plot.ly"
       },
       "data": [
        {
         "alignmentgroup": "True",
         "hovertemplate": "hour=%{x}<br>drivers=%{y}<extra></extra>",
         "legendgroup": "",
         "marker": {
          "color": "#636efa",
          "pattern": {
           "shape": ""
          }
         },
         "name": "",
         "offsetgroup": "",
         "orientation": "v",
         "showlegend": false,
         "textposition": "auto",
         "type": "bar",
         "x": [
          0,
          1,
          2,
          3,
          4,
          5,
          6,
          7,
          8,
          9,
          10,
          11,
          12,
          13,
          14,
          15,
          16,
          17,
          18,
          19,
          20,
          21,
          22,
          23
         ],
         "xaxis": "x",
         "y": [
          0.15806451612903225,
          0.03763440860215054,
          0,
          0,
          0,
          0,
          0.007526881720430108,
          1.0989247311827957,
          1.2795698924731183,
          1.0838709677419356,
          0.8655913978494624,
          1.0537634408602152,
          0.895698924731183,
          1.0161290322580643,
          0.8731182795698924,
          1.0161290322580643,
          1.37741935483871,
          1.5881720430107527,
          1.4978494623655914,
          1.332258064516129,
          1.2344086021505376,
          1.1064516129032258,
          0.978494623655914,
          0.6172043010752688
         ],
         "yaxis": "y"
        }
       ],
       "layout": {
        "barmode": "relative",
        "legend": {
         "tracegroupgap": 0
        },
        "margin": {
         "t": 60
        },
        "template": {
         "data": {
          "bar": [
           {
            "error_x": {
             "color": "#2a3f5f"
            },
            "error_y": {
             "color": "#2a3f5f"
            },
            "marker": {
             "line": {
              "color": "#E5ECF6",
              "width": 0.5
             },
             "pattern": {
              "fillmode": "overlay",
              "size": 10,
              "solidity": 0.2
             }
            },
            "type": "bar"
           }
          ],
          "barpolar": [
           {
            "marker": {
             "line": {
              "color": "#E5ECF6",
              "width": 0.5
             },
             "pattern": {
              "fillmode": "overlay",
              "size": 10,
              "solidity": 0.2
             }
            },
            "type": "barpolar"
           }
          ],
          "carpet": [
           {
            "aaxis": {
             "endlinecolor": "#2a3f5f",
             "gridcolor": "white",
             "linecolor": "white",
             "minorgridcolor": "white",
             "startlinecolor": "#2a3f5f"
            },
            "baxis": {
             "endlinecolor": "#2a3f5f",
             "gridcolor": "white",
             "linecolor": "white",
             "minorgridcolor": "white",
             "startlinecolor": "#2a3f5f"
            },
            "type": "carpet"
           }
          ],
          "choropleth": [
           {
            "colorbar": {
             "outlinewidth": 0,
             "ticks": ""
            },
            "type": "choropleth"
           }
          ],
          "contour": [
           {
            "colorbar": {
             "outlinewidth": 0,
             "ticks": ""
            },
            "colorscale": [
             [
              0,
              "#0d0887"
             ],
             [
              0.1111111111111111,
              "#46039f"
             ],
             [
              0.2222222222222222,
              "#7201a8"
             ],
             [
              0.3333333333333333,
              "#9c179e"
             ],
             [
              0.4444444444444444,
              "#bd3786"
             ],
             [
              0.5555555555555556,
              "#d8576b"
             ],
             [
              0.6666666666666666,
              "#ed7953"
             ],
             [
              0.7777777777777778,
              "#fb9f3a"
             ],
             [
              0.8888888888888888,
              "#fdca26"
             ],
             [
              1,
              "#f0f921"
             ]
            ],
            "type": "contour"
           }
          ],
          "contourcarpet": [
           {
            "colorbar": {
             "outlinewidth": 0,
             "ticks": ""
            },
            "type": "contourcarpet"
           }
          ],
          "heatmap": [
           {
            "colorbar": {
             "outlinewidth": 0,
             "ticks": ""
            },
            "colorscale": [
             [
              0,
              "#0d0887"
             ],
             [
              0.1111111111111111,
              "#46039f"
             ],
             [
              0.2222222222222222,
              "#7201a8"
             ],
             [
              0.3333333333333333,
              "#9c179e"
             ],
             [
              0.4444444444444444,
              "#bd3786"
             ],
             [
              0.5555555555555556,
              "#d8576b"
             ],
             [
              0.6666666666666666,
              "#ed7953"
             ],
             [
              0.7777777777777778,
              "#fb9f3a"
             ],
             [
              0.8888888888888888,
              "#fdca26"
             ],
             [
              1,
              "#f0f921"
             ]
            ],
            "type": "heatmap"
           }
          ],
          "heatmapgl": [
           {
            "colorbar": {
             "outlinewidth": 0,
             "ticks": ""
            },
            "colorscale": [
             [
              0,
              "#0d0887"
             ],
             [
              0.1111111111111111,
              "#46039f"
             ],
             [
              0.2222222222222222,
              "#7201a8"
             ],
             [
              0.3333333333333333,
              "#9c179e"
             ],
             [
              0.4444444444444444,
              "#bd3786"
             ],
             [
              0.5555555555555556,
              "#d8576b"
             ],
             [
              0.6666666666666666,
              "#ed7953"
             ],
             [
              0.7777777777777778,
              "#fb9f3a"
             ],
             [
              0.8888888888888888,
              "#fdca26"
             ],
             [
              1,
              "#f0f921"
             ]
            ],
            "type": "heatmapgl"
           }
          ],
          "histogram": [
           {
            "marker": {
             "pattern": {
              "fillmode": "overlay",
              "size": 10,
              "solidity": 0.2
             }
            },
            "type": "histogram"
           }
          ],
          "histogram2d": [
           {
            "colorbar": {
             "outlinewidth": 0,
             "ticks": ""
            },
            "colorscale": [
             [
              0,
              "#0d0887"
             ],
             [
              0.1111111111111111,
              "#46039f"
             ],
             [
              0.2222222222222222,
              "#7201a8"
             ],
             [
              0.3333333333333333,
              "#9c179e"
             ],
             [
              0.4444444444444444,
              "#bd3786"
             ],
             [
              0.5555555555555556,
              "#d8576b"
             ],
             [
              0.6666666666666666,
              "#ed7953"
             ],
             [
              0.7777777777777778,
              "#fb9f3a"
             ],
             [
              0.8888888888888888,
              "#fdca26"
             ],
             [
              1,
              "#f0f921"
             ]
            ],
            "type": "histogram2d"
           }
          ],
          "histogram2dcontour": [
           {
            "colorbar": {
             "outlinewidth": 0,
             "ticks": ""
            },
            "colorscale": [
             [
              0,
              "#0d0887"
             ],
             [
              0.1111111111111111,
              "#46039f"
             ],
             [
              0.2222222222222222,
              "#7201a8"
             ],
             [
              0.3333333333333333,
              "#9c179e"
             ],
             [
              0.4444444444444444,
              "#bd3786"
             ],
             [
              0.5555555555555556,
              "#d8576b"
             ],
             [
              0.6666666666666666,
              "#ed7953"
             ],
             [
              0.7777777777777778,
              "#fb9f3a"
             ],
             [
              0.8888888888888888,
              "#fdca26"
             ],
             [
              1,
              "#f0f921"
             ]
            ],
            "type": "histogram2dcontour"
           }
          ],
          "mesh3d": [
           {
            "colorbar": {
             "outlinewidth": 0,
             "ticks": ""
            },
            "type": "mesh3d"
           }
          ],
          "parcoords": [
           {
            "line": {
             "colorbar": {
              "outlinewidth": 0,
              "ticks": ""
             }
            },
            "type": "parcoords"
           }
          ],
          "pie": [
           {
            "automargin": true,
            "type": "pie"
           }
          ],
          "scatter": [
           {
            "fillpattern": {
             "fillmode": "overlay",
             "size": 10,
             "solidity": 0.2
            },
            "type": "scatter"
           }
          ],
          "scatter3d": [
           {
            "line": {
             "colorbar": {
              "outlinewidth": 0,
              "ticks": ""
             }
            },
            "marker": {
             "colorbar": {
              "outlinewidth": 0,
              "ticks": ""
             }
            },
            "type": "scatter3d"
           }
          ],
          "scattercarpet": [
           {
            "marker": {
             "colorbar": {
              "outlinewidth": 0,
              "ticks": ""
             }
            },
            "type": "scattercarpet"
           }
          ],
          "scattergeo": [
           {
            "marker": {
             "colorbar": {
              "outlinewidth": 0,
              "ticks": ""
             }
            },
            "type": "scattergeo"
           }
          ],
          "scattergl": [
           {
            "marker": {
             "colorbar": {
              "outlinewidth": 0,
              "ticks": ""
             }
            },
            "type": "scattergl"
           }
          ],
          "scattermapbox": [
           {
            "marker": {
             "colorbar": {
              "outlinewidth": 0,
              "ticks": ""
             }
            },
            "type": "scattermapbox"
           }
          ],
          "scatterpolar": [
           {
            "marker": {
             "colorbar": {
              "outlinewidth": 0,
              "ticks": ""
             }
            },
            "type": "scatterpolar"
           }
          ],
          "scatterpolargl": [
           {
            "marker": {
             "colorbar": {
              "outlinewidth": 0,
              "ticks": ""
             }
            },
            "type": "scatterpolargl"
           }
          ],
          "scatterternary": [
           {
            "marker": {
             "colorbar": {
              "outlinewidth": 0,
              "ticks": ""
             }
            },
            "type": "scatterternary"
           }
          ],
          "surface": [
           {
            "colorbar": {
             "outlinewidth": 0,
             "ticks": ""
            },
            "colorscale": [
             [
              0,
              "#0d0887"
             ],
             [
              0.1111111111111111,
              "#46039f"
             ],
             [
              0.2222222222222222,
              "#7201a8"
             ],
             [
              0.3333333333333333,
              "#9c179e"
             ],
             [
              0.4444444444444444,
              "#bd3786"
             ],
             [
              0.5555555555555556,
              "#d8576b"
             ],
             [
              0.6666666666666666,
              "#ed7953"
             ],
             [
              0.7777777777777778,
              "#fb9f3a"
             ],
             [
              0.8888888888888888,
              "#fdca26"
             ],
             [
              1,
              "#f0f921"
             ]
            ],
            "type": "surface"
           }
          ],
          "table": [
           {
            "cells": {
             "fill": {
              "color": "#EBF0F8"
             },
             "line": {
              "color": "white"
             }
            },
            "header": {
             "fill": {
              "color": "#C8D4E3"
             },
             "line": {
              "color": "white"
             }
            },
            "type": "table"
           }
          ]
         },
         "layout": {
          "annotationdefaults": {
           "arrowcolor": "#2a3f5f",
           "arrowhead": 0,
           "arrowwidth": 1
          },
          "autotypenumbers": "strict",
          "coloraxis": {
           "colorbar": {
            "outlinewidth": 0,
            "ticks": ""
           }
          },
          "colorscale": {
           "diverging": [
            [
             0,
             "#8e0152"
            ],
            [
             0.1,
             "#c51b7d"
            ],
            [
             0.2,
             "#de77ae"
            ],
            [
             0.3,
             "#f1b6da"
            ],
            [
             0.4,
             "#fde0ef"
            ],
            [
             0.5,
             "#f7f7f7"
            ],
            [
             0.6,
             "#e6f5d0"
            ],
            [
             0.7,
             "#b8e186"
            ],
            [
             0.8,
             "#7fbc41"
            ],
            [
             0.9,
             "#4d9221"
            ],
            [
             1,
             "#276419"
            ]
           ],
           "sequential": [
            [
             0,
             "#0d0887"
            ],
            [
             0.1111111111111111,
             "#46039f"
            ],
            [
             0.2222222222222222,
             "#7201a8"
            ],
            [
             0.3333333333333333,
             "#9c179e"
            ],
            [
             0.4444444444444444,
             "#bd3786"
            ],
            [
             0.5555555555555556,
             "#d8576b"
            ],
            [
             0.6666666666666666,
             "#ed7953"
            ],
            [
             0.7777777777777778,
             "#fb9f3a"
            ],
            [
             0.8888888888888888,
             "#fdca26"
            ],
            [
             1,
             "#f0f921"
            ]
           ],
           "sequentialminus": [
            [
             0,
             "#0d0887"
            ],
            [
             0.1111111111111111,
             "#46039f"
            ],
            [
             0.2222222222222222,
             "#7201a8"
            ],
            [
             0.3333333333333333,
             "#9c179e"
            ],
            [
             0.4444444444444444,
             "#bd3786"
            ],
            [
             0.5555555555555556,
             "#d8576b"
            ],
            [
             0.6666666666666666,
             "#ed7953"
            ],
            [
             0.7777777777777778,
             "#fb9f3a"
            ],
            [
             0.8888888888888888,
             "#fdca26"
            ],
            [
             1,
             "#f0f921"
            ]
           ]
          },
          "colorway": [
           "#636efa",
           "#EF553B",
           "#00cc96",
           "#ab63fa",
           "#FFA15A",
           "#19d3f3",
           "#FF6692",
           "#B6E880",
           "#FF97FF",
           "#FECB52"
          ],
          "font": {
           "color": "#2a3f5f"
          },
          "geo": {
           "bgcolor": "white",
           "lakecolor": "white",
           "landcolor": "#E5ECF6",
           "showlakes": true,
           "showland": true,
           "subunitcolor": "white"
          },
          "hoverlabel": {
           "align": "left"
          },
          "hovermode": "closest",
          "mapbox": {
           "style": "light"
          },
          "paper_bgcolor": "white",
          "plot_bgcolor": "#E5ECF6",
          "polar": {
           "angularaxis": {
            "gridcolor": "white",
            "linecolor": "white",
            "ticks": ""
           },
           "bgcolor": "#E5ECF6",
           "radialaxis": {
            "gridcolor": "white",
            "linecolor": "white",
            "ticks": ""
           }
          },
          "scene": {
           "xaxis": {
            "backgroundcolor": "#E5ECF6",
            "gridcolor": "white",
            "gridwidth": 2,
            "linecolor": "white",
            "showbackground": true,
            "ticks": "",
            "zerolinecolor": "white"
           },
           "yaxis": {
            "backgroundcolor": "#E5ECF6",
            "gridcolor": "white",
            "gridwidth": 2,
            "linecolor": "white",
            "showbackground": true,
            "ticks": "",
            "zerolinecolor": "white"
           },
           "zaxis": {
            "backgroundcolor": "#E5ECF6",
            "gridcolor": "white",
            "gridwidth": 2,
            "linecolor": "white",
            "showbackground": true,
            "ticks": "",
            "zerolinecolor": "white"
           }
          },
          "shapedefaults": {
           "line": {
            "color": "#2a3f5f"
           }
          },
          "ternary": {
           "aaxis": {
            "gridcolor": "white",
            "linecolor": "white",
            "ticks": ""
           },
           "baxis": {
            "gridcolor": "white",
            "linecolor": "white",
            "ticks": ""
           },
           "bgcolor": "#E5ECF6",
           "caxis": {
            "gridcolor": "white",
            "linecolor": "white",
            "ticks": ""
           }
          },
          "title": {
           "x": 0.05
          },
          "xaxis": {
           "automargin": true,
           "gridcolor": "white",
           "linecolor": "white",
           "ticks": "",
           "title": {
            "standoff": 15
           },
           "zerolinecolor": "white",
           "zerolinewidth": 2
          },
          "yaxis": {
           "automargin": true,
           "gridcolor": "white",
           "linecolor": "white",
           "ticks": "",
           "title": {
            "standoff": 15
           },
           "zerolinecolor": "white",
           "zerolinewidth": 2
          }
         }
        },
        "xaxis": {
         "anchor": "y",
         "domain": [
          0,
          1
         ],
         "title": {
          "text": "hour"
         }
        },
        "yaxis": {
         "anchor": "x",
         "domain": [
          0,
          1
         ],
         "title": {
          "text": "drivers"
         }
        }
       }
      }
     },
     "metadata": {},
     "output_type": "display_data"
    }
   ],
   "source": [
    "# Calculate needed drivers\n",
    "if needed_rides_main_routes - len(cleaned_drives) > 0:\n",
    "    simulated_rides_1 = simulated_rides.sample(int(needed_rides_main_routes - len(cleaned_drives)))\n",
    "    total_rides = pd.concat([cleaned_drives, simulated_rides_1])\n",
    "else:\n",
    "    total_rides = cleaned_drives.sample(int(needed_rides_main_routes))\n",
    "\n",
    "hours = list(range(0, 24))\n",
    "numb_drivers_per_hour = []\n",
    "avg_drives_per_hour = []\n",
    "for i in hours:\n",
    "    numb_drivers_per_hour.append(\n",
    "        fa.calculate_number_drivers(total_rides, i, 0.3)[0]\n",
    "    )\n",
    "    avg_drives_per_hour.append(\n",
    "        fa.calculate_number_drivers(total_rides, i, 0.3)[1]\n",
    "    )\n",
    "\n",
    "df_drivers_per_hour = pd.DataFrame(\n",
    "    list(zip(hours, numb_drivers_per_hour)), columns=[\"hour\", \"drivers\"]\n",
    ")\n",
    "\n",
    "df_drives_per_hour = pd.DataFrame(\n",
    "    list(zip(hours, avg_drives_per_hour)), columns=[\"hour\", \"drives\"]\n",
    ")\n",
    "\n",
    "fig_drivers = px.bar(df_drivers_per_hour, x=\"hour\", y=\"drivers\")\n",
    "fig_drives = px.bar(df_drives_per_hour, x=\"hour\", y=\"drives\")\n",
    "fig_drives.show()\n",
    "fig_drivers.show()"
   ]
  }
 ],
 "metadata": {
  "kernelspec": {
   "display_name": "Python 3.9.13 64-bit",
   "language": "python",
   "name": "python3"
  },
  "language_info": {
   "codemirror_mode": {
    "name": "ipython",
    "version": 3
   },
   "file_extension": ".py",
   "mimetype": "text/x-python",
   "name": "python",
   "nbconvert_exporter": "python",
   "pygments_lexer": "ipython3",
   "version": "3.9.13"
  },
  "orig_nbformat": 4,
  "vscode": {
   "interpreter": {
    "hash": "aee8b7b246df8f9039afb4144a1f6fd8d2ca17a180786b69acc140d282b71a49"
   }
  }
 },
 "nbformat": 4,
 "nbformat_minor": 2
}
