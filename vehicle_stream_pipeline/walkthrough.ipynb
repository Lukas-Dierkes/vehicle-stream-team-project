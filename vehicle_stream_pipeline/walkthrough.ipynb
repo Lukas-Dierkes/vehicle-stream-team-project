{
 "cells": [
  {
   "cell_type": "markdown",
   "metadata": {},
   "source": [
    "# Walkthrough"
   ]
  },
  {
   "cell_type": "markdown",
   "metadata": {},
   "source": [
    "This is a short walkthrough of our most important functions so you can see how you can use them. In order to execute this script you need to install the vehicle_stream_pipeline package and store the needed data in the correct folders. Have fun!"
   ]
  },
  {
   "cell_type": "markdown",
   "metadata": {},
   "source": [
    "### Setup"
   ]
  },
  {
   "cell_type": "code",
   "execution_count": 1,
   "metadata": {},
   "outputs": [],
   "source": [
    "from vehicle_stream_pipeline.utils import data_cleaning as dc\n",
    "from vehicle_stream_pipeline.utils import feasibility_analysis as fa\n",
    "from vehicle_stream_pipeline.utils import prob_model as pm\n",
    "from vehicle_stream_pipeline.utils import ride_simulation as rs\n",
    "from plotly.subplots import make_subplots\n",
    "\n",
    "import pandas as pd\n",
    "import git\n",
    "import os\n",
    "import warnings\n",
    "import time\n",
    "import numpy as np\n",
    "import plotly.express as px\n",
    "import plotly.graph_objects as go\n",
    "\n",
    "warnings.filterwarnings(\"ignore\")\n",
    "repo = git.Repo(\".\", search_parent_directories=True).git.rev_parse(\n",
    "    \"--show-toplevel\")"
   ]
  },
  {
   "cell_type": "code",
   "execution_count": 2,
   "metadata": {},
   "outputs": [],
   "source": [
    "# show alle df columns\n",
    "pd.set_option('display.max_columns', None)"
   ]
  },
  {
   "cell_type": "markdown",
   "metadata": {},
   "source": [
    "### Combining the normal rides from MoD"
   ]
  },
  {
   "cell_type": "code",
   "execution_count": 11,
   "metadata": {},
   "outputs": [],
   "source": [
    "# Combine all rides from monthly excel sheets (Takes about one minute)\n",
    "all_rides = dc.create_overall_dataframes(f\"{repo}/data/normal_rides\")\n",
    "\n",
    "all_rides[\"df_kpi\"].to_csv(f\"{repo}/data/other/kpi_combined.csv\")\n",
    "all_rides[\"df_mtd\"].to_csv(f\"{repo}/data/other/mtd_combined.csv\")\n",
    "all_rides[\"df_rides\"].to_csv(f\"{repo}/data/other/rides_combined.csv\")"
   ]
  },
  {
   "cell_type": "markdown",
   "metadata": {},
   "source": [
    "### Cleaning the data"
   ]
  },
  {
   "cell_type": "code",
   "execution_count": 12,
   "metadata": {},
   "outputs": [
    {
     "name": "stdout",
     "output_type": "stream",
     "text": [
      "clean id\n",
      "clean distance\n",
      "clean addresses\n",
      "clean free_rides\n",
      "clean created_at\n",
      "clean scheduled_to\n",
      "clean dispatched_at\n",
      "clean vehicle_arrived_at\n",
      "clean arriving_push\n",
      "clean earliest_pickup_expectation\n",
      "clean pickup_at\n",
      "clean pickup_eta\n",
      "clean pickup_first_eta\n",
      "clean dropoff_at\n",
      "clean dropoff_eta\n",
      "clean dropoff_first_eta\n",
      "clean time periods\n",
      "clean rating\n",
      "add shared rides\n",
      "check cleaned data\n"
     ]
    }
   ],
   "source": [
    "# Read in all necessary files for cleaning the data (Cleaning takes about 8 minutes)\n",
    "df = pd.read_csv(f\"{repo}/data/other/rides_combined.csv\", index_col=0)\n",
    "df_stops = pd.read_excel(\n",
    "    f\"{repo}/data/other/MoDstops+Preismodell.xlsx\", sheet_name=\"MoDstops\"\n",
    ")\n",
    "vehicle_usage_df = pd.read_excel(\n",
    "    f\"{repo}/data/vehicle_data/MoD_Vehicle Usage_2021+2022-05-15.xlsx\"\n",
    ")\n",
    "external_df = pd.read_excel(\n",
    "    f\"{repo}/data/vehicle_data/Autofleet_Rides with External ID_2021+2022-05-15.xlsx\"\n",
    ")\n",
    "\n",
    "# Eliminating duplicates\n",
    "df = dc.clean_duplicates(df)\n",
    "\n",
    "# Clean the data using our cleaning functions\n",
    "df = dc.data_cleaning(df, df_stops)\n",
    "\n",
    "# Add shared rides to our data pool\n",
    "df = dc.add_shared_rides(df, vehicle_usage_df, external_df)\n",
    "\n",
    "# Last check if data is correct if some rows are incorrect we store them in a file to analyze them and thus can adapt our cleaning script\n",
    "print(\"check cleaned data\")\n",
    "df, df_incorrect = dc.data_check(df)\n",
    "if df_incorrect.empty == False:\n",
    "    df_incorrect.to_excel(f\"{repo}/data/cleaning/incorrect{int(time.time())}.xlsx\")\n",
    "\n",
    "# Save our cleaned script. This will be used for the later use cases\n",
    "df.to_csv(f\"{repo}/data/cleaning/data_cleaned.csv\", index=False)"
   ]
  },
  {
   "cell_type": "markdown",
   "metadata": {},
   "source": [
    "### Ride Simulation"
   ]
  },
  {
   "cell_type": "code",
   "execution_count": 3,
   "metadata": {},
   "outputs": [],
   "source": [
    "# Read in the data \n",
    "cleaned_drives = pd.read_csv(f\"{repo}/data/cleaning/data_cleaned.csv\")\n",
    "df_stops = pd.read_excel(\n",
    "    f\"{repo}/data/other/MoDstops+Preismodell.xlsx\", sheet_name=\"MoDstops\"\n",
    ")\n",
    "df_routes = pd.read_excel(\n",
    "    f\"{repo}/data/other/MoDstops+Preismodell.xlsx\", sheet_name=\"Liste 2022\"\n",
    ")\n",
    "# change column name of pickup and drop off address\n",
    "df_routes.rename(columns={\"Start #\": \"start_id\", \"Ende #\": \"end_id\"}, inplace=True)"
   ]
  },
  {
   "cell_type": "code",
   "execution_count": 4,
   "metadata": {},
   "outputs": [
    {
     "data": {
      "text/html": [
       "<div>\n",
       "<style scoped>\n",
       "    .dataframe tbody tr th:only-of-type {\n",
       "        vertical-align: middle;\n",
       "    }\n",
       "\n",
       "    .dataframe tbody tr th {\n",
       "        vertical-align: top;\n",
       "    }\n",
       "\n",
       "    .dataframe thead th {\n",
       "        text-align: right;\n",
       "    }\n",
       "</style>\n",
       "<table border=\"1\" class=\"dataframe\">\n",
       "  <thead>\n",
       "    <tr style=\"text-align: right;\">\n",
       "      <th></th>\n",
       "      <th>id</th>\n",
       "      <th>user_id</th>\n",
       "      <th>distance</th>\n",
       "      <th>number_of_passenger</th>\n",
       "      <th>price_operations</th>\n",
       "      <th>price_offer</th>\n",
       "      <th>price_payed</th>\n",
       "      <th>free_ride</th>\n",
       "      <th>payment_type</th>\n",
       "      <th>pickup_address</th>\n",
       "      <th>dropoff_address</th>\n",
       "      <th>state</th>\n",
       "      <th>created_from_offer</th>\n",
       "      <th>created_at</th>\n",
       "      <th>scheduled_to</th>\n",
       "      <th>dispatched_at</th>\n",
       "      <th>pickup_arrival_time</th>\n",
       "      <th>arriving_push</th>\n",
       "      <th>vehicle_arrived_at</th>\n",
       "      <th>earliest_pickup_expectation</th>\n",
       "      <th>pickup_first_eta</th>\n",
       "      <th>pickup_eta</th>\n",
       "      <th>pickup_at</th>\n",
       "      <th>dropoff_first_eta</th>\n",
       "      <th>dropoff_eta</th>\n",
       "      <th>dropoff_at</th>\n",
       "      <th>updated_at</th>\n",
       "      <th>arrival_deviation</th>\n",
       "      <th>waiting_time</th>\n",
       "      <th>boarding_time</th>\n",
       "      <th>ride_time</th>\n",
       "      <th>trip_time</th>\n",
       "      <th>shortest_ridetime</th>\n",
       "      <th>delay</th>\n",
       "      <th>longer_route_factor</th>\n",
       "      <th>arrival_indicator</th>\n",
       "      <th>rating</th>\n",
       "      <th>rating_puenktlichkeit</th>\n",
       "      <th>rating_sauberkeit</th>\n",
       "      <th>rating_fahrer</th>\n",
       "      <th>rating_find_modstop</th>\n",
       "      <th>rating_other_comments</th>\n",
       "      <th>cancellation_reason</th>\n",
       "      <th>cancellation_comment</th>\n",
       "      <th>bahn_card_number</th>\n",
       "      <th>year_card_type</th>\n",
       "      <th>year_card_number</th>\n",
       "      <th>canceled_at</th>\n",
       "      <th>rating_question_one</th>\n",
       "      <th>rating_question_two</th>\n",
       "      <th>External Id</th>\n",
       "      <th>Vehicle plate</th>\n",
       "      <th>Dispatch Type</th>\n",
       "      <th>Driver name</th>\n",
       "      <th>Driver external ID</th>\n",
       "      <th>Planned Distance (m)</th>\n",
       "      <th>af_ride_id</th>\n",
       "      <th>Distance_MoD_Matrix</th>\n",
       "      <th>AF_distance</th>\n",
       "      <th>distance_delay_factor</th>\n",
       "      <th>time_delay_factor</th>\n",
       "      <th>Vehicle Id</th>\n",
       "      <th>MoD Driver Id</th>\n",
       "      <th>Pickup_odometer</th>\n",
       "      <th>Dropoff_odometer</th>\n",
       "      <th>delay_km</th>\n",
       "      <th>index</th>\n",
       "    </tr>\n",
       "  </thead>\n",
       "  <tbody>\n",
       "    <tr>\n",
       "      <th>0</th>\n",
       "      <td>1663493062-0</td>\n",
       "      <td>0-1663493062</td>\n",
       "      <td>3212.0</td>\n",
       "      <td>1.0</td>\n",
       "      <td>NaN</td>\n",
       "      <td>NaN</td>\n",
       "      <td>NaN</td>\n",
       "      <td>False</td>\n",
       "      <td>VRN</td>\n",
       "      <td>4025</td>\n",
       "      <td>6002</td>\n",
       "      <td>completed</td>\n",
       "      <td>NaN</td>\n",
       "      <td>2022-09-01 09:36:39</td>\n",
       "      <td>2022-09-01 09:36:39</td>\n",
       "      <td>2022-09-01 09:36:39</td>\n",
       "      <td>371</td>\n",
       "      <td>2022-09-01 09:42:51</td>\n",
       "      <td>2022-09-01 09:42:50</td>\n",
       "      <td>2022-09-01 09:39:39</td>\n",
       "      <td>2022-09-01 09:45:20</td>\n",
       "      <td>2022-09-01 09:45:29</td>\n",
       "      <td>2022-09-01 09:43:19</td>\n",
       "      <td>2022-09-01 09:51:45</td>\n",
       "      <td>2022-09-01 09:58:37</td>\n",
       "      <td>2022-09-01 09:51:27</td>\n",
       "      <td>NaN</td>\n",
       "      <td>-181.0</td>\n",
       "      <td>191.0</td>\n",
       "      <td>29.0</td>\n",
       "      <td>488.0</td>\n",
       "      <td>679.0</td>\n",
       "      <td>385.0</td>\n",
       "      <td>294.0</td>\n",
       "      <td>1.27</td>\n",
       "      <td>Kein Signalschild</td>\n",
       "      <td>5.0</td>\n",
       "      <td>NaN</td>\n",
       "      <td>NaN</td>\n",
       "      <td>NaN</td>\n",
       "      <td>NaN</td>\n",
       "      <td>NaN</td>\n",
       "      <td>NaN</td>\n",
       "      <td>NaN</td>\n",
       "      <td>NaN</td>\n",
       "      <td>NaN</td>\n",
       "      <td>NaN</td>\n",
       "      <td>NaN</td>\n",
       "      <td>NaN</td>\n",
       "      <td>NaN</td>\n",
       "      <td>NaN</td>\n",
       "      <td>NaN</td>\n",
       "      <td>NaN</td>\n",
       "      <td>NaN</td>\n",
       "      <td>NaN</td>\n",
       "      <td>NaN</td>\n",
       "      <td>NaN</td>\n",
       "      <td>NaN</td>\n",
       "      <td>NaN</td>\n",
       "      <td>NaN</td>\n",
       "      <td>NaN</td>\n",
       "      <td>NaN</td>\n",
       "      <td>NaN</td>\n",
       "      <td>NaN</td>\n",
       "      <td>NaN</td>\n",
       "      <td>NaN</td>\n",
       "      <td>NaN</td>\n",
       "    </tr>\n",
       "    <tr>\n",
       "      <th>1</th>\n",
       "      <td>1663493062-1</td>\n",
       "      <td>1-1663493062</td>\n",
       "      <td>3409.0</td>\n",
       "      <td>1.0</td>\n",
       "      <td>NaN</td>\n",
       "      <td>NaN</td>\n",
       "      <td>NaN</td>\n",
       "      <td>False</td>\n",
       "      <td>STANDARD</td>\n",
       "      <td>1002</td>\n",
       "      <td>4007</td>\n",
       "      <td>completed</td>\n",
       "      <td>NaN</td>\n",
       "      <td>2022-09-01 09:19:01</td>\n",
       "      <td>2022-09-01 09:19:01</td>\n",
       "      <td>2022-09-01 09:19:01</td>\n",
       "      <td>150</td>\n",
       "      <td>2022-09-01 09:31:40</td>\n",
       "      <td>2022-09-01 09:21:31</td>\n",
       "      <td>2022-09-01 09:22:01</td>\n",
       "      <td>2022-09-01 09:22:01</td>\n",
       "      <td>2022-09-01 09:34:09</td>\n",
       "      <td>2022-09-01 09:25:34</td>\n",
       "      <td>2022-09-01 09:28:50</td>\n",
       "      <td>2022-09-01 09:37:50</td>\n",
       "      <td>2022-09-01 09:31:33</td>\n",
       "      <td>NaN</td>\n",
       "      <td>-789.0</td>\n",
       "      <td>-30.0</td>\n",
       "      <td>243.0</td>\n",
       "      <td>359.0</td>\n",
       "      <td>329.0</td>\n",
       "      <td>409.0</td>\n",
       "      <td>-80.0</td>\n",
       "      <td>0.88</td>\n",
       "      <td>Kein Signalschild</td>\n",
       "      <td>5.0</td>\n",
       "      <td>NaN</td>\n",
       "      <td>NaN</td>\n",
       "      <td>NaN</td>\n",
       "      <td>NaN</td>\n",
       "      <td>NaN</td>\n",
       "      <td>NaN</td>\n",
       "      <td>NaN</td>\n",
       "      <td>NaN</td>\n",
       "      <td>NaN</td>\n",
       "      <td>NaN</td>\n",
       "      <td>NaN</td>\n",
       "      <td>NaN</td>\n",
       "      <td>NaN</td>\n",
       "      <td>NaN</td>\n",
       "      <td>NaN</td>\n",
       "      <td>NaN</td>\n",
       "      <td>NaN</td>\n",
       "      <td>NaN</td>\n",
       "      <td>NaN</td>\n",
       "      <td>NaN</td>\n",
       "      <td>NaN</td>\n",
       "      <td>NaN</td>\n",
       "      <td>NaN</td>\n",
       "      <td>NaN</td>\n",
       "      <td>NaN</td>\n",
       "      <td>NaN</td>\n",
       "      <td>NaN</td>\n",
       "      <td>NaN</td>\n",
       "      <td>NaN</td>\n",
       "      <td>NaN</td>\n",
       "    </tr>\n",
       "    <tr>\n",
       "      <th>2</th>\n",
       "      <td>1663493062-2</td>\n",
       "      <td>2-1663493062</td>\n",
       "      <td>1404.0</td>\n",
       "      <td>1.0</td>\n",
       "      <td>NaN</td>\n",
       "      <td>NaN</td>\n",
       "      <td>NaN</td>\n",
       "      <td>False</td>\n",
       "      <td>BAHN_CARD</td>\n",
       "      <td>11014</td>\n",
       "      <td>1004</td>\n",
       "      <td>completed</td>\n",
       "      <td>NaN</td>\n",
       "      <td>2022-09-01 19:24:39</td>\n",
       "      <td>2022-09-02 07:10:00</td>\n",
       "      <td>2022-09-02 07:02:00</td>\n",
       "      <td>705</td>\n",
       "      <td>2022-09-02 07:04:56</td>\n",
       "      <td>2022-09-02 07:13:45</td>\n",
       "      <td>2022-09-02 07:05:00</td>\n",
       "      <td>2022-09-02 07:05:00</td>\n",
       "      <td>2022-09-02 07:06:10</td>\n",
       "      <td>2022-09-02 07:14:21</td>\n",
       "      <td>2022-09-02 07:07:48</td>\n",
       "      <td>2022-09-02 07:19:36</td>\n",
       "      <td>2022-09-02 07:19:52</td>\n",
       "      <td>NaN</td>\n",
       "      <td>349.0</td>\n",
       "      <td>525.0</td>\n",
       "      <td>36.0</td>\n",
       "      <td>331.0</td>\n",
       "      <td>856.0</td>\n",
       "      <td>168.0</td>\n",
       "      <td>688.0</td>\n",
       "      <td>1.97</td>\n",
       "      <td>Kein Signalschild</td>\n",
       "      <td>5.0</td>\n",
       "      <td>NaN</td>\n",
       "      <td>NaN</td>\n",
       "      <td>NaN</td>\n",
       "      <td>NaN</td>\n",
       "      <td>NaN</td>\n",
       "      <td>NaN</td>\n",
       "      <td>NaN</td>\n",
       "      <td>NaN</td>\n",
       "      <td>NaN</td>\n",
       "      <td>NaN</td>\n",
       "      <td>NaN</td>\n",
       "      <td>NaN</td>\n",
       "      <td>NaN</td>\n",
       "      <td>NaN</td>\n",
       "      <td>NaN</td>\n",
       "      <td>NaN</td>\n",
       "      <td>NaN</td>\n",
       "      <td>NaN</td>\n",
       "      <td>NaN</td>\n",
       "      <td>NaN</td>\n",
       "      <td>NaN</td>\n",
       "      <td>NaN</td>\n",
       "      <td>NaN</td>\n",
       "      <td>NaN</td>\n",
       "      <td>NaN</td>\n",
       "      <td>NaN</td>\n",
       "      <td>NaN</td>\n",
       "      <td>NaN</td>\n",
       "      <td>NaN</td>\n",
       "      <td>NaN</td>\n",
       "    </tr>\n",
       "    <tr>\n",
       "      <th>3</th>\n",
       "      <td>1663493062-3</td>\n",
       "      <td>3-1663493062</td>\n",
       "      <td>5050.0</td>\n",
       "      <td>2.0</td>\n",
       "      <td>NaN</td>\n",
       "      <td>NaN</td>\n",
       "      <td>NaN</td>\n",
       "      <td>False</td>\n",
       "      <td>STANDARD</td>\n",
       "      <td>11012</td>\n",
       "      <td>12007</td>\n",
       "      <td>completed</td>\n",
       "      <td>NaN</td>\n",
       "      <td>2022-09-01 06:35:00</td>\n",
       "      <td>2022-09-02 20:20:00</td>\n",
       "      <td>2022-09-02 20:12:00</td>\n",
       "      <td>151</td>\n",
       "      <td>2022-09-02 20:14:07</td>\n",
       "      <td>2022-09-02 20:14:31</td>\n",
       "      <td>2022-09-02 20:15:00</td>\n",
       "      <td>2022-09-02 20:15:00</td>\n",
       "      <td>2022-09-02 20:15:00</td>\n",
       "      <td>2022-09-02 20:18:34</td>\n",
       "      <td>2022-09-02 20:25:06</td>\n",
       "      <td>2022-09-02 20:31:16</td>\n",
       "      <td>2022-09-02 20:26:28</td>\n",
       "      <td>NaN</td>\n",
       "      <td>-156.0</td>\n",
       "      <td>-29.0</td>\n",
       "      <td>243.0</td>\n",
       "      <td>474.0</td>\n",
       "      <td>445.0</td>\n",
       "      <td>606.0</td>\n",
       "      <td>-161.0</td>\n",
       "      <td>0.78</td>\n",
       "      <td>Kein Signalschild</td>\n",
       "      <td>5.0</td>\n",
       "      <td>NaN</td>\n",
       "      <td>NaN</td>\n",
       "      <td>NaN</td>\n",
       "      <td>NaN</td>\n",
       "      <td>NaN</td>\n",
       "      <td>NaN</td>\n",
       "      <td>NaN</td>\n",
       "      <td>NaN</td>\n",
       "      <td>NaN</td>\n",
       "      <td>NaN</td>\n",
       "      <td>NaN</td>\n",
       "      <td>NaN</td>\n",
       "      <td>NaN</td>\n",
       "      <td>NaN</td>\n",
       "      <td>NaN</td>\n",
       "      <td>NaN</td>\n",
       "      <td>NaN</td>\n",
       "      <td>NaN</td>\n",
       "      <td>NaN</td>\n",
       "      <td>NaN</td>\n",
       "      <td>NaN</td>\n",
       "      <td>NaN</td>\n",
       "      <td>NaN</td>\n",
       "      <td>NaN</td>\n",
       "      <td>NaN</td>\n",
       "      <td>NaN</td>\n",
       "      <td>NaN</td>\n",
       "      <td>NaN</td>\n",
       "      <td>NaN</td>\n",
       "      <td>NaN</td>\n",
       "    </tr>\n",
       "    <tr>\n",
       "      <th>4</th>\n",
       "      <td>1663493062-4</td>\n",
       "      <td>4-1663493062</td>\n",
       "      <td>3224.0</td>\n",
       "      <td>1.0</td>\n",
       "      <td>NaN</td>\n",
       "      <td>NaN</td>\n",
       "      <td>NaN</td>\n",
       "      <td>False</td>\n",
       "      <td>STANDARD</td>\n",
       "      <td>3010</td>\n",
       "      <td>12003</td>\n",
       "      <td>completed</td>\n",
       "      <td>NaN</td>\n",
       "      <td>2022-09-01 08:58:20</td>\n",
       "      <td>2022-09-02 00:00:00</td>\n",
       "      <td>2022-09-01 23:52:00</td>\n",
       "      <td>481</td>\n",
       "      <td>2022-09-01 23:54:39</td>\n",
       "      <td>2022-09-02 00:00:01</td>\n",
       "      <td>2022-09-01 23:55:00</td>\n",
       "      <td>2022-09-02 00:06:38</td>\n",
       "      <td>2022-09-02 00:06:38</td>\n",
       "      <td>2022-09-02 00:00:25</td>\n",
       "      <td>2022-09-02 00:13:05</td>\n",
       "      <td>2022-09-02 00:09:46</td>\n",
       "      <td>2022-09-02 00:06:46</td>\n",
       "      <td>NaN</td>\n",
       "      <td>142.0</td>\n",
       "      <td>301.0</td>\n",
       "      <td>24.0</td>\n",
       "      <td>381.0</td>\n",
       "      <td>682.0</td>\n",
       "      <td>387.0</td>\n",
       "      <td>295.0</td>\n",
       "      <td>0.98</td>\n",
       "      <td>Kein Signalschild</td>\n",
       "      <td>5.0</td>\n",
       "      <td>NaN</td>\n",
       "      <td>NaN</td>\n",
       "      <td>NaN</td>\n",
       "      <td>NaN</td>\n",
       "      <td>NaN</td>\n",
       "      <td>NaN</td>\n",
       "      <td>NaN</td>\n",
       "      <td>NaN</td>\n",
       "      <td>NaN</td>\n",
       "      <td>NaN</td>\n",
       "      <td>NaN</td>\n",
       "      <td>NaN</td>\n",
       "      <td>NaN</td>\n",
       "      <td>NaN</td>\n",
       "      <td>NaN</td>\n",
       "      <td>NaN</td>\n",
       "      <td>NaN</td>\n",
       "      <td>NaN</td>\n",
       "      <td>NaN</td>\n",
       "      <td>NaN</td>\n",
       "      <td>NaN</td>\n",
       "      <td>NaN</td>\n",
       "      <td>NaN</td>\n",
       "      <td>NaN</td>\n",
       "      <td>NaN</td>\n",
       "      <td>NaN</td>\n",
       "      <td>NaN</td>\n",
       "      <td>NaN</td>\n",
       "      <td>NaN</td>\n",
       "      <td>NaN</td>\n",
       "    </tr>\n",
       "  </tbody>\n",
       "</table>\n",
       "</div>"
      ],
      "text/plain": [
       "             id       user_id  distance  number_of_passenger price_operations  \\\n",
       "0  1663493062-0  0-1663493062    3212.0                  1.0              NaN   \n",
       "1  1663493062-1  1-1663493062    3409.0                  1.0              NaN   \n",
       "2  1663493062-2  2-1663493062    1404.0                  1.0              NaN   \n",
       "3  1663493062-3  3-1663493062    5050.0                  2.0              NaN   \n",
       "4  1663493062-4  4-1663493062    3224.0                  1.0              NaN   \n",
       "\n",
       "  price_offer price_payed  free_ride payment_type  pickup_address  \\\n",
       "0         NaN         NaN      False          VRN            4025   \n",
       "1         NaN         NaN      False     STANDARD            1002   \n",
       "2         NaN         NaN      False    BAHN_CARD           11014   \n",
       "3         NaN         NaN      False     STANDARD           11012   \n",
       "4         NaN         NaN      False     STANDARD            3010   \n",
       "\n",
       "   dropoff_address      state created_from_offer          created_at  \\\n",
       "0             6002  completed                NaN 2022-09-01 09:36:39   \n",
       "1             4007  completed                NaN 2022-09-01 09:19:01   \n",
       "2             1004  completed                NaN 2022-09-01 19:24:39   \n",
       "3            12007  completed                NaN 2022-09-01 06:35:00   \n",
       "4            12003  completed                NaN 2022-09-01 08:58:20   \n",
       "\n",
       "         scheduled_to       dispatched_at  pickup_arrival_time  \\\n",
       "0 2022-09-01 09:36:39 2022-09-01 09:36:39                  371   \n",
       "1 2022-09-01 09:19:01 2022-09-01 09:19:01                  150   \n",
       "2 2022-09-02 07:10:00 2022-09-02 07:02:00                  705   \n",
       "3 2022-09-02 20:20:00 2022-09-02 20:12:00                  151   \n",
       "4 2022-09-02 00:00:00 2022-09-01 23:52:00                  481   \n",
       "\n",
       "        arriving_push  vehicle_arrived_at earliest_pickup_expectation  \\\n",
       "0 2022-09-01 09:42:51 2022-09-01 09:42:50         2022-09-01 09:39:39   \n",
       "1 2022-09-01 09:31:40 2022-09-01 09:21:31         2022-09-01 09:22:01   \n",
       "2 2022-09-02 07:04:56 2022-09-02 07:13:45         2022-09-02 07:05:00   \n",
       "3 2022-09-02 20:14:07 2022-09-02 20:14:31         2022-09-02 20:15:00   \n",
       "4 2022-09-01 23:54:39 2022-09-02 00:00:01         2022-09-01 23:55:00   \n",
       "\n",
       "     pickup_first_eta          pickup_eta           pickup_at  \\\n",
       "0 2022-09-01 09:45:20 2022-09-01 09:45:29 2022-09-01 09:43:19   \n",
       "1 2022-09-01 09:22:01 2022-09-01 09:34:09 2022-09-01 09:25:34   \n",
       "2 2022-09-02 07:05:00 2022-09-02 07:06:10 2022-09-02 07:14:21   \n",
       "3 2022-09-02 20:15:00 2022-09-02 20:15:00 2022-09-02 20:18:34   \n",
       "4 2022-09-02 00:06:38 2022-09-02 00:06:38 2022-09-02 00:00:25   \n",
       "\n",
       "    dropoff_first_eta         dropoff_eta          dropoff_at updated_at  \\\n",
       "0 2022-09-01 09:51:45 2022-09-01 09:58:37 2022-09-01 09:51:27        NaN   \n",
       "1 2022-09-01 09:28:50 2022-09-01 09:37:50 2022-09-01 09:31:33        NaN   \n",
       "2 2022-09-02 07:07:48 2022-09-02 07:19:36 2022-09-02 07:19:52        NaN   \n",
       "3 2022-09-02 20:25:06 2022-09-02 20:31:16 2022-09-02 20:26:28        NaN   \n",
       "4 2022-09-02 00:13:05 2022-09-02 00:09:46 2022-09-02 00:06:46        NaN   \n",
       "\n",
       "   arrival_deviation  waiting_time  boarding_time  ride_time  trip_time  \\\n",
       "0             -181.0         191.0           29.0      488.0      679.0   \n",
       "1             -789.0         -30.0          243.0      359.0      329.0   \n",
       "2              349.0         525.0           36.0      331.0      856.0   \n",
       "3             -156.0         -29.0          243.0      474.0      445.0   \n",
       "4              142.0         301.0           24.0      381.0      682.0   \n",
       "\n",
       "   shortest_ridetime  delay  longer_route_factor  arrival_indicator  rating  \\\n",
       "0              385.0  294.0                 1.27  Kein Signalschild     5.0   \n",
       "1              409.0  -80.0                 0.88  Kein Signalschild     5.0   \n",
       "2              168.0  688.0                 1.97  Kein Signalschild     5.0   \n",
       "3              606.0 -161.0                 0.78  Kein Signalschild     5.0   \n",
       "4              387.0  295.0                 0.98  Kein Signalschild     5.0   \n",
       "\n",
       "  rating_puenktlichkeit rating_sauberkeit rating_fahrer rating_find_modstop  \\\n",
       "0                   NaN               NaN           NaN                 NaN   \n",
       "1                   NaN               NaN           NaN                 NaN   \n",
       "2                   NaN               NaN           NaN                 NaN   \n",
       "3                   NaN               NaN           NaN                 NaN   \n",
       "4                   NaN               NaN           NaN                 NaN   \n",
       "\n",
       "  rating_other_comments cancellation_reason cancellation_comment  \\\n",
       "0                   NaN                 NaN                  NaN   \n",
       "1                   NaN                 NaN                  NaN   \n",
       "2                   NaN                 NaN                  NaN   \n",
       "3                   NaN                 NaN                  NaN   \n",
       "4                   NaN                 NaN                  NaN   \n",
       "\n",
       "  bahn_card_number year_card_type year_card_number canceled_at  \\\n",
       "0              NaN            NaN              NaN         NaN   \n",
       "1              NaN            NaN              NaN         NaN   \n",
       "2              NaN            NaN              NaN         NaN   \n",
       "3              NaN            NaN              NaN         NaN   \n",
       "4              NaN            NaN              NaN         NaN   \n",
       "\n",
       "  rating_question_one rating_question_two External Id Vehicle plate  \\\n",
       "0                 NaN                 NaN         NaN           NaN   \n",
       "1                 NaN                 NaN         NaN           NaN   \n",
       "2                 NaN                 NaN         NaN           NaN   \n",
       "3                 NaN                 NaN         NaN           NaN   \n",
       "4                 NaN                 NaN         NaN           NaN   \n",
       "\n",
       "  Dispatch Type Driver name Driver external ID Planned Distance (m)  \\\n",
       "0           NaN         NaN                NaN                  NaN   \n",
       "1           NaN         NaN                NaN                  NaN   \n",
       "2           NaN         NaN                NaN                  NaN   \n",
       "3           NaN         NaN                NaN                  NaN   \n",
       "4           NaN         NaN                NaN                  NaN   \n",
       "\n",
       "  af_ride_id Distance_MoD_Matrix AF_distance distance_delay_factor  \\\n",
       "0        NaN                 NaN         NaN                   NaN   \n",
       "1        NaN                 NaN         NaN                   NaN   \n",
       "2        NaN                 NaN         NaN                   NaN   \n",
       "3        NaN                 NaN         NaN                   NaN   \n",
       "4        NaN                 NaN         NaN                   NaN   \n",
       "\n",
       "  time_delay_factor Vehicle Id MoD Driver Id Pickup_odometer Dropoff_odometer  \\\n",
       "0               NaN        NaN           NaN             NaN              NaN   \n",
       "1               NaN        NaN           NaN             NaN              NaN   \n",
       "2               NaN        NaN           NaN             NaN              NaN   \n",
       "3               NaN        NaN           NaN             NaN              NaN   \n",
       "4               NaN        NaN           NaN             NaN              NaN   \n",
       "\n",
       "  delay_km index  \n",
       "0      NaN   NaN  \n",
       "1      NaN   NaN  \n",
       "2      NaN   NaN  \n",
       "3      NaN   NaN  \n",
       "4      NaN   NaN  "
      ]
     },
     "execution_count": 4,
     "metadata": {},
     "output_type": "execute_result"
    }
   ],
   "source": [
    "# simulate n rides distributed over the specified month & year\n",
    "sim_rides = rs.generateRideSpecs(cleaned_drives, df_stops, df_routes, n=500, month=9, year=2022)\n",
    "sim_rides.head()"
   ]
  },
  {
   "cell_type": "markdown",
   "metadata": {},
   "source": [
    "### Use case 1: Probablistic graph model - shortest path, drones"
   ]
  },
  {
   "cell_type": "code",
   "execution_count": 13,
   "metadata": {},
   "outputs": [
    {
     "data": {
      "text/html": [
       "<div>\n",
       "<style scoped>\n",
       "    .dataframe tbody tr th:only-of-type {\n",
       "        vertical-align: middle;\n",
       "    }\n",
       "\n",
       "    .dataframe tbody tr th {\n",
       "        vertical-align: top;\n",
       "    }\n",
       "\n",
       "    .dataframe thead th {\n",
       "        text-align: right;\n",
       "    }\n",
       "</style>\n",
       "<table border=\"1\" class=\"dataframe\">\n",
       "  <thead>\n",
       "    <tr style=\"text-align: right;\">\n",
       "      <th></th>\n",
       "      <th>pickup_address</th>\n",
       "      <th>dropoff_address</th>\n",
       "      <th>number_of_drives</th>\n",
       "      <th>waiting_time</th>\n",
       "      <th>avg_ride_time</th>\n",
       "      <th>avg_time_to_destination</th>\n",
       "    </tr>\n",
       "  </thead>\n",
       "  <tbody>\n",
       "    <tr>\n",
       "      <th>0</th>\n",
       "      <td>1001</td>\n",
       "      <td>1004</td>\n",
       "      <td>4</td>\n",
       "      <td>83.750000</td>\n",
       "      <td>0.001704</td>\n",
       "      <td>83.751704</td>\n",
       "    </tr>\n",
       "    <tr>\n",
       "      <th>1</th>\n",
       "      <td>1001</td>\n",
       "      <td>1005</td>\n",
       "      <td>19</td>\n",
       "      <td>17.631579</td>\n",
       "      <td>0.001543</td>\n",
       "      <td>17.633122</td>\n",
       "    </tr>\n",
       "    <tr>\n",
       "      <th>2</th>\n",
       "      <td>1001</td>\n",
       "      <td>1007</td>\n",
       "      <td>2</td>\n",
       "      <td>167.500000</td>\n",
       "      <td>0.002882</td>\n",
       "      <td>167.502882</td>\n",
       "    </tr>\n",
       "    <tr>\n",
       "      <th>3</th>\n",
       "      <td>1001</td>\n",
       "      <td>1008</td>\n",
       "      <td>3</td>\n",
       "      <td>111.666667</td>\n",
       "      <td>0.003538</td>\n",
       "      <td>111.670204</td>\n",
       "    </tr>\n",
       "    <tr>\n",
       "      <th>4</th>\n",
       "      <td>1001</td>\n",
       "      <td>1012</td>\n",
       "      <td>2</td>\n",
       "      <td>167.500000</td>\n",
       "      <td>0.005694</td>\n",
       "      <td>167.505694</td>\n",
       "    </tr>\n",
       "  </tbody>\n",
       "</table>\n",
       "</div>"
      ],
      "text/plain": [
       "   pickup_address  dropoff_address  number_of_drives  waiting_time  \\\n",
       "0            1001             1004                 4     83.750000   \n",
       "1            1001             1005                19     17.631579   \n",
       "2            1001             1007                 2    167.500000   \n",
       "3            1001             1008                 3    111.666667   \n",
       "4            1001             1012                 2    167.500000   \n",
       "\n",
       "   avg_ride_time  avg_time_to_destination  \n",
       "0       0.001704                83.751704  \n",
       "1       0.001543                17.633122  \n",
       "2       0.002882               167.502882  \n",
       "3       0.003538               111.670204  \n",
       "4       0.005694               167.505694  "
      ]
     },
     "execution_count": 13,
     "metadata": {},
     "output_type": "execute_result"
    }
   ],
   "source": [
    "# Read in the data and get the earliest and latest date\n",
    "cleaned_drives = pd.read_csv(f\"{repo}/data/cleaning/data_cleaned.csv\")\n",
    "cleaned_drives[\"scheduled_to\"] = pd.to_datetime(cleaned_drives[\"scheduled_to\"])\n",
    "start_date = cleaned_drives[\"scheduled_to\"].min()\n",
    "end_date = cleaned_drives[\"scheduled_to\"].max()\n",
    "\n",
    "# Calculate aggregated drives - one row gives information about time to destination from the given pickup address to the dropoff address\n",
    "aggregated_drives = pm.calculate_drives(cleaned_drives, start_date, end_date)\n",
    "aggregated_drives.head()"
   ]
  },
  {
   "cell_type": "code",
   "execution_count": 14,
   "metadata": {},
   "outputs": [],
   "source": [
    "# Based on our aggregated drives will build a graph. The weight on an edge between two spots is defined as the avg_time_to_destination\n",
    "graph = pm.calculate_graph(aggregated_drives)"
   ]
  },
  {
   "cell_type": "code",
   "execution_count": 15,
   "metadata": {},
   "outputs": [
    {
     "name": "stdout",
     "output_type": "stream",
     "text": [
      "The shortest path uses the following stops [1001, 1005, 4018] and takes 185 days\n"
     ]
    }
   ],
   "source": [
    "# One example of how the shortest path for one route can calculated. Further gives us the needed time to destination for that route.\n",
    "path, time_to_destination = pm.get_shortest_ride(1001, 4018, graph)\n",
    "print(f\"The shortest path uses the following stops {path} and takes {int(time_to_destination)} days\")"
   ]
  },
  {
   "cell_type": "code",
   "execution_count": 16,
   "metadata": {},
   "outputs": [
    {
     "name": "stdout",
     "output_type": "stream",
     "text": [
      "The following spots are the hotspots of our graph: [1008, 4025, 1005, 1009, 1007, 12007, 7001, 6004, 1010, 11017]\n"
     ]
    }
   ],
   "source": [
    "# Read in every combination of pickup address and dropoff adress\n",
    "edges = pd.read_excel(f\"{repo}/data/other/MoDstops+Preismodell.xlsx\", sheet_name= 'Liste 2022')\n",
    "# Calculate the hotspots based on our aggregated drives by calculating all possible shortest paths and take the spots which appear most often in a shortest path (leant on betweenness centrality)\n",
    "hotspots = pm.get_hotspots(edges, aggregated_drives, n = 10)\n",
    "print(f\"The following spots are the hotspots of our graph: {hotspots}\")"
   ]
  },
  {
   "cell_type": "code",
   "execution_count": 17,
   "metadata": {},
   "outputs": [
    {
     "data": {
      "text/html": [
       "<div>\n",
       "<style scoped>\n",
       "    .dataframe tbody tr th:only-of-type {\n",
       "        vertical-align: middle;\n",
       "    }\n",
       "\n",
       "    .dataframe tbody tr th {\n",
       "        vertical-align: top;\n",
       "    }\n",
       "\n",
       "    .dataframe thead th {\n",
       "        text-align: right;\n",
       "    }\n",
       "</style>\n",
       "<table border=\"1\" class=\"dataframe\">\n",
       "  <thead>\n",
       "    <tr style=\"text-align: right;\">\n",
       "      <th></th>\n",
       "      <th>pickup_address</th>\n",
       "      <th>dropoff_address</th>\n",
       "      <th>avg_time_to_destination</th>\n",
       "    </tr>\n",
       "  </thead>\n",
       "  <tbody>\n",
       "    <tr>\n",
       "      <th>38793</th>\n",
       "      <td>15012</td>\n",
       "      <td>15013</td>\n",
       "      <td>0.000451</td>\n",
       "    </tr>\n",
       "    <tr>\n",
       "      <th>38991</th>\n",
       "      <td>15013</td>\n",
       "      <td>15010</td>\n",
       "      <td>0.000536</td>\n",
       "    </tr>\n",
       "    <tr>\n",
       "      <th>38993</th>\n",
       "      <td>15013</td>\n",
       "      <td>15012</td>\n",
       "      <td>0.000451</td>\n",
       "    </tr>\n",
       "    <tr>\n",
       "      <th>38994</th>\n",
       "      <td>15013</td>\n",
       "      <td>15014</td>\n",
       "      <td>0.000747</td>\n",
       "    </tr>\n",
       "    <tr>\n",
       "      <th>39194</th>\n",
       "      <td>15014</td>\n",
       "      <td>15013</td>\n",
       "      <td>0.000747</td>\n",
       "    </tr>\n",
       "  </tbody>\n",
       "</table>\n",
       "</div>"
      ],
      "text/plain": [
       "       pickup_address  dropoff_address  avg_time_to_destination\n",
       "38793           15012            15013                 0.000451\n",
       "38991           15013            15010                 0.000536\n",
       "38993           15013            15012                 0.000451\n",
       "38994           15013            15014                 0.000747\n",
       "39194           15014            15013                 0.000747"
      ]
     },
     "execution_count": 17,
     "metadata": {},
     "output_type": "execute_result"
    }
   ],
   "source": [
    "# Manually define spots as dronespots\n",
    "drone_spots = [1008, 4025, 6004, 12007, 11017, 15013, 3021, 8001, 5001, 11003, 4016]\n",
    "\n",
    "# Add drone flights that can fly from the given drone spots to each spot in the given radius \n",
    "aggregated_drives_with_drone_flights = pm.add_drone_flights(edges, aggregated_drives, drone_spots, radius = 500)\n",
    "\n",
    "# Showing some example drone flights\n",
    "aggregated_drives_with_drone_flights.tail()"
   ]
  },
  {
   "cell_type": "code",
   "execution_count": 18,
   "metadata": {},
   "outputs": [],
   "source": [
    "# Calculate a new graph with the drone flights included\n",
    "graph_with_drone_flights = pm.calculate_graph(aggregated_drives_with_drone_flights)"
   ]
  },
  {
   "cell_type": "code",
   "execution_count": 19,
   "metadata": {},
   "outputs": [
    {
     "name": "stdout",
     "output_type": "stream",
     "text": [
      "The shortest path uses the following stops [1001, 1005, 4025, 1010, 4017, 4016, 4018] and takes 110 days\n"
     ]
    }
   ],
   "source": [
    "# Again calculate the shortest path for the same route. This time a different route is used because we can use drones. Further we need less time.\n",
    "path, time_to_destination = pm.get_shortest_ride(1001, 4018, graph_with_drone_flights)\n",
    "print(f\"The shortest path uses the following stops {path} and takes {int(time_to_destination)} days\")"
   ]
  },
  {
   "cell_type": "markdown",
   "metadata": {},
   "source": [
    "## Use case 2: Feasibility Analysis using our ride simulation"
   ]
  },
  {
   "cell_type": "code",
   "execution_count": 3,
   "metadata": {},
   "outputs": [],
   "source": [
    "# Read in the simulated rides which we calculated before\n",
    "simulated_rides = pd.read_csv(f\"{repo}/data/simulated/ride_simulation.csv\")\n"
   ]
  },
  {
   "cell_type": "code",
   "execution_count": 13,
   "metadata": {},
   "outputs": [
    {
     "data": {
      "text/html": [
       "<div>\n",
       "<style scoped>\n",
       "    .dataframe tbody tr th:only-of-type {\n",
       "        vertical-align: middle;\n",
       "    }\n",
       "\n",
       "    .dataframe tbody tr th {\n",
       "        vertical-align: top;\n",
       "    }\n",
       "\n",
       "    .dataframe thead th {\n",
       "        text-align: right;\n",
       "    }\n",
       "</style>\n",
       "<table border=\"1\" class=\"dataframe\">\n",
       "  <thead>\n",
       "    <tr style=\"text-align: right;\">\n",
       "      <th></th>\n",
       "      <th>#_simulated_rides</th>\n",
       "      <th>diameter_w/o_drones</th>\n",
       "      <th>avg_w/o_drones</th>\n",
       "      <th>diameter_with_drones</th>\n",
       "      <th>avg_with_drones</th>\n",
       "    </tr>\n",
       "  </thead>\n",
       "  <tbody>\n",
       "    <tr>\n",
       "      <th>0</th>\n",
       "      <td>714.285714</td>\n",
       "      <td>1021.295325</td>\n",
       "      <td>310.185544</td>\n",
       "      <td>1021.295325</td>\n",
       "      <td>310.185544</td>\n",
       "    </tr>\n",
       "    <tr>\n",
       "      <th>1</th>\n",
       "      <td>1785.714286</td>\n",
       "      <td>856.007396</td>\n",
       "      <td>149.054247</td>\n",
       "      <td>856.007396</td>\n",
       "      <td>149.054247</td>\n",
       "    </tr>\n",
       "    <tr>\n",
       "      <th>2</th>\n",
       "      <td>2857.142857</td>\n",
       "      <td>498.511587</td>\n",
       "      <td>101.660372</td>\n",
       "      <td>498.511587</td>\n",
       "      <td>101.660372</td>\n",
       "    </tr>\n",
       "    <tr>\n",
       "      <th>3</th>\n",
       "      <td>3928.571429</td>\n",
       "      <td>472.427032</td>\n",
       "      <td>75.635478</td>\n",
       "      <td>472.427032</td>\n",
       "      <td>75.635478</td>\n",
       "    </tr>\n",
       "    <tr>\n",
       "      <th>4</th>\n",
       "      <td>5000.000000</td>\n",
       "      <td>407.672183</td>\n",
       "      <td>62.380342</td>\n",
       "      <td>407.672183</td>\n",
       "      <td>62.380342</td>\n",
       "    </tr>\n",
       "    <tr>\n",
       "      <th>...</th>\n",
       "      <td>...</td>\n",
       "      <td>...</td>\n",
       "      <td>...</td>\n",
       "      <td>...</td>\n",
       "      <td>...</td>\n",
       "    </tr>\n",
       "    <tr>\n",
       "      <th>181</th>\n",
       "      <td>194642.857143</td>\n",
       "      <td>23.994421</td>\n",
       "      <td>1.938540</td>\n",
       "      <td>23.994421</td>\n",
       "      <td>1.938540</td>\n",
       "    </tr>\n",
       "    <tr>\n",
       "      <th>182</th>\n",
       "      <td>195714.285714</td>\n",
       "      <td>23.779115</td>\n",
       "      <td>1.924545</td>\n",
       "      <td>23.779115</td>\n",
       "      <td>1.924545</td>\n",
       "    </tr>\n",
       "    <tr>\n",
       "      <th>183</th>\n",
       "      <td>196785.714286</td>\n",
       "      <td>24.376029</td>\n",
       "      <td>1.923070</td>\n",
       "      <td>24.376029</td>\n",
       "      <td>1.923070</td>\n",
       "    </tr>\n",
       "    <tr>\n",
       "      <th>184</th>\n",
       "      <td>197857.142857</td>\n",
       "      <td>24.369703</td>\n",
       "      <td>1.909570</td>\n",
       "      <td>24.369703</td>\n",
       "      <td>1.909570</td>\n",
       "    </tr>\n",
       "    <tr>\n",
       "      <th>185</th>\n",
       "      <td>198928.571429</td>\n",
       "      <td>23.770293</td>\n",
       "      <td>1.895641</td>\n",
       "      <td>23.770293</td>\n",
       "      <td>1.895641</td>\n",
       "    </tr>\n",
       "  </tbody>\n",
       "</table>\n",
       "<p>186 rows × 5 columns</p>\n",
       "</div>"
      ],
      "text/plain": [
       "     #_simulated_rides  diameter_w/o_drones  avg_w/o_drones  \\\n",
       "0           714.285714          1021.295325      310.185544   \n",
       "1          1785.714286           856.007396      149.054247   \n",
       "2          2857.142857           498.511587      101.660372   \n",
       "3          3928.571429           472.427032       75.635478   \n",
       "4          5000.000000           407.672183       62.380342   \n",
       "..                 ...                  ...             ...   \n",
       "181      194642.857143            23.994421        1.938540   \n",
       "182      195714.285714            23.779115        1.924545   \n",
       "183      196785.714286            24.376029        1.923070   \n",
       "184      197857.142857            24.369703        1.909570   \n",
       "185      198928.571429            23.770293        1.895641   \n",
       "\n",
       "     diameter_with_drones  avg_with_drones  \n",
       "0             1021.295325       310.185544  \n",
       "1              856.007396       149.054247  \n",
       "2              498.511587       101.660372  \n",
       "3              472.427032        75.635478  \n",
       "4              407.672183        62.380342  \n",
       "..                    ...              ...  \n",
       "181             23.994421         1.938540  \n",
       "182             23.779115         1.924545  \n",
       "183             24.376029         1.923070  \n",
       "184             24.369703         1.909570  \n",
       "185             23.770293         1.895641  \n",
       "\n",
       "[186 rows x 5 columns]"
      ]
     },
     "execution_count": 13,
     "metadata": {},
     "output_type": "execute_result"
    }
   ],
   "source": [
    "# Calculate regression metrics (Careful, that takes really long, you can also just do it for the main routes below)\n",
    "regression_metrics = fa.getRegressionMetrics(simulated_rides, edges)\n",
    "regression_metrics"
   ]
  },
  {
   "cell_type": "code",
   "execution_count": 18,
   "metadata": {},
   "outputs": [],
   "source": [
    "# Calculate how many rides needed for given days and metric\n",
    "needed_rides = fa.get_rides_num(5, regression_metrics, \"avg_w/o_drones\")"
   ]
  },
  {
   "cell_type": "code",
   "execution_count": 20,
   "metadata": {},
   "outputs": [
    {
     "data": {
      "text/html": [
       "<div>\n",
       "<style scoped>\n",
       "    .dataframe tbody tr th:only-of-type {\n",
       "        vertical-align: middle;\n",
       "    }\n",
       "\n",
       "    .dataframe tbody tr th {\n",
       "        vertical-align: top;\n",
       "    }\n",
       "\n",
       "    .dataframe thead th {\n",
       "        text-align: right;\n",
       "    }\n",
       "</style>\n",
       "<table border=\"1\" class=\"dataframe\">\n",
       "  <thead>\n",
       "    <tr style=\"text-align: right;\">\n",
       "      <th></th>\n",
       "      <th>#_simulated_rides</th>\n",
       "      <th>diameter_w/o_drones</th>\n",
       "      <th>avg_w/o_drones</th>\n",
       "      <th>diameter_with_drones</th>\n",
       "      <th>avg_with_drones</th>\n",
       "    </tr>\n",
       "  </thead>\n",
       "  <tbody>\n",
       "    <tr>\n",
       "      <th>0</th>\n",
       "      <td>71.428571</td>\n",
       "      <td>243.234719</td>\n",
       "      <td>57.394685</td>\n",
       "      <td>243.234719</td>\n",
       "      <td>57.394685</td>\n",
       "    </tr>\n",
       "    <tr>\n",
       "      <th>1</th>\n",
       "      <td>78.571429</td>\n",
       "      <td>491.299102</td>\n",
       "      <td>89.479003</td>\n",
       "      <td>491.299102</td>\n",
       "      <td>89.479003</td>\n",
       "    </tr>\n",
       "    <tr>\n",
       "      <th>2</th>\n",
       "      <td>85.714286</td>\n",
       "      <td>483.275803</td>\n",
       "      <td>82.621350</td>\n",
       "      <td>483.275803</td>\n",
       "      <td>82.621350</td>\n",
       "    </tr>\n",
       "    <tr>\n",
       "      <th>3</th>\n",
       "      <td>92.857143</td>\n",
       "      <td>256.669405</td>\n",
       "      <td>56.596087</td>\n",
       "      <td>256.669405</td>\n",
       "      <td>56.596087</td>\n",
       "    </tr>\n",
       "    <tr>\n",
       "      <th>4</th>\n",
       "      <td>100.000000</td>\n",
       "      <td>188.610468</td>\n",
       "      <td>50.524979</td>\n",
       "      <td>188.610468</td>\n",
       "      <td>50.524979</td>\n",
       "    </tr>\n",
       "    <tr>\n",
       "      <th>...</th>\n",
       "      <td>...</td>\n",
       "      <td>...</td>\n",
       "      <td>...</td>\n",
       "      <td>...</td>\n",
       "      <td>...</td>\n",
       "    </tr>\n",
       "    <tr>\n",
       "      <th>773</th>\n",
       "      <td>5592.857143</td>\n",
       "      <td>3.789482</td>\n",
       "      <td>0.916857</td>\n",
       "      <td>3.789482</td>\n",
       "      <td>0.916857</td>\n",
       "    </tr>\n",
       "    <tr>\n",
       "      <th>774</th>\n",
       "      <td>5600.000000</td>\n",
       "      <td>3.785699</td>\n",
       "      <td>0.916801</td>\n",
       "      <td>3.785699</td>\n",
       "      <td>0.916801</td>\n",
       "    </tr>\n",
       "    <tr>\n",
       "      <th>775</th>\n",
       "      <td>5607.142857</td>\n",
       "      <td>3.806690</td>\n",
       "      <td>0.917319</td>\n",
       "      <td>3.806690</td>\n",
       "      <td>0.917319</td>\n",
       "    </tr>\n",
       "    <tr>\n",
       "      <th>776</th>\n",
       "      <td>5614.285714</td>\n",
       "      <td>3.786805</td>\n",
       "      <td>0.915207</td>\n",
       "      <td>3.786805</td>\n",
       "      <td>0.915207</td>\n",
       "    </tr>\n",
       "    <tr>\n",
       "      <th>777</th>\n",
       "      <td>5621.428571</td>\n",
       "      <td>3.785502</td>\n",
       "      <td>0.915870</td>\n",
       "      <td>3.785502</td>\n",
       "      <td>0.915870</td>\n",
       "    </tr>\n",
       "  </tbody>\n",
       "</table>\n",
       "<p>778 rows × 5 columns</p>\n",
       "</div>"
      ],
      "text/plain": [
       "     #_simulated_rides  diameter_w/o_drones  avg_w/o_drones  \\\n",
       "0            71.428571           243.234719       57.394685   \n",
       "1            78.571429           491.299102       89.479003   \n",
       "2            85.714286           483.275803       82.621350   \n",
       "3            92.857143           256.669405       56.596087   \n",
       "4           100.000000           188.610468       50.524979   \n",
       "..                 ...                  ...             ...   \n",
       "773        5592.857143             3.789482        0.916857   \n",
       "774        5600.000000             3.785699        0.916801   \n",
       "775        5607.142857             3.806690        0.917319   \n",
       "776        5614.285714             3.786805        0.915207   \n",
       "777        5621.428571             3.785502        0.915870   \n",
       "\n",
       "     diameter_with_drones  avg_with_drones  \n",
       "0              243.234719        57.394685  \n",
       "1              491.299102        89.479003  \n",
       "2              483.275803        82.621350  \n",
       "3              256.669405        56.596087  \n",
       "4              188.610468        50.524979  \n",
       "..                    ...              ...  \n",
       "773              3.789482         0.916857  \n",
       "774              3.785699         0.916801  \n",
       "775              3.806690         0.917319  \n",
       "776              3.786805         0.915207  \n",
       "777              3.785502         0.915870  \n",
       "\n",
       "[778 rows x 5 columns]"
      ]
     },
     "execution_count": 20,
     "metadata": {},
     "output_type": "execute_result"
    }
   ],
   "source": [
    "# Build regression_metrics for main routes. So that we have only routes between the choosen spots. (Takes about two minutes)\n",
    "main_spots = [1008, 4025, 6004, 12007, 11017, 15013, 3021, 8001, 5001, 11003, 4016]\n",
    "rides_main_routes = simulated_rides[(simulated_rides[\"pickup_address\"].isin(main_spots)) & (simulated_rides[\"dropoff_address\"].isin(main_spots))]\n",
    "regression_metrics_main_routes = fa.getRegressionMetrics(rides_main_routes, edges, 100, 1000)\n",
    "regression_metrics_main_routes"
   ]
  },
  {
   "cell_type": "code",
   "execution_count": 21,
   "metadata": {},
   "outputs": [],
   "source": [
    "# Calculate needed rides for the main routes\n",
    "needed_rides_main_routes = fa.get_rides_num(2, regression_metrics_main_routes, \"avg_w/o_drones\")"
   ]
  },
  {
   "cell_type": "code",
   "execution_count": 22,
   "metadata": {},
   "outputs": [
    {
     "data": {
      "application/vnd.plotly.v1+json": {
       "config": {
        "plotlyServerURL": "https://plot.ly"
       },
       "data": [
        {
         "hovertemplate": "avg_w/o_drones=%{x}<br>#_simulated_rides=%{y}<extra></extra>",
         "legendgroup": "",
         "marker": {
          "color": "DarkKhaki",
          "symbol": "circle"
         },
         "mode": "markers",
         "name": "Simulated Rides Data",
         "orientation": "v",
         "showlegend": false,
         "type": "scatter",
         "x": [
          57.39468454047362,
          89.47900299523774,
          82.62135015160358,
          56.59608684277339,
          50.52497929366336,
          42.66856200809375,
          69.1858513751659,
          57.55503518776867,
          41.00858340803462,
          65.74913201295462,
          28.44801960041032,
          26.428961700186697,
          39.60031500060798,
          24.957750716538442,
          39.72007630794426,
          39.30224381326546,
          31.91261511364625,
          24.140145155233668,
          26.824688319520384,
          25.86271335444649,
          23.063630155496245,
          18.727271912712563,
          26.095290968102045,
          21.595270137217053,
          24.846877820791775,
          20.00622551122836,
          18.75521471051816,
          23.858236846183132,
          17.514806733167774,
          25.776972361457936,
          18.487740832993715,
          18.46371279874504,
          17.8349998252304,
          18.550642525714192,
          15.336116441213836,
          15.614097261756738,
          16.934993069384397,
          12.66097046940037,
          20.01305625569724,
          15.373451256799079,
          17.28829338268325,
          20.00492938639572,
          16.105386754054344,
          15.260302028046848,
          17.31031587800378,
          14.106674096056382,
          13.699917209441104,
          13.155309768309419,
          10.852939591301467,
          12.005958197162172,
          9.934411006264416,
          12.938464946191653,
          11.025581428097716,
          10.522625337109165,
          10.90278279971924,
          10.814182602428854,
          10.93652064848034,
          10.143257704723919,
          10.042481722696621,
          11.028442774063311,
          9.69148983220445,
          10.89330367243922,
          9.206791529128036,
          11.444342586742007,
          9.088401567277582,
          11.599934008481767,
          9.800485113717965,
          8.924499741886237,
          8.88034981760123,
          8.774287616142432,
          8.18651062899939,
          8.857205080036985,
          9.288400004458607,
          8.271900564717262,
          8.50846726201075,
          6.998108865580536,
          7.556967920563661,
          7.60001196606481,
          9.476452978464788,
          7.397493943255427,
          7.751890997414813,
          7.671356250235798,
          8.19642849818176,
          7.677509005480967,
          8.364768691649774,
          7.922114514901918,
          6.743816147296502,
          8.461995499898332,
          6.847450467350912,
          7.146320084888613,
          7.42926122109768,
          6.0680184433035596,
          6.724589088985477,
          6.489738987797169,
          6.592279920557461,
          6.957777662688368,
          7.933481968497871,
          6.371506879823186,
          6.0382689938337935,
          6.443641866105975,
          7.4348940889207595,
          5.771922852630134,
          7.961653463200634,
          5.963990970920229,
          6.486468165094581,
          5.528407646737863,
          6.244248581684806,
          7.0821088985565375,
          5.8077594456285535,
          5.687893658461045,
          6.504027589011779,
          5.548660140089509,
          5.397495570560284,
          5.507572180514102,
          5.329475402899054,
          5.909828528283438,
          5.178659093083694,
          6.014023011561418,
          5.61217683451983,
          5.339192283906129,
          5.019672217675202,
          5.998131321842238,
          5.281191868077429,
          5.985604213000581,
          5.415638963387424,
          5.123217720960391,
          5.027708006150378,
          4.935321098848905,
          4.744297989927896,
          4.920712828603144,
          5.404213284123161,
          5.555307120436811,
          6.2581210896708175,
          4.826349441130337,
          4.658444648168046,
          4.471495723235663,
          5.0601214023958985,
          5.171900178405506,
          5.071972961384433,
          4.389611514154585,
          5.502019086084879,
          4.591604335614281,
          5.98163272163083,
          5.042962422337981,
          4.664716884493853,
          4.2444258190628705,
          4.833410316755394,
          5.002755137556449,
          4.839864237967188,
          4.5193676458608705,
          4.364955950341763,
          4.810974987714747,
          4.676497209924322,
          4.578513496464555,
          4.598628495979232,
          4.155988594056303,
          4.228535145772378,
          4.279048563209188,
          4.342699661292931,
          4.489892274233478,
          4.069251286783202,
          4.5003727079334315,
          4.164785292056535,
          4.627730317453825,
          4.185790260107073,
          4.210170199722282,
          3.9818913414172457,
          4.1174390626649915,
          3.9520681649891456,
          4.226108394698517,
          3.8177296833111387,
          3.7539709203685474,
          3.920642569807682,
          3.9014288397859733,
          4.262596606095363,
          4.273631470542449,
          3.8672010697300845,
          3.8764428417931636,
          3.7240716035276855,
          3.961447012725342,
          3.628529856327537,
          3.598961822702607,
          3.6166468421363898,
          3.712649337335743,
          4.052608697845229,
          3.753460668214127,
          3.4715503471572613,
          3.7963208628214953,
          3.2411654531506993,
          3.5822675327124305,
          3.9134901909200215,
          3.5409647630919716,
          3.463215131315665,
          3.5146769177846062,
          3.361028483152969,
          3.520372145851797,
          3.5197146256032275,
          3.6895411230910886,
          3.2626243469088463,
          3.5694425301398782,
          3.626161812293397,
          3.523143295431891,
          3.574748826012832,
          3.4099431793019614,
          3.2320174622495497,
          3.4010838772703913,
          3.0128133845138616,
          3.203600356394672,
          3.326322340445155,
          3.3307088407176515,
          3.201978107182264,
          3.404327743992058,
          3.148026602675179,
          3.2325499032147436,
          3.2960951489292563,
          3.1045807158994045,
          2.992658202099588,
          3.1793207791584526,
          3.008901212502888,
          3.0802595535999187,
          3.0240158364243928,
          3.2828629125186453,
          2.8982995477340747,
          3.075098727044829,
          3.11291643633371,
          3.1793603896948825,
          3.0747557204271323,
          3.056457842047723,
          2.9125620613410192,
          3.03583835595352,
          2.9257799471720505,
          3.072228813951413,
          2.9335029394849057,
          2.9171997351445116,
          2.8986254249976313,
          3.3437826991032953,
          2.9193055273393993,
          2.910717093642765,
          2.9778601674450704,
          2.9379931337717333,
          2.9475829487669456,
          2.6325149814131277,
          2.965973069553014,
          2.9407400331507043,
          2.954630979470918,
          2.813943757883732,
          2.9622452725160198,
          2.588444236743296,
          2.7243943561543262,
          2.578386047246616,
          2.6420279239477478,
          2.650866031220604,
          2.686604416419935,
          2.7050985050566543,
          2.8496195490072025,
          2.889428551517804,
          2.6804497322644485,
          2.5564811412995403,
          2.5414731320179276,
          2.7034909760980765,
          2.7467111396084207,
          2.7114711359930803,
          2.5670646236541876,
          2.8328998153793012,
          2.7660844273767804,
          2.7348758800000077,
          2.5584468828097267,
          2.325186993289121,
          2.571014358892064,
          2.5557841359711957,
          2.600051351174885,
          2.5625751193009183,
          2.4498999463118487,
          2.5586418473756902,
          2.6775276973601136,
          2.3769731147813844,
          2.502552036301994,
          2.444341573661721,
          2.3443037998817706,
          2.7333509122248434,
          2.4516763800874246,
          2.469859266612852,
          2.29837233446538,
          2.425785389958462,
          2.4179775419968963,
          2.452062497508348,
          2.361340544428398,
          2.3709311930505477,
          2.3609555384662055,
          2.34422017969015,
          2.4447979923208902,
          2.3782778502999795,
          2.4075338236880484,
          2.4512761797346014,
          2.415885072015463,
          2.34224567933507,
          2.4913994124058885,
          2.318922265183972,
          2.2041463442034175,
          2.251777368326326,
          2.418346386022891,
          2.251072635017039,
          2.2293102870230883,
          2.3630670382166232,
          2.2094154168426474,
          2.2222090016930856,
          2.270151861523932,
          2.21686784085596,
          2.375976280927906,
          2.214295924005349,
          2.1506627355432975,
          2.180592206207431,
          2.0506304166435414,
          2.204380586381098,
          2.223263133677829,
          2.134237695430703,
          2.0811741826868766,
          2.2553598045994674,
          2.2780607164442643,
          2.266615102017566,
          2.199003089326302,
          2.133577763963339,
          2.2512378872995416,
          2.118968619407949,
          2.058914093572443,
          2.133511904540935,
          2.102687380267776,
          2.158208764801648,
          2.1216686287922553,
          2.1216307544975264,
          2.0797274731041404,
          2.037483603033833,
          1.9823731296035654,
          1.9947275686278323,
          2.139125984845838,
          2.060555278148276,
          2.067039089706318,
          2.247085099371539,
          2.0570737150392167,
          2.0983587903384153,
          2.108208746670793,
          2.051701962622485,
          1.962182389432758,
          1.8879265794798403,
          1.9850111501398515,
          2.0510095440710803,
          2.058200568431449,
          1.9994356968217946,
          1.9906876617425304,
          2.227409162989244,
          1.9634131149806426,
          2.002036261144954,
          2.026624363282684,
          1.893412533178255,
          2.0106424132992187,
          1.892430682606846,
          1.8970911486379025,
          2.0188331289924792,
          1.9919772794412693,
          1.9294034417728656,
          1.9915464687845577,
          1.9173506125168036,
          1.9167583966499,
          1.9186858385219305,
          2.0241019170035863,
          2.014643064786625,
          1.9724855852545533,
          1.9458007108679425,
          1.9894198882675131,
          1.9002026385100965,
          1.7898819215108877,
          1.880806217559281,
          1.9161149559346122,
          1.8468302153083112,
          1.793770434278591,
          1.900766883108427,
          1.798092436671971,
          1.7690529467621985,
          1.8588647156616718,
          1.8263295049100883,
          1.8559343997726514,
          1.8093438459899622,
          1.8796906941429985,
          1.8768162356657396,
          1.833718062976776,
          1.878283654192904,
          1.7949504146428745,
          1.777839202863648,
          1.7858974625911832,
          1.8227326079800692,
          1.88650897838345,
          1.7690136486265138,
          1.770659694475351,
          1.7481437995424247,
          1.7665680312750012,
          1.7713992008739576,
          1.7914083660285758,
          1.67399729865439,
          1.7702423556776188,
          1.7742290555306963,
          1.810311499192386,
          1.653335719695933,
          1.739029373542714,
          1.7889293666429056,
          1.732755751450112,
          1.7356142579003941,
          1.732399800096149,
          1.7517925707297817,
          1.7434621213960328,
          1.7399831012034908,
          1.720368615854611,
          1.7123256573248606,
          1.7290345364284534,
          1.6832190119117492,
          1.6765653939446807,
          1.7158276794549072,
          1.6960787440687413,
          1.6670163354727858,
          1.7512844345369962,
          1.684701519712449,
          1.7100721253732676,
          1.6533469041330202,
          1.6624209978443076,
          1.6315994041903865,
          1.6078535678280732,
          1.6744932425070072,
          1.6212264506855036,
          1.571224922110728,
          1.665053232760942,
          1.605900933784569,
          1.6885620881908094,
          1.6115897549768778,
          1.6941466767349322,
          1.6387864990025802,
          1.654425624209086,
          1.587684809703509,
          1.6488918007380622,
          1.555450308416991,
          1.578374841765268,
          1.5651335575260907,
          1.5743536895219252,
          1.5754390379693197,
          1.5728893412858813,
          1.6158218669975517,
          1.5649225445897927,
          1.5152223866279118,
          1.5586906935022549,
          1.602885413955196,
          1.5766090674647877,
          1.6540706820492552,
          1.557495936379187,
          1.5284635097369623,
          1.5110702542770327,
          1.5661643612012697,
          1.5469333168240458,
          1.5060530702670483,
          1.5709250518428213,
          1.483835803156543,
          1.541819037760062,
          1.4864806642367652,
          1.5332562361508417,
          1.5425677045308306,
          1.4956713204823842,
          1.5959749708089923,
          1.5445687301511195,
          1.4775668978693377,
          1.5146310108629537,
          1.5230106271755433,
          1.4705100446830335,
          1.5197125082217489,
          1.5092036368735642,
          1.4586331565148363,
          1.4475702702005755,
          1.4964180656569332,
          1.5174991148129162,
          1.4478665100103363,
          1.455069434883315,
          1.4920401135606856,
          1.433579772485663,
          1.4524699445100975,
          1.4788028631488372,
          1.4437022983505552,
          1.4817128485593607,
          1.4764457999022411,
          1.5353099034265987,
          1.4424260682038463,
          1.4272227468778014,
          1.4337037906953627,
          1.387449546877055,
          1.3913236334451944,
          1.4078744535545757,
          1.3634013480813514,
          1.371002680562458,
          1.4593561053437325,
          1.3960515011945949,
          1.4542851114307498,
          1.4114696343465156,
          1.4221535831510705,
          1.4312541481071672,
          1.4253601452047022,
          1.3442701560968642,
          1.3471700053845617,
          1.4172740176385874,
          1.4040477431340113,
          1.4433159866074603,
          1.3986224516074037,
          1.415271675336828,
          1.3892280026279689,
          1.3643744470193155,
          1.4048708701785138,
          1.3902962997535844,
          1.426889084824126,
          1.3326521606160344,
          1.3826950130207125,
          1.3809681852381557,
          1.3739272692968363,
          1.3277395821563245,
          1.3075407395289886,
          1.3535650478754762,
          1.3672374675221985,
          1.3341500768920072,
          1.3444190080769851,
          1.323037628870142,
          1.3778564277002583,
          1.3682291282894397,
          1.3528460428933946,
          1.3365016212519933,
          1.2979138205209004,
          1.3231986125907667,
          1.3518491972232232,
          1.3413731192335971,
          1.2757607996650153,
          1.301285783955932,
          1.3228012787258483,
          1.3394524978826303,
          1.3276826848981864,
          1.2952436108342391,
          1.302587388139921,
          1.3404683878671457,
          1.3185289378198628,
          1.2949968576218345,
          1.3542723868718978,
          1.2710516750052885,
          1.302694299527696,
          1.3034046343946055,
          1.2771015051294932,
          1.2924371817105174,
          1.2641804052855676,
          1.2887272347796832,
          1.2763290265046248,
          1.301831850356619,
          1.3038424573846137,
          1.2908504529103009,
          1.262362597735919,
          1.2524946433560697,
          1.231185200960434,
          1.2368670526369967,
          1.3052703522389155,
          1.264573292289521,
          1.2337181405093545,
          1.2968034651354072,
          1.249646707195072,
          1.224057725330544,
          1.2511725172113826,
          1.2470241170725611,
          1.2639447811017892,
          1.2398824503401629,
          1.225672901457764,
          1.2457054830179681,
          1.2645585057511872,
          1.2333671592927191,
          1.235000857923934,
          1.2410800723762259,
          1.2546716799554882,
          1.2201963017010509,
          1.1969148878450118,
          1.1958333549015832,
          1.2215789978431504,
          1.1997373420083621,
          1.3032323950183338,
          1.2136279906398295,
          1.1771259165709917,
          1.245457713346905,
          1.1903201023072654,
          1.1747672487550647,
          1.195946597945266,
          1.2243086697732404,
          1.200387939661902,
          1.2060907920224222,
          1.2158948719482467,
          1.1988535117247372,
          1.184708679761758,
          1.2141232192393234,
          1.2227877131231888,
          1.1855217118748007,
          1.2020118502226582,
          1.1567395350075684,
          1.222650511614457,
          1.1652559130387499,
          1.1942830177394137,
          1.1544803209352281,
          1.1859211059849881,
          1.243186700098525,
          1.1720589891007522,
          1.1733552479005787,
          1.1765597917408552,
          1.1673595932917586,
          1.1405378758994287,
          1.1788148389399455,
          1.1430366690050726,
          1.1703562256369957,
          1.1636723939661155,
          1.1444773426082988,
          1.177078574629849,
          1.157543727172059,
          1.151753015801259,
          1.1575022683496214,
          1.1154982482781741,
          1.1431722504774895,
          1.1488526031844304,
          1.1347120671227255,
          1.1578018791432272,
          1.1465520014551212,
          1.117611569755487,
          1.1368494359383157,
          1.1323227276484655,
          1.1006909940288143,
          1.1141788537775652,
          1.1016014488206054,
          1.1331009665270226,
          1.1142911733197534,
          1.1348725943651354,
          1.1238388924308393,
          1.1182575867224032,
          1.1233820737278146,
          1.1189066257186338,
          1.1108691896582064,
          1.141246988222884,
          1.1381878317297245,
          1.1062802741547526,
          1.111785300427094,
          1.1092560120492982,
          1.1322475387369648,
          1.1273280895678575,
          1.0901699474959863,
          1.1034507797548738,
          1.1035947613123038,
          1.1039275497639316,
          1.114456950161976,
          1.1007947582994195,
          1.0804059563419681,
          1.0703824600551761,
          1.0772626966000103,
          1.0951050585865942,
          1.0773805232390474,
          1.064773930386006,
          1.076249477501267,
          1.0638576049885033,
          1.0840488410667273,
          1.0703200264852797,
          1.0658470252147954,
          1.0730397335339383,
          1.0654656789395254,
          1.081876672825687,
          1.0805878954652022,
          1.0939252470041418,
          1.047090347901009,
          1.0679073649097075,
          1.0543262812103742,
          1.0559414724918015,
          1.028786410813446,
          1.068393668289633,
          1.0862407518569905,
          1.0577790139062193,
          1.0548574790418561,
          1.0249585403356571,
          1.0753244746001085,
          1.0584525886988918,
          1.0520674674215662,
          1.0260045504864561,
          1.0698809816512245,
          1.0331893350437025,
          1.037277434783647,
          1.0493025236962008,
          1.0333677192268464,
          1.031616806182729,
          1.023924482783514,
          1.037536226266853,
          1.0243457197417885,
          1.0314234018071016,
          1.023944635119476,
          1.0275330036890458,
          1.023875280367,
          1.0102117183693946,
          1.0346575328547394,
          1.020674336576827,
          1.0142116786298307,
          1.0121963898275739,
          1.011545389222561,
          1.0105601313987893,
          1.0180968262341585,
          1.0309261937486438,
          1.001953229390809,
          0.9964508613014118,
          0.9990172341197587,
          1.0103951651033627,
          1.0118105277614056,
          0.9980046125119043,
          1.0019400833762357,
          0.9872294842341269,
          0.9933617433134083,
          0.9893060712176457,
          0.9938791448947332,
          1.0095666897525353,
          0.9973294545547852,
          0.9843370090897542,
          0.9842207994389411,
          0.9922412502015832,
          0.9785077601461211,
          0.9836405679422487,
          0.9994474350070301,
          0.9967242061993358,
          0.990113998314566,
          0.9696050965355051,
          1.0010324637949843,
          0.9609987107343032,
          0.9851798650796966,
          0.9828386152201933,
          0.9781169985762471,
          0.9642042185740954,
          0.966397052031168,
          0.9732397084161583,
          0.96739941446997,
          0.9687838915677929,
          0.9735646460037564,
          0.9701458399336138,
          0.9571298350165306,
          0.9707253638195708,
          0.9588729899759804,
          0.9617575947180695,
          0.9536574732136567,
          0.9633099017087727,
          0.9570004970125544,
          0.9507257718833566,
          0.9528521375477621,
          0.9555873683914246,
          0.9587415396865113,
          0.9478339906936634,
          0.946981264782319,
          0.950881735394175,
          0.9511269296129886,
          0.95177753481096,
          0.9454478996428853,
          0.9449731068375531,
          0.9406082294396888,
          0.9422194348922794,
          0.9377214777787715,
          0.9379766240919876,
          0.9463316807268394,
          0.9382898419214686,
          0.9343739628509642,
          0.934629060458737,
          0.937652359492745,
          0.9318979447659507,
          0.9304978386161914,
          0.9314417171825695,
          0.9325132576041262,
          0.9269900302500775,
          0.928273056084345,
          0.9275950015431426,
          0.923313734988135,
          0.9217181591430792,
          0.9172379142357361,
          0.9168569563096335,
          0.9168009153170021,
          0.917318980178563,
          0.9152065825116837,
          0.9158700783507785
         ],
         "xaxis": "x",
         "y": [
          71.42857142857143,
          78.57142857142857,
          85.71428571428571,
          92.85714285714286,
          100,
          107.14285714285714,
          114.28571428571429,
          121.42857142857143,
          128.57142857142858,
          135.71428571428572,
          142.85714285714286,
          150,
          157.14285714285714,
          164.28571428571428,
          171.42857142857142,
          178.57142857142858,
          185.71428571428572,
          192.85714285714286,
          200,
          207.14285714285714,
          214.28571428571428,
          221.42857142857142,
          228.57142857142858,
          235.71428571428572,
          242.85714285714286,
          250,
          257.14285714285717,
          264.2857142857143,
          271.42857142857144,
          278.57142857142856,
          285.7142857142857,
          292.85714285714283,
          300,
          307.14285714285717,
          314.2857142857143,
          321.42857142857144,
          328.57142857142856,
          335.7142857142857,
          342.85714285714283,
          350,
          357.14285714285717,
          364.2857142857143,
          371.42857142857144,
          378.57142857142856,
          385.7142857142857,
          392.85714285714283,
          400,
          407.14285714285717,
          414.2857142857143,
          421.42857142857144,
          428.57142857142856,
          435.7142857142857,
          442.85714285714283,
          450,
          457.14285714285717,
          464.2857142857143,
          471.42857142857144,
          478.57142857142856,
          485.7142857142857,
          492.85714285714283,
          500,
          507.14285714285717,
          514.2857142857143,
          521.4285714285714,
          528.5714285714286,
          535.7142857142857,
          542.8571428571429,
          550,
          557.1428571428571,
          564.2857142857143,
          571.4285714285714,
          578.5714285714286,
          585.7142857142857,
          592.8571428571429,
          600,
          607.1428571428571,
          614.2857142857143,
          621.4285714285714,
          628.5714285714286,
          635.7142857142857,
          642.8571428571429,
          650,
          657.1428571428571,
          664.2857142857143,
          671.4285714285714,
          678.5714285714286,
          685.7142857142857,
          692.8571428571429,
          700,
          707.1428571428571,
          714.2857142857143,
          721.4285714285714,
          728.5714285714286,
          735.7142857142857,
          742.8571428571429,
          750,
          757.1428571428571,
          764.2857142857143,
          771.4285714285714,
          778.5714285714286,
          785.7142857142857,
          792.8571428571429,
          800,
          807.1428571428571,
          814.2857142857143,
          821.4285714285714,
          828.5714285714286,
          835.7142857142857,
          842.8571428571429,
          850,
          857.1428571428571,
          864.2857142857143,
          871.4285714285714,
          878.5714285714286,
          885.7142857142857,
          892.8571428571429,
          900,
          907.1428571428571,
          914.2857142857143,
          921.4285714285714,
          928.5714285714286,
          935.7142857142857,
          942.8571428571429,
          950,
          957.1428571428571,
          964.2857142857143,
          971.4285714285714,
          978.5714285714286,
          985.7142857142857,
          992.8571428571429,
          1000,
          1007.1428571428571,
          1014.2857142857143,
          1021.4285714285714,
          1028.5714285714287,
          1035.7142857142858,
          1042.857142857143,
          1050,
          1057.142857142857,
          1064.2857142857142,
          1071.4285714285713,
          1078.5714285714287,
          1085.7142857142858,
          1092.857142857143,
          1100,
          1107.142857142857,
          1114.2857142857142,
          1121.4285714285713,
          1128.5714285714287,
          1135.7142857142858,
          1142.857142857143,
          1150,
          1157.142857142857,
          1164.2857142857142,
          1171.4285714285713,
          1178.5714285714287,
          1185.7142857142858,
          1192.857142857143,
          1200,
          1207.142857142857,
          1214.2857142857142,
          1221.4285714285713,
          1228.5714285714287,
          1235.7142857142858,
          1242.857142857143,
          1250,
          1257.142857142857,
          1264.2857142857142,
          1271.4285714285713,
          1278.5714285714287,
          1285.7142857142858,
          1292.857142857143,
          1300,
          1307.142857142857,
          1314.2857142857142,
          1321.4285714285713,
          1328.5714285714287,
          1335.7142857142858,
          1342.857142857143,
          1350,
          1357.142857142857,
          1364.2857142857142,
          1371.4285714285713,
          1378.5714285714287,
          1385.7142857142858,
          1392.857142857143,
          1400,
          1407.142857142857,
          1414.2857142857142,
          1421.4285714285713,
          1428.5714285714287,
          1435.7142857142858,
          1442.857142857143,
          1450,
          1457.142857142857,
          1464.2857142857142,
          1471.4285714285713,
          1478.5714285714287,
          1485.7142857142858,
          1492.857142857143,
          1500,
          1507.142857142857,
          1514.2857142857142,
          1521.4285714285713,
          1528.5714285714287,
          1535.7142857142858,
          1542.857142857143,
          1550,
          1557.142857142857,
          1564.2857142857142,
          1571.4285714285713,
          1578.5714285714287,
          1585.7142857142858,
          1592.857142857143,
          1600,
          1607.142857142857,
          1614.2857142857142,
          1621.4285714285713,
          1628.5714285714287,
          1635.7142857142858,
          1642.857142857143,
          1650,
          1657.142857142857,
          1664.2857142857142,
          1671.4285714285713,
          1678.5714285714287,
          1685.7142857142858,
          1692.857142857143,
          1700,
          1707.142857142857,
          1714.2857142857142,
          1721.4285714285713,
          1728.5714285714287,
          1735.7142857142858,
          1742.857142857143,
          1750,
          1757.142857142857,
          1764.2857142857142,
          1771.4285714285713,
          1778.5714285714287,
          1785.7142857142858,
          1792.857142857143,
          1800,
          1807.142857142857,
          1814.2857142857142,
          1821.4285714285713,
          1828.5714285714287,
          1835.7142857142858,
          1842.857142857143,
          1850,
          1857.142857142857,
          1864.2857142857142,
          1871.4285714285713,
          1878.5714285714287,
          1885.7142857142858,
          1892.857142857143,
          1900,
          1907.142857142857,
          1914.2857142857142,
          1921.4285714285713,
          1928.5714285714287,
          1935.7142857142858,
          1942.857142857143,
          1950,
          1957.142857142857,
          1964.2857142857142,
          1971.4285714285713,
          1978.5714285714287,
          1985.7142857142858,
          1992.857142857143,
          2000,
          2007.142857142857,
          2014.2857142857142,
          2021.4285714285713,
          2028.5714285714287,
          2035.7142857142858,
          2042.857142857143,
          2050,
          2057.1428571428573,
          2064.285714285714,
          2071.4285714285716,
          2078.5714285714284,
          2085.714285714286,
          2092.8571428571427,
          2100,
          2107.1428571428573,
          2114.285714285714,
          2121.4285714285716,
          2128.5714285714284,
          2135.714285714286,
          2142.8571428571427,
          2150,
          2157.1428571428573,
          2164.285714285714,
          2171.4285714285716,
          2178.5714285714284,
          2185.714285714286,
          2192.8571428571427,
          2200,
          2207.1428571428573,
          2214.285714285714,
          2221.4285714285716,
          2228.5714285714284,
          2235.714285714286,
          2242.8571428571427,
          2250,
          2257.1428571428573,
          2264.285714285714,
          2271.4285714285716,
          2278.5714285714284,
          2285.714285714286,
          2292.8571428571427,
          2300,
          2307.1428571428573,
          2314.285714285714,
          2321.4285714285716,
          2328.5714285714284,
          2335.714285714286,
          2342.8571428571427,
          2350,
          2357.1428571428573,
          2364.285714285714,
          2371.4285714285716,
          2378.5714285714284,
          2385.714285714286,
          2392.8571428571427,
          2400,
          2407.1428571428573,
          2414.285714285714,
          2421.4285714285716,
          2428.5714285714284,
          2435.714285714286,
          2442.8571428571427,
          2450,
          2457.1428571428573,
          2464.285714285714,
          2471.4285714285716,
          2478.5714285714284,
          2485.714285714286,
          2492.8571428571427,
          2500,
          2507.1428571428573,
          2514.285714285714,
          2521.4285714285716,
          2528.5714285714284,
          2535.714285714286,
          2542.8571428571427,
          2550,
          2557.1428571428573,
          2564.285714285714,
          2571.4285714285716,
          2578.5714285714284,
          2585.714285714286,
          2592.8571428571427,
          2600,
          2607.1428571428573,
          2614.285714285714,
          2621.4285714285716,
          2628.5714285714284,
          2635.714285714286,
          2642.8571428571427,
          2650,
          2657.1428571428573,
          2664.285714285714,
          2671.4285714285716,
          2678.5714285714284,
          2685.714285714286,
          2692.8571428571427,
          2700,
          2707.1428571428573,
          2714.285714285714,
          2721.4285714285716,
          2728.5714285714284,
          2735.714285714286,
          2742.8571428571427,
          2750,
          2757.1428571428573,
          2764.285714285714,
          2771.4285714285716,
          2778.5714285714284,
          2785.714285714286,
          2792.8571428571427,
          2800,
          2807.1428571428573,
          2814.285714285714,
          2821.4285714285716,
          2828.5714285714284,
          2835.714285714286,
          2842.8571428571427,
          2850,
          2857.1428571428573,
          2864.285714285714,
          2871.4285714285716,
          2878.5714285714284,
          2885.714285714286,
          2892.8571428571427,
          2900,
          2907.1428571428573,
          2914.285714285714,
          2921.4285714285716,
          2928.5714285714284,
          2935.714285714286,
          2942.8571428571427,
          2950,
          2957.1428571428573,
          2964.285714285714,
          2971.4285714285716,
          2978.5714285714284,
          2985.714285714286,
          2992.8571428571427,
          3000,
          3007.1428571428573,
          3014.285714285714,
          3021.4285714285716,
          3028.5714285714284,
          3035.714285714286,
          3042.8571428571427,
          3050,
          3057.1428571428573,
          3064.285714285714,
          3071.4285714285716,
          3078.5714285714284,
          3085.714285714286,
          3092.8571428571427,
          3100,
          3107.1428571428573,
          3114.285714285714,
          3121.4285714285716,
          3128.5714285714284,
          3135.714285714286,
          3142.8571428571427,
          3150,
          3157.1428571428573,
          3164.285714285714,
          3171.4285714285716,
          3178.5714285714284,
          3185.714285714286,
          3192.8571428571427,
          3200,
          3207.1428571428573,
          3214.285714285714,
          3221.4285714285716,
          3228.5714285714284,
          3235.714285714286,
          3242.8571428571427,
          3250,
          3257.1428571428573,
          3264.285714285714,
          3271.4285714285716,
          3278.5714285714284,
          3285.714285714286,
          3292.8571428571427,
          3300,
          3307.1428571428573,
          3314.285714285714,
          3321.4285714285716,
          3328.5714285714284,
          3335.714285714286,
          3342.8571428571427,
          3350,
          3357.1428571428573,
          3364.285714285714,
          3371.4285714285716,
          3378.5714285714284,
          3385.714285714286,
          3392.8571428571427,
          3400,
          3407.1428571428573,
          3414.285714285714,
          3421.4285714285716,
          3428.5714285714284,
          3435.714285714286,
          3442.8571428571427,
          3450,
          3457.1428571428573,
          3464.285714285714,
          3471.4285714285716,
          3478.5714285714284,
          3485.714285714286,
          3492.8571428571427,
          3500,
          3507.1428571428573,
          3514.285714285714,
          3521.4285714285716,
          3528.5714285714284,
          3535.714285714286,
          3542.8571428571427,
          3550,
          3557.1428571428573,
          3564.285714285714,
          3571.4285714285716,
          3578.5714285714284,
          3585.714285714286,
          3592.8571428571427,
          3600,
          3607.1428571428573,
          3614.285714285714,
          3621.4285714285716,
          3628.5714285714284,
          3635.714285714286,
          3642.8571428571427,
          3650,
          3657.1428571428573,
          3664.285714285714,
          3671.4285714285716,
          3678.5714285714284,
          3685.714285714286,
          3692.8571428571427,
          3700,
          3707.1428571428573,
          3714.285714285714,
          3721.4285714285716,
          3728.5714285714284,
          3735.714285714286,
          3742.8571428571427,
          3750,
          3757.1428571428573,
          3764.285714285714,
          3771.4285714285716,
          3778.5714285714284,
          3785.714285714286,
          3792.8571428571427,
          3800,
          3807.1428571428573,
          3814.285714285714,
          3821.4285714285716,
          3828.5714285714284,
          3835.714285714286,
          3842.8571428571427,
          3850,
          3857.1428571428573,
          3864.285714285714,
          3871.4285714285716,
          3878.5714285714284,
          3885.714285714286,
          3892.8571428571427,
          3900,
          3907.1428571428573,
          3914.285714285714,
          3921.4285714285716,
          3928.5714285714284,
          3935.714285714286,
          3942.8571428571427,
          3950,
          3957.1428571428573,
          3964.285714285714,
          3971.4285714285716,
          3978.5714285714284,
          3985.714285714286,
          3992.8571428571427,
          4000,
          4007.1428571428573,
          4014.285714285714,
          4021.4285714285716,
          4028.5714285714284,
          4035.714285714286,
          4042.8571428571427,
          4050,
          4057.1428571428573,
          4064.285714285714,
          4071.4285714285716,
          4078.5714285714284,
          4085.714285714286,
          4092.8571428571427,
          4100,
          4107.142857142857,
          4114.285714285715,
          4121.428571428572,
          4128.571428571428,
          4135.714285714285,
          4142.857142857143,
          4150,
          4157.142857142857,
          4164.285714285715,
          4171.428571428572,
          4178.571428571428,
          4185.714285714285,
          4192.857142857143,
          4200,
          4207.142857142857,
          4214.285714285715,
          4221.428571428572,
          4228.571428571428,
          4235.714285714285,
          4242.857142857143,
          4250,
          4257.142857142857,
          4264.285714285715,
          4271.428571428572,
          4278.571428571428,
          4285.714285714285,
          4292.857142857143,
          4300,
          4307.142857142857,
          4314.285714285715,
          4321.428571428572,
          4328.571428571428,
          4335.714285714285,
          4342.857142857143,
          4350,
          4357.142857142857,
          4364.285714285715,
          4371.428571428572,
          4378.571428571428,
          4385.714285714285,
          4392.857142857143,
          4400,
          4407.142857142857,
          4414.285714285715,
          4421.428571428572,
          4428.571428571428,
          4435.714285714285,
          4442.857142857143,
          4450,
          4457.142857142857,
          4464.285714285715,
          4471.428571428572,
          4478.571428571428,
          4485.714285714285,
          4492.857142857143,
          4500,
          4507.142857142857,
          4514.285714285715,
          4521.428571428572,
          4528.571428571428,
          4535.714285714285,
          4542.857142857143,
          4550,
          4557.142857142857,
          4564.285714285715,
          4571.428571428572,
          4578.571428571428,
          4585.714285714285,
          4592.857142857143,
          4600,
          4607.142857142857,
          4614.285714285715,
          4621.428571428572,
          4628.571428571428,
          4635.714285714285,
          4642.857142857143,
          4650,
          4657.142857142857,
          4664.285714285715,
          4671.428571428572,
          4678.571428571428,
          4685.714285714285,
          4692.857142857143,
          4700,
          4707.142857142857,
          4714.285714285715,
          4721.428571428572,
          4728.571428571428,
          4735.714285714285,
          4742.857142857143,
          4750,
          4757.142857142857,
          4764.285714285715,
          4771.428571428572,
          4778.571428571428,
          4785.714285714285,
          4792.857142857143,
          4800,
          4807.142857142857,
          4814.285714285715,
          4821.428571428572,
          4828.571428571428,
          4835.714285714285,
          4842.857142857143,
          4850,
          4857.142857142857,
          4864.285714285715,
          4871.428571428572,
          4878.571428571428,
          4885.714285714285,
          4892.857142857143,
          4900,
          4907.142857142857,
          4914.285714285715,
          4921.428571428572,
          4928.571428571428,
          4935.714285714285,
          4942.857142857143,
          4950,
          4957.142857142857,
          4964.285714285715,
          4971.428571428572,
          4978.571428571428,
          4985.714285714285,
          4992.857142857143,
          5000,
          5007.142857142857,
          5014.285714285715,
          5021.428571428572,
          5028.571428571428,
          5035.714285714285,
          5042.857142857143,
          5050,
          5057.142857142857,
          5064.285714285715,
          5071.428571428572,
          5078.571428571428,
          5085.714285714285,
          5092.857142857143,
          5100,
          5107.142857142857,
          5114.285714285715,
          5121.428571428572,
          5128.571428571428,
          5135.714285714285,
          5142.857142857143,
          5150,
          5157.142857142857,
          5164.285714285715,
          5171.428571428572,
          5178.571428571428,
          5185.714285714285,
          5192.857142857143,
          5200,
          5207.142857142857,
          5214.285714285715,
          5221.428571428572,
          5228.571428571428,
          5235.714285714285,
          5242.857142857143,
          5250,
          5257.142857142857,
          5264.285714285715,
          5271.428571428572,
          5278.571428571428,
          5285.714285714285,
          5292.857142857143,
          5300,
          5307.142857142857,
          5314.285714285715,
          5321.428571428572,
          5328.571428571428,
          5335.714285714285,
          5342.857142857143,
          5350,
          5357.142857142857,
          5364.285714285715,
          5371.428571428572,
          5378.571428571428,
          5385.714285714285,
          5392.857142857143,
          5400,
          5407.142857142857,
          5414.285714285715,
          5421.428571428572,
          5428.571428571428,
          5435.714285714285,
          5442.857142857143,
          5450,
          5457.142857142857,
          5464.285714285715,
          5471.428571428572,
          5478.571428571428,
          5485.714285714285,
          5492.857142857143,
          5500,
          5507.142857142857,
          5514.285714285715,
          5521.428571428572,
          5528.571428571428,
          5535.714285714285,
          5542.857142857143,
          5550,
          5557.142857142857,
          5564.285714285715,
          5571.428571428572,
          5578.571428571428,
          5585.714285714285,
          5592.857142857143,
          5600,
          5607.142857142857,
          5614.285714285715,
          5621.428571428572
         ],
         "yaxis": "y"
        },
        {
         "hovertemplate": "x=%{x}<br>y=%{y}<extra></extra>",
         "legendgroup": "",
         "line": {
          "color": "DarkCyan",
          "dash": "solid"
         },
         "marker": {
          "symbol": "circle"
         },
         "mode": "lines",
         "name": "Regression of Rides Data",
         "orientation": "v",
         "showlegend": false,
         "type": "scatter",
         "x": [
          57.39468454047362,
          89.47900299523774,
          82.62135015160358,
          56.59608684277339,
          50.52497929366336,
          42.66856200809375,
          69.1858513751659,
          57.55503518776867,
          41.00858340803462,
          65.74913201295462,
          28.44801960041032,
          26.428961700186697,
          39.60031500060798,
          24.957750716538442,
          39.72007630794426,
          39.30224381326546,
          31.91261511364625,
          24.140145155233668,
          26.824688319520384,
          25.86271335444649,
          23.063630155496245,
          18.727271912712563,
          26.095290968102045,
          21.595270137217053,
          24.846877820791775,
          20.00622551122836,
          18.75521471051816,
          23.858236846183132,
          17.514806733167774,
          25.776972361457936,
          18.487740832993715,
          18.46371279874504,
          17.8349998252304,
          18.550642525714192,
          15.336116441213836,
          15.614097261756738,
          16.934993069384397,
          12.66097046940037,
          20.01305625569724,
          15.373451256799079,
          17.28829338268325,
          20.00492938639572,
          16.105386754054344,
          15.260302028046848,
          17.31031587800378,
          14.106674096056382,
          13.699917209441104,
          13.155309768309419,
          10.852939591301467,
          12.005958197162172,
          9.934411006264416,
          12.938464946191653,
          11.025581428097716,
          10.522625337109165,
          10.90278279971924,
          10.814182602428854,
          10.93652064848034,
          10.143257704723919,
          10.042481722696621,
          11.028442774063311,
          9.69148983220445,
          10.89330367243922,
          9.206791529128036,
          11.444342586742007,
          9.088401567277582,
          11.599934008481767,
          9.800485113717965,
          8.924499741886237,
          8.88034981760123,
          8.774287616142432,
          8.18651062899939,
          8.857205080036985,
          9.288400004458607,
          8.271900564717262,
          8.50846726201075,
          6.998108865580536,
          7.556967920563661,
          7.60001196606481,
          9.476452978464788,
          7.397493943255427,
          7.751890997414813,
          7.671356250235798,
          8.19642849818176,
          7.677509005480967,
          8.364768691649774,
          7.922114514901918,
          6.743816147296502,
          8.461995499898332,
          6.847450467350912,
          7.146320084888613,
          7.42926122109768,
          6.0680184433035596,
          6.724589088985477,
          6.489738987797169,
          6.592279920557461,
          6.957777662688368,
          7.933481968497871,
          6.371506879823186,
          6.0382689938337935,
          6.443641866105975,
          7.4348940889207595,
          5.771922852630134,
          7.961653463200634,
          5.963990970920229,
          6.486468165094581,
          5.528407646737863,
          6.244248581684806,
          7.0821088985565375,
          5.8077594456285535,
          5.687893658461045,
          6.504027589011779,
          5.548660140089509,
          5.397495570560284,
          5.507572180514102,
          5.329475402899054,
          5.909828528283438,
          5.178659093083694,
          6.014023011561418,
          5.61217683451983,
          5.339192283906129,
          5.019672217675202,
          5.998131321842238,
          5.281191868077429,
          5.985604213000581,
          5.415638963387424,
          5.123217720960391,
          5.027708006150378,
          4.935321098848905,
          4.744297989927896,
          4.920712828603144,
          5.404213284123161,
          5.555307120436811,
          6.2581210896708175,
          4.826349441130337,
          4.658444648168046,
          4.471495723235663,
          5.0601214023958985,
          5.171900178405506,
          5.071972961384433,
          4.389611514154585,
          5.502019086084879,
          4.591604335614281,
          5.98163272163083,
          5.042962422337981,
          4.664716884493853,
          4.2444258190628705,
          4.833410316755394,
          5.002755137556449,
          4.839864237967188,
          4.5193676458608705,
          4.364955950341763,
          4.810974987714747,
          4.676497209924322,
          4.578513496464555,
          4.598628495979232,
          4.155988594056303,
          4.228535145772378,
          4.279048563209188,
          4.342699661292931,
          4.489892274233478,
          4.069251286783202,
          4.5003727079334315,
          4.164785292056535,
          4.627730317453825,
          4.185790260107073,
          4.210170199722282,
          3.9818913414172457,
          4.1174390626649915,
          3.9520681649891456,
          4.226108394698517,
          3.8177296833111387,
          3.7539709203685474,
          3.920642569807682,
          3.9014288397859733,
          4.262596606095363,
          4.273631470542449,
          3.8672010697300845,
          3.8764428417931636,
          3.7240716035276855,
          3.961447012725342,
          3.628529856327537,
          3.598961822702607,
          3.6166468421363898,
          3.712649337335743,
          4.052608697845229,
          3.753460668214127,
          3.4715503471572613,
          3.7963208628214953,
          3.2411654531506993,
          3.5822675327124305,
          3.9134901909200215,
          3.5409647630919716,
          3.463215131315665,
          3.5146769177846062,
          3.361028483152969,
          3.520372145851797,
          3.5197146256032275,
          3.6895411230910886,
          3.2626243469088463,
          3.5694425301398782,
          3.626161812293397,
          3.523143295431891,
          3.574748826012832,
          3.4099431793019614,
          3.2320174622495497,
          3.4010838772703913,
          3.0128133845138616,
          3.203600356394672,
          3.326322340445155,
          3.3307088407176515,
          3.201978107182264,
          3.404327743992058,
          3.148026602675179,
          3.2325499032147436,
          3.2960951489292563,
          3.1045807158994045,
          2.992658202099588,
          3.1793207791584526,
          3.008901212502888,
          3.0802595535999187,
          3.0240158364243928,
          3.2828629125186453,
          2.8982995477340747,
          3.075098727044829,
          3.11291643633371,
          3.1793603896948825,
          3.0747557204271323,
          3.056457842047723,
          2.9125620613410192,
          3.03583835595352,
          2.9257799471720505,
          3.072228813951413,
          2.9335029394849057,
          2.9171997351445116,
          2.8986254249976313,
          3.3437826991032953,
          2.9193055273393993,
          2.910717093642765,
          2.9778601674450704,
          2.9379931337717333,
          2.9475829487669456,
          2.6325149814131277,
          2.965973069553014,
          2.9407400331507043,
          2.954630979470918,
          2.813943757883732,
          2.9622452725160198,
          2.588444236743296,
          2.7243943561543262,
          2.578386047246616,
          2.6420279239477478,
          2.650866031220604,
          2.686604416419935,
          2.7050985050566543,
          2.8496195490072025,
          2.889428551517804,
          2.6804497322644485,
          2.5564811412995403,
          2.5414731320179276,
          2.7034909760980765,
          2.7467111396084207,
          2.7114711359930803,
          2.5670646236541876,
          2.8328998153793012,
          2.7660844273767804,
          2.7348758800000077,
          2.5584468828097267,
          2.325186993289121,
          2.571014358892064,
          2.5557841359711957,
          2.600051351174885,
          2.5625751193009183,
          2.4498999463118487,
          2.5586418473756902,
          2.6775276973601136,
          2.3769731147813844,
          2.502552036301994,
          2.444341573661721,
          2.3443037998817706,
          2.7333509122248434,
          2.4516763800874246,
          2.469859266612852,
          2.29837233446538,
          2.425785389958462,
          2.4179775419968963,
          2.452062497508348,
          2.361340544428398,
          2.3709311930505477,
          2.3609555384662055,
          2.34422017969015,
          2.4447979923208902,
          2.3782778502999795,
          2.4075338236880484,
          2.4512761797346014,
          2.415885072015463,
          2.34224567933507,
          2.4913994124058885,
          2.318922265183972,
          2.2041463442034175,
          2.251777368326326,
          2.418346386022891,
          2.251072635017039,
          2.2293102870230883,
          2.3630670382166232,
          2.2094154168426474,
          2.2222090016930856,
          2.270151861523932,
          2.21686784085596,
          2.375976280927906,
          2.214295924005349,
          2.1506627355432975,
          2.180592206207431,
          2.0506304166435414,
          2.204380586381098,
          2.223263133677829,
          2.134237695430703,
          2.0811741826868766,
          2.2553598045994674,
          2.2780607164442643,
          2.266615102017566,
          2.199003089326302,
          2.133577763963339,
          2.2512378872995416,
          2.118968619407949,
          2.058914093572443,
          2.133511904540935,
          2.102687380267776,
          2.158208764801648,
          2.1216686287922553,
          2.1216307544975264,
          2.0797274731041404,
          2.037483603033833,
          1.9823731296035654,
          1.9947275686278323,
          2.139125984845838,
          2.060555278148276,
          2.067039089706318,
          2.247085099371539,
          2.0570737150392167,
          2.0983587903384153,
          2.108208746670793,
          2.051701962622485,
          1.962182389432758,
          1.8879265794798403,
          1.9850111501398515,
          2.0510095440710803,
          2.058200568431449,
          1.9994356968217946,
          1.9906876617425304,
          2.227409162989244,
          1.9634131149806426,
          2.002036261144954,
          2.026624363282684,
          1.893412533178255,
          2.0106424132992187,
          1.892430682606846,
          1.8970911486379025,
          2.0188331289924792,
          1.9919772794412693,
          1.9294034417728656,
          1.9915464687845577,
          1.9173506125168036,
          1.9167583966499,
          1.9186858385219305,
          2.0241019170035863,
          2.014643064786625,
          1.9724855852545533,
          1.9458007108679425,
          1.9894198882675131,
          1.9002026385100965,
          1.7898819215108877,
          1.880806217559281,
          1.9161149559346122,
          1.8468302153083112,
          1.793770434278591,
          1.900766883108427,
          1.798092436671971,
          1.7690529467621985,
          1.8588647156616718,
          1.8263295049100883,
          1.8559343997726514,
          1.8093438459899622,
          1.8796906941429985,
          1.8768162356657396,
          1.833718062976776,
          1.878283654192904,
          1.7949504146428745,
          1.777839202863648,
          1.7858974625911832,
          1.8227326079800692,
          1.88650897838345,
          1.7690136486265138,
          1.770659694475351,
          1.7481437995424247,
          1.7665680312750012,
          1.7713992008739576,
          1.7914083660285758,
          1.67399729865439,
          1.7702423556776188,
          1.7742290555306963,
          1.810311499192386,
          1.653335719695933,
          1.739029373542714,
          1.7889293666429056,
          1.732755751450112,
          1.7356142579003941,
          1.732399800096149,
          1.7517925707297817,
          1.7434621213960328,
          1.7399831012034908,
          1.720368615854611,
          1.7123256573248606,
          1.7290345364284534,
          1.6832190119117492,
          1.6765653939446807,
          1.7158276794549072,
          1.6960787440687413,
          1.6670163354727858,
          1.7512844345369962,
          1.684701519712449,
          1.7100721253732676,
          1.6533469041330202,
          1.6624209978443076,
          1.6315994041903865,
          1.6078535678280732,
          1.6744932425070072,
          1.6212264506855036,
          1.571224922110728,
          1.665053232760942,
          1.605900933784569,
          1.6885620881908094,
          1.6115897549768778,
          1.6941466767349322,
          1.6387864990025802,
          1.654425624209086,
          1.587684809703509,
          1.6488918007380622,
          1.555450308416991,
          1.578374841765268,
          1.5651335575260907,
          1.5743536895219252,
          1.5754390379693197,
          1.5728893412858813,
          1.6158218669975517,
          1.5649225445897927,
          1.5152223866279118,
          1.5586906935022549,
          1.602885413955196,
          1.5766090674647877,
          1.6540706820492552,
          1.557495936379187,
          1.5284635097369623,
          1.5110702542770327,
          1.5661643612012697,
          1.5469333168240458,
          1.5060530702670483,
          1.5709250518428213,
          1.483835803156543,
          1.541819037760062,
          1.4864806642367652,
          1.5332562361508417,
          1.5425677045308306,
          1.4956713204823842,
          1.5959749708089923,
          1.5445687301511195,
          1.4775668978693377,
          1.5146310108629537,
          1.5230106271755433,
          1.4705100446830335,
          1.5197125082217489,
          1.5092036368735642,
          1.4586331565148363,
          1.4475702702005755,
          1.4964180656569332,
          1.5174991148129162,
          1.4478665100103363,
          1.455069434883315,
          1.4920401135606856,
          1.433579772485663,
          1.4524699445100975,
          1.4788028631488372,
          1.4437022983505552,
          1.4817128485593607,
          1.4764457999022411,
          1.5353099034265987,
          1.4424260682038463,
          1.4272227468778014,
          1.4337037906953627,
          1.387449546877055,
          1.3913236334451944,
          1.4078744535545757,
          1.3634013480813514,
          1.371002680562458,
          1.4593561053437325,
          1.3960515011945949,
          1.4542851114307498,
          1.4114696343465156,
          1.4221535831510705,
          1.4312541481071672,
          1.4253601452047022,
          1.3442701560968642,
          1.3471700053845617,
          1.4172740176385874,
          1.4040477431340113,
          1.4433159866074603,
          1.3986224516074037,
          1.415271675336828,
          1.3892280026279689,
          1.3643744470193155,
          1.4048708701785138,
          1.3902962997535844,
          1.426889084824126,
          1.3326521606160344,
          1.3826950130207125,
          1.3809681852381557,
          1.3739272692968363,
          1.3277395821563245,
          1.3075407395289886,
          1.3535650478754762,
          1.3672374675221985,
          1.3341500768920072,
          1.3444190080769851,
          1.323037628870142,
          1.3778564277002583,
          1.3682291282894397,
          1.3528460428933946,
          1.3365016212519933,
          1.2979138205209004,
          1.3231986125907667,
          1.3518491972232232,
          1.3413731192335971,
          1.2757607996650153,
          1.301285783955932,
          1.3228012787258483,
          1.3394524978826303,
          1.3276826848981864,
          1.2952436108342391,
          1.302587388139921,
          1.3404683878671457,
          1.3185289378198628,
          1.2949968576218345,
          1.3542723868718978,
          1.2710516750052885,
          1.302694299527696,
          1.3034046343946055,
          1.2771015051294932,
          1.2924371817105174,
          1.2641804052855676,
          1.2887272347796832,
          1.2763290265046248,
          1.301831850356619,
          1.3038424573846137,
          1.2908504529103009,
          1.262362597735919,
          1.2524946433560697,
          1.231185200960434,
          1.2368670526369967,
          1.3052703522389155,
          1.264573292289521,
          1.2337181405093545,
          1.2968034651354072,
          1.249646707195072,
          1.224057725330544,
          1.2511725172113826,
          1.2470241170725611,
          1.2639447811017892,
          1.2398824503401629,
          1.225672901457764,
          1.2457054830179681,
          1.2645585057511872,
          1.2333671592927191,
          1.235000857923934,
          1.2410800723762259,
          1.2546716799554882,
          1.2201963017010509,
          1.1969148878450118,
          1.1958333549015832,
          1.2215789978431504,
          1.1997373420083621,
          1.3032323950183338,
          1.2136279906398295,
          1.1771259165709917,
          1.245457713346905,
          1.1903201023072654,
          1.1747672487550647,
          1.195946597945266,
          1.2243086697732404,
          1.200387939661902,
          1.2060907920224222,
          1.2158948719482467,
          1.1988535117247372,
          1.184708679761758,
          1.2141232192393234,
          1.2227877131231888,
          1.1855217118748007,
          1.2020118502226582,
          1.1567395350075684,
          1.222650511614457,
          1.1652559130387499,
          1.1942830177394137,
          1.1544803209352281,
          1.1859211059849881,
          1.243186700098525,
          1.1720589891007522,
          1.1733552479005787,
          1.1765597917408552,
          1.1673595932917586,
          1.1405378758994287,
          1.1788148389399455,
          1.1430366690050726,
          1.1703562256369957,
          1.1636723939661155,
          1.1444773426082988,
          1.177078574629849,
          1.157543727172059,
          1.151753015801259,
          1.1575022683496214,
          1.1154982482781741,
          1.1431722504774895,
          1.1488526031844304,
          1.1347120671227255,
          1.1578018791432272,
          1.1465520014551212,
          1.117611569755487,
          1.1368494359383157,
          1.1323227276484655,
          1.1006909940288143,
          1.1141788537775652,
          1.1016014488206054,
          1.1331009665270226,
          1.1142911733197534,
          1.1348725943651354,
          1.1238388924308393,
          1.1182575867224032,
          1.1233820737278146,
          1.1189066257186338,
          1.1108691896582064,
          1.141246988222884,
          1.1381878317297245,
          1.1062802741547526,
          1.111785300427094,
          1.1092560120492982,
          1.1322475387369648,
          1.1273280895678575,
          1.0901699474959863,
          1.1034507797548738,
          1.1035947613123038,
          1.1039275497639316,
          1.114456950161976,
          1.1007947582994195,
          1.0804059563419681,
          1.0703824600551761,
          1.0772626966000103,
          1.0951050585865942,
          1.0773805232390474,
          1.064773930386006,
          1.076249477501267,
          1.0638576049885033,
          1.0840488410667273,
          1.0703200264852797,
          1.0658470252147954,
          1.0730397335339383,
          1.0654656789395254,
          1.081876672825687,
          1.0805878954652022,
          1.0939252470041418,
          1.047090347901009,
          1.0679073649097075,
          1.0543262812103742,
          1.0559414724918015,
          1.028786410813446,
          1.068393668289633,
          1.0862407518569905,
          1.0577790139062193,
          1.0548574790418561,
          1.0249585403356571,
          1.0753244746001085,
          1.0584525886988918,
          1.0520674674215662,
          1.0260045504864561,
          1.0698809816512245,
          1.0331893350437025,
          1.037277434783647,
          1.0493025236962008,
          1.0333677192268464,
          1.031616806182729,
          1.023924482783514,
          1.037536226266853,
          1.0243457197417885,
          1.0314234018071016,
          1.023944635119476,
          1.0275330036890458,
          1.023875280367,
          1.0102117183693946,
          1.0346575328547394,
          1.020674336576827,
          1.0142116786298307,
          1.0121963898275739,
          1.011545389222561,
          1.0105601313987893,
          1.0180968262341585,
          1.0309261937486438,
          1.001953229390809,
          0.9964508613014118,
          0.9990172341197587,
          1.0103951651033627,
          1.0118105277614056,
          0.9980046125119043,
          1.0019400833762357,
          0.9872294842341269,
          0.9933617433134083,
          0.9893060712176457,
          0.9938791448947332,
          1.0095666897525353,
          0.9973294545547852,
          0.9843370090897542,
          0.9842207994389411,
          0.9922412502015832,
          0.9785077601461211,
          0.9836405679422487,
          0.9994474350070301,
          0.9967242061993358,
          0.990113998314566,
          0.9696050965355051,
          1.0010324637949843,
          0.9609987107343032,
          0.9851798650796966,
          0.9828386152201933,
          0.9781169985762471,
          0.9642042185740954,
          0.966397052031168,
          0.9732397084161583,
          0.96739941446997,
          0.9687838915677929,
          0.9735646460037564,
          0.9701458399336138,
          0.9571298350165306,
          0.9707253638195708,
          0.9588729899759804,
          0.9617575947180695,
          0.9536574732136567,
          0.9633099017087727,
          0.9570004970125544,
          0.9507257718833566,
          0.9528521375477621,
          0.9555873683914246,
          0.9587415396865113,
          0.9478339906936634,
          0.946981264782319,
          0.950881735394175,
          0.9511269296129886,
          0.95177753481096,
          0.9454478996428853,
          0.9449731068375531,
          0.9406082294396888,
          0.9422194348922794,
          0.9377214777787715,
          0.9379766240919876,
          0.9463316807268394,
          0.9382898419214686,
          0.9343739628509642,
          0.934629060458737,
          0.937652359492745,
          0.9318979447659507,
          0.9304978386161914,
          0.9314417171825695,
          0.9325132576041262,
          0.9269900302500775,
          0.928273056084345,
          0.9275950015431426,
          0.923313734988135,
          0.9217181591430792,
          0.9172379142357361,
          0.9168569563096335,
          0.9168009153170021,
          0.917318980178563,
          0.9152065825116837,
          0.9158700783507785
         ],
         "xaxis": "x",
         "y": [
          105.01600601733662,
          73.46787879537442,
          78.15172554046148,
          106.25761198854889,
          116.98030508786906,
          135.3869499520806,
          90.02047976740869,
          104.7708583798958,
          140.1789015357499,
          93.83567639405373,
          194.57248137475108,
          208.14202730648685,
          144.5593239122536,
          219.41318595438497,
          144.17471736230073,
          145.52674273474258,
          175.29072933326825,
          226.27122413937468,
          205.32142183126416,
          212.32825857811258,
          236.04301848751493,
          286.7910210961418,
          210.58683212302276,
          250.943430387415,
          220.31671517604263,
          269.5345432801696,
          286.3888313077041,
          228.74489822553005,
          305.4793521903048,
          212.9781770897098,
          290.288587754796,
          290.6444505408872,
          300.29694938327884,
          289.3613626716542,
          346.49306062431424,
          340.62249542496284,
          315.36293048615335,
          416.1805846913776,
          269.4483039753977,
          345.6922481826623,
          309.2615565073211,
          269.5509137279005,
          330.74316535823164,
          348.13130925715086,
          308.88948857143987,
          375.2344601902878,
          385.88031104256515,
          401.16597682534484,
          482.7612816225155,
          437.98214846474,
          525.8828338926251,
          407.6108096608077,
          475.4595370022871,
          497.4003071334155,
          480.62942961312365,
          484.43256236970774,
          479.1974649716285,
          515.3912948150828,
          520.3992794479418,
          475.3404470648384,
          538.6558175519749,
          481.03335865266854,
          566.158914622938,
          458.66476894312655,
          573.3231600262516,
          452.73399435993633,
          532.8463309061481,
          583.5557385006978,
          586.3767487671867,
          593.2699228168058,
          634.7139146465925,
          587.8668625141727,
          561.3269610576099,
          628.3267936152115,
          611.302428772382,
          739.8187599409721,
          686.2667156083917,
          682.469343784498,
          550.5098562765634,
          700.721507719165,
          669.4080210633692,
          676.2693332808267,
          633.9652205924795,
          675.7400494949543,
          621.528594094998,
          655.3653763935145,
          767.1304407634598,
          614.5714830808283,
          755.7544459319033,
          724.7988585682469,
          697.7925164797925,
          850.8642336627236,
          769.2796480837278,
          796.5613016962889,
          784.4099158617901,
          744.0169548134436,
          654.44911781259,
          811.0586989255389,
          854.982018284325,
          802.1502267714823,
          697.2757750895107,
          893.7443480998918,
          652.1896887269395,
          865.443007616268,
          796.9552400227403,
          932.460893887881,
          827.2777450041613,
          731.2287595398666,
          888.3214087188826,
          906.7286281496927,
          794.8450369400962,
          929.1110496561741,
          954.7223176506523,
          935.9329409014317,
          966.7219617522787,
          873.2371897174162,
          994.4553205654083,
          858.3682404936408,
          918.7623452524422,
          964.9890085974766,
          1025.5006525217614,
          860.6025796778849,
          975.4278955344344,
          862.3722479207499,
          951.5726449409558,
          1005.0619304690626,
          1023.8842603601224,
          1042.786345522065,
          1084.2108116578893,
          1045.84033059809,
          953.5536580027256,
          928.0169495341252,
          825.4775896038918,
          1066.0145455006277,
          1103.9385511591681,
          1149.5256473647605,
          1017.4165981352562,
          995.7361782613152,
          1015.0724738490826,
          1170.7197700911784,
          936.8627649532573,
          1119.8097427892208,
          862.9348401201132,
          1020.8300583735399,
          1102.4726270472747,
          1210.3153890267422,
          1064.4776342633122,
          1028.9205303728231,
          1063.0767705646285,
          1137.4918128702557,
          1177.257651042688,
          1069.376690617355,
          1099.7300332640007,
          1122.972590025689,
          1118.120098053565,
          1235.7948079291964,
          1214.8147986093536,
          1200.628147133888,
          1183.2232817567128,
          1144.8707476767304,
          1261.8640042780316,
          1142.235941840714,
          1233.2117844935856,
          1111.1745418200444,
          1227.0880414914282,
          1220.0572457747767,
          1289.2724370620272,
          1247.244935232069,
          1298.9076427133114,
          1215.5049162122887,
          1344.1826661103696,
          1366.8090110733756,
          1309.2197416433482,
          1315.6067330825026,
          1205.211620531656,
          1202.133425510634,
          1327.1424767782737,
          1324.0075832902512,
          1377.6873795486754,
          1295.8618512726098,
          1413.65510350134,
          1425.1747951486323,
          1418.2619924436149,
          1381.8896124998573,
          1266.9940390500124,
          1366.993198707758,
          1477.0681112384773,
          1351.6950338307943,
          1581.3053787199315,
          1431.7632125481032,
          1311.589967367181,
          1448.331444535579,
          1480.5965695831983,
          1459.0801920271188,
          1525.282651663496,
          1456.7378125337127,
          1457.0078541516268,
          1390.4709597173496,
          1570.9718879368738,
          1436.8666371168802,
          1414.5707447047462,
          1455.6008216826885,
          1434.7506558196037,
          1503.5567520252953,
          1585.752477881295,
          1507.4451530638617,
          1700.4287645632576,
          1599.7295505744987,
          1541.0868785762577,
          1539.0711252858455,
          1600.5349796075607,
          1506.0190420926083,
          1627.7963296958187,
          1585.4929502452724,
          1555.1238522182975,
          1650.441134949826,
          1711.8202843194013,
          1611.8703876771615,
          1702.6278944736987,
          1663.3979614215204,
          1694.1632087170437,
          1561.3503693641687,
          1767.2684155331517,
          1666.1738153617189,
          1646.0471739253262,
          1611.8504290089477,
          1666.3586401182401,
          1676.2786322005559,
          1758.655699570576,
          1687.6012341322203,
          1750.749139491265,
          1667.7215093915875,
          1746.162605122372,
          1755.873376854608,
          1767.0706769420067,
          1533.0947267531883,
          1754.6129619278945,
          1759.7650454392133,
          1720.2826356339501,
          1743.5071054044238,
          1737.862913701014,
          1944.9344985125354,
          1727.1418029528868,
          1741.8866071312514,
          1733.7381890199613,
          1820.0027293718304,
          1729.3042330266035,
          1977.939941731369,
          1879.5759232493874,
          1985.6317300717637,
          1937.9553425523336,
          1931.5164070835744,
          1905.913782495656,
          1892.9318208508776,
          1797.3174082625192,
          1772.6684522348514,
          1910.2740149470628,
          2002.5936519936076,
          2014.3847455976356,
          1894.0531434712175,
          1864.3642801530368,
          1888.4997801767313,
          1994.3620569286868,
          1807.8775593541213,
          1851.3590479200066,
          1872.400391562347,
          2001.059563736053,
          2201.3175664208247,
          1991.3075031177432,
          2003.1381731944566,
          1969.1380146602169,
          1997.8455425982538,
          2089.477672684472,
          2000.9075402553717,
          1912.351160086604,
          2153.443507039221,
          2045.6259504142508,
          2094.2178970329114,
          2183.3971157996857,
          1873.4409283845744,
          2087.967274605122,
          2072.6330814692483,
          2226.9595839710673,
          2110.200997155742,
          2116.999933591491,
          2087.6392726884806,
          2167.672550676187,
          2158.9205919170054,
          2168.0253818295023,
          2183.474862610252,
          2093.8278425489843,
          2152.2644219531503,
          2126.1634915167524,
          2088.307349484676,
          2118.8295306140208,
          2185.312299399986,
          2054.7588976508996,
          2207.2549135833688,
          2322.045120341616,
          2272.9786973543232,
          2116.6777569013357,
          2273.6894386994827,
          2295.859923977114,
          2166.0917616586667,
          2316.5125173963315,
          2303.1889586623292,
          2254.6042785766476,
          2308.732557434705,
          2154.3452202948974,
          2311.4115546744724,
          2379.7480311185645,
          2347.1063591614657,
          2495.8075825672713,
          2321.798597239511,
          2302.0980408823234,
          2398.053177113994,
          2459.1787374571722,
          2269.372631167673,
          2246.787276090472,
          2258.1177257274103,
          2327.4713502019586,
          2398.79457698192,
          2273.5227374066017,
          2415.3262817037757,
          2485.7654444043,
          2398.868592074752,
          2434.0226282902004,
          2371.4322638900194,
          2412.2536864672147,
          2412.296732753195,
          2460.8892280148284,
          2511.9140133246838,
          2581.7724726562155,
          2565.773812252097,
          2392.575768290495,
          2483.7855180591287,
          2475.9944015843503,
          2277.7194200509985,
          2487.9894622715947,
          2439.0424609848997,
          2427.6496607739828,
          2494.5039704639057,
          2608.3557534557185,
          2711.049378345342,
          2578.339466286998,
          2495.346190217242,
          2486.627233321604,
          2559.7293154676154,
          2570.983373697818,
          2297.8174099371827,
          2606.7196097018605,
          2556.40287481033,
          2525.3765891029034,
          2703.184825770615,
          2545.4563434492156,
          2704.589011601318,
          2697.9369044088817,
          2535.1255157638516,
          2569.3180667521083,
          2652.7063564683194,
          2569.874138824729,
          2669.3982349604485,
          2670.2238414813473,
          2667.538683874591,
          2528.524573133909,
          2540.399812374264,
          2594.721997114917,
          2630.332355504768,
          2572.6225923774473,
          2693.514026478777,
          2859.799053160561,
          2721.325922340824,
          2671.121443197422,
          2771.461782755592,
          2853.587414895883,
          2692.7135344803683,
          2846.7150820254174,
          2893.5405873572745,
          2753.492140906572,
          2802.622562098637,
          2757.8459931410034,
          2828.97963562308,
          2722.9430220561044,
          2727.1188582511386,
          2791.3111325603386,
          2724.985473949462,
          2851.7078403446067,
          2879.2102588250127,
          2866.1922423042415,
          2808.1626386574353,
          2713.0891158049053,
          2893.605004717392,
          2890.9092805392866,
          2928.227300612867,
          2897.6195362592407,
          2889.699837321794,
          2857.3574196895643,
          3058.2749501356448,
          2891.592276776326,
          2885.081070359767,
          2827.4647132557875,
          3096.6098863022344,
          2943.6106374233786,
          2861.3248462582997,
          2954.2940713560965,
          2949.416626010323,
          2954.9025643666682,
          2922.114135474083,
          2936.1087868163013,
          2941.993323389499,
          2975.6189942029596,
          2989.631831039849,
          2960.6679109533434,
          3041.4715673069004,
          3053.5767557176587,
          2983.514154688921,
          3018.346789260482,
          3071.120036081411,
          2922.9639296220266,
          3038.7875188193284,
          2993.581882282102,
          3096.5888735773333,
          3079.6349176101794,
          3137.995994170371,
          3184.4985386890476,
          3057.3665147674037,
          3158.140781888884,
          3259.011400540301,
          3074.7517464585835,
          3188.384206538496,
          3031.8203461607627,
          3177.0901447219367,
          3021.798495102499,
          3124.1891640992835,
          3094.563578363799,
          3225.0982284446945,
          3104.9816378261894,
          3292.192389328091,
          3244.1923672377015,
          3271.74424025786,
          3252.5099559672235,
          3250.260735742806,
          3255.549559699546,
          3168.740142212773,
          3272.1871152482927,
          3379.9664027970284,
          3285.3211140022904,
          3194.4037418949883,
          3247.8395268760796,
          3095.2296875835164,
          3287.851252766908,
          3350.5604947556276,
          3389.2946071131446,
          3269.5825154659688,
          3310.3913050664705,
          3400.635516894865,
          3259.63589044931,
          3451.786335921497,
          3321.4168910627777,
          3445.6161249409197,
          3340.0431541148573,
          3319.7982725126494,
          3424.3464770602586,
          3208.2848250453826,
          3315.479825306247,
          3466.500179008115,
          3381.2918381626077,
          3362.607759211096,
          3483.2149793644203,
          3369.936774035392,
          3393.5050426149974,
          3511.715204833483,
          3538.686959847284,
          3422.629893943231,
          3374.8733652253286,
          3537.959291757201,
          3520.358481238276,
          3432.718453645881,
          3573.3983807729674,
          3526.6901734850544,
          3463.5892577311897,
          3548.215720900771,
          3456.7550783909683,
          3469.144823009032,
          3335.5567919758905,
          3551.371041496197,
          3589.3977227527357,
          3573.0876771526237,
          3692.8612072731485,
          3682.520707715332,
          3638.9915577369393,
          3758.37766730765,
          3737.417725246516,
          3509.967000813369,
          3669.9798928785895,
          3522.266484252148,
          3629.672447547782,
          3602.2593102714163,
          3579.2348540451785,
          3594.112816505047,
          3812.190272945154,
          3803.934200424439,
          3614.7276270285947,
          3648.9637854032626,
          3549.1702340034826,
          3663.1963190308306,
          3619.8691629158275,
          3688.107016374095,
          3755.6812690698716,
          3646.8141223643906,
          3685.257138179819,
          3590.2414593724534,
          3845.63171441725,
          3705.631760362856,
          3710.291968138976,
          3729.4158771576476,
          3859.950109407102,
          3919.965442163928,
          3785.8534157845716,
          3747.7705036171537,
          3841.287030686508,
          3811.765604626911,
          3873.7552729544404,
          3718.719495537458,
          3745.0382618262083,
          3787.8776486228744,
          3834.4862663309614,
          3949.233732731547,
          3873.280977359973,
          3790.6876930650906,
          3820.4743624060357,
          4018.281087588839,
          3938.9322859551175,
          3874.451827033161,
          3825.9863513013406,
          3860.1165717873955,
          3957.429774767894,
          3934.970270564925,
          3823.068861134321,
          3887.086482850078,
          3958.1888931767608,
          3783.864145956788,
          4033.2723372587934,
          3934.6451935880177,
          3932.486703777453,
          4014.0334669533477,
          3966.080838984344,
          4055.3493010597012,
          3977.575543209008,
          4016.4797305807588,
          3937.26911299699,
          3931.157478360401,
          3970.988900225959,
          4061.2304598065966,
          4093.4575466699316,
          4164.8333581404295,
          4145.558808572387,
          3926.8286706560175,
          4054.0804396381427,
          4156.218680523365,
          3952.6377547014854,
          4102.854152120766,
          4189.267868631752,
          4097.81444715173,
          4111.545635306364,
          4056.1106517299777,
          4135.402251605963,
          4183.705506886268,
          4115.92968354933,
          4054.1281795601244,
          4157.41025222477,
          4151.869716946036,
          4131.382234540535,
          4086.303631871444,
          4202.626266277919,
          4285.015358815959,
          4288.92163221637,
          4197.833080261189,
          4274.854804460279,
          3933.0098679512157,
          4225.546574610751,
          4357.638697394315,
          4116.754488573788,
          4308.946006891492,
          4366.459920914,
          4288.512286650046,
          4188.402689135226,
          4272.519574451639,
          4252.1590827638865,
          4217.6079151861195,
          4278.031299343944,
          4329.52062595755,
          4223.809714639734,
          4193.651991194958,
          4326.527383758192,
          4266.701933304605,
          4435.084996150254,
          4194.126166651666,
          4402.398325652088,
          4294.53361673039,
          4443.838008903549,
          4325.058504021843,
          4124.329999379988,
          4376.632909519307,
          4371.757864456711,
          4359.752692800772,
          4394.398552641127,
          4498.633029489691,
          4351.34421742984,
          4488.713009053114,
          4383.053370705369,
          4408.439369384345,
          4483.0135757533135,
          4357.815400475927,
          4431.977612075192,
          4454.450890624721,
          4432.137701357948,
          4600.52389758479,
          4488.176016664103,
          4465.793367383332,
          4521.93285991755,
          4430.981044031185,
          4474.831517798739,
          4591.745742511033,
          4513.35655141811,
          4531.559024967399,
          4662.986912134336,
          4606.021399809048,
          4659.09716587633,
          4528.41914390173,
          4605.552886114747,
          4521.287599523057,
          4566.073568117135,
          4589.069071862788,
          4567.947009354772,
          4586.383032154525,
          4619.869933388807,
          4495.813437151111,
          4508.00277112858,
          4639.210063212493,
          4616.028318604163,
          4626.650248190592,
          4531.862613539706,
          4551.81488041929,
          4708.41360431214,
          4651.216264641844,
          4650.603811560257,
          4649.188851528044,
          4604.861563037644,
          4662.543269789952,
          4751.373548549658,
          4796.301423843572,
          4765.371268459421,
          4686.995183183579,
          4764.845064057939,
          4821.81430128272,
          4769.901042785932,
          4826.008520611038,
          4735.253764639958,
          4796.583939282922,
          4816.911805067619,
          4784.307992775488,
          4818.652861466806,
          4744.852381610835,
          4750.565854383371,
          4692.09776785408,
          4904.069678941247,
          4807.527011064027,
          4870.073613641114,
          4862.549544863228,
          4992.230242456659,
          4805.317262224766,
          4725.607332207088,
          4854.018016678805,
          4867.596549908718,
          5011.070755932276,
          4774.043983835843,
          4850.898193118017,
          4880.635149873211,
          5005.9082131352625,
          4798.5715856549505,
          4970.734377419198,
          4950.941170071281,
          4893.625935542688,
          4969.867388234474,
          4978.390389710141,
          5016.184819324582,
          4949.693510263984,
          5014.100274572469,
          4979.333632504771,
          5016.085053314979,
          4998.3837541199755,
          5016.428417183837,
          5085.007023379178,
          4963.607608151971,
          5032.327244346234,
          5064.7368939616135,
          5074.929229805974,
          5078.230470310169,
          5083.234941603616,
          5045.203209311818,
          4981.760187946667,
          5127.376915491885,
          5156.002056889498,
          5142.6111375355395,
          5084.073830839945,
          5076.885426108871,
          5147.8864901427005,
          5127.444925397285,
          5204.700532321964,
          5172.2136618735385,
          5193.653647114261,
          5169.491225923703,
          5088.291011191497,
          5151.409829918644,
          5220.166526191053,
          5220.789823372674,
          5178.119284657761,
          5251.617246684589,
          5223.904163967556,
          5140.373244984046,
          5154.5724591057515,
          5189.368393640994,
          5300.390592263255,
          5132.144806758239,
          5348.412593995163,
          5215.650283975439,
          5228.214714646514,
          5253.73913678719,
          5330.424797890242,
          5318.189404270583,
          5280.368965487636,
          5312.6152490483655,
          5304.935395512031,
          5278.586400506523,
          5297.402213460591,
          5370.285756162892,
          5294.203267542383,
          5360.4084433936805,
          5344.143101508002,
          5390.070562212,
          5335.431062968943,
          5371.02008491481,
          5406.889003921795,
          5394.680108393572,
          5379.056400380185,
          5361.152014972089,
          5423.581893624098,
          5428.524035524897,
          5405.9916290294495,
          5404.581446997501,
          5400.843205099256,
          5437.433723934781,
          5440.198480547871,
          5465.748273264908,
          5456.289108022553,
          5482.778524664493,
          5481.269014031743,
          5432.29489533673,
          5479.417077067803,
          5502.660803710693,
          5501.1405835816695,
          5483.187589632638,
          5517.460209051904,
          5525.864177340642,
          5520.195842562331,
          5513.774972440762,
          5547.032566086884,
          5539.271114896372,
          5543.370176655677,
          5569.392999816308,
          5579.154182716156,
          5606.747156781261,
          5609.106037501624,
          5609.453209721745,
          5606.24545550553,
          5619.348140685033,
          5615.22602640689
         ],
         "yaxis": "y"
        },
        {
         "hovertemplate": "x=%{x}<br>y=%{y}<extra></extra>",
         "legendgroup": "",
         "line": {
          "color": "tomato",
          "dash": "solid"
         },
         "marker": {
          "symbol": "circle"
         },
         "mode": "lines",
         "name": "Max Days for Delivery",
         "orientation": "v",
         "showlegend": false,
         "type": "scatter",
         "x": [
          2,
          2
         ],
         "xaxis": "x",
         "y": [
          0,
          2559.0067623629
         ],
         "yaxis": "y"
        },
        {
         "hovertemplate": "x=%{x}<br>y=%{y}<extra></extra>",
         "legendgroup": "",
         "line": {
          "color": "tomato",
          "dash": "solid"
         },
         "marker": {
          "symbol": "circle"
         },
         "mode": "lines",
         "name": "",
         "orientation": "v",
         "showlegend": false,
         "type": "scatter",
         "x": [
          0,
          2
         ],
         "xaxis": "x",
         "y": [
          2559.0067623629,
          2559.0067623629
         ],
         "yaxis": "y"
        }
       ],
       "layout": {
        "legend": {
         "tracegroupgap": 0
        },
        "template": {
         "data": {
          "bar": [
           {
            "error_x": {
             "color": "#2a3f5f"
            },
            "error_y": {
             "color": "#2a3f5f"
            },
            "marker": {
             "line": {
              "color": "#E5ECF6",
              "width": 0.5
             },
             "pattern": {
              "fillmode": "overlay",
              "size": 10,
              "solidity": 0.2
             }
            },
            "type": "bar"
           }
          ],
          "barpolar": [
           {
            "marker": {
             "line": {
              "color": "#E5ECF6",
              "width": 0.5
             },
             "pattern": {
              "fillmode": "overlay",
              "size": 10,
              "solidity": 0.2
             }
            },
            "type": "barpolar"
           }
          ],
          "carpet": [
           {
            "aaxis": {
             "endlinecolor": "#2a3f5f",
             "gridcolor": "white",
             "linecolor": "white",
             "minorgridcolor": "white",
             "startlinecolor": "#2a3f5f"
            },
            "baxis": {
             "endlinecolor": "#2a3f5f",
             "gridcolor": "white",
             "linecolor": "white",
             "minorgridcolor": "white",
             "startlinecolor": "#2a3f5f"
            },
            "type": "carpet"
           }
          ],
          "choropleth": [
           {
            "colorbar": {
             "outlinewidth": 0,
             "ticks": ""
            },
            "type": "choropleth"
           }
          ],
          "contour": [
           {
            "colorbar": {
             "outlinewidth": 0,
             "ticks": ""
            },
            "colorscale": [
             [
              0,
              "#0d0887"
             ],
             [
              0.1111111111111111,
              "#46039f"
             ],
             [
              0.2222222222222222,
              "#7201a8"
             ],
             [
              0.3333333333333333,
              "#9c179e"
             ],
             [
              0.4444444444444444,
              "#bd3786"
             ],
             [
              0.5555555555555556,
              "#d8576b"
             ],
             [
              0.6666666666666666,
              "#ed7953"
             ],
             [
              0.7777777777777778,
              "#fb9f3a"
             ],
             [
              0.8888888888888888,
              "#fdca26"
             ],
             [
              1,
              "#f0f921"
             ]
            ],
            "type": "contour"
           }
          ],
          "contourcarpet": [
           {
            "colorbar": {
             "outlinewidth": 0,
             "ticks": ""
            },
            "type": "contourcarpet"
           }
          ],
          "heatmap": [
           {
            "colorbar": {
             "outlinewidth": 0,
             "ticks": ""
            },
            "colorscale": [
             [
              0,
              "#0d0887"
             ],
             [
              0.1111111111111111,
              "#46039f"
             ],
             [
              0.2222222222222222,
              "#7201a8"
             ],
             [
              0.3333333333333333,
              "#9c179e"
             ],
             [
              0.4444444444444444,
              "#bd3786"
             ],
             [
              0.5555555555555556,
              "#d8576b"
             ],
             [
              0.6666666666666666,
              "#ed7953"
             ],
             [
              0.7777777777777778,
              "#fb9f3a"
             ],
             [
              0.8888888888888888,
              "#fdca26"
             ],
             [
              1,
              "#f0f921"
             ]
            ],
            "type": "heatmap"
           }
          ],
          "heatmapgl": [
           {
            "colorbar": {
             "outlinewidth": 0,
             "ticks": ""
            },
            "colorscale": [
             [
              0,
              "#0d0887"
             ],
             [
              0.1111111111111111,
              "#46039f"
             ],
             [
              0.2222222222222222,
              "#7201a8"
             ],
             [
              0.3333333333333333,
              "#9c179e"
             ],
             [
              0.4444444444444444,
              "#bd3786"
             ],
             [
              0.5555555555555556,
              "#d8576b"
             ],
             [
              0.6666666666666666,
              "#ed7953"
             ],
             [
              0.7777777777777778,
              "#fb9f3a"
             ],
             [
              0.8888888888888888,
              "#fdca26"
             ],
             [
              1,
              "#f0f921"
             ]
            ],
            "type": "heatmapgl"
           }
          ],
          "histogram": [
           {
            "marker": {
             "pattern": {
              "fillmode": "overlay",
              "size": 10,
              "solidity": 0.2
             }
            },
            "type": "histogram"
           }
          ],
          "histogram2d": [
           {
            "colorbar": {
             "outlinewidth": 0,
             "ticks": ""
            },
            "colorscale": [
             [
              0,
              "#0d0887"
             ],
             [
              0.1111111111111111,
              "#46039f"
             ],
             [
              0.2222222222222222,
              "#7201a8"
             ],
             [
              0.3333333333333333,
              "#9c179e"
             ],
             [
              0.4444444444444444,
              "#bd3786"
             ],
             [
              0.5555555555555556,
              "#d8576b"
             ],
             [
              0.6666666666666666,
              "#ed7953"
             ],
             [
              0.7777777777777778,
              "#fb9f3a"
             ],
             [
              0.8888888888888888,
              "#fdca26"
             ],
             [
              1,
              "#f0f921"
             ]
            ],
            "type": "histogram2d"
           }
          ],
          "histogram2dcontour": [
           {
            "colorbar": {
             "outlinewidth": 0,
             "ticks": ""
            },
            "colorscale": [
             [
              0,
              "#0d0887"
             ],
             [
              0.1111111111111111,
              "#46039f"
             ],
             [
              0.2222222222222222,
              "#7201a8"
             ],
             [
              0.3333333333333333,
              "#9c179e"
             ],
             [
              0.4444444444444444,
              "#bd3786"
             ],
             [
              0.5555555555555556,
              "#d8576b"
             ],
             [
              0.6666666666666666,
              "#ed7953"
             ],
             [
              0.7777777777777778,
              "#fb9f3a"
             ],
             [
              0.8888888888888888,
              "#fdca26"
             ],
             [
              1,
              "#f0f921"
             ]
            ],
            "type": "histogram2dcontour"
           }
          ],
          "mesh3d": [
           {
            "colorbar": {
             "outlinewidth": 0,
             "ticks": ""
            },
            "type": "mesh3d"
           }
          ],
          "parcoords": [
           {
            "line": {
             "colorbar": {
              "outlinewidth": 0,
              "ticks": ""
             }
            },
            "type": "parcoords"
           }
          ],
          "pie": [
           {
            "automargin": true,
            "type": "pie"
           }
          ],
          "scatter": [
           {
            "fillpattern": {
             "fillmode": "overlay",
             "size": 10,
             "solidity": 0.2
            },
            "type": "scatter"
           }
          ],
          "scatter3d": [
           {
            "line": {
             "colorbar": {
              "outlinewidth": 0,
              "ticks": ""
             }
            },
            "marker": {
             "colorbar": {
              "outlinewidth": 0,
              "ticks": ""
             }
            },
            "type": "scatter3d"
           }
          ],
          "scattercarpet": [
           {
            "marker": {
             "colorbar": {
              "outlinewidth": 0,
              "ticks": ""
             }
            },
            "type": "scattercarpet"
           }
          ],
          "scattergeo": [
           {
            "marker": {
             "colorbar": {
              "outlinewidth": 0,
              "ticks": ""
             }
            },
            "type": "scattergeo"
           }
          ],
          "scattergl": [
           {
            "marker": {
             "colorbar": {
              "outlinewidth": 0,
              "ticks": ""
             }
            },
            "type": "scattergl"
           }
          ],
          "scattermapbox": [
           {
            "marker": {
             "colorbar": {
              "outlinewidth": 0,
              "ticks": ""
             }
            },
            "type": "scattermapbox"
           }
          ],
          "scatterpolar": [
           {
            "marker": {
             "colorbar": {
              "outlinewidth": 0,
              "ticks": ""
             }
            },
            "type": "scatterpolar"
           }
          ],
          "scatterpolargl": [
           {
            "marker": {
             "colorbar": {
              "outlinewidth": 0,
              "ticks": ""
             }
            },
            "type": "scatterpolargl"
           }
          ],
          "scatterternary": [
           {
            "marker": {
             "colorbar": {
              "outlinewidth": 0,
              "ticks": ""
             }
            },
            "type": "scatterternary"
           }
          ],
          "surface": [
           {
            "colorbar": {
             "outlinewidth": 0,
             "ticks": ""
            },
            "colorscale": [
             [
              0,
              "#0d0887"
             ],
             [
              0.1111111111111111,
              "#46039f"
             ],
             [
              0.2222222222222222,
              "#7201a8"
             ],
             [
              0.3333333333333333,
              "#9c179e"
             ],
             [
              0.4444444444444444,
              "#bd3786"
             ],
             [
              0.5555555555555556,
              "#d8576b"
             ],
             [
              0.6666666666666666,
              "#ed7953"
             ],
             [
              0.7777777777777778,
              "#fb9f3a"
             ],
             [
              0.8888888888888888,
              "#fdca26"
             ],
             [
              1,
              "#f0f921"
             ]
            ],
            "type": "surface"
           }
          ],
          "table": [
           {
            "cells": {
             "fill": {
              "color": "#EBF0F8"
             },
             "line": {
              "color": "white"
             }
            },
            "header": {
             "fill": {
              "color": "#C8D4E3"
             },
             "line": {
              "color": "white"
             }
            },
            "type": "table"
           }
          ]
         },
         "layout": {
          "annotationdefaults": {
           "arrowcolor": "#2a3f5f",
           "arrowhead": 0,
           "arrowwidth": 1
          },
          "autotypenumbers": "strict",
          "coloraxis": {
           "colorbar": {
            "outlinewidth": 0,
            "ticks": ""
           }
          },
          "colorscale": {
           "diverging": [
            [
             0,
             "#8e0152"
            ],
            [
             0.1,
             "#c51b7d"
            ],
            [
             0.2,
             "#de77ae"
            ],
            [
             0.3,
             "#f1b6da"
            ],
            [
             0.4,
             "#fde0ef"
            ],
            [
             0.5,
             "#f7f7f7"
            ],
            [
             0.6,
             "#e6f5d0"
            ],
            [
             0.7,
             "#b8e186"
            ],
            [
             0.8,
             "#7fbc41"
            ],
            [
             0.9,
             "#4d9221"
            ],
            [
             1,
             "#276419"
            ]
           ],
           "sequential": [
            [
             0,
             "#0d0887"
            ],
            [
             0.1111111111111111,
             "#46039f"
            ],
            [
             0.2222222222222222,
             "#7201a8"
            ],
            [
             0.3333333333333333,
             "#9c179e"
            ],
            [
             0.4444444444444444,
             "#bd3786"
            ],
            [
             0.5555555555555556,
             "#d8576b"
            ],
            [
             0.6666666666666666,
             "#ed7953"
            ],
            [
             0.7777777777777778,
             "#fb9f3a"
            ],
            [
             0.8888888888888888,
             "#fdca26"
            ],
            [
             1,
             "#f0f921"
            ]
           ],
           "sequentialminus": [
            [
             0,
             "#0d0887"
            ],
            [
             0.1111111111111111,
             "#46039f"
            ],
            [
             0.2222222222222222,
             "#7201a8"
            ],
            [
             0.3333333333333333,
             "#9c179e"
            ],
            [
             0.4444444444444444,
             "#bd3786"
            ],
            [
             0.5555555555555556,
             "#d8576b"
            ],
            [
             0.6666666666666666,
             "#ed7953"
            ],
            [
             0.7777777777777778,
             "#fb9f3a"
            ],
            [
             0.8888888888888888,
             "#fdca26"
            ],
            [
             1,
             "#f0f921"
            ]
           ]
          },
          "colorway": [
           "#636efa",
           "#EF553B",
           "#00cc96",
           "#ab63fa",
           "#FFA15A",
           "#19d3f3",
           "#FF6692",
           "#B6E880",
           "#FF97FF",
           "#FECB52"
          ],
          "font": {
           "color": "#2a3f5f"
          },
          "geo": {
           "bgcolor": "white",
           "lakecolor": "white",
           "landcolor": "#E5ECF6",
           "showlakes": true,
           "showland": true,
           "subunitcolor": "white"
          },
          "hoverlabel": {
           "align": "left"
          },
          "hovermode": "closest",
          "mapbox": {
           "style": "light"
          },
          "paper_bgcolor": "white",
          "plot_bgcolor": "#E5ECF6",
          "polar": {
           "angularaxis": {
            "gridcolor": "white",
            "linecolor": "white",
            "ticks": ""
           },
           "bgcolor": "#E5ECF6",
           "radialaxis": {
            "gridcolor": "white",
            "linecolor": "white",
            "ticks": ""
           }
          },
          "scene": {
           "xaxis": {
            "backgroundcolor": "#E5ECF6",
            "gridcolor": "white",
            "gridwidth": 2,
            "linecolor": "white",
            "showbackground": true,
            "ticks": "",
            "zerolinecolor": "white"
           },
           "yaxis": {
            "backgroundcolor": "#E5ECF6",
            "gridcolor": "white",
            "gridwidth": 2,
            "linecolor": "white",
            "showbackground": true,
            "ticks": "",
            "zerolinecolor": "white"
           },
           "zaxis": {
            "backgroundcolor": "#E5ECF6",
            "gridcolor": "white",
            "gridwidth": 2,
            "linecolor": "white",
            "showbackground": true,
            "ticks": "",
            "zerolinecolor": "white"
           }
          },
          "shapedefaults": {
           "line": {
            "color": "#2a3f5f"
           }
          },
          "ternary": {
           "aaxis": {
            "gridcolor": "white",
            "linecolor": "white",
            "ticks": ""
           },
           "baxis": {
            "gridcolor": "white",
            "linecolor": "white",
            "ticks": ""
           },
           "bgcolor": "#E5ECF6",
           "caxis": {
            "gridcolor": "white",
            "linecolor": "white",
            "ticks": ""
           }
          },
          "title": {
           "x": 0.05
          },
          "xaxis": {
           "automargin": true,
           "gridcolor": "white",
           "linecolor": "white",
           "ticks": "",
           "title": {
            "standoff": 15
           },
           "zerolinecolor": "white",
           "zerolinewidth": 2
          },
          "yaxis": {
           "automargin": true,
           "gridcolor": "white",
           "linecolor": "white",
           "ticks": "",
           "title": {
            "standoff": 15
           },
           "zerolinecolor": "white",
           "zerolinewidth": 2
          }
         }
        },
        "title": {
         "text": "Break Even of Rides"
        },
        "xaxis": {
         "anchor": "y",
         "domain": [
          0,
          1
         ],
         "range": [
          0,
          20
         ],
         "title": {
          "text": "avg_w/o_drones"
         }
        },
        "yaxis": {
         "anchor": "x",
         "domain": [
          0,
          1
         ],
         "title": {
          "text": "#_simulated_rides"
         }
        }
       }
      }
     },
     "metadata": {},
     "output_type": "display_data"
    }
   ],
   "source": [
    "# Plotting results\n",
    "needed_rides_fig1 = px.scatter(\n",
    "    regression_metrics_main_routes,\n",
    "    x=\"avg_w/o_drones\",\n",
    "    y=\"#_simulated_rides\",\n",
    "    color_discrete_sequence=[\"DarkKhaki\"],\n",
    "    title=\"Break Even of Rides\",\n",
    "    range_x=[0, 20],\n",
    ")\n",
    "needed_rides_fig1[\"data\"][0][\"name\"] = \"Simulated Rides Data\"\n",
    "needed_rides_fig1[\"data\"][0][\"showlegend\"] = False\n",
    "# Line Plot of Regressed Data\n",
    "needed_rides_fig2 = px.line(\n",
    "    x=regression_metrics_main_routes[\"avg_w/o_drones\"],\n",
    "    y=fa.regression_function(\n",
    "        regression_metrics_main_routes[\"avg_w/o_drones\"],\n",
    "        *fa.get_opt_parameter(regression_metrics_main_routes, \"avg_w/o_drones\"),\n",
    "    ),\n",
    "    color_discrete_sequence=[\"DarkCyan\"],\n",
    "    range_x=[0, 20],\n",
    ")\n",
    "needed_rides_fig2[\"data\"][0][\"name\"] = \"Regression of Rides Data\"\n",
    "needed_rides_fig2[\"data\"][0][\"showlegend\"] = False\n",
    "# Line Plot working as cursor for current max days\n",
    "needed_rides_fig3 = px.line(\n",
    "    x=[2, 2], y=[0, needed_rides_main_routes], color_discrete_sequence=[\"tomato\"]\n",
    ")\n",
    "needed_rides_fig3[\"data\"][0][\"name\"] = \"Max Days for Delivery\"\n",
    "needed_rides_fig3[\"data\"][0][\"showlegend\"] = False\n",
    "needed_rides_fig4 = px.line(\n",
    "    x=[0, 2],\n",
    "    y=[needed_rides_main_routes, needed_rides_main_routes],\n",
    "    color_discrete_sequence=[\"tomato\"],\n",
    ")\n",
    "\n",
    "needed_rides_fig = go.Figure(\n",
    "    data=needed_rides_fig1.data\n",
    "    + needed_rides_fig2.data\n",
    "    + needed_rides_fig3.data\n",
    "    + needed_rides_fig4.data,\n",
    "    layout=needed_rides_fig1.layout,\n",
    ")\n",
    "needed_rides_fig"
   ]
  },
  {
   "cell_type": "code",
   "execution_count": 23,
   "metadata": {},
   "outputs": [
    {
     "data": {
      "application/vnd.plotly.v1+json": {
       "config": {
        "plotlyServerURL": "https://plot.ly"
       },
       "data": [
        {
         "alignmentgroup": "True",
         "hovertemplate": "hour=%{x}<br>drives=%{y}<extra></extra>",
         "legendgroup": "",
         "marker": {
          "color": "#636efa",
          "pattern": {
           "shape": ""
          }
         },
         "name": "",
         "offsetgroup": "",
         "orientation": "v",
         "showlegend": false,
         "textposition": "auto",
         "type": "bar",
         "x": [
          0,
          1,
          2,
          3,
          4,
          5,
          6,
          7,
          8,
          9,
          10,
          11,
          12,
          13,
          14,
          15,
          16,
          17,
          18,
          19,
          20,
          21,
          22,
          23
         ],
         "xaxis": "x",
         "y": [
          0.6096774193548387,
          0.0903225806451613,
          0,
          0,
          0,
          0,
          0.022580645161290325,
          3.274193548387097,
          3.2516129032258068,
          3.183870967741936,
          2.4161290322580644,
          2.8451612903225807,
          2.5516129032258066,
          3.048387096774193,
          3.1612903225806455,
          3.861290322580645,
          3.9290322580645167,
          5.329032258064517,
          4.629032258064516,
          3.183870967741936,
          3.6806451612903226,
          3.8161290322580643,
          3.1161290322580646,
          1.7838709677419353
         ],
         "yaxis": "y"
        }
       ],
       "layout": {
        "barmode": "relative",
        "legend": {
         "tracegroupgap": 0
        },
        "margin": {
         "t": 60
        },
        "template": {
         "data": {
          "bar": [
           {
            "error_x": {
             "color": "#2a3f5f"
            },
            "error_y": {
             "color": "#2a3f5f"
            },
            "marker": {
             "line": {
              "color": "#E5ECF6",
              "width": 0.5
             },
             "pattern": {
              "fillmode": "overlay",
              "size": 10,
              "solidity": 0.2
             }
            },
            "type": "bar"
           }
          ],
          "barpolar": [
           {
            "marker": {
             "line": {
              "color": "#E5ECF6",
              "width": 0.5
             },
             "pattern": {
              "fillmode": "overlay",
              "size": 10,
              "solidity": 0.2
             }
            },
            "type": "barpolar"
           }
          ],
          "carpet": [
           {
            "aaxis": {
             "endlinecolor": "#2a3f5f",
             "gridcolor": "white",
             "linecolor": "white",
             "minorgridcolor": "white",
             "startlinecolor": "#2a3f5f"
            },
            "baxis": {
             "endlinecolor": "#2a3f5f",
             "gridcolor": "white",
             "linecolor": "white",
             "minorgridcolor": "white",
             "startlinecolor": "#2a3f5f"
            },
            "type": "carpet"
           }
          ],
          "choropleth": [
           {
            "colorbar": {
             "outlinewidth": 0,
             "ticks": ""
            },
            "type": "choropleth"
           }
          ],
          "contour": [
           {
            "colorbar": {
             "outlinewidth": 0,
             "ticks": ""
            },
            "colorscale": [
             [
              0,
              "#0d0887"
             ],
             [
              0.1111111111111111,
              "#46039f"
             ],
             [
              0.2222222222222222,
              "#7201a8"
             ],
             [
              0.3333333333333333,
              "#9c179e"
             ],
             [
              0.4444444444444444,
              "#bd3786"
             ],
             [
              0.5555555555555556,
              "#d8576b"
             ],
             [
              0.6666666666666666,
              "#ed7953"
             ],
             [
              0.7777777777777778,
              "#fb9f3a"
             ],
             [
              0.8888888888888888,
              "#fdca26"
             ],
             [
              1,
              "#f0f921"
             ]
            ],
            "type": "contour"
           }
          ],
          "contourcarpet": [
           {
            "colorbar": {
             "outlinewidth": 0,
             "ticks": ""
            },
            "type": "contourcarpet"
           }
          ],
          "heatmap": [
           {
            "colorbar": {
             "outlinewidth": 0,
             "ticks": ""
            },
            "colorscale": [
             [
              0,
              "#0d0887"
             ],
             [
              0.1111111111111111,
              "#46039f"
             ],
             [
              0.2222222222222222,
              "#7201a8"
             ],
             [
              0.3333333333333333,
              "#9c179e"
             ],
             [
              0.4444444444444444,
              "#bd3786"
             ],
             [
              0.5555555555555556,
              "#d8576b"
             ],
             [
              0.6666666666666666,
              "#ed7953"
             ],
             [
              0.7777777777777778,
              "#fb9f3a"
             ],
             [
              0.8888888888888888,
              "#fdca26"
             ],
             [
              1,
              "#f0f921"
             ]
            ],
            "type": "heatmap"
           }
          ],
          "heatmapgl": [
           {
            "colorbar": {
             "outlinewidth": 0,
             "ticks": ""
            },
            "colorscale": [
             [
              0,
              "#0d0887"
             ],
             [
              0.1111111111111111,
              "#46039f"
             ],
             [
              0.2222222222222222,
              "#7201a8"
             ],
             [
              0.3333333333333333,
              "#9c179e"
             ],
             [
              0.4444444444444444,
              "#bd3786"
             ],
             [
              0.5555555555555556,
              "#d8576b"
             ],
             [
              0.6666666666666666,
              "#ed7953"
             ],
             [
              0.7777777777777778,
              "#fb9f3a"
             ],
             [
              0.8888888888888888,
              "#fdca26"
             ],
             [
              1,
              "#f0f921"
             ]
            ],
            "type": "heatmapgl"
           }
          ],
          "histogram": [
           {
            "marker": {
             "pattern": {
              "fillmode": "overlay",
              "size": 10,
              "solidity": 0.2
             }
            },
            "type": "histogram"
           }
          ],
          "histogram2d": [
           {
            "colorbar": {
             "outlinewidth": 0,
             "ticks": ""
            },
            "colorscale": [
             [
              0,
              "#0d0887"
             ],
             [
              0.1111111111111111,
              "#46039f"
             ],
             [
              0.2222222222222222,
              "#7201a8"
             ],
             [
              0.3333333333333333,
              "#9c179e"
             ],
             [
              0.4444444444444444,
              "#bd3786"
             ],
             [
              0.5555555555555556,
              "#d8576b"
             ],
             [
              0.6666666666666666,
              "#ed7953"
             ],
             [
              0.7777777777777778,
              "#fb9f3a"
             ],
             [
              0.8888888888888888,
              "#fdca26"
             ],
             [
              1,
              "#f0f921"
             ]
            ],
            "type": "histogram2d"
           }
          ],
          "histogram2dcontour": [
           {
            "colorbar": {
             "outlinewidth": 0,
             "ticks": ""
            },
            "colorscale": [
             [
              0,
              "#0d0887"
             ],
             [
              0.1111111111111111,
              "#46039f"
             ],
             [
              0.2222222222222222,
              "#7201a8"
             ],
             [
              0.3333333333333333,
              "#9c179e"
             ],
             [
              0.4444444444444444,
              "#bd3786"
             ],
             [
              0.5555555555555556,
              "#d8576b"
             ],
             [
              0.6666666666666666,
              "#ed7953"
             ],
             [
              0.7777777777777778,
              "#fb9f3a"
             ],
             [
              0.8888888888888888,
              "#fdca26"
             ],
             [
              1,
              "#f0f921"
             ]
            ],
            "type": "histogram2dcontour"
           }
          ],
          "mesh3d": [
           {
            "colorbar": {
             "outlinewidth": 0,
             "ticks": ""
            },
            "type": "mesh3d"
           }
          ],
          "parcoords": [
           {
            "line": {
             "colorbar": {
              "outlinewidth": 0,
              "ticks": ""
             }
            },
            "type": "parcoords"
           }
          ],
          "pie": [
           {
            "automargin": true,
            "type": "pie"
           }
          ],
          "scatter": [
           {
            "fillpattern": {
             "fillmode": "overlay",
             "size": 10,
             "solidity": 0.2
            },
            "type": "scatter"
           }
          ],
          "scatter3d": [
           {
            "line": {
             "colorbar": {
              "outlinewidth": 0,
              "ticks": ""
             }
            },
            "marker": {
             "colorbar": {
              "outlinewidth": 0,
              "ticks": ""
             }
            },
            "type": "scatter3d"
           }
          ],
          "scattercarpet": [
           {
            "marker": {
             "colorbar": {
              "outlinewidth": 0,
              "ticks": ""
             }
            },
            "type": "scattercarpet"
           }
          ],
          "scattergeo": [
           {
            "marker": {
             "colorbar": {
              "outlinewidth": 0,
              "ticks": ""
             }
            },
            "type": "scattergeo"
           }
          ],
          "scattergl": [
           {
            "marker": {
             "colorbar": {
              "outlinewidth": 0,
              "ticks": ""
             }
            },
            "type": "scattergl"
           }
          ],
          "scattermapbox": [
           {
            "marker": {
             "colorbar": {
              "outlinewidth": 0,
              "ticks": ""
             }
            },
            "type": "scattermapbox"
           }
          ],
          "scatterpolar": [
           {
            "marker": {
             "colorbar": {
              "outlinewidth": 0,
              "ticks": ""
             }
            },
            "type": "scatterpolar"
           }
          ],
          "scatterpolargl": [
           {
            "marker": {
             "colorbar": {
              "outlinewidth": 0,
              "ticks": ""
             }
            },
            "type": "scatterpolargl"
           }
          ],
          "scatterternary": [
           {
            "marker": {
             "colorbar": {
              "outlinewidth": 0,
              "ticks": ""
             }
            },
            "type": "scatterternary"
           }
          ],
          "surface": [
           {
            "colorbar": {
             "outlinewidth": 0,
             "ticks": ""
            },
            "colorscale": [
             [
              0,
              "#0d0887"
             ],
             [
              0.1111111111111111,
              "#46039f"
             ],
             [
              0.2222222222222222,
              "#7201a8"
             ],
             [
              0.3333333333333333,
              "#9c179e"
             ],
             [
              0.4444444444444444,
              "#bd3786"
             ],
             [
              0.5555555555555556,
              "#d8576b"
             ],
             [
              0.6666666666666666,
              "#ed7953"
             ],
             [
              0.7777777777777778,
              "#fb9f3a"
             ],
             [
              0.8888888888888888,
              "#fdca26"
             ],
             [
              1,
              "#f0f921"
             ]
            ],
            "type": "surface"
           }
          ],
          "table": [
           {
            "cells": {
             "fill": {
              "color": "#EBF0F8"
             },
             "line": {
              "color": "white"
             }
            },
            "header": {
             "fill": {
              "color": "#C8D4E3"
             },
             "line": {
              "color": "white"
             }
            },
            "type": "table"
           }
          ]
         },
         "layout": {
          "annotationdefaults": {
           "arrowcolor": "#2a3f5f",
           "arrowhead": 0,
           "arrowwidth": 1
          },
          "autotypenumbers": "strict",
          "coloraxis": {
           "colorbar": {
            "outlinewidth": 0,
            "ticks": ""
           }
          },
          "colorscale": {
           "diverging": [
            [
             0,
             "#8e0152"
            ],
            [
             0.1,
             "#c51b7d"
            ],
            [
             0.2,
             "#de77ae"
            ],
            [
             0.3,
             "#f1b6da"
            ],
            [
             0.4,
             "#fde0ef"
            ],
            [
             0.5,
             "#f7f7f7"
            ],
            [
             0.6,
             "#e6f5d0"
            ],
            [
             0.7,
             "#b8e186"
            ],
            [
             0.8,
             "#7fbc41"
            ],
            [
             0.9,
             "#4d9221"
            ],
            [
             1,
             "#276419"
            ]
           ],
           "sequential": [
            [
             0,
             "#0d0887"
            ],
            [
             0.1111111111111111,
             "#46039f"
            ],
            [
             0.2222222222222222,
             "#7201a8"
            ],
            [
             0.3333333333333333,
             "#9c179e"
            ],
            [
             0.4444444444444444,
             "#bd3786"
            ],
            [
             0.5555555555555556,
             "#d8576b"
            ],
            [
             0.6666666666666666,
             "#ed7953"
            ],
            [
             0.7777777777777778,
             "#fb9f3a"
            ],
            [
             0.8888888888888888,
             "#fdca26"
            ],
            [
             1,
             "#f0f921"
            ]
           ],
           "sequentialminus": [
            [
             0,
             "#0d0887"
            ],
            [
             0.1111111111111111,
             "#46039f"
            ],
            [
             0.2222222222222222,
             "#7201a8"
            ],
            [
             0.3333333333333333,
             "#9c179e"
            ],
            [
             0.4444444444444444,
             "#bd3786"
            ],
            [
             0.5555555555555556,
             "#d8576b"
            ],
            [
             0.6666666666666666,
             "#ed7953"
            ],
            [
             0.7777777777777778,
             "#fb9f3a"
            ],
            [
             0.8888888888888888,
             "#fdca26"
            ],
            [
             1,
             "#f0f921"
            ]
           ]
          },
          "colorway": [
           "#636efa",
           "#EF553B",
           "#00cc96",
           "#ab63fa",
           "#FFA15A",
           "#19d3f3",
           "#FF6692",
           "#B6E880",
           "#FF97FF",
           "#FECB52"
          ],
          "font": {
           "color": "#2a3f5f"
          },
          "geo": {
           "bgcolor": "white",
           "lakecolor": "white",
           "landcolor": "#E5ECF6",
           "showlakes": true,
           "showland": true,
           "subunitcolor": "white"
          },
          "hoverlabel": {
           "align": "left"
          },
          "hovermode": "closest",
          "mapbox": {
           "style": "light"
          },
          "paper_bgcolor": "white",
          "plot_bgcolor": "#E5ECF6",
          "polar": {
           "angularaxis": {
            "gridcolor": "white",
            "linecolor": "white",
            "ticks": ""
           },
           "bgcolor": "#E5ECF6",
           "radialaxis": {
            "gridcolor": "white",
            "linecolor": "white",
            "ticks": ""
           }
          },
          "scene": {
           "xaxis": {
            "backgroundcolor": "#E5ECF6",
            "gridcolor": "white",
            "gridwidth": 2,
            "linecolor": "white",
            "showbackground": true,
            "ticks": "",
            "zerolinecolor": "white"
           },
           "yaxis": {
            "backgroundcolor": "#E5ECF6",
            "gridcolor": "white",
            "gridwidth": 2,
            "linecolor": "white",
            "showbackground": true,
            "ticks": "",
            "zerolinecolor": "white"
           },
           "zaxis": {
            "backgroundcolor": "#E5ECF6",
            "gridcolor": "white",
            "gridwidth": 2,
            "linecolor": "white",
            "showbackground": true,
            "ticks": "",
            "zerolinecolor": "white"
           }
          },
          "shapedefaults": {
           "line": {
            "color": "#2a3f5f"
           }
          },
          "ternary": {
           "aaxis": {
            "gridcolor": "white",
            "linecolor": "white",
            "ticks": ""
           },
           "baxis": {
            "gridcolor": "white",
            "linecolor": "white",
            "ticks": ""
           },
           "bgcolor": "#E5ECF6",
           "caxis": {
            "gridcolor": "white",
            "linecolor": "white",
            "ticks": ""
           }
          },
          "title": {
           "x": 0.05
          },
          "xaxis": {
           "automargin": true,
           "gridcolor": "white",
           "linecolor": "white",
           "ticks": "",
           "title": {
            "standoff": 15
           },
           "zerolinecolor": "white",
           "zerolinewidth": 2
          },
          "yaxis": {
           "automargin": true,
           "gridcolor": "white",
           "linecolor": "white",
           "ticks": "",
           "title": {
            "standoff": 15
           },
           "zerolinecolor": "white",
           "zerolinewidth": 2
          }
         }
        },
        "xaxis": {
         "anchor": "y",
         "domain": [
          0,
          1
         ],
         "title": {
          "text": "hour"
         }
        },
        "yaxis": {
         "anchor": "x",
         "domain": [
          0,
          1
         ],
         "title": {
          "text": "drives"
         }
        }
       }
      }
     },
     "metadata": {},
     "output_type": "display_data"
    },
    {
     "data": {
      "application/vnd.plotly.v1+json": {
       "config": {
        "plotlyServerURL": "https://plot.ly"
       },
       "data": [
        {
         "alignmentgroup": "True",
         "hovertemplate": "hour=%{x}<br>drivers=%{y}<extra></extra>",
         "legendgroup": "",
         "marker": {
          "color": "#636efa",
          "pattern": {
           "shape": ""
          }
         },
         "name": "",
         "offsetgroup": "",
         "orientation": "v",
         "showlegend": false,
         "textposition": "auto",
         "type": "bar",
         "x": [
          0,
          1,
          2,
          3,
          4,
          5,
          6,
          7,
          8,
          9,
          10,
          11,
          12,
          13,
          14,
          15,
          16,
          17,
          18,
          19,
          20,
          21,
          22,
          23
         ],
         "xaxis": "x",
         "y": [
          0.2032258064516129,
          0.030107526881720432,
          0,
          0,
          0,
          0,
          0.007526881720430108,
          1.0913978494623657,
          1.0838709677419356,
          1.0612903225806454,
          0.8053763440860214,
          0.9483870967741935,
          0.8505376344086022,
          1.0161290322580643,
          1.0537634408602152,
          1.2870967741935484,
          1.3096774193548388,
          1.7763440860215056,
          1.543010752688172,
          1.0612903225806454,
          1.2268817204301075,
          1.272043010752688,
          1.038709677419355,
          0.5946236559139785
         ],
         "yaxis": "y"
        }
       ],
       "layout": {
        "barmode": "relative",
        "legend": {
         "tracegroupgap": 0
        },
        "margin": {
         "t": 60
        },
        "template": {
         "data": {
          "bar": [
           {
            "error_x": {
             "color": "#2a3f5f"
            },
            "error_y": {
             "color": "#2a3f5f"
            },
            "marker": {
             "line": {
              "color": "#E5ECF6",
              "width": 0.5
             },
             "pattern": {
              "fillmode": "overlay",
              "size": 10,
              "solidity": 0.2
             }
            },
            "type": "bar"
           }
          ],
          "barpolar": [
           {
            "marker": {
             "line": {
              "color": "#E5ECF6",
              "width": 0.5
             },
             "pattern": {
              "fillmode": "overlay",
              "size": 10,
              "solidity": 0.2
             }
            },
            "type": "barpolar"
           }
          ],
          "carpet": [
           {
            "aaxis": {
             "endlinecolor": "#2a3f5f",
             "gridcolor": "white",
             "linecolor": "white",
             "minorgridcolor": "white",
             "startlinecolor": "#2a3f5f"
            },
            "baxis": {
             "endlinecolor": "#2a3f5f",
             "gridcolor": "white",
             "linecolor": "white",
             "minorgridcolor": "white",
             "startlinecolor": "#2a3f5f"
            },
            "type": "carpet"
           }
          ],
          "choropleth": [
           {
            "colorbar": {
             "outlinewidth": 0,
             "ticks": ""
            },
            "type": "choropleth"
           }
          ],
          "contour": [
           {
            "colorbar": {
             "outlinewidth": 0,
             "ticks": ""
            },
            "colorscale": [
             [
              0,
              "#0d0887"
             ],
             [
              0.1111111111111111,
              "#46039f"
             ],
             [
              0.2222222222222222,
              "#7201a8"
             ],
             [
              0.3333333333333333,
              "#9c179e"
             ],
             [
              0.4444444444444444,
              "#bd3786"
             ],
             [
              0.5555555555555556,
              "#d8576b"
             ],
             [
              0.6666666666666666,
              "#ed7953"
             ],
             [
              0.7777777777777778,
              "#fb9f3a"
             ],
             [
              0.8888888888888888,
              "#fdca26"
             ],
             [
              1,
              "#f0f921"
             ]
            ],
            "type": "contour"
           }
          ],
          "contourcarpet": [
           {
            "colorbar": {
             "outlinewidth": 0,
             "ticks": ""
            },
            "type": "contourcarpet"
           }
          ],
          "heatmap": [
           {
            "colorbar": {
             "outlinewidth": 0,
             "ticks": ""
            },
            "colorscale": [
             [
              0,
              "#0d0887"
             ],
             [
              0.1111111111111111,
              "#46039f"
             ],
             [
              0.2222222222222222,
              "#7201a8"
             ],
             [
              0.3333333333333333,
              "#9c179e"
             ],
             [
              0.4444444444444444,
              "#bd3786"
             ],
             [
              0.5555555555555556,
              "#d8576b"
             ],
             [
              0.6666666666666666,
              "#ed7953"
             ],
             [
              0.7777777777777778,
              "#fb9f3a"
             ],
             [
              0.8888888888888888,
              "#fdca26"
             ],
             [
              1,
              "#f0f921"
             ]
            ],
            "type": "heatmap"
           }
          ],
          "heatmapgl": [
           {
            "colorbar": {
             "outlinewidth": 0,
             "ticks": ""
            },
            "colorscale": [
             [
              0,
              "#0d0887"
             ],
             [
              0.1111111111111111,
              "#46039f"
             ],
             [
              0.2222222222222222,
              "#7201a8"
             ],
             [
              0.3333333333333333,
              "#9c179e"
             ],
             [
              0.4444444444444444,
              "#bd3786"
             ],
             [
              0.5555555555555556,
              "#d8576b"
             ],
             [
              0.6666666666666666,
              "#ed7953"
             ],
             [
              0.7777777777777778,
              "#fb9f3a"
             ],
             [
              0.8888888888888888,
              "#fdca26"
             ],
             [
              1,
              "#f0f921"
             ]
            ],
            "type": "heatmapgl"
           }
          ],
          "histogram": [
           {
            "marker": {
             "pattern": {
              "fillmode": "overlay",
              "size": 10,
              "solidity": 0.2
             }
            },
            "type": "histogram"
           }
          ],
          "histogram2d": [
           {
            "colorbar": {
             "outlinewidth": 0,
             "ticks": ""
            },
            "colorscale": [
             [
              0,
              "#0d0887"
             ],
             [
              0.1111111111111111,
              "#46039f"
             ],
             [
              0.2222222222222222,
              "#7201a8"
             ],
             [
              0.3333333333333333,
              "#9c179e"
             ],
             [
              0.4444444444444444,
              "#bd3786"
             ],
             [
              0.5555555555555556,
              "#d8576b"
             ],
             [
              0.6666666666666666,
              "#ed7953"
             ],
             [
              0.7777777777777778,
              "#fb9f3a"
             ],
             [
              0.8888888888888888,
              "#fdca26"
             ],
             [
              1,
              "#f0f921"
             ]
            ],
            "type": "histogram2d"
           }
          ],
          "histogram2dcontour": [
           {
            "colorbar": {
             "outlinewidth": 0,
             "ticks": ""
            },
            "colorscale": [
             [
              0,
              "#0d0887"
             ],
             [
              0.1111111111111111,
              "#46039f"
             ],
             [
              0.2222222222222222,
              "#7201a8"
             ],
             [
              0.3333333333333333,
              "#9c179e"
             ],
             [
              0.4444444444444444,
              "#bd3786"
             ],
             [
              0.5555555555555556,
              "#d8576b"
             ],
             [
              0.6666666666666666,
              "#ed7953"
             ],
             [
              0.7777777777777778,
              "#fb9f3a"
             ],
             [
              0.8888888888888888,
              "#fdca26"
             ],
             [
              1,
              "#f0f921"
             ]
            ],
            "type": "histogram2dcontour"
           }
          ],
          "mesh3d": [
           {
            "colorbar": {
             "outlinewidth": 0,
             "ticks": ""
            },
            "type": "mesh3d"
           }
          ],
          "parcoords": [
           {
            "line": {
             "colorbar": {
              "outlinewidth": 0,
              "ticks": ""
             }
            },
            "type": "parcoords"
           }
          ],
          "pie": [
           {
            "automargin": true,
            "type": "pie"
           }
          ],
          "scatter": [
           {
            "fillpattern": {
             "fillmode": "overlay",
             "size": 10,
             "solidity": 0.2
            },
            "type": "scatter"
           }
          ],
          "scatter3d": [
           {
            "line": {
             "colorbar": {
              "outlinewidth": 0,
              "ticks": ""
             }
            },
            "marker": {
             "colorbar": {
              "outlinewidth": 0,
              "ticks": ""
             }
            },
            "type": "scatter3d"
           }
          ],
          "scattercarpet": [
           {
            "marker": {
             "colorbar": {
              "outlinewidth": 0,
              "ticks": ""
             }
            },
            "type": "scattercarpet"
           }
          ],
          "scattergeo": [
           {
            "marker": {
             "colorbar": {
              "outlinewidth": 0,
              "ticks": ""
             }
            },
            "type": "scattergeo"
           }
          ],
          "scattergl": [
           {
            "marker": {
             "colorbar": {
              "outlinewidth": 0,
              "ticks": ""
             }
            },
            "type": "scattergl"
           }
          ],
          "scattermapbox": [
           {
            "marker": {
             "colorbar": {
              "outlinewidth": 0,
              "ticks": ""
             }
            },
            "type": "scattermapbox"
           }
          ],
          "scatterpolar": [
           {
            "marker": {
             "colorbar": {
              "outlinewidth": 0,
              "ticks": ""
             }
            },
            "type": "scatterpolar"
           }
          ],
          "scatterpolargl": [
           {
            "marker": {
             "colorbar": {
              "outlinewidth": 0,
              "ticks": ""
             }
            },
            "type": "scatterpolargl"
           }
          ],
          "scatterternary": [
           {
            "marker": {
             "colorbar": {
              "outlinewidth": 0,
              "ticks": ""
             }
            },
            "type": "scatterternary"
           }
          ],
          "surface": [
           {
            "colorbar": {
             "outlinewidth": 0,
             "ticks": ""
            },
            "colorscale": [
             [
              0,
              "#0d0887"
             ],
             [
              0.1111111111111111,
              "#46039f"
             ],
             [
              0.2222222222222222,
              "#7201a8"
             ],
             [
              0.3333333333333333,
              "#9c179e"
             ],
             [
              0.4444444444444444,
              "#bd3786"
             ],
             [
              0.5555555555555556,
              "#d8576b"
             ],
             [
              0.6666666666666666,
              "#ed7953"
             ],
             [
              0.7777777777777778,
              "#fb9f3a"
             ],
             [
              0.8888888888888888,
              "#fdca26"
             ],
             [
              1,
              "#f0f921"
             ]
            ],
            "type": "surface"
           }
          ],
          "table": [
           {
            "cells": {
             "fill": {
              "color": "#EBF0F8"
             },
             "line": {
              "color": "white"
             }
            },
            "header": {
             "fill": {
              "color": "#C8D4E3"
             },
             "line": {
              "color": "white"
             }
            },
            "type": "table"
           }
          ]
         },
         "layout": {
          "annotationdefaults": {
           "arrowcolor": "#2a3f5f",
           "arrowhead": 0,
           "arrowwidth": 1
          },
          "autotypenumbers": "strict",
          "coloraxis": {
           "colorbar": {
            "outlinewidth": 0,
            "ticks": ""
           }
          },
          "colorscale": {
           "diverging": [
            [
             0,
             "#8e0152"
            ],
            [
             0.1,
             "#c51b7d"
            ],
            [
             0.2,
             "#de77ae"
            ],
            [
             0.3,
             "#f1b6da"
            ],
            [
             0.4,
             "#fde0ef"
            ],
            [
             0.5,
             "#f7f7f7"
            ],
            [
             0.6,
             "#e6f5d0"
            ],
            [
             0.7,
             "#b8e186"
            ],
            [
             0.8,
             "#7fbc41"
            ],
            [
             0.9,
             "#4d9221"
            ],
            [
             1,
             "#276419"
            ]
           ],
           "sequential": [
            [
             0,
             "#0d0887"
            ],
            [
             0.1111111111111111,
             "#46039f"
            ],
            [
             0.2222222222222222,
             "#7201a8"
            ],
            [
             0.3333333333333333,
             "#9c179e"
            ],
            [
             0.4444444444444444,
             "#bd3786"
            ],
            [
             0.5555555555555556,
             "#d8576b"
            ],
            [
             0.6666666666666666,
             "#ed7953"
            ],
            [
             0.7777777777777778,
             "#fb9f3a"
            ],
            [
             0.8888888888888888,
             "#fdca26"
            ],
            [
             1,
             "#f0f921"
            ]
           ],
           "sequentialminus": [
            [
             0,
             "#0d0887"
            ],
            [
             0.1111111111111111,
             "#46039f"
            ],
            [
             0.2222222222222222,
             "#7201a8"
            ],
            [
             0.3333333333333333,
             "#9c179e"
            ],
            [
             0.4444444444444444,
             "#bd3786"
            ],
            [
             0.5555555555555556,
             "#d8576b"
            ],
            [
             0.6666666666666666,
             "#ed7953"
            ],
            [
             0.7777777777777778,
             "#fb9f3a"
            ],
            [
             0.8888888888888888,
             "#fdca26"
            ],
            [
             1,
             "#f0f921"
            ]
           ]
          },
          "colorway": [
           "#636efa",
           "#EF553B",
           "#00cc96",
           "#ab63fa",
           "#FFA15A",
           "#19d3f3",
           "#FF6692",
           "#B6E880",
           "#FF97FF",
           "#FECB52"
          ],
          "font": {
           "color": "#2a3f5f"
          },
          "geo": {
           "bgcolor": "white",
           "lakecolor": "white",
           "landcolor": "#E5ECF6",
           "showlakes": true,
           "showland": true,
           "subunitcolor": "white"
          },
          "hoverlabel": {
           "align": "left"
          },
          "hovermode": "closest",
          "mapbox": {
           "style": "light"
          },
          "paper_bgcolor": "white",
          "plot_bgcolor": "#E5ECF6",
          "polar": {
           "angularaxis": {
            "gridcolor": "white",
            "linecolor": "white",
            "ticks": ""
           },
           "bgcolor": "#E5ECF6",
           "radialaxis": {
            "gridcolor": "white",
            "linecolor": "white",
            "ticks": ""
           }
          },
          "scene": {
           "xaxis": {
            "backgroundcolor": "#E5ECF6",
            "gridcolor": "white",
            "gridwidth": 2,
            "linecolor": "white",
            "showbackground": true,
            "ticks": "",
            "zerolinecolor": "white"
           },
           "yaxis": {
            "backgroundcolor": "#E5ECF6",
            "gridcolor": "white",
            "gridwidth": 2,
            "linecolor": "white",
            "showbackground": true,
            "ticks": "",
            "zerolinecolor": "white"
           },
           "zaxis": {
            "backgroundcolor": "#E5ECF6",
            "gridcolor": "white",
            "gridwidth": 2,
            "linecolor": "white",
            "showbackground": true,
            "ticks": "",
            "zerolinecolor": "white"
           }
          },
          "shapedefaults": {
           "line": {
            "color": "#2a3f5f"
           }
          },
          "ternary": {
           "aaxis": {
            "gridcolor": "white",
            "linecolor": "white",
            "ticks": ""
           },
           "baxis": {
            "gridcolor": "white",
            "linecolor": "white",
            "ticks": ""
           },
           "bgcolor": "#E5ECF6",
           "caxis": {
            "gridcolor": "white",
            "linecolor": "white",
            "ticks": ""
           }
          },
          "title": {
           "x": 0.05
          },
          "xaxis": {
           "automargin": true,
           "gridcolor": "white",
           "linecolor": "white",
           "ticks": "",
           "title": {
            "standoff": 15
           },
           "zerolinecolor": "white",
           "zerolinewidth": 2
          },
          "yaxis": {
           "automargin": true,
           "gridcolor": "white",
           "linecolor": "white",
           "ticks": "",
           "title": {
            "standoff": 15
           },
           "zerolinecolor": "white",
           "zerolinewidth": 2
          }
         }
        },
        "xaxis": {
         "anchor": "y",
         "domain": [
          0,
          1
         ],
         "title": {
          "text": "hour"
         }
        },
        "yaxis": {
         "anchor": "x",
         "domain": [
          0,
          1
         ],
         "title": {
          "text": "drivers"
         }
        }
       }
      }
     },
     "metadata": {},
     "output_type": "display_data"
    }
   ],
   "source": [
    "# Calculate needed drivers\n",
    "if needed_rides_main_routes - len(cleaned_drives) > 0:\n",
    "    simulated_rides_1 = simulated_rides.sample(int(needed_rides_main_routes - len(cleaned_drives)))\n",
    "    total_rides = pd.concat([cleaned_drives, simulated_rides_1])\n",
    "else:\n",
    "    total_rides = cleaned_drives.sample(int(needed_rides_main_routes))\n",
    "\n",
    "# For each hour and based on how many rides we need, we calculate the number of parallel drivers and thus the number of drivers needed\n",
    "hours = list(range(0, 24))\n",
    "numb_drivers_per_hour = []\n",
    "avg_drives_per_hour = []\n",
    "for i in hours:\n",
    "    numb_drivers_per_hour.append(\n",
    "        fa.calculate_number_drivers(total_rides, i, 0.3)[0]\n",
    "    )\n",
    "    avg_drives_per_hour.append(\n",
    "        fa.calculate_number_drivers(total_rides, i, 0.3)[1]\n",
    "    )\n",
    "\n",
    "df_drivers_per_hour = pd.DataFrame(\n",
    "    list(zip(hours, numb_drivers_per_hour)), columns=[\"hour\", \"drivers\"]\n",
    ")\n",
    "\n",
    "df_drives_per_hour = pd.DataFrame(\n",
    "    list(zip(hours, avg_drives_per_hour)), columns=[\"hour\", \"drives\"]\n",
    ")\n",
    "\n",
    "# Show results\n",
    "fig_drivers = px.bar(df_drivers_per_hour, x=\"hour\", y=\"drivers\")\n",
    "fig_drives = px.bar(df_drives_per_hour, x=\"hour\", y=\"drives\")\n",
    "fig_drives.show()\n",
    "fig_drivers.show()"
   ]
  }
 ],
 "metadata": {
  "kernelspec": {
   "display_name": "Python 3.9.10 64-bit",
   "language": "python",
   "name": "python3"
  },
  "language_info": {
   "codemirror_mode": {
    "name": "ipython",
    "version": 3
   },
   "file_extension": ".py",
   "mimetype": "text/x-python",
   "name": "python",
   "nbconvert_exporter": "python",
   "pygments_lexer": "ipython3",
   "version": "3.9.10"
  },
  "orig_nbformat": 4,
  "vscode": {
   "interpreter": {
    "hash": "453e59b997346832b8b464675f5c42a6d022616f3d6473b0c2c540035952836d"
   }
  }
 },
 "nbformat": 4,
 "nbformat_minor": 2
}
