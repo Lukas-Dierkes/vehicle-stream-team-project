{
 "cells": [
  {
   "cell_type": "code",
   "execution_count": 1,
   "metadata": {},
   "outputs": [],
   "source": [
    "from datetime import datetime as dt\n",
    "\n",
    "import dash\n",
    "import dash_bootstrap_components as dbc\n",
    "import git\n",
    "import numpy as np\n",
    "import pandas as pd\n",
    "import plotly.express as px\n",
    "import plotly.graph_objects as go\n",
    "from dash import MATCH, Dash, Input, Output, callback, dcc, html\n",
    "import networkx as nx\n"
   ]
  },
  {
   "cell_type": "code",
   "execution_count": 2,
   "metadata": {},
   "outputs": [],
   "source": [
    "from vehicle_stream_pipeline import utils"
   ]
  },
  {
   "cell_type": "code",
   "execution_count": 76,
   "metadata": {},
   "outputs": [],
   "source": [
    "repo = git.Repo(\".\", search_parent_directories=True).git.rev_parse(\"--show-toplevel\")\n",
    "results_orig = pd.read_csv(\n",
    "    f\"{repo}/data/regression/graph_metrics_5Ksteps.csv\"\n",
    ")\n"
   ]
  },
  {
   "cell_type": "code",
   "execution_count": 53,
   "metadata": {},
   "outputs": [],
   "source": [
    "results_orig[\"#_simulated_rides\"] = results_orig[\"#_simulated_rides\"]/11"
   ]
  },
  {
   "cell_type": "code",
   "execution_count": 50,
   "metadata": {},
   "outputs": [
    {
     "data": {
      "text/html": [
       "<div>\n",
       "<style scoped>\n",
       "    .dataframe tbody tr th:only-of-type {\n",
       "        vertical-align: middle;\n",
       "    }\n",
       "\n",
       "    .dataframe tbody tr th {\n",
       "        vertical-align: top;\n",
       "    }\n",
       "\n",
       "    .dataframe thead th {\n",
       "        text-align: right;\n",
       "    }\n",
       "</style>\n",
       "<table border=\"1\" class=\"dataframe\">\n",
       "  <thead>\n",
       "    <tr style=\"text-align: right;\">\n",
       "      <th></th>\n",
       "      <th>Unnamed: 0</th>\n",
       "      <th>#_simulated_rides</th>\n",
       "      <th>diameter_w/o_drones</th>\n",
       "      <th>avg_w/o_drones</th>\n",
       "      <th>diameter_with_drones</th>\n",
       "      <th>avg_with_drones</th>\n",
       "    </tr>\n",
       "  </thead>\n",
       "  <tbody>\n",
       "    <tr>\n",
       "      <th>0</th>\n",
       "      <td>0</td>\n",
       "      <td>10000.0</td>\n",
       "      <td>778.730807</td>\n",
       "      <td>248.240229</td>\n",
       "      <td>721.031340</td>\n",
       "      <td>155.555228</td>\n",
       "    </tr>\n",
       "    <tr>\n",
       "      <th>1</th>\n",
       "      <td>1</td>\n",
       "      <td>15000.0</td>\n",
       "      <td>725.595797</td>\n",
       "      <td>180.849116</td>\n",
       "      <td>685.460256</td>\n",
       "      <td>114.892926</td>\n",
       "    </tr>\n",
       "    <tr>\n",
       "      <th>2</th>\n",
       "      <td>2</td>\n",
       "      <td>20000.0</td>\n",
       "      <td>672.013403</td>\n",
       "      <td>137.447772</td>\n",
       "      <td>529.871842</td>\n",
       "      <td>85.102081</td>\n",
       "    </tr>\n",
       "    <tr>\n",
       "      <th>3</th>\n",
       "      <td>3</td>\n",
       "      <td>25000.0</td>\n",
       "      <td>520.013500</td>\n",
       "      <td>115.413574</td>\n",
       "      <td>500.090281</td>\n",
       "      <td>71.939102</td>\n",
       "    </tr>\n",
       "    <tr>\n",
       "      <th>4</th>\n",
       "      <td>4</td>\n",
       "      <td>30000.0</td>\n",
       "      <td>507.150810</td>\n",
       "      <td>99.046511</td>\n",
       "      <td>456.568692</td>\n",
       "      <td>59.984934</td>\n",
       "    </tr>\n",
       "    <tr>\n",
       "      <th>...</th>\n",
       "      <td>...</td>\n",
       "      <td>...</td>\n",
       "      <td>...</td>\n",
       "      <td>...</td>\n",
       "      <td>...</td>\n",
       "      <td>...</td>\n",
       "    </tr>\n",
       "    <tr>\n",
       "      <th>375</th>\n",
       "      <td>375</td>\n",
       "      <td>1885000.0</td>\n",
       "      <td>18.733444</td>\n",
       "      <td>2.088242</td>\n",
       "      <td>18.005934</td>\n",
       "      <td>1.239918</td>\n",
       "    </tr>\n",
       "    <tr>\n",
       "      <th>380</th>\n",
       "      <td>380</td>\n",
       "      <td>1910000.0</td>\n",
       "      <td>18.569007</td>\n",
       "      <td>2.065777</td>\n",
       "      <td>17.927704</td>\n",
       "      <td>1.223216</td>\n",
       "    </tr>\n",
       "    <tr>\n",
       "      <th>385</th>\n",
       "      <td>385</td>\n",
       "      <td>1935000.0</td>\n",
       "      <td>19.142092</td>\n",
       "      <td>2.049226</td>\n",
       "      <td>18.297731</td>\n",
       "      <td>1.216878</td>\n",
       "    </tr>\n",
       "    <tr>\n",
       "      <th>390</th>\n",
       "      <td>390</td>\n",
       "      <td>1960000.0</td>\n",
       "      <td>18.493752</td>\n",
       "      <td>2.025083</td>\n",
       "      <td>17.930003</td>\n",
       "      <td>1.200819</td>\n",
       "    </tr>\n",
       "    <tr>\n",
       "      <th>395</th>\n",
       "      <td>395</td>\n",
       "      <td>1985000.0</td>\n",
       "      <td>17.976373</td>\n",
       "      <td>1.994904</td>\n",
       "      <td>17.419699</td>\n",
       "      <td>1.184042</td>\n",
       "    </tr>\n",
       "  </tbody>\n",
       "</table>\n",
       "<p>95 rows × 6 columns</p>\n",
       "</div>"
      ],
      "text/plain": [
       "     Unnamed: 0  #_simulated_rides  diameter_w/o_drones  avg_w/o_drones  \\\n",
       "0             0            10000.0           778.730807      248.240229   \n",
       "1             1            15000.0           725.595797      180.849116   \n",
       "2             2            20000.0           672.013403      137.447772   \n",
       "3             3            25000.0           520.013500      115.413574   \n",
       "4             4            30000.0           507.150810       99.046511   \n",
       "..          ...                ...                  ...             ...   \n",
       "375         375          1885000.0            18.733444        2.088242   \n",
       "380         380          1910000.0            18.569007        2.065777   \n",
       "385         385          1935000.0            19.142092        2.049226   \n",
       "390         390          1960000.0            18.493752        2.025083   \n",
       "395         395          1985000.0            17.976373        1.994904   \n",
       "\n",
       "     diameter_with_drones  avg_with_drones  \n",
       "0              721.031340       155.555228  \n",
       "1              685.460256       114.892926  \n",
       "2              529.871842        85.102081  \n",
       "3              500.090281        71.939102  \n",
       "4              456.568692        59.984934  \n",
       "..                    ...              ...  \n",
       "375             18.005934         1.239918  \n",
       "380             17.927704         1.223216  \n",
       "385             18.297731         1.216878  \n",
       "390             17.930003         1.200819  \n",
       "395             17.419699         1.184042  \n",
       "\n",
       "[95 rows x 6 columns]"
      ]
     },
     "execution_count": 50,
     "metadata": {},
     "output_type": "execute_result"
    }
   ],
   "source": [
    "results_filtered_1= results_orig.iloc[:19]\n",
    "\n",
    "results_filtered_2 = results_orig.iloc[20::5]\n",
    "\n",
    "results = pd.concat([results_filtered_1,results_filtered_2])\n",
    "\n",
    "results"
   ]
  },
  {
   "cell_type": "code",
   "execution_count": 13,
   "metadata": {},
   "outputs": [],
   "source": [
    "results = results_orig[results_orig['avg_w/o_drones']< 31]\n"
   ]
  },
  {
   "cell_type": "code",
   "execution_count": 77,
   "metadata": {},
   "outputs": [
    {
     "data": {
      "text/html": [
       "<div>\n",
       "<style scoped>\n",
       "    .dataframe tbody tr th:only-of-type {\n",
       "        vertical-align: middle;\n",
       "    }\n",
       "\n",
       "    .dataframe tbody tr th {\n",
       "        vertical-align: top;\n",
       "    }\n",
       "\n",
       "    .dataframe thead th {\n",
       "        text-align: right;\n",
       "    }\n",
       "</style>\n",
       "<table border=\"1\" class=\"dataframe\">\n",
       "  <thead>\n",
       "    <tr style=\"text-align: right;\">\n",
       "      <th></th>\n",
       "      <th>Unnamed: 0</th>\n",
       "      <th>#_simulated_rides</th>\n",
       "      <th>diameter_w/o_drones</th>\n",
       "      <th>avg_w/o_drones</th>\n",
       "      <th>diameter_with_drones</th>\n",
       "      <th>avg_with_drones</th>\n",
       "    </tr>\n",
       "  </thead>\n",
       "  <tbody>\n",
       "    <tr>\n",
       "      <th>0</th>\n",
       "      <td>0</td>\n",
       "      <td>10000.0</td>\n",
       "      <td>778.730807</td>\n",
       "      <td>248.240229</td>\n",
       "      <td>721.031340</td>\n",
       "      <td>155.555228</td>\n",
       "    </tr>\n",
       "    <tr>\n",
       "      <th>1</th>\n",
       "      <td>1</td>\n",
       "      <td>15000.0</td>\n",
       "      <td>725.595797</td>\n",
       "      <td>180.849116</td>\n",
       "      <td>685.460256</td>\n",
       "      <td>114.892926</td>\n",
       "    </tr>\n",
       "    <tr>\n",
       "      <th>2</th>\n",
       "      <td>2</td>\n",
       "      <td>20000.0</td>\n",
       "      <td>672.013403</td>\n",
       "      <td>137.447772</td>\n",
       "      <td>529.871842</td>\n",
       "      <td>85.102081</td>\n",
       "    </tr>\n",
       "    <tr>\n",
       "      <th>3</th>\n",
       "      <td>3</td>\n",
       "      <td>25000.0</td>\n",
       "      <td>520.013500</td>\n",
       "      <td>115.413574</td>\n",
       "      <td>500.090281</td>\n",
       "      <td>71.939102</td>\n",
       "    </tr>\n",
       "    <tr>\n",
       "      <th>4</th>\n",
       "      <td>4</td>\n",
       "      <td>30000.0</td>\n",
       "      <td>507.150810</td>\n",
       "      <td>99.046511</td>\n",
       "      <td>456.568692</td>\n",
       "      <td>59.984934</td>\n",
       "    </tr>\n",
       "    <tr>\n",
       "      <th>...</th>\n",
       "      <td>...</td>\n",
       "      <td>...</td>\n",
       "      <td>...</td>\n",
       "      <td>...</td>\n",
       "      <td>...</td>\n",
       "      <td>...</td>\n",
       "    </tr>\n",
       "    <tr>\n",
       "      <th>393</th>\n",
       "      <td>393</td>\n",
       "      <td>1975000.0</td>\n",
       "      <td>18.293892</td>\n",
       "      <td>2.006931</td>\n",
       "      <td>17.642175</td>\n",
       "      <td>1.190875</td>\n",
       "    </tr>\n",
       "    <tr>\n",
       "      <th>394</th>\n",
       "      <td>394</td>\n",
       "      <td>1980000.0</td>\n",
       "      <td>18.287848</td>\n",
       "      <td>2.002973</td>\n",
       "      <td>17.730326</td>\n",
       "      <td>1.189028</td>\n",
       "    </tr>\n",
       "    <tr>\n",
       "      <th>395</th>\n",
       "      <td>395</td>\n",
       "      <td>1985000.0</td>\n",
       "      <td>17.976373</td>\n",
       "      <td>1.994904</td>\n",
       "      <td>17.419699</td>\n",
       "      <td>1.184042</td>\n",
       "    </tr>\n",
       "    <tr>\n",
       "      <th>396</th>\n",
       "      <td>396</td>\n",
       "      <td>1990000.0</td>\n",
       "      <td>18.060496</td>\n",
       "      <td>1.991944</td>\n",
       "      <td>17.405300</td>\n",
       "      <td>1.181629</td>\n",
       "    </tr>\n",
       "    <tr>\n",
       "      <th>397</th>\n",
       "      <td>397</td>\n",
       "      <td>1995000.0</td>\n",
       "      <td>17.960439</td>\n",
       "      <td>1.986159</td>\n",
       "      <td>17.404373</td>\n",
       "      <td>1.179741</td>\n",
       "    </tr>\n",
       "  </tbody>\n",
       "</table>\n",
       "<p>398 rows × 6 columns</p>\n",
       "</div>"
      ],
      "text/plain": [
       "     Unnamed: 0  #_simulated_rides  diameter_w/o_drones  avg_w/o_drones  \\\n",
       "0             0            10000.0           778.730807      248.240229   \n",
       "1             1            15000.0           725.595797      180.849116   \n",
       "2             2            20000.0           672.013403      137.447772   \n",
       "3             3            25000.0           520.013500      115.413574   \n",
       "4             4            30000.0           507.150810       99.046511   \n",
       "..          ...                ...                  ...             ...   \n",
       "393         393          1975000.0            18.293892        2.006931   \n",
       "394         394          1980000.0            18.287848        2.002973   \n",
       "395         395          1985000.0            17.976373        1.994904   \n",
       "396         396          1990000.0            18.060496        1.991944   \n",
       "397         397          1995000.0            17.960439        1.986159   \n",
       "\n",
       "     diameter_with_drones  avg_with_drones  \n",
       "0              721.031340       155.555228  \n",
       "1              685.460256       114.892926  \n",
       "2              529.871842        85.102081  \n",
       "3              500.090281        71.939102  \n",
       "4              456.568692        59.984934  \n",
       "..                    ...              ...  \n",
       "393             17.642175         1.190875  \n",
       "394             17.730326         1.189028  \n",
       "395             17.419699         1.184042  \n",
       "396             17.405300         1.181629  \n",
       "397             17.404373         1.179741  \n",
       "\n",
       "[398 rows x 6 columns]"
      ]
     },
     "execution_count": 77,
     "metadata": {},
     "output_type": "execute_result"
    }
   ],
   "source": [
    "results = results_orig.copy()\n",
    "results"
   ]
  },
  {
   "cell_type": "code",
   "execution_count": 5,
   "metadata": {},
   "outputs": [],
   "source": [
    "\n",
    "df_edges.rename(columns={\"Start #\": \"start_id\", \"Ende #\": \"end_id\"}, inplace=True)\n",
    "\n",
    "rides_df = pd.read_csv(f\"{repo}/data/cleaning/data_cleaned.csv\")\n",
    "rides_df = rides_df[(rides_df[\"state\"] == \"completed\")]\n",
    "rides_df[\"scheduled_to\"] = pd.to_datetime(rides_df[\"scheduled_to\"])\n",
    "\n"
   ]
  },
  {
   "cell_type": "code",
   "execution_count": 8,
   "metadata": {},
   "outputs": [],
   "source": [
    "import matplotlib.pyplot as plt"
   ]
  },
  {
   "cell_type": "code",
   "execution_count": 207,
   "metadata": {},
   "outputs": [
    {
     "data": {
      "image/png": "[encoded data removed]",
      "text/plain": [
       "<Figure size 432x288 with 1 Axes>"
      ]
     },
     "metadata": {
      "needs_background": "light"
     },
     "output_type": "display_data"
    }
   ],
   "source": [
    "plt.plot(results[\"#_simulated_rides\"],results['diameter_w/o_drones'], label='diameter_w/o_drones')\n",
    "plt.plot(results[\"#_simulated_rides\"],results['avg_w/o_drones'], label='avg_w/o_drones')\n",
    "plt.plot(results[\"#_simulated_rides\"],results['diameter_with_drones'], label='diameter_with_drones' )\n",
    "plt.plot(results[\"#_simulated_rides\"],results['avg_with_drones'], label='avg_with_drones' )\n",
    "\n",
    "plt.legend()\n",
    "plt.show()"
   ]
  },
  {
   "cell_type": "code",
   "execution_count": 9,
   "metadata": {},
   "outputs": [
    {
     "data": {
      "image/png": "[encoded data removed]",
      "text/plain": [
       "<Figure size 432x288 with 1 Axes>"
      ]
     },
     "metadata": {
      "needs_background": "light"
     },
     "output_type": "display_data"
    }
   ],
   "source": [
    "plt.plot(results['diameter_w/o_drones'],results[\"#_simulated_rides\"], label='diameter_w/o_drones')\n",
    "plt.plot(results['avg_w/o_drones'],results[\"#_simulated_rides\"], label='avg_w/o_drones')\n",
    "plt.plot(results['diameter_with_drones'], results[\"#_simulated_rides\"],label='diameter_with_drones' )\n",
    "plt.plot(results['avg_with_drones'], results[\"#_simulated_rides\"],label='avg_with_drones' )\n",
    "\n",
    "plt.legend()\n",
    "plt.show()"
   ]
  },
  {
   "cell_type": "code",
   "execution_count": 30,
   "metadata": {},
   "outputs": [],
   "source": [
    "import itertools\n",
    "import matplotlib.pyplot as plt\n",
    "from sklearn.model_selection import train_test_split\n",
    "from sklearn.linear_model import LinearRegression\n",
    "from sklearn.preprocessing import PolynomialFeatures\n",
    "from sklearn.pipeline import Pipeline\n",
    "from sklearn.metrics import mean_squared_error, r2_score\n",
    "from math import sqrt\n"
   ]
  },
  {
   "cell_type": "code",
   "execution_count": 31,
   "metadata": {},
   "outputs": [],
   "source": [
    "# separate features and target variable\n",
    "diameter = results['diameter_w/o_drones']\n",
    "\n",
    "# special case: we only have one feature, so we must reshape the data here\n",
    "features = results['#_simulated_rides'].values.reshape(-1, 1)\n",
    "\n",
    "# create a train/test split\n",
    "dia_train, dia_test, dia_target_train, dia_target_test = train_test_split(\n",
    "    features, diameter, test_size=0.2, random_state=42)"
   ]
  },
  {
   "cell_type": "code",
   "execution_count": 32,
   "metadata": {},
   "outputs": [],
   "source": [
    "# create a transformer that generates polynomial features\n",
    "transformer = PolynomialFeatures(degree=2, include_bias=True)\n",
    "estimator = LinearRegression()\n",
    "\n",
    "pipeline = Pipeline([ ('transformer', transformer), ('estimator', estimator)])\n",
    "\n",
    "pipeline.fit(dia_train, dia_target_train)\n",
    "\n",
    "prediction = pipeline.predict(features)"
   ]
  },
  {
   "cell_type": "code",
   "execution_count": 33,
   "metadata": {},
   "outputs": [
    {
     "data": {
      "image/png": "[encoded data removed]",
      "text/plain": [
       "<Figure size 432x288 with 1 Axes>"
      ]
     },
     "metadata": {
      "needs_background": "light"
     },
     "output_type": "display_data"
    },
    {
     "name": "stdout",
     "output_type": "stream",
     "text": [
      "length = 0.0*1 + -0.0005659245577178525*age + 2.1623625990913747e-10*age^2 + 354.27227795991445\n"
     ]
    },
    {
     "name": "stderr",
     "output_type": "stream",
     "text": [
      "c:\\Users\\jostm7\\AppData\\Local\\Programs\\Python\\Python39\\lib\\site-packages\\sklearn\\utils\\deprecation.py:87: FutureWarning: Function get_feature_names is deprecated; get_feature_names is deprecated in 1.0 and will be removed in 1.2. Please use get_feature_names_out instead.\n",
      "  warnings.warn(msg, category=FutureWarning)\n"
     ]
    }
   ],
   "source": [
    "# plot the original values\n",
    "plt.scatter(dia_train, dia_target_train, c='green', label='train')\n",
    "plt.scatter(dia_test, dia_target_test, c='blue', label='test')\n",
    "\n",
    "# create a new dataframe that contains the age and the predictions\n",
    "d = results[['#_simulated_rides']]\n",
    "d = d.assign(prediction=prediction)\n",
    "\n",
    "# sort the data before plotting it\n",
    "d = d.sort_values(by='#_simulated_rides')\n",
    "\n",
    "# plot the predicted values\n",
    "plt.plot(d['#_simulated_rides'], d['prediction'], c='red', label='prediction')\n",
    "\n",
    "plt.xlabel('#_simulated_rides')\n",
    "plt.ylabel('dia_w/o_drones')\n",
    "plt.legend()\n",
    "plt.show()\n",
    "\n",
    "\n",
    "# print the model that was fitted (the regression formula)\n",
    "print(\"length = \", end='')\n",
    "for i, f in enumerate(pipeline.named_steps['transformer'].get_feature_names(['age'])):\n",
    "    if i > 0:\n",
    "        print(\" + \", end='')\n",
    "    print(\"{}*{}\".format(pipeline.named_steps['estimator'].coef_[i], f), end='')\n",
    "print(\" + {}\".format(pipeline.named_steps['estimator'].intercept_))"
   ]
  },
  {
   "cell_type": "code",
   "execution_count": 34,
   "metadata": {},
   "outputs": [
    {
     "name": "stdout",
     "output_type": "stream",
     "text": [
      "MSE: 13530.24028621914\n",
      "RMSE: 116.31956106441916\n",
      "R^2: 0.6450301162030052\n",
      "length = 0.0*1 + -0.0005659245577178525*age + 2.1623625990913747e-10*age^2 + 354.27227795991445\n"
     ]
    },
    {
     "name": "stderr",
     "output_type": "stream",
     "text": [
      "c:\\Users\\jostm7\\AppData\\Local\\Programs\\Python\\Python39\\lib\\site-packages\\sklearn\\utils\\deprecation.py:87: FutureWarning: Function get_feature_names is deprecated; get_feature_names is deprecated in 1.0 and will be removed in 1.2. Please use get_feature_names_out instead.\n",
      "  warnings.warn(msg, category=FutureWarning)\n"
     ]
    }
   ],
   "source": [
    "from sklearn.metrics import mean_squared_error, r2_score\n",
    "from math import sqrt\n",
    "\n",
    "# predict the values for the test data\n",
    "predictions = pipeline.predict(dia_test)\n",
    "\n",
    "# evaluate using different measures\n",
    "mse = mean_squared_error(dia_target_test, predictions)\n",
    "r2 = r2_score(dia_target_test, predictions)\n",
    "\n",
    "print(\"MSE:\", mse)\n",
    "print(\"RMSE:\", sqrt(mse))\n",
    "print(\"R^2:\", r2)\n",
    "\n",
    "# print the model that was fitted (the regression formula)\n",
    "print(\"length = \", end='')\n",
    "for i, f in enumerate(pipeline.named_steps['transformer'].get_feature_names(['age'])):\n",
    "    if i > 0:\n",
    "        print(\" + \", end='')\n",
    "    print(\"{}*{}\".format(pipeline.named_steps['estimator'].coef_[i], f), end='')\n",
    "print(\" + {}\".format(pipeline.named_steps['estimator'].intercept_))"
   ]
  },
  {
   "cell_type": "markdown",
   "metadata": {},
   "source": [
    "### Polynomial Regression with Numpy"
   ]
  },
  {
   "cell_type": "code",
   "execution_count": 7,
   "metadata": {},
   "outputs": [
    {
     "data": {
      "image/png": "[encoded data removed]",
      "text/plain": [
       "<Figure size 432x288 with 1 Axes>"
      ]
     },
     "metadata": {
      "needs_background": "light"
     },
     "output_type": "display_data"
    }
   ],
   "source": [
    "import numpy\n",
    "import matplotlib.pyplot as plt\n",
    "\n",
    "y = results['#_simulated_rides']\n",
    "x = results['diameter_w/o_drones']\n",
    "\n",
    "model = numpy.poly1d(numpy.polyfit(x, y, 12))\n",
    "\n",
    "linesp = numpy.linspace(0, 800, 50)\n",
    "\n",
    "plt.scatter(x, y)\n",
    "plt.plot(linesp, model(linesp),c='red')\n",
    "plt.show()"
   ]
  },
  {
   "cell_type": "code",
   "execution_count": 36,
   "metadata": {},
   "outputs": [
    {
     "name": "stdout",
     "output_type": "stream",
     "text": [
      "14266742.094048401\n",
      "-777354.527190649\n",
      "310571.17053269874\n",
      "2884792.4516577735\n",
      "4574634.667116919\n"
     ]
    }
   ],
   "source": [
    "print(model(800))\n",
    "print(model(600))\n",
    "print(model(100))\n",
    "print(model(10))\n",
    "print(model(1))"
   ]
  },
  {
   "cell_type": "markdown",
   "metadata": {},
   "source": [
    "### Exponential Regression with Numpy"
   ]
  },
  {
   "cell_type": "code",
   "execution_count": 106,
   "metadata": {},
   "outputs": [
    {
     "name": "stdout",
     "output_type": "stream",
     "text": [
      "[-0.09248847 14.35964459]\n"
     ]
    },
    {
     "data": {
      "image/png": "[encoded data removed]",
      "text/plain": [
       "<Figure size 432x288 with 1 Axes>"
      ]
     },
     "metadata": {
      "needs_background": "light"
     },
     "output_type": "display_data"
    }
   ],
   "source": [
    "# x = np.divide(results['#_simulated_rides'].to_numpy(),10000)\n",
    "y = results['#_simulated_rides'].to_numpy()\n",
    "x = results['avg_w/o_drones'].to_numpy()\n",
    "\n",
    "def func(x, a, b):\n",
    "    return np.exp(b) * np.exp(a * x) \n",
    "\n",
    "# popt = numpy.polyfit(x, numpy.log(y), 1) # biased towards small values\n",
    "popt = numpy.polyfit(x, numpy.log(y), 1, w=numpy.sqrt(y))\n",
    "print(popt)\n",
    "\n",
    "plt.figure()\n",
    "plt.scatter(x, y, label=\"Original Data\")\n",
    "plt.plot(x, func(x, *popt), 'r-', label=\"Fitted Curve\")\n",
    "plt.legend()\n",
    "plt.show()\n"
   ]
  },
  {
   "cell_type": "code",
   "execution_count": 23,
   "metadata": {},
   "outputs": [
    {
     "name": "stdout",
     "output_type": "stream",
     "text": [
      "2.2779754919959334\n",
      "12270.531684256928\n",
      "1269910.5215986003\n"
     ]
    }
   ],
   "source": [
    "print(func(800, *popt))\n",
    "print(func(300, *popt))\n",
    "print(func(30, *popt))"
   ]
  },
  {
   "cell_type": "code",
   "execution_count": 85,
   "metadata": {},
   "outputs": [
    {
     "data": {
      "text/plain": [
       "Index(['Unnamed: 0', '#_simulated_rides', 'diameter_w/o_drones',\n",
       "       'avg_w/o_drones', 'diameter_with_drones', 'avg_with_drones'],\n",
       "      dtype='object')"
      ]
     },
     "execution_count": 85,
     "metadata": {},
     "output_type": "execute_result"
    }
   ],
   "source": [
    "results.columns"
   ]
  },
  {
   "cell_type": "markdown",
   "metadata": {},
   "source": [
    "### Exponential Regression with Scipy"
   ]
  },
  {
   "cell_type": "code",
   "execution_count": 104,
   "metadata": {},
   "outputs": [
    {
     "name": "stdout",
     "output_type": "stream",
     "text": [
      "[ 2.38210808e+07 -9.54805203e-02 -2.38337011e+07]\n",
      "-11471.536267045885\n"
     ]
    },
    {
     "name": "stderr",
     "output_type": "stream",
     "text": [
      "C:\\Users\\jostm7\\AppData\\Local\\Temp/ipykernel_18944/785732791.py:6: RuntimeWarning: divide by zero encountered in true_divide\n",
      "  return a * np.exp(-b / x) + c\n"
     ]
    },
    {
     "data": {
      "image/png": "[encoded data removed]",
      "text/plain": [
       "<Figure size 432x288 with 1 Axes>"
      ]
     },
     "metadata": {
      "needs_background": "light"
     },
     "output_type": "display_data"
    }
   ],
   "source": [
    "import numpy as np\n",
    "import matplotlib.pyplot as plt\n",
    "from scipy.optimize import curve_fit\n",
    "\n",
    "def func(x, a, b, c):\n",
    "    return a * np.exp(-b / x) + c\n",
    "    # return a*np.exp(-c*(x-b))+d\n",
    "    # return a + b*numpy.log(x) + c*numpy.log(x)**2\n",
    "\n",
    "ydata = results['#_simulated_rides'].to_numpy() #needed to be normalized, else optimization not possible\n",
    "xdata = results['avg_with_drones'].to_numpy()\n",
    "\n",
    "popt, pcov = curve_fit(func, xdata, ydata)\n",
    "print(popt)\n",
    "\n",
    "x_plot = list(range(0,2000,20))\n",
    "print( min(func(x_plot, *popt)))\n",
    "plt.figure()\n",
    "plt.ylim(-11471.536267045885, max(ydata))\n",
    "plt.scatter(xdata, ydata, label=\"Original Data\")\n",
    "plt.plot(x_plot, func(x_plot, *popt), 'r-', label=\"Fitted Curve\")\n",
    "plt.legend()\n",
    "plt.show()"
   ]
  },
  {
   "cell_type": "code",
   "execution_count": null,
   "metadata": {},
   "outputs": [],
   "source": [
    "bounds=([-np.inf, 0.0000001, -np.inf], [np.inf, 10, np.inf])"
   ]
  },
  {
   "cell_type": "code",
   "execution_count": 100,
   "metadata": {},
   "outputs": [
    {
     "name": "stdout",
     "output_type": "stream",
     "text": [
      "-11459.814150828868\n",
      "-11471.536267045885\n",
      "[0, 20, 40, 60, 80, 100, 120, 140, 160, 180, 200, 220, 240, 260, 280, 300, 320, 340, 360, 380, 400, 420, 440, 460, 480, 500, 520, 540, 560, 580, 600, 620, 640, 660, 680, 700, 720, 740, 760, 780, 800, 820, 840, 860, 880, 900, 920, 940, 960, 980, 1000, 1020, 1040, 1060, 1080, 1100, 1120, 1140, 1160, 1180, 1200, 1220, 1240, 1260, 1280, 1300, 1320, 1340, 1360, 1380, 1400, 1420, 1440, 1460, 1480, 1500, 1520, 1540, 1560, 1580, 1600, 1620, 1640, 1660, 1680, 1700, 1720, 1740, 1760, 1780, 1800, 1820, 1840, 1860, 1880, 1900, 1920, 1940, 1960, 1980]\n",
      "[            inf  1.01374073e+05  4.43088723e+04  2.53173887e+04\n",
      "  1.58273120e+04  1.01350779e+04  6.34101004e+03  3.63133116e+03\n",
      "  1.59927411e+03  1.89050645e+01 -1.24531473e+03 -2.27962650e+03\n",
      " -3.14151869e+03 -3.87078773e+03 -4.49585772e+03 -5.03757178e+03\n",
      " -5.51156148e+03 -5.92977985e+03 -6.30152336e+03 -6.63413105e+03\n",
      " -6.93347401e+03 -7.20430487e+03 -7.45051207e+03 -7.67530773e+03\n",
      " -7.88136856e+03 -8.07094294e+03 -8.24593334e+03 -8.40796034e+03\n",
      " -8.55841300e+03 -8.69848876e+03 -8.82922539e+03 -8.95152675e+03\n",
      " -9.06618371e+03 -9.17389126e+03 -9.27526262e+03 -9.37084094e+03\n",
      " -9.46110900e+03 -9.54649739e+03 -9.62739138e+03 -9.70413670e+03\n",
      " -9.77704452e+03 -9.84639566e+03 -9.91244418e+03 -9.97542050e+03\n",
      " -1.00355341e+04 -1.00929759e+04 -1.01479200e+04 -1.02005260e+04\n",
      " -1.02509399e+04 -1.02992961e+04 -1.03457179e+04 -1.03903192e+04\n",
      " -1.04332049e+04 -1.04744723e+04 -1.05142111e+04 -1.05525049e+04\n",
      " -1.05894309e+04 -1.06250613e+04 -1.06594629e+04 -1.06926984e+04\n",
      " -1.07248259e+04 -1.07559001e+04 -1.07859718e+04 -1.08150889e+04\n",
      " -1.08432960e+04 -1.08706351e+04 -1.08971458e+04 -1.09228651e+04\n",
      " -1.09478279e+04 -1.09720671e+04 -1.09956137e+04 -1.10184970e+04\n",
      " -1.10407447e+04 -1.10623828e+04 -1.10834361e+04 -1.11039280e+04\n",
      " -1.11238805e+04 -1.11433148e+04 -1.11622508e+04 -1.11807074e+04\n",
      " -1.11987025e+04 -1.12162533e+04 -1.12333760e+04 -1.12500862e+04\n",
      " -1.12663984e+04 -1.12823268e+04 -1.12978848e+04 -1.13130851e+04\n",
      " -1.13279399e+04 -1.13424610e+04 -1.13566593e+04 -1.13705455e+04\n",
      " -1.13841299e+04 -1.13974221e+04 -1.14104316e+04 -1.14231671e+04\n",
      " -1.14356373e+04 -1.14478503e+04 -1.14598142e+04 -1.14715363e+04]\n"
     ]
    },
    {
     "name": "stderr",
     "output_type": "stream",
     "text": [
      "C:\\Users\\jostm7\\AppData\\Local\\Temp/ipykernel_18944/2749238525.py:6: RuntimeWarning: divide by zero encountered in true_divide\n",
      "  return a * np.exp(-b / x) + c\n"
     ]
    }
   ],
   "source": [
    "print(func(1960, *popt))\n",
    "print(func(1980, *popt))\n",
    "print(x_plot)\n",
    "print(func(x_plot, *popt))\n"
   ]
  },
  {
   "cell_type": "code",
   "execution_count": 46,
   "metadata": {},
   "outputs": [],
   "source": [
    "def curve_fit_numpy(max_days,graph_metrics_df,metric):\n",
    "    \n",
    "    # used exponential funciton to interpret result\n",
    "    def func(x, a, b):\n",
    "        return np.exp(b) * np.exp(a * x) \n",
    "\n",
    "    # gather data\n",
    "    y = graph_metrics_df['#_simulated_rides'].to_numpy()\n",
    "    x = graph_metrics_df[metric].to_numpy()\n",
    "    \n",
    "    # curve fitting\n",
    "    popt = numpy.polyfit(x, numpy.log(y), 1, w=numpy.sqrt(y))\n",
    "\n",
    "    return func(max_days, *popt)\n"
   ]
  },
  {
   "cell_type": "code",
   "execution_count": 107,
   "metadata": {},
   "outputs": [
    {
     "data": {
      "text/plain": [
       "Index(['Unnamed: 0', '#_simulated_rides', 'diameter_w/o_drones',\n",
       "       'avg_w/o_drones', 'diameter_with_drones', 'avg_with_drones'],\n",
       "      dtype='object')"
      ]
     },
     "execution_count": 107,
     "metadata": {},
     "output_type": "execute_result"
    }
   ],
   "source": [
    "results.columns"
   ]
  },
  {
   "cell_type": "code",
   "execution_count": 80,
   "metadata": {},
   "outputs": [],
   "source": [
    "from scipy.optimize import curve_fit\n",
    "\n",
    "\n"
   ]
  },
  {
   "cell_type": "code",
   "execution_count": 112,
   "metadata": {},
   "outputs": [],
   "source": [
    "def regression_function(x, a, b, c):\n",
    "    \"\"\"Exponential Decay regression. Will be used for regression curve fitting and to calculate simulated rides number for optimzed parameters/ to calculate regression line\n",
    "\n",
    "    Args:\n",
    "        x (list/float): can be a list/list like of floats to calculate y values for x\n",
    "        a (float): optimized parameter from function get_opt_parameter\n",
    "        b (float): optimized parameter from function get_opt_parameter\n",
    "        c (float): optimized parameter from function get_opt_parameter\n",
    "\n",
    "    Returns:\n",
    "        list/float: regressed y values for given x - equals the required number of rides for given maximum delivery days\n",
    "    \"\"\"\n",
    "    return a * np.exp(-b / x) + c"
   ]
  },
  {
   "cell_type": "code",
   "execution_count": 114,
   "metadata": {},
   "outputs": [],
   "source": [
    "def get_opt_parameter(graph_metrics_df,metric='avg_w/o_drones'):\n",
    "    \"\"\"Function takes upfront generated graph metrics dataframe as input to execute an exponential decay regression with the data.\n",
    "       Output are the optimized parameters which can be used input for the function regression_function\n",
    "\n",
    "    Args:\n",
    "        graph_metrics_df (DataFrame): DataFrame containing graph metrics for increasing number of rides. Calculated upfront.\n",
    "        metric (str, optional): graph metric for which regression will be done. ['diameter_w/o_drones',\n",
    "       'avg_w/o_drones', 'diameter_with_drones', 'avg_with_drones'] are possible. Defaults to 'avg_w/o_drones'.\n",
    "\n",
    "    Returns:\n",
    "        list: list of parameters [a,b,c] which can be used as input for the regression_function\n",
    "    \"\"\"\n",
    "\n",
    "    # gather data\n",
    "    y = graph_metrics_df['#_simulated_rides'].to_numpy()\n",
    "    x = graph_metrics_df[metric].to_numpy()\n",
    "\n",
    "    # curve fitting\n",
    "    popt, pcov = curve_fit(regression_function, x, y)\n",
    "    \n",
    " \n",
    "    return  popt"
   ]
  },
  {
   "cell_type": "code",
   "execution_count": null,
   "metadata": {},
   "outputs": [],
   "source": []
  },
  {
   "cell_type": "code",
   "execution_count": 125,
   "metadata": {},
   "outputs": [
    {
     "name": "stdout",
     "output_type": "stream",
     "text": [
      "769816.1042872481\n"
     ]
    }
   ],
   "source": [
    "print(get_rides_num(5,results,'avg_w/o_drones'))"
   ]
  },
  {
   "cell_type": "code",
   "execution_count": 181,
   "metadata": {},
   "outputs": [
    {
     "data": {
      "application/vnd.plotly.v1+json": {
       "config": {
        "plotlyServerURL": "https://plot.ly"
       },
       "data": [
        {
         "hovertemplate": "avg_w/o_drones=%{x}<br>#_simulated_rides=%{y}<extra></extra>",
         "legendgroup": "",
         "marker": {
          "color": "DarkKhaki",
          "symbol": "circle"
         },
         "mode": "markers",
         "name": "Simulated Rides Data",
         "orientation": "v",
         "showlegend": true,
         "type": "scatter",
         "x": [
          248.2402292082961,
          180.8491156516369,
          137.44777152029465,
          115.41357360236178,
          99.04651105265891,
          86.55843142697059,
          81.0646998041561,
          71.30076189989686,
          63.31562677587825,
          59.23834818757708,
          54.70923514075976,
          50.56637654368606,
          47.930955648644535,
          44.34875238780727,
          41.97804110626607,
          39.68267052939726,
          38.32397606199208,
          35.41403729878823,
          33.99700486416392,
          33.35610582255667,
          31.83153444021358,
          30.380479907146587,
          29.482425541128546,
          28.396179437780525,
          26.93707518536981,
          25.864497732201272,
          25.94522545242563,
          24.5837569201652,
          23.39199360020861,
          22.795182368052853,
          22.276659455695263,
          22.50278909111192,
          20.41649538710732,
          20.83218075586124,
          19.48369501840429,
          19.4880974460008,
          18.41853741830429,
          18.12941268607064,
          17.805278180411914,
          17.710333831083744,
          17.322309669485005,
          16.61640499238156,
          16.32596835472003,
          16.01376426563959,
          16.037757365368858,
          15.09321835100017,
          15.226685242107209,
          14.912635349100844,
          14.576717254296955,
          14.2254910860471,
          14.059663564470068,
          14.025157221521058,
          13.290416257294362,
          13.273537674860826,
          13.13910616629973,
          13.059527848417606,
          12.783886618792488,
          12.607026701908516,
          12.235212154995615,
          12.11498090431786,
          11.9153623188259,
          11.56541146348225,
          11.613393465419255,
          11.319011755007477,
          11.081586651194106,
          11.08894330433724,
          10.756943560049509,
          10.636185917902974,
          10.774773583417833,
          10.527916384305708,
          10.568520509595874,
          10.182697654300751,
          10.05019679781572,
          9.892647909007998,
          9.85012721760953,
          9.687786708195617,
          9.634815901072407,
          9.358915238476106,
          9.319554519320183,
          9.344299644666988,
          9.372655846693666,
          9.123480718680046,
          9.062202643040232,
          8.771347504950201,
          8.778856167786897,
          8.730504974290483,
          8.42838424117221,
          8.467825700459704,
          8.38062165994432,
          8.224143258349631,
          8.162582478656718,
          8.000379497920095,
          7.989941107203443,
          8.11322429722833,
          7.958949782319028,
          7.663738998088232,
          7.736008555514816,
          7.5297063073136385,
          7.618453604673073,
          7.410585107398334,
          7.282547204202177,
          7.319690085180195,
          7.270293340574978,
          7.1416048461514,
          7.111364483709259,
          7.092485135616197,
          7.056646885840832,
          6.8761201805065735,
          6.919953326747855,
          6.927720277227025,
          6.771608608576308,
          6.866846911080594,
          6.647984476524345,
          6.744585211303098,
          6.522434864486047,
          6.502868456614452,
          6.516373359546283,
          6.384752029599122,
          6.325090340143988,
          6.305711432295148,
          6.225500484007538,
          6.150918592909818,
          6.128987569535618,
          6.160149844725495,
          6.031105465764201,
          6.030882284045099,
          5.998929665548988,
          5.982681687334991,
          5.813882074802926,
          5.796817516496165,
          5.77779163953932,
          5.760361130091406,
          5.762535787740328,
          5.611728739894561,
          5.664584666831664,
          5.554160683471348,
          5.519135354546809,
          5.52897911128224,
          5.509418390446469,
          5.409549526738003,
          5.410313885411059,
          5.375837062129068,
          5.398472699081198,
          5.232735863825811,
          5.297611643782616,
          5.224774755425621,
          5.187447932917743,
          5.1595562274903495,
          5.18511995153931,
          5.100970631220422,
          5.06511367381796,
          5.064486354950819,
          5.052165303109047,
          4.920836095891119,
          4.914641043929558,
          4.905799098920854,
          4.843151845241429,
          4.889303248521233,
          4.812465049490895,
          4.818911228586583,
          4.754752666009316,
          4.68334319037334,
          4.693311487382499,
          4.663057908748575,
          4.664916032670262,
          4.6471635780328375,
          4.584032029021319,
          4.564029382539471,
          4.552970471707687,
          4.49023833819977,
          4.490948345679949,
          4.509468743047736,
          4.444846158581898,
          4.4246829944826445,
          4.376675406838133,
          4.3445904775050685,
          4.3245471025744,
          4.293460058420389,
          4.273308391397904,
          4.308059774233259,
          4.25634244341139,
          4.213966318628091,
          4.258703380989031,
          4.196130993209136,
          4.141592012916496,
          4.125069484353084,
          4.171242998768443,
          4.107124410852864,
          4.043296027912829,
          4.047712644070599,
          4.1057061231314265,
          4.051776188063175,
          3.987180784041464,
          3.9617630482984336,
          3.972620462611798,
          3.934003561627789,
          3.88242897559776,
          3.918033570258056,
          3.9227303100065583,
          3.885528591451921,
          3.883591700779236,
          3.8589005328439514,
          3.7760056222944423,
          3.767516473099501,
          3.789988442168387,
          3.716068355249268,
          3.709955077286674,
          3.732056594794409,
          3.704637633595482,
          3.671264971397199,
          3.691178938135676,
          3.664116901957769,
          3.6014223991184813,
          3.580184314783224,
          3.623385871113543,
          3.586505905047245,
          3.528839204854341,
          3.568001185230567,
          3.5516328682823737,
          3.5408205396752503,
          3.485341534601156,
          3.5368504007153416,
          3.4784179517203424,
          3.4851651523958784,
          3.445924024291226,
          3.456799379236749,
          3.4576381126532314,
          3.4018483514889306,
          3.355044641503727,
          3.335382066846793,
          3.3659420061319736,
          3.327520433713977,
          3.327383366350622,
          3.315718625243915,
          3.253162033968977,
          3.3193051738254,
          3.289896774301742,
          3.234032498473657,
          3.2718778495045684,
          3.265907597038545,
          3.217612102326991,
          3.2137783609430888,
          3.2304278476171406,
          3.15505759170128,
          3.1830074715482093,
          3.14722167443218,
          3.167096201754144,
          3.1225596813956717,
          3.135817598476474,
          3.1014305907757023,
          3.103837371227181,
          3.0992258422309384,
          3.081920912516344,
          3.0525011160886897,
          3.03292409010246,
          3.057190250958505,
          3.021787941348528,
          3.0210820285907127,
          3.0171976338901856,
          2.98860589183491,
          2.965465310715199,
          2.991081053993525,
          2.9842448385350413,
          2.965920539863289,
          2.952494196219296,
          2.897584119105318,
          2.920107191444438,
          2.9163748961832985,
          2.922450718153844,
          2.867768272736502,
          2.8868227910660558,
          2.8663346692766853,
          2.842102283793061,
          2.868346377621604,
          2.844555374007766,
          2.8119737744042603,
          2.8170066518430588,
          2.8339035594102144,
          2.810299227081756,
          2.8035302605952497,
          2.816084370298957,
          2.777000006171327,
          2.746638896909001,
          2.7423427303641805,
          2.7381892709488764,
          2.715695487913778,
          2.744075404371308,
          2.7175142908545227,
          2.713114671462972,
          2.682097793632212,
          2.6730890850350417,
          2.686060572662661,
          2.6766106146332493,
          2.678527200783219,
          2.6747425703605887,
          2.6536838360842334,
          2.649021645256485,
          2.624828758049933,
          2.634940888732463,
          2.626291019925288,
          2.598568021520231,
          2.57851263016242,
          2.577387913988983,
          2.5677600349481264,
          2.570061325857433,
          2.5424373650002634,
          2.5723107496432074,
          2.5418291080405133,
          2.5179527705300537,
          2.521768812805218,
          2.518885418641349,
          2.525454311929439,
          2.5077714482720177,
          2.502760703549812,
          2.5176733398890088,
          2.480719406326969,
          2.483243053952004,
          2.470846874760856,
          2.4582857938429328,
          2.450073885987752,
          2.440533641483052,
          2.435823899407297,
          2.43441765103936,
          2.432794800258863,
          2.434599215621488,
          2.41611128084965,
          2.406326524947196,
          2.4001892214005127,
          2.4083707238692016,
          2.372558440215274,
          2.3820746238946597,
          2.3655593422342656,
          2.358217914108368,
          2.351642688383786,
          2.343980851409581,
          2.3617951111946573,
          2.338917656477712,
          2.3381796154755,
          2.323983785212021,
          2.312511890503691,
          2.3131133199097342,
          2.3013743067098686,
          2.277357578270471,
          2.2765468459175158,
          2.266543738897471,
          2.275050361083684,
          2.2708646892261144,
          2.2640289750929794,
          2.2489059551375816,
          2.244877885132894,
          2.2388827320629194,
          2.237873014714974,
          2.231824322384042,
          2.231503503236034,
          2.2148180562906545,
          2.217239442511067,
          2.2120343702345564,
          2.1970023228697038,
          2.1927151146342685,
          2.187186487449559,
          2.185024290543629,
          2.1734649934875057,
          2.173927514622128,
          2.169035461155681,
          2.162684830017595,
          2.1633879884733345,
          2.1482271198261773,
          2.150004447575407,
          2.133596393446034,
          2.1291963176199604,
          2.1253182004291147,
          2.120738682105235,
          2.126764240500097,
          2.1111136584247907,
          2.106112017252364,
          2.0882424156653907,
          2.0891020519256496,
          2.1033250470891214,
          2.0794529476674497,
          2.0738073494178133,
          2.065776555259741,
          2.067287350187629,
          2.0546919170127427,
          2.056262736195363,
          2.0491417190533485,
          2.049225600615362,
          2.043299909723785,
          2.0338192976801173,
          2.029268679753787,
          2.0290060104421794,
          2.025082614415083,
          2.01761414811213,
          2.013922952398081,
          2.006930937183047,
          2.002972944392072,
          1.9949043120192065,
          1.9919443613465724,
          1.9861590550593728
         ],
         "xaxis": "x",
         "y": [
          10000,
          15000,
          20000,
          25000,
          30000,
          35000,
          40000,
          45000,
          50000,
          55000,
          60000,
          65000,
          70000,
          75000,
          80000,
          85000,
          90000,
          95000,
          100000,
          105000,
          110000,
          115000,
          120000,
          125000,
          130000,
          135000,
          140000,
          145000,
          150000,
          155000,
          160000,
          165000,
          170000,
          175000,
          180000,
          185000,
          190000,
          195000,
          200000,
          205000,
          210000,
          215000,
          220000,
          225000,
          230000,
          235000,
          240000,
          245000,
          250000,
          255000,
          260000,
          265000,
          270000,
          275000,
          280000,
          285000,
          290000,
          295000,
          300000,
          305000,
          310000,
          315000,
          320000,
          325000,
          330000,
          335000,
          340000,
          345000,
          350000,
          355000,
          360000,
          365000,
          370000,
          375000,
          380000,
          385000,
          390000,
          395000,
          400000,
          405000,
          410000,
          415000,
          420000,
          425000,
          430000,
          435000,
          440000,
          445000,
          450000,
          455000,
          460000,
          465000,
          470000,
          475000,
          480000,
          485000,
          490000,
          495000,
          500000,
          505000,
          510000,
          515000,
          520000,
          525000,
          530000,
          535000,
          540000,
          545000,
          550000,
          555000,
          560000,
          565000,
          570000,
          575000,
          580000,
          585000,
          590000,
          595000,
          600000,
          605000,
          610000,
          615000,
          620000,
          625000,
          630000,
          635000,
          640000,
          645000,
          650000,
          655000,
          660000,
          665000,
          670000,
          675000,
          680000,
          685000,
          690000,
          695000,
          700000,
          705000,
          710000,
          715000,
          720000,
          725000,
          730000,
          735000,
          740000,
          745000,
          750000,
          755000,
          760000,
          765000,
          770000,
          775000,
          780000,
          785000,
          790000,
          795000,
          800000,
          805000,
          810000,
          815000,
          820000,
          825000,
          830000,
          835000,
          840000,
          845000,
          850000,
          855000,
          860000,
          865000,
          870000,
          875000,
          880000,
          885000,
          890000,
          895000,
          900000,
          905000,
          910000,
          915000,
          920000,
          925000,
          930000,
          935000,
          940000,
          945000,
          950000,
          955000,
          960000,
          965000,
          970000,
          975000,
          980000,
          985000,
          990000,
          995000,
          1000000,
          1005000,
          1010000,
          1015000,
          1020000,
          1025000,
          1030000,
          1035000,
          1040000,
          1045000,
          1050000,
          1055000,
          1060000,
          1065000,
          1070000,
          1075000,
          1080000,
          1085000,
          1090000,
          1095000,
          1100000,
          1105000,
          1110000,
          1115000,
          1120000,
          1125000,
          1130000,
          1135000,
          1140000,
          1145000,
          1150000,
          1155000,
          1160000,
          1165000,
          1170000,
          1175000,
          1180000,
          1185000,
          1190000,
          1195000,
          1200000,
          1205000,
          1210000,
          1215000,
          1220000,
          1225000,
          1230000,
          1235000,
          1240000,
          1245000,
          1250000,
          1255000,
          1260000,
          1265000,
          1270000,
          1275000,
          1280000,
          1285000,
          1290000,
          1295000,
          1300000,
          1305000,
          1310000,
          1315000,
          1320000,
          1325000,
          1330000,
          1335000,
          1340000,
          1345000,
          1350000,
          1355000,
          1360000,
          1365000,
          1370000,
          1375000,
          1380000,
          1385000,
          1390000,
          1395000,
          1400000,
          1405000,
          1410000,
          1415000,
          1420000,
          1425000,
          1430000,
          1435000,
          1440000,
          1445000,
          1450000,
          1455000,
          1460000,
          1465000,
          1470000,
          1475000,
          1480000,
          1485000,
          1490000,
          1495000,
          1500000,
          1505000,
          1510000,
          1515000,
          1520000,
          1525000,
          1530000,
          1535000,
          1540000,
          1545000,
          1550000,
          1555000,
          1560000,
          1565000,
          1570000,
          1575000,
          1580000,
          1585000,
          1590000,
          1595000,
          1600000,
          1605000,
          1610000,
          1615000,
          1620000,
          1625000,
          1630000,
          1635000,
          1640000,
          1645000,
          1650000,
          1655000,
          1660000,
          1665000,
          1670000,
          1675000,
          1680000,
          1685000,
          1690000,
          1695000,
          1700000,
          1705000,
          1710000,
          1715000,
          1720000,
          1725000,
          1730000,
          1735000,
          1740000,
          1745000,
          1750000,
          1755000,
          1760000,
          1765000,
          1770000,
          1775000,
          1780000,
          1785000,
          1790000,
          1795000,
          1800000,
          1805000,
          1810000,
          1815000,
          1820000,
          1825000,
          1830000,
          1835000,
          1840000,
          1845000,
          1850000,
          1855000,
          1860000,
          1865000,
          1870000,
          1875000,
          1880000,
          1885000,
          1890000,
          1895000,
          1900000,
          1905000,
          1910000,
          1915000,
          1920000,
          1925000,
          1930000,
          1935000,
          1940000,
          1945000,
          1950000,
          1955000,
          1960000,
          1965000,
          1970000,
          1975000,
          1980000,
          1985000,
          1990000,
          1995000
         ],
         "yaxis": "y"
        },
        {
         "hovertemplate": "x=%{x}<br>y=%{y}<extra></extra>",
         "legendgroup": "",
         "line": {
          "color": "DarkCyan",
          "dash": "solid"
         },
         "marker": {
          "symbol": "circle"
         },
         "mode": "lines",
         "name": "Regression of Rides Data",
         "orientation": "v",
         "showlegend": true,
         "type": "scatter",
         "x": [
          248.2402292082961,
          180.8491156516369,
          137.44777152029465,
          115.41357360236178,
          99.04651105265891,
          86.55843142697059,
          81.0646998041561,
          71.30076189989686,
          63.31562677587825,
          59.23834818757708,
          54.70923514075976,
          50.56637654368606,
          47.930955648644535,
          44.34875238780727,
          41.97804110626607,
          39.68267052939726,
          38.32397606199208,
          35.41403729878823,
          33.99700486416392,
          33.35610582255667,
          31.83153444021358,
          30.380479907146587,
          29.482425541128546,
          28.396179437780525,
          26.93707518536981,
          25.864497732201272,
          25.94522545242563,
          24.5837569201652,
          23.39199360020861,
          22.795182368052853,
          22.276659455695263,
          22.50278909111192,
          20.41649538710732,
          20.83218075586124,
          19.48369501840429,
          19.4880974460008,
          18.41853741830429,
          18.12941268607064,
          17.805278180411914,
          17.710333831083744,
          17.322309669485005,
          16.61640499238156,
          16.32596835472003,
          16.01376426563959,
          16.037757365368858,
          15.09321835100017,
          15.226685242107209,
          14.912635349100844,
          14.576717254296955,
          14.2254910860471,
          14.059663564470068,
          14.025157221521058,
          13.290416257294362,
          13.273537674860826,
          13.13910616629973,
          13.059527848417606,
          12.783886618792488,
          12.607026701908516,
          12.235212154995615,
          12.11498090431786,
          11.9153623188259,
          11.56541146348225,
          11.613393465419255,
          11.319011755007477,
          11.081586651194106,
          11.08894330433724,
          10.756943560049509,
          10.636185917902974,
          10.774773583417833,
          10.527916384305708,
          10.568520509595874,
          10.182697654300751,
          10.05019679781572,
          9.892647909007998,
          9.85012721760953,
          9.687786708195617,
          9.634815901072407,
          9.358915238476106,
          9.319554519320183,
          9.344299644666988,
          9.372655846693666,
          9.123480718680046,
          9.062202643040232,
          8.771347504950201,
          8.778856167786897,
          8.730504974290483,
          8.42838424117221,
          8.467825700459704,
          8.38062165994432,
          8.224143258349631,
          8.162582478656718,
          8.000379497920095,
          7.989941107203443,
          8.11322429722833,
          7.958949782319028,
          7.663738998088232,
          7.736008555514816,
          7.5297063073136385,
          7.618453604673073,
          7.410585107398334,
          7.282547204202177,
          7.319690085180195,
          7.270293340574978,
          7.1416048461514,
          7.111364483709259,
          7.092485135616197,
          7.056646885840832,
          6.8761201805065735,
          6.919953326747855,
          6.927720277227025,
          6.771608608576308,
          6.866846911080594,
          6.647984476524345,
          6.744585211303098,
          6.522434864486047,
          6.502868456614452,
          6.516373359546283,
          6.384752029599122,
          6.325090340143988,
          6.305711432295148,
          6.225500484007538,
          6.150918592909818,
          6.128987569535618,
          6.160149844725495,
          6.031105465764201,
          6.030882284045099,
          5.998929665548988,
          5.982681687334991,
          5.813882074802926,
          5.796817516496165,
          5.77779163953932,
          5.760361130091406,
          5.762535787740328,
          5.611728739894561,
          5.664584666831664,
          5.554160683471348,
          5.519135354546809,
          5.52897911128224,
          5.509418390446469,
          5.409549526738003,
          5.410313885411059,
          5.375837062129068,
          5.398472699081198,
          5.232735863825811,
          5.297611643782616,
          5.224774755425621,
          5.187447932917743,
          5.1595562274903495,
          5.18511995153931,
          5.100970631220422,
          5.06511367381796,
          5.064486354950819,
          5.052165303109047,
          4.920836095891119,
          4.914641043929558,
          4.905799098920854,
          4.843151845241429,
          4.889303248521233,
          4.812465049490895,
          4.818911228586583,
          4.754752666009316,
          4.68334319037334,
          4.693311487382499,
          4.663057908748575,
          4.664916032670262,
          4.6471635780328375,
          4.584032029021319,
          4.564029382539471,
          4.552970471707687,
          4.49023833819977,
          4.490948345679949,
          4.509468743047736,
          4.444846158581898,
          4.4246829944826445,
          4.376675406838133,
          4.3445904775050685,
          4.3245471025744,
          4.293460058420389,
          4.273308391397904,
          4.308059774233259,
          4.25634244341139,
          4.213966318628091,
          4.258703380989031,
          4.196130993209136,
          4.141592012916496,
          4.125069484353084,
          4.171242998768443,
          4.107124410852864,
          4.043296027912829,
          4.047712644070599,
          4.1057061231314265,
          4.051776188063175,
          3.987180784041464,
          3.9617630482984336,
          3.972620462611798,
          3.934003561627789,
          3.88242897559776,
          3.918033570258056,
          3.9227303100065583,
          3.885528591451921,
          3.883591700779236,
          3.8589005328439514,
          3.7760056222944423,
          3.767516473099501,
          3.789988442168387,
          3.716068355249268,
          3.709955077286674,
          3.732056594794409,
          3.704637633595482,
          3.671264971397199,
          3.691178938135676,
          3.664116901957769,
          3.6014223991184813,
          3.580184314783224,
          3.623385871113543,
          3.586505905047245,
          3.528839204854341,
          3.568001185230567,
          3.5516328682823737,
          3.5408205396752503,
          3.485341534601156,
          3.5368504007153416,
          3.4784179517203424,
          3.4851651523958784,
          3.445924024291226,
          3.456799379236749,
          3.4576381126532314,
          3.4018483514889306,
          3.355044641503727,
          3.335382066846793,
          3.3659420061319736,
          3.327520433713977,
          3.327383366350622,
          3.315718625243915,
          3.253162033968977,
          3.3193051738254,
          3.289896774301742,
          3.234032498473657,
          3.2718778495045684,
          3.265907597038545,
          3.217612102326991,
          3.2137783609430888,
          3.2304278476171406,
          3.15505759170128,
          3.1830074715482093,
          3.14722167443218,
          3.167096201754144,
          3.1225596813956717,
          3.135817598476474,
          3.1014305907757023,
          3.103837371227181,
          3.0992258422309384,
          3.081920912516344,
          3.0525011160886897,
          3.03292409010246,
          3.057190250958505,
          3.021787941348528,
          3.0210820285907127,
          3.0171976338901856,
          2.98860589183491,
          2.965465310715199,
          2.991081053993525,
          2.9842448385350413,
          2.965920539863289,
          2.952494196219296,
          2.897584119105318,
          2.920107191444438,
          2.9163748961832985,
          2.922450718153844,
          2.867768272736502,
          2.8868227910660558,
          2.8663346692766853,
          2.842102283793061,
          2.868346377621604,
          2.844555374007766,
          2.8119737744042603,
          2.8170066518430588,
          2.8339035594102144,
          2.810299227081756,
          2.8035302605952497,
          2.816084370298957,
          2.777000006171327,
          2.746638896909001,
          2.7423427303641805,
          2.7381892709488764,
          2.715695487913778,
          2.744075404371308,
          2.7175142908545227,
          2.713114671462972,
          2.682097793632212,
          2.6730890850350417,
          2.686060572662661,
          2.6766106146332493,
          2.678527200783219,
          2.6747425703605887,
          2.6536838360842334,
          2.649021645256485,
          2.624828758049933,
          2.634940888732463,
          2.626291019925288,
          2.598568021520231,
          2.57851263016242,
          2.577387913988983,
          2.5677600349481264,
          2.570061325857433,
          2.5424373650002634,
          2.5723107496432074,
          2.5418291080405133,
          2.5179527705300537,
          2.521768812805218,
          2.518885418641349,
          2.525454311929439,
          2.5077714482720177,
          2.502760703549812,
          2.5176733398890088,
          2.480719406326969,
          2.483243053952004,
          2.470846874760856,
          2.4582857938429328,
          2.450073885987752,
          2.440533641483052,
          2.435823899407297,
          2.43441765103936,
          2.432794800258863,
          2.434599215621488,
          2.41611128084965,
          2.406326524947196,
          2.4001892214005127,
          2.4083707238692016,
          2.372558440215274,
          2.3820746238946597,
          2.3655593422342656,
          2.358217914108368,
          2.351642688383786,
          2.343980851409581,
          2.3617951111946573,
          2.338917656477712,
          2.3381796154755,
          2.323983785212021,
          2.312511890503691,
          2.3131133199097342,
          2.3013743067098686,
          2.277357578270471,
          2.2765468459175158,
          2.266543738897471,
          2.275050361083684,
          2.2708646892261144,
          2.2640289750929794,
          2.2489059551375816,
          2.244877885132894,
          2.2388827320629194,
          2.237873014714974,
          2.231824322384042,
          2.231503503236034,
          2.2148180562906545,
          2.217239442511067,
          2.2120343702345564,
          2.1970023228697038,
          2.1927151146342685,
          2.187186487449559,
          2.185024290543629,
          2.1734649934875057,
          2.173927514622128,
          2.169035461155681,
          2.162684830017595,
          2.1633879884733345,
          2.1482271198261773,
          2.150004447575407,
          2.133596393446034,
          2.1291963176199604,
          2.1253182004291147,
          2.120738682105235,
          2.126764240500097,
          2.1111136584247907,
          2.106112017252364,
          2.0882424156653907,
          2.0891020519256496,
          2.1033250470891214,
          2.0794529476674497,
          2.0738073494178133,
          2.065776555259741,
          2.067287350187629,
          2.0546919170127427,
          2.056262736195363,
          2.0491417190533485,
          2.049225600615362,
          2.043299909723785,
          2.0338192976801173,
          2.029268679753787,
          2.0290060104421794,
          2.025082614415083,
          2.01761414811213,
          2.013922952398081,
          2.006930937183047,
          2.002972944392072,
          1.9949043120192065,
          1.9919443613465724,
          1.9861590550593728
         ],
         "xaxis": "x",
         "y": [
          804.4591687396169,
          6625.294934425503,
          13397.13167585805,
          18785.325356297195,
          24340.401704221964,
          29992.8821743764,
          33031.51100951433,
          39588.67436628044,
          46455.97171865031,
          50677.220488559455,
          56104.72118875757,
          61921.79708214849,
          66146.22320874035,
          72694.423064854,
          77643.48353362083,
          82999.5720225051,
          86472.76242447644,
          94809.50999156013,
          99386.8226676546,
          101585.02019875124,
          107170.5068084076,
          113008.39242440462,
          116909.92494308576,
          121959.52009129152,
          129384.79321773723,
          135378.59067350999,
          134910.1800692603,
          143222.4733920209,
          151294.9177819006,
          155655.47380464897,
          159634.22493195906,
          157876.4707271643,
          175575.66381876543,
          171765.5417479165,
          184719.20433386788,
          184673.9883956462,
          196296.48422726244,
          199674.54286043346,
          203592.53159019724,
          204767.42548007518,
          209703.39865269512,
          219276.40520514548,
          223456.38313165307,
          228119.37741370872,
          227754.5586543344,
          242995.90397995338,
          240727.06693943217,
          246130.5917030126,
          252169.17701559514,
          258789.23383627832,
          262030.26478635892,
          262714.35230151564,
          278127.5420042649,
          278501.7580219954,
          281516.7295829542,
          283330.861478135,
          289790.0399837643,
          294083.92316370085,
          303517.83108280227,
          306692.9354538061,
          312106.758520443,
          322051.0952861421,
          320651.98123410344,
          329423.7682996318,
          336839.78483721986,
          336605.2046669014,
          347512.9266503602,
          351650.22646549717,
          346909.95072340965,
          355440.83326951414,
          354010.09457632154,
          368068.72803137824,
          373147.31508139893,
          379364.10551382974,
          381076.2386415079,
          387752.1228885129,
          389979.41447520256,
          401990.67242600024,
          403762.57632815465,
          402646.8697644919,
          401375.63795831427,
          412818.54261564463,
          415729.6790050566,
          430105.9129187688,
          429722.7166317068,
          432201.89050775394,
          448341.74304521456,
          446168.87326714024,
          451000.61107135564,
          459929.45447325334,
          463536.7199708633,
          473309.16215607524,
          473951.7493133992,
          466468.79055988416,
          475869.5820024684,
          494921.862579491,
          490122.2630533464,
          504069.16812907904,
          497976.15609202906,
          512478.81856884435,
          521827.3139152825,
          519081.42477611825,
          522739.42101154104,
          532508.9107909501,
          534856.3787936941,
          536332.1627567336,
          539155.5214585513,
          553829.0098980255,
          550195.1847478487,
          549556.1325952858,
          562684.6721966341,
          554603.7743790671,
          573522.5875711255,
          565019.527929306,
          584953.7292546406,
          586775.3559984937,
          585516.8730598688,
          598011.3630233854,
          603847.8312161937,
          605767.5865696557,
          613841.9777373075,
          621540.5376289077,
          623840.324649144,
          620577.4520250373,
          634310.6635223851,
          634334.9293073826,
          637827.8515850566,
          639618.4664435759,
          658819.4106325507,
          660823.3962532245,
          663071.8143510744,
          665144.8718347102,
          664885.54195733,
          683350.9240300246,
          676765.9282443039,
          690667.1329586133,
          695193.93677238,
          693915.8346287906,
          696460.1053037643,
          709740.1130006574,
          709636.5899906829,
          714335.668361593,
          711243.6613466106,
          734509.5161205754,
          725226.9748600647,
          735664.6708871089,
          741128.6241204813,
          745263.6707643643,
          741472.0342031755,
          754098.208042685,
          759607.3681250103,
          759704.4538061433,
          761616.2415924296,
          782596.103152778,
          783613.8010956049,
          785070.8274748437,
          795548.5049084537,
          787803.3711464219,
          800781.6352886036,
          799676.7451756522,
          810808.8657576256,
          823562.4245537333,
          821758.5011607297,
          827257.5007458888,
          826917.6786965728,
          830175.5775379203,
          841968.5189858973,
          845773.9744552225,
          847892.4518040121,
          860109.7752046101,
          859969.5628892295,
          856327.9618829377,
          869168.07850907,
          873252.2056499496,
          883129.9048013762,
          889854.8820623793,
          894107.3136937693,
          900782.448522266,
          905162.1199153066,
          897635.3713146485,
          908882.0383475982,
          918306.078048382,
          908362.5833614916,
          922330.2251437828,
          934853.9512848072,
          938714.3282524273,
          928004.0084802508,
          942942.7826074697,
          958291.6389116459,
          957213.7480127439,
          943278.5778049976,
          956224.1325426102,
          972197.8632974848,
          978628.4008695595,
          975871.3164526597,
          985747.7935822383,
          999249.5122147165,
          989889.9955059141,
          988668.2274844088,
          998427.7807324566,
          998941.1088697128,
          1005530.8025190867,
          1028294.719304502,
          1030683.4017747492,
          1024383.9288077839,
          1045397.2402674071,
          1047173.1724237055,
          1040780.5475847311,
          1048722.7563768514,
          1058552.2541543432,
          1052665.10562744,
          1060681.2990841977,
          1079723.068838574,
          1086327.3692541756,
          1072976.0030893125,
          1084353.261004191,
          1102627.9938112907,
          1090151.9901850186,
          1095332.4753727578,
          1098781.241818808,
          1116819.6405938305,
          1100052.9657520615,
          1119111.8629607148,
          1116877.921226453,
          1129995.0164104998,
          1126329.3641747236,
          1126047.6349819303,
          1145095.468231123,
          1161572.8103980124,
          1168635.530472543,
          1157694.7028168067,
          1171483.1853011064,
          1171532.9556282982,
          1175783.8760542423,
          1199110.9339806326,
          1174473.6095258035,
          1185303.2117077261,
          1206427.8260164224,
          1192036.6349699982,
          1194284.3297434822,
          1212779.2037388869,
          1214271.6107076518,
          1207816.4621278346,
          1237592.5496919341,
          1226382.8937413022,
          1240771.6721158624,
          1232739.5870295167,
          1250883.4988192394,
          1245427.3785644546,
          1259677.2049715966,
          1258669.3671686612,
          1260601.8428527862,
          1267906.1187970825,
          1280517.8698569238,
          1289048.5061086938,
          1278491.1342845447,
          1293951.3706253916,
          1294263.402673751,
          1295983.0726275817,
          1308781.3536722176,
          1319323.9978938028,
          1307663.5461885147,
          1310755.4520644844,
          1319114.9805291966,
          1325307.2971546873,
          1351242.0327400565,
          1340483.642641645,
          1342254.6867197454,
          1339373.9555575624,
          1365749.3567425609,
          1356442.8179625794,
          1366454.6636824422,
          1378486.5345748551,
          1365465.1433309987,
          1377258.9996278659,
          1393741.427338861,
          1391169.9492151402,
          1382604.9580930844,
          1394599.100233946,
          1398076.7116266116,
          1391640.4732720181,
          1411873.8798204623,
          1427997.6211870909,
          1430308.6435548626,
          1432549.948307719,
          1444809.9070406258,
          1429375.7019812092,
          1443810.8794669397,
          1446229.842026215,
          1463513.602234371,
          1468610.4749351144,
          1461282.6472014152,
          1466613.915347103,
          1465529.5478158817,
          1467672.3484326713,
          1479709.6776647866,
          1482401.092760153,
          1496524.400483489,
          1490588.8701627925,
          1495663.2021270283,
          1512159.5286343172,
          1524319.677787263,
          1525007.3617211506,
          1530919.3622778319,
          1529502.1301137768,
          1546687.642564468,
          1528119.3488389663,
          1547070.3574757613,
          1562242.9619471245,
          1559798.2387826778,
          1561644.7663361728,
          1557444.3301746733,
          1568802.854364995,
          1572051.3852784522,
          1562422.2756730914,
          1586500.7091674656,
          1584832.9916916527,
          1593058.374980025,
          1601479.8973593563,
          1607033.378795296,
          1613533.2809088863,
          1616761.3369104825,
          1617727.6613898128,
          1618844.2508009896,
          1617602.832251832,
          1630412.384396594,
          1637273.5272405744,
          1641606.3242545277,
          1635835.3960813321,
          1661397.8113960251,
          1654528.3572527021,
          1666486.4398038983,
          1671857.254677564,
          1676696.7398462184,
          1682371.1352243759,
          1669235.9832246937,
          1686141.8970279582,
          1686692.9447424896,
          1697361.9572759755,
          1706081.995398458,
          1705622.630604118,
          1714633.2960117832,
          1733365.3257649094,
          1734004.7437512688,
          1741932.7676298916,
          1735186.2382047027,
          1738499.3724415414,
          1743937.1762530915,
          1756088.1806309484,
          1759353.0052833222,
          1764234.534306582,
          1765059.336263232,
          1770016.3505075201,
          1770280.0386796556,
          1784102.3738209344,
          1782083.2215086818,
          1786429.2546496093,
          1799099.2564147078,
          1802745.5230282359,
          1807469.307019651,
          1809323.4212341905,
          1819300.017353598,
          1818898.7297725268,
          1823152.0320736952,
          1828702.9805415086,
          1828086.715304751,
          1841466.0381046496,
          1839887.5222812556,
          1854562.9609995075,
          1858537.9724523015,
          1862055.486820083,
          1866226.2255078368,
          1860742.362389829,
          1875052.781950716,
          1879672.2777438797,
          1896362.6193071567,
          1895552.9840221293,
          1882256.1206709705,
          1904680.3865209706,
          1910061.2881810702,
          1917767.72776765,
          1916313.2445966639,
          1928506.5707641803,
          1926977.5044974945,
          1933928.5770926438,
          1933846.4078225456,
          1939668.22816829,
          1949055.3323300742,
          1953593.1595069654,
          1953855.7305813693,
          1957786.0108301528,
          1965311.1030140035,
          1969051.5193166249,
          1976175.633943785,
          1980231.1236187778,
          1988549.877277542,
          1991618.998226162,
          1997644.9058992527
         ],
         "yaxis": "y"
        },
        {
         "hovertemplate": "x=%{x}<br>y=%{y}<extra></extra>",
         "legendgroup": "",
         "line": {
          "color": "tomato",
          "dash": "solid"
         },
         "marker": {
          "symbol": "circle"
         },
         "mode": "lines",
         "name": "Max Days for Delivery",
         "orientation": "v",
         "showlegend": true,
         "type": "scatter",
         "x": [
          10,
          10
         ],
         "xaxis": "x",
         "y": [
          0,
          375106.65896500275
         ],
         "yaxis": "y"
        },
        {
         "hovertemplate": "x=%{x}<br>y=%{y}<extra></extra>",
         "legendgroup": "",
         "line": {
          "color": "tomato",
          "dash": "solid"
         },
         "marker": {
          "symbol": "circle"
         },
         "mode": "lines",
         "name": "",
         "orientation": "v",
         "showlegend": false,
         "type": "scatter",
         "x": [
          0,
          10
         ],
         "xaxis": "x",
         "y": [
          375106.65896500275,
          375106.65896500275
         ],
         "yaxis": "y"
        }
       ],
       "layout": {
        "legend": {
         "tracegroupgap": 0
        },
        "template": {
         "data": {
          "bar": [
           {
            "error_x": {
             "color": "#2a3f5f"
            },
            "error_y": {
             "color": "#2a3f5f"
            },
            "marker": {
             "line": {
              "color": "#E5ECF6",
              "width": 0.5
             },
             "pattern": {
              "fillmode": "overlay",
              "size": 10,
              "solidity": 0.2
             }
            },
            "type": "bar"
           }
          ],
          "barpolar": [
           {
            "marker": {
             "line": {
              "color": "#E5ECF6",
              "width": 0.5
             },
             "pattern": {
              "fillmode": "overlay",
              "size": 10,
              "solidity": 0.2
             }
            },
            "type": "barpolar"
           }
          ],
          "carpet": [
           {
            "aaxis": {
             "endlinecolor": "#2a3f5f",
             "gridcolor": "white",
             "linecolor": "white",
             "minorgridcolor": "white",
             "startlinecolor": "#2a3f5f"
            },
            "baxis": {
             "endlinecolor": "#2a3f5f",
             "gridcolor": "white",
             "linecolor": "white",
             "minorgridcolor": "white",
             "startlinecolor": "#2a3f5f"
            },
            "type": "carpet"
           }
          ],
          "choropleth": [
           {
            "colorbar": {
             "outlinewidth": 0,
             "ticks": ""
            },
            "type": "choropleth"
           }
          ],
          "contour": [
           {
            "colorbar": {
             "outlinewidth": 0,
             "ticks": ""
            },
            "colorscale": [
             [
              0,
              "#0d0887"
             ],
             [
              0.1111111111111111,
              "#46039f"
             ],
             [
              0.2222222222222222,
              "#7201a8"
             ],
             [
              0.3333333333333333,
              "#9c179e"
             ],
             [
              0.4444444444444444,
              "#bd3786"
             ],
             [
              0.5555555555555556,
              "#d8576b"
             ],
             [
              0.6666666666666666,
              "#ed7953"
             ],
             [
              0.7777777777777778,
              "#fb9f3a"
             ],
             [
              0.8888888888888888,
              "#fdca26"
             ],
             [
              1,
              "#f0f921"
             ]
            ],
            "type": "contour"
           }
          ],
          "contourcarpet": [
           {
            "colorbar": {
             "outlinewidth": 0,
             "ticks": ""
            },
            "type": "contourcarpet"
           }
          ],
          "heatmap": [
           {
            "colorbar": {
             "outlinewidth": 0,
             "ticks": ""
            },
            "colorscale": [
             [
              0,
              "#0d0887"
             ],
             [
              0.1111111111111111,
              "#46039f"
             ],
             [
              0.2222222222222222,
              "#7201a8"
             ],
             [
              0.3333333333333333,
              "#9c179e"
             ],
             [
              0.4444444444444444,
              "#bd3786"
             ],
             [
              0.5555555555555556,
              "#d8576b"
             ],
             [
              0.6666666666666666,
              "#ed7953"
             ],
             [
              0.7777777777777778,
              "#fb9f3a"
             ],
             [
              0.8888888888888888,
              "#fdca26"
             ],
             [
              1,
              "#f0f921"
             ]
            ],
            "type": "heatmap"
           }
          ],
          "heatmapgl": [
           {
            "colorbar": {
             "outlinewidth": 0,
             "ticks": ""
            },
            "colorscale": [
             [
              0,
              "#0d0887"
             ],
             [
              0.1111111111111111,
              "#46039f"
             ],
             [
              0.2222222222222222,
              "#7201a8"
             ],
             [
              0.3333333333333333,
              "#9c179e"
             ],
             [
              0.4444444444444444,
              "#bd3786"
             ],
             [
              0.5555555555555556,
              "#d8576b"
             ],
             [
              0.6666666666666666,
              "#ed7953"
             ],
             [
              0.7777777777777778,
              "#fb9f3a"
             ],
             [
              0.8888888888888888,
              "#fdca26"
             ],
             [
              1,
              "#f0f921"
             ]
            ],
            "type": "heatmapgl"
           }
          ],
          "histogram": [
           {
            "marker": {
             "pattern": {
              "fillmode": "overlay",
              "size": 10,
              "solidity": 0.2
             }
            },
            "type": "histogram"
           }
          ],
          "histogram2d": [
           {
            "colorbar": {
             "outlinewidth": 0,
             "ticks": ""
            },
            "colorscale": [
             [
              0,
              "#0d0887"
             ],
             [
              0.1111111111111111,
              "#46039f"
             ],
             [
              0.2222222222222222,
              "#7201a8"
             ],
             [
              0.3333333333333333,
              "#9c179e"
             ],
             [
              0.4444444444444444,
              "#bd3786"
             ],
             [
              0.5555555555555556,
              "#d8576b"
             ],
             [
              0.6666666666666666,
              "#ed7953"
             ],
             [
              0.7777777777777778,
              "#fb9f3a"
             ],
             [
              0.8888888888888888,
              "#fdca26"
             ],
             [
              1,
              "#f0f921"
             ]
            ],
            "type": "histogram2d"
           }
          ],
          "histogram2dcontour": [
           {
            "colorbar": {
             "outlinewidth": 0,
             "ticks": ""
            },
            "colorscale": [
             [
              0,
              "#0d0887"
             ],
             [
              0.1111111111111111,
              "#46039f"
             ],
             [
              0.2222222222222222,
              "#7201a8"
             ],
             [
              0.3333333333333333,
              "#9c179e"
             ],
             [
              0.4444444444444444,
              "#bd3786"
             ],
             [
              0.5555555555555556,
              "#d8576b"
             ],
             [
              0.6666666666666666,
              "#ed7953"
             ],
             [
              0.7777777777777778,
              "#fb9f3a"
             ],
             [
              0.8888888888888888,
              "#fdca26"
             ],
             [
              1,
              "#f0f921"
             ]
            ],
            "type": "histogram2dcontour"
           }
          ],
          "mesh3d": [
           {
            "colorbar": {
             "outlinewidth": 0,
             "ticks": ""
            },
            "type": "mesh3d"
           }
          ],
          "parcoords": [
           {
            "line": {
             "colorbar": {
              "outlinewidth": 0,
              "ticks": ""
             }
            },
            "type": "parcoords"
           }
          ],
          "pie": [
           {
            "automargin": true,
            "type": "pie"
           }
          ],
          "scatter": [
           {
            "fillpattern": {
             "fillmode": "overlay",
             "size": 10,
             "solidity": 0.2
            },
            "type": "scatter"
           }
          ],
          "scatter3d": [
           {
            "line": {
             "colorbar": {
              "outlinewidth": 0,
              "ticks": ""
             }
            },
            "marker": {
             "colorbar": {
              "outlinewidth": 0,
              "ticks": ""
             }
            },
            "type": "scatter3d"
           }
          ],
          "scattercarpet": [
           {
            "marker": {
             "colorbar": {
              "outlinewidth": 0,
              "ticks": ""
             }
            },
            "type": "scattercarpet"
           }
          ],
          "scattergeo": [
           {
            "marker": {
             "colorbar": {
              "outlinewidth": 0,
              "ticks": ""
             }
            },
            "type": "scattergeo"
           }
          ],
          "scattergl": [
           {
            "marker": {
             "colorbar": {
              "outlinewidth": 0,
              "ticks": ""
             }
            },
            "type": "scattergl"
           }
          ],
          "scattermapbox": [
           {
            "marker": {
             "colorbar": {
              "outlinewidth": 0,
              "ticks": ""
             }
            },
            "type": "scattermapbox"
           }
          ],
          "scatterpolar": [
           {
            "marker": {
             "colorbar": {
              "outlinewidth": 0,
              "ticks": ""
             }
            },
            "type": "scatterpolar"
           }
          ],
          "scatterpolargl": [
           {
            "marker": {
             "colorbar": {
              "outlinewidth": 0,
              "ticks": ""
             }
            },
            "type": "scatterpolargl"
           }
          ],
          "scatterternary": [
           {
            "marker": {
             "colorbar": {
              "outlinewidth": 0,
              "ticks": ""
             }
            },
            "type": "scatterternary"
           }
          ],
          "surface": [
           {
            "colorbar": {
             "outlinewidth": 0,
             "ticks": ""
            },
            "colorscale": [
             [
              0,
              "#0d0887"
             ],
             [
              0.1111111111111111,
              "#46039f"
             ],
             [
              0.2222222222222222,
              "#7201a8"
             ],
             [
              0.3333333333333333,
              "#9c179e"
             ],
             [
              0.4444444444444444,
              "#bd3786"
             ],
             [
              0.5555555555555556,
              "#d8576b"
             ],
             [
              0.6666666666666666,
              "#ed7953"
             ],
             [
              0.7777777777777778,
              "#fb9f3a"
             ],
             [
              0.8888888888888888,
              "#fdca26"
             ],
             [
              1,
              "#f0f921"
             ]
            ],
            "type": "surface"
           }
          ],
          "table": [
           {
            "cells": {
             "fill": {
              "color": "#EBF0F8"
             },
             "line": {
              "color": "white"
             }
            },
            "header": {
             "fill": {
              "color": "#C8D4E3"
             },
             "line": {
              "color": "white"
             }
            },
            "type": "table"
           }
          ]
         },
         "layout": {
          "annotationdefaults": {
           "arrowcolor": "#2a3f5f",
           "arrowhead": 0,
           "arrowwidth": 1
          },
          "autotypenumbers": "strict",
          "coloraxis": {
           "colorbar": {
            "outlinewidth": 0,
            "ticks": ""
           }
          },
          "colorscale": {
           "diverging": [
            [
             0,
             "#8e0152"
            ],
            [
             0.1,
             "#c51b7d"
            ],
            [
             0.2,
             "#de77ae"
            ],
            [
             0.3,
             "#f1b6da"
            ],
            [
             0.4,
             "#fde0ef"
            ],
            [
             0.5,
             "#f7f7f7"
            ],
            [
             0.6,
             "#e6f5d0"
            ],
            [
             0.7,
             "#b8e186"
            ],
            [
             0.8,
             "#7fbc41"
            ],
            [
             0.9,
             "#4d9221"
            ],
            [
             1,
             "#276419"
            ]
           ],
           "sequential": [
            [
             0,
             "#0d0887"
            ],
            [
             0.1111111111111111,
             "#46039f"
            ],
            [
             0.2222222222222222,
             "#7201a8"
            ],
            [
             0.3333333333333333,
             "#9c179e"
            ],
            [
             0.4444444444444444,
             "#bd3786"
            ],
            [
             0.5555555555555556,
             "#d8576b"
            ],
            [
             0.6666666666666666,
             "#ed7953"
            ],
            [
             0.7777777777777778,
             "#fb9f3a"
            ],
            [
             0.8888888888888888,
             "#fdca26"
            ],
            [
             1,
             "#f0f921"
            ]
           ],
           "sequentialminus": [
            [
             0,
             "#0d0887"
            ],
            [
             0.1111111111111111,
             "#46039f"
            ],
            [
             0.2222222222222222,
             "#7201a8"
            ],
            [
             0.3333333333333333,
             "#9c179e"
            ],
            [
             0.4444444444444444,
             "#bd3786"
            ],
            [
             0.5555555555555556,
             "#d8576b"
            ],
            [
             0.6666666666666666,
             "#ed7953"
            ],
            [
             0.7777777777777778,
             "#fb9f3a"
            ],
            [
             0.8888888888888888,
             "#fdca26"
            ],
            [
             1,
             "#f0f921"
            ]
           ]
          },
          "colorway": [
           "#636efa",
           "#EF553B",
           "#00cc96",
           "#ab63fa",
           "#FFA15A",
           "#19d3f3",
           "#FF6692",
           "#B6E880",
           "#FF97FF",
           "#FECB52"
          ],
          "font": {
           "color": "#2a3f5f"
          },
          "geo": {
           "bgcolor": "white",
           "lakecolor": "white",
           "landcolor": "#E5ECF6",
           "showlakes": true,
           "showland": true,
           "subunitcolor": "white"
          },
          "hoverlabel": {
           "align": "left"
          },
          "hovermode": "closest",
          "mapbox": {
           "style": "light"
          },
          "paper_bgcolor": "white",
          "plot_bgcolor": "#E5ECF6",
          "polar": {
           "angularaxis": {
            "gridcolor": "white",
            "linecolor": "white",
            "ticks": ""
           },
           "bgcolor": "#E5ECF6",
           "radialaxis": {
            "gridcolor": "white",
            "linecolor": "white",
            "ticks": ""
           }
          },
          "scene": {
           "xaxis": {
            "backgroundcolor": "#E5ECF6",
            "gridcolor": "white",
            "gridwidth": 2,
            "linecolor": "white",
            "showbackground": true,
            "ticks": "",
            "zerolinecolor": "white"
           },
           "yaxis": {
            "backgroundcolor": "#E5ECF6",
            "gridcolor": "white",
            "gridwidth": 2,
            "linecolor": "white",
            "showbackground": true,
            "ticks": "",
            "zerolinecolor": "white"
           },
           "zaxis": {
            "backgroundcolor": "#E5ECF6",
            "gridcolor": "white",
            "gridwidth": 2,
            "linecolor": "white",
            "showbackground": true,
            "ticks": "",
            "zerolinecolor": "white"
           }
          },
          "shapedefaults": {
           "line": {
            "color": "#2a3f5f"
           }
          },
          "ternary": {
           "aaxis": {
            "gridcolor": "white",
            "linecolor": "white",
            "ticks": ""
           },
           "baxis": {
            "gridcolor": "white",
            "linecolor": "white",
            "ticks": ""
           },
           "bgcolor": "#E5ECF6",
           "caxis": {
            "gridcolor": "white",
            "linecolor": "white",
            "ticks": ""
           }
          },
          "title": {
           "x": 0.05
          },
          "xaxis": {
           "automargin": true,
           "gridcolor": "white",
           "linecolor": "white",
           "ticks": "",
           "title": {
            "standoff": 15
           },
           "zerolinecolor": "white",
           "zerolinewidth": 2
          },
          "yaxis": {
           "automargin": true,
           "gridcolor": "white",
           "linecolor": "white",
           "ticks": "",
           "title": {
            "standoff": 15
           },
           "zerolinecolor": "white",
           "zerolinewidth": 2
          }
         }
        },
        "title": {
         "text": "Break Even of Rides"
        },
        "xaxis": {
         "anchor": "y",
         "domain": [
          0,
          1
         ],
         "title": {
          "text": "avg_w/o_drones"
         }
        },
        "yaxis": {
         "anchor": "x",
         "domain": [
          0,
          1
         ],
         "title": {
          "text": "#_simulated_rides"
         }
        }
       }
      }
     },
     "metadata": {},
     "output_type": "display_data"
    }
   ],
   "source": [
    "import plotly.express as px\n",
    "import plotly.graph_objects as go\n",
    "df = results # iris is a pandas DataFrame\n",
    "max_days = 10\n",
    "current_metric = \"avg_w/o_drones\"\n",
    "needed_rides = get_rides_num(max_days,df,current_metric)\n",
    "fig1 = px.scatter(df, x=current_metric, y=\"#_simulated_rides\",color_discrete_sequence=[\"DarkKhaki\"],title=\"Break Even of Rides\" )\n",
    "fig1['data'][0]['name']='Simulated Rides Data'\n",
    "fig1['data'][0]['showlegend']=True\n",
    "fig2 = px.line(x=df[current_metric], y=regression_function(df[current_metric],*get_opt_parameter(df)),color_discrete_sequence=[\"DarkCyan\"])\n",
    "fig2['data'][0]['name']='Regression of Rides Data'\n",
    "fig2['data'][0]['showlegend']=True\n",
    "fig3 = px.line(x=[max_days,max_days], y=[0,needed_rides],color_discrete_sequence=[\"tomato\"])\n",
    "fig3['data'][0]['name']='Max Days for Delivery'\n",
    "fig3['data'][0]['showlegend']=True\n",
    "fig4 = px.line(x=[0,max_days], y=[needed_rides,needed_rides],color_discrete_sequence=[\"tomato\"] )\n",
    "all_fig = go.Figure(data=fig1.data + fig2.data + fig3.data + fig4.data, layout = fig1.layout, )\n",
    "all_fig.show()"
   ]
  }
 ],
 "metadata": {
  "kernelspec": {
   "display_name": "Python 3.9.7 64-bit",
   "language": "python",
   "name": "python3"
  },
  "language_info": {
   "codemirror_mode": {
    "name": "ipython",
    "version": 3
   },
   "file_extension": ".py",
   "mimetype": "text/x-python",
   "name": "python",
   "nbconvert_exporter": "python",
   "pygments_lexer": "ipython3",
   "version": "3.9.7"
  },
  "orig_nbformat": 4,
  "vscode": {
   "interpreter": {
    "hash": "08186daf039cfcc5bc76541d6f73a7110f0b8b534dd53f312a60fa15e930ca43"
   }
  }
 },
 "nbformat": 4,
 "nbformat_minor": 2
}
