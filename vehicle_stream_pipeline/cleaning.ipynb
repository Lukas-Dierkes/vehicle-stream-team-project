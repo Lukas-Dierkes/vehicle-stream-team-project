{
 "cells": [
  {
   "cell_type": "code",
   "execution_count": 1,
   "metadata": {},
   "outputs": [],
   "source": [
    "import numpy as np\n",
    "import pandas as pd \n",
    "from datetime import datetime"
   ]
  },
  {
   "cell_type": "code",
   "execution_count": 2,
   "metadata": {},
   "outputs": [
    {
     "data": {
      "text/html": [
       "<div>\n",
       "<style scoped>\n",
       "    .dataframe tbody tr th:only-of-type {\n",
       "        vertical-align: middle;\n",
       "    }\n",
       "\n",
       "    .dataframe tbody tr th {\n",
       "        vertical-align: top;\n",
       "    }\n",
       "\n",
       "    .dataframe thead th {\n",
       "        text-align: right;\n",
       "    }\n",
       "</style>\n",
       "<table border=\"1\" class=\"dataframe\">\n",
       "  <thead>\n",
       "    <tr style=\"text-align: right;\">\n",
       "      <th></th>\n",
       "      <th>id</th>\n",
       "      <th>user_id</th>\n",
       "      <th>distance</th>\n",
       "      <th>number_of_passenger</th>\n",
       "      <th>price_operations</th>\n",
       "      <th>price_offer</th>\n",
       "      <th>price_payed</th>\n",
       "      <th>free_ride</th>\n",
       "      <th>payment_type</th>\n",
       "      <th>pickup_address</th>\n",
       "      <th>...</th>\n",
       "      <th>rating_other_comments</th>\n",
       "      <th>cancellation_reason</th>\n",
       "      <th>cancellation_comment</th>\n",
       "      <th>sheet_name</th>\n",
       "      <th>bahn_card_number</th>\n",
       "      <th>year_card_type</th>\n",
       "      <th>year_card_number</th>\n",
       "      <th>canceled_at</th>\n",
       "      <th>rating_question_one</th>\n",
       "      <th>rating_question_two</th>\n",
       "    </tr>\n",
       "  </thead>\n",
       "  <tbody>\n",
       "    <tr>\n",
       "      <th>0</th>\n",
       "      <td>5727475e-8224-4302-9228-c92b9d4a5220</td>\n",
       "      <td>f8ff0526-887a-4e48-ad96-977e12fd70c1</td>\n",
       "      <td>5483</td>\n",
       "      <td>1.0</td>\n",
       "      <td>4.65</td>\n",
       "      <td>4.65</td>\n",
       "      <td>0.0</td>\n",
       "      <td>0.0</td>\n",
       "      <td>STANDARD</td>\n",
       "      <td>Würzmühle</td>\n",
       "      <td>...</td>\n",
       "      <td>NaN</td>\n",
       "      <td>NaN</td>\n",
       "      <td>NaN</td>\n",
       "      <td>MTD</td>\n",
       "      <td>NaN</td>\n",
       "      <td>NaN</td>\n",
       "      <td>NaN</td>\n",
       "      <td>NaN</td>\n",
       "      <td>NaN</td>\n",
       "      <td>NaN</td>\n",
       "    </tr>\n",
       "    <tr>\n",
       "      <th>1</th>\n",
       "      <td>18fec0a6-b7ba-442b-8472-04bdb6ba1b86</td>\n",
       "      <td>51e1a1a8-995c-488c-84ce-3789e46f0417</td>\n",
       "      <td>3575</td>\n",
       "      <td>1.0</td>\n",
       "      <td>0.00</td>\n",
       "      <td>2.77</td>\n",
       "      <td>0.0</td>\n",
       "      <td>0.0</td>\n",
       "      <td>BAHN_CARD</td>\n",
       "      <td>Julius-Wilde-Straße</td>\n",
       "      <td>...</td>\n",
       "      <td>NaN</td>\n",
       "      <td>NaN</td>\n",
       "      <td>NaN</td>\n",
       "      <td>MTD</td>\n",
       "      <td>NaN</td>\n",
       "      <td>NaN</td>\n",
       "      <td>NaN</td>\n",
       "      <td>NaN</td>\n",
       "      <td>NaN</td>\n",
       "      <td>NaN</td>\n",
       "    </tr>\n",
       "  </tbody>\n",
       "</table>\n",
       "<p>2 rows × 51 columns</p>\n",
       "</div>"
      ],
      "text/plain": [
       "                                     id                               user_id  \\\n",
       "0  5727475e-8224-4302-9228-c92b9d4a5220  f8ff0526-887a-4e48-ad96-977e12fd70c1   \n",
       "1  18fec0a6-b7ba-442b-8472-04bdb6ba1b86  51e1a1a8-995c-488c-84ce-3789e46f0417   \n",
       "\n",
       "   distance  number_of_passenger  price_operations  price_offer  price_payed  \\\n",
       "0      5483                  1.0              4.65         4.65          0.0   \n",
       "1      3575                  1.0              0.00         2.77          0.0   \n",
       "\n",
       "   free_ride payment_type       pickup_address  ... rating_other_comments  \\\n",
       "0        0.0     STANDARD            Würzmühle  ...                   NaN   \n",
       "1        0.0    BAHN_CARD  Julius-Wilde-Straße  ...                   NaN   \n",
       "\n",
       "  cancellation_reason  cancellation_comment sheet_name bahn_card_number  \\\n",
       "0                 NaN                   NaN        MTD              NaN   \n",
       "1                 NaN                   NaN        MTD              NaN   \n",
       "\n",
       "  year_card_type year_card_number canceled_at rating_question_one  \\\n",
       "0            NaN              NaN         NaN                 NaN   \n",
       "1            NaN              NaN         NaN                 NaN   \n",
       "\n",
       "  rating_question_two  \n",
       "0                 NaN  \n",
       "1                 NaN  \n",
       "\n",
       "[2 rows x 51 columns]"
      ]
     },
     "execution_count": 2,
     "metadata": {},
     "output_type": "execute_result"
    }
   ],
   "source": [
    "df = pd.read_csv(\"../data/mtd_combined.csv\", index_col=0)\n",
    "df.head(2)"
   ]
  },
  {
   "cell_type": "code",
   "execution_count": 4,
   "metadata": {},
   "outputs": [
    {
     "data": {
      "text/plain": [
       "1568    1899-12-29 23:58:42\n",
       "Name: pickup_arrival_time, dtype: object"
      ]
     },
     "execution_count": 4,
     "metadata": {},
     "output_type": "execute_result"
    }
   ],
   "source": [
    "df[df['id']=='6de9cc6f-fe92-4964-a400-53491de46155']['pickup_arrival_time']"
   ]
  },
  {
   "cell_type": "code",
   "execution_count": null,
   "metadata": {},
   "outputs": [],
   "source": []
  },
  {
   "cell_type": "code",
   "execution_count": 3,
   "metadata": {},
   "outputs": [
    {
     "data": {
      "text/html": [
       "<div>\n",
       "<style scoped>\n",
       "    .dataframe tbody tr th:only-of-type {\n",
       "        vertical-align: middle;\n",
       "    }\n",
       "\n",
       "    .dataframe tbody tr th {\n",
       "        vertical-align: top;\n",
       "    }\n",
       "\n",
       "    .dataframe thead th {\n",
       "        text-align: right;\n",
       "    }\n",
       "</style>\n",
       "<table border=\"1\" class=\"dataframe\">\n",
       "  <thead>\n",
       "    <tr style=\"text-align: right;\">\n",
       "      <th></th>\n",
       "      <th>MoDStop Id</th>\n",
       "      <th>MoDStop Name</th>\n",
       "      <th>MoDStop Lat</th>\n",
       "      <th>MoDStop Long</th>\n",
       "      <th>MoDStop Adresse</th>\n",
       "    </tr>\n",
       "  </thead>\n",
       "  <tbody>\n",
       "    <tr>\n",
       "      <th>0</th>\n",
       "      <td>1001</td>\n",
       "      <td>Mandelgasse</td>\n",
       "      <td>49.351780</td>\n",
       "      <td>8.129000</td>\n",
       "      <td>Seilerbahn 1, 67433 Neustadt</td>\n",
       "    </tr>\n",
       "    <tr>\n",
       "      <th>1</th>\n",
       "      <td>1002</td>\n",
       "      <td>Hauptfeuerwache</td>\n",
       "      <td>49.353733</td>\n",
       "      <td>8.131552</td>\n",
       "      <td>Lindenstraße 11, 67433 Neustadt</td>\n",
       "    </tr>\n",
       "  </tbody>\n",
       "</table>\n",
       "</div>"
      ],
      "text/plain": [
       "   MoDStop Id     MoDStop Name  MoDStop Lat  MoDStop Long  \\\n",
       "0        1001      Mandelgasse    49.351780      8.129000   \n",
       "1        1002  Hauptfeuerwache    49.353733      8.131552   \n",
       "\n",
       "                   MoDStop Adresse  \n",
       "0     Seilerbahn 1, 67433 Neustadt  \n",
       "1  Lindenstraße 11, 67433 Neustadt  "
      ]
     },
     "execution_count": 3,
     "metadata": {},
     "output_type": "execute_result"
    }
   ],
   "source": [
    "df_stops = pd.read_excel(\"../data/MoDstops+Preismodell.xlsx\", sheet_name=\"MoDstops\")\n",
    "df_stops.head(2)"
   ]
  },
  {
   "cell_type": "markdown",
   "metadata": {},
   "source": [
    "#### Column: id"
   ]
  },
  {
   "cell_type": "code",
   "execution_count": 4,
   "metadata": {},
   "outputs": [
    {
     "name": "stdout",
     "output_type": "stream",
     "text": [
      "# of NaN: 4535\n",
      "# of duplicates: 0 (exklusive NaN)\n"
     ]
    }
   ],
   "source": [
    "print(\"# of NaN:\", int(df[['id']].isna().sum()))\n",
    "print(\"# of duplicates:\", df.id.duplicated().sum() - int(df[['id']].isna().sum() - 1), \"(exklusive NaN)\")"
   ]
  },
  {
   "cell_type": "code",
   "execution_count": 5,
   "metadata": {},
   "outputs": [
    {
     "data": {
      "text/html": [
       "<div>\n",
       "<style scoped>\n",
       "    .dataframe tbody tr th:only-of-type {\n",
       "        vertical-align: middle;\n",
       "    }\n",
       "\n",
       "    .dataframe tbody tr th {\n",
       "        vertical-align: top;\n",
       "    }\n",
       "\n",
       "    .dataframe thead th {\n",
       "        text-align: right;\n",
       "    }\n",
       "</style>\n",
       "<table border=\"1\" class=\"dataframe\">\n",
       "  <thead>\n",
       "    <tr style=\"text-align: right;\">\n",
       "      <th></th>\n",
       "      <th>id</th>\n",
       "      <th>user_id</th>\n",
       "      <th>distance</th>\n",
       "      <th>number_of_passenger</th>\n",
       "      <th>price_operations</th>\n",
       "      <th>price_offer</th>\n",
       "      <th>price_payed</th>\n",
       "      <th>free_ride</th>\n",
       "      <th>payment_type</th>\n",
       "      <th>pickup_address</th>\n",
       "      <th>...</th>\n",
       "      <th>rating_other_comments</th>\n",
       "      <th>cancellation_reason</th>\n",
       "      <th>cancellation_comment</th>\n",
       "      <th>sheet_name</th>\n",
       "      <th>bahn_card_number</th>\n",
       "      <th>year_card_type</th>\n",
       "      <th>year_card_number</th>\n",
       "      <th>canceled_at</th>\n",
       "      <th>rating_question_one</th>\n",
       "      <th>rating_question_two</th>\n",
       "    </tr>\n",
       "  </thead>\n",
       "  <tbody>\n",
       "  </tbody>\n",
       "</table>\n",
       "<p>0 rows × 51 columns</p>\n",
       "</div>"
      ],
      "text/plain": [
       "Empty DataFrame\n",
       "Columns: [id, user_id, distance, number_of_passenger, price_operations, price_offer, price_payed, free_ride, payment_type, pickup_address, dropoff_address, state, created_from_offer, created_at, scheduled_to, dispatched_at, pickup_arrival_time, arriving_push, vehicle_arrived_at, earliest_pickup_expectation, pickup_first_eta, pickup_eta, pickup_at, dropoff_first_eta, dropoff_eta, dropoff_at, updated_at, arrival_deviation, waiting_time, boarding_time, ride_time, trip_time, shortest_ridetime, delay, longer_route_factor, arrival_indicator, rating, rating_puenktlichkeit, rating_sauberkeit, rating_fahrer, rating_find_modstop, rating_other_comments, cancellation_reason, cancellation_comment, sheet_name, bahn_card_number, year_card_type, year_card_number, canceled_at, rating_question_one, rating_question_two]\n",
       "Index: []\n",
       "\n",
       "[0 rows x 51 columns]"
      ]
     },
     "execution_count": 5,
     "metadata": {},
     "output_type": "execute_result"
    }
   ],
   "source": [
    "df.loc[(df['id'].duplicated()) & (~df['id'].isna()), :]"
   ]
  },
  {
   "cell_type": "markdown",
   "metadata": {},
   "source": [
    "Wieso gibts doppelte ids? (nur bei combined rides, nicht bei combined mtd)"
   ]
  },
  {
   "cell_type": "markdown",
   "metadata": {},
   "source": [
    "Fehlende ID's sind problematisch, wenn wir die ride id als Primärschlüssel nutzen wollen. Es handelt sich um rides, bei denen der Status 'offer' oder 'offer_rejected' ist. "
   ]
  },
  {
   "cell_type": "markdown",
   "metadata": {},
   "source": [
    "#### Column: user_id"
   ]
  },
  {
   "cell_type": "code",
   "execution_count": 6,
   "metadata": {},
   "outputs": [
    {
     "name": "stdout",
     "output_type": "stream",
     "text": [
      "# of NaN: 0\n",
      "# of duplicates: 9565 (exklusive NaN)\n"
     ]
    }
   ],
   "source": [
    "print(\"# of NaN:\", int(df[['user_id']].isna().sum()))\n",
    "print(\"# of duplicates:\", df.user_id.duplicated().sum() - int(df[['user_id']].isna().sum()), \"(exklusive NaN)\")"
   ]
  },
  {
   "cell_type": "markdown",
   "metadata": {},
   "source": [
    "#### Column: distance"
   ]
  },
  {
   "cell_type": "code",
   "execution_count": 7,
   "metadata": {},
   "outputs": [
    {
     "name": "stdout",
     "output_type": "stream",
     "text": [
      "# of NaN: 0\n",
      "# of neg: 0\n",
      "# of zero: 0\n",
      "# of ones: 14\n"
     ]
    }
   ],
   "source": [
    "print(\"# of NaN:\", int(df[['distance']].isna().sum()))\n",
    "print(\"# of neg:\", len(df.loc[(df.distance < 0)]))\n",
    "print(\"# of zero:\", len(df.loc[(df.distance == 0)]))\n",
    "print(\"# of ones:\", len(df.loc[(df.distance == 1)]))"
   ]
  },
  {
   "cell_type": "code",
   "execution_count": 8,
   "metadata": {},
   "outputs": [
    {
     "data": {
      "text/html": [
       "<div>\n",
       "<style scoped>\n",
       "    .dataframe tbody tr th:only-of-type {\n",
       "        vertical-align: middle;\n",
       "    }\n",
       "\n",
       "    .dataframe tbody tr th {\n",
       "        vertical-align: top;\n",
       "    }\n",
       "\n",
       "    .dataframe thead th {\n",
       "        text-align: right;\n",
       "    }\n",
       "</style>\n",
       "<table border=\"1\" class=\"dataframe\">\n",
       "  <thead>\n",
       "    <tr style=\"text-align: right;\">\n",
       "      <th></th>\n",
       "      <th>pickup_address</th>\n",
       "      <th>dropoff_address</th>\n",
       "      <th>isSameAddress</th>\n",
       "    </tr>\n",
       "  </thead>\n",
       "  <tbody>\n",
       "    <tr>\n",
       "      <th>37</th>\n",
       "      <td>49.322557|8.12336</td>\n",
       "      <td>49.322557|8.12336</td>\n",
       "      <td>True</td>\n",
       "    </tr>\n",
       "    <tr>\n",
       "      <th>49</th>\n",
       "      <td>Haardter Winzer</td>\n",
       "      <td>Haardter Winzer</td>\n",
       "      <td>True</td>\n",
       "    </tr>\n",
       "    <tr>\n",
       "      <th>114</th>\n",
       "      <td>Am Herzel West</td>\n",
       "      <td>Am Herzel West</td>\n",
       "      <td>True</td>\n",
       "    </tr>\n",
       "    <tr>\n",
       "      <th>418</th>\n",
       "      <td>TC Rot-Weiß</td>\n",
       "      <td>TC Rot-Weiß</td>\n",
       "      <td>True</td>\n",
       "    </tr>\n",
       "    <tr>\n",
       "      <th>646</th>\n",
       "      <td>Schütt</td>\n",
       "      <td>Schütt</td>\n",
       "      <td>True</td>\n",
       "    </tr>\n",
       "    <tr>\n",
       "      <th>707</th>\n",
       "      <td>49.330245|8.130933</td>\n",
       "      <td>49.330245|8.130933</td>\n",
       "      <td>True</td>\n",
       "    </tr>\n",
       "    <tr>\n",
       "      <th>841</th>\n",
       "      <td>49.351731|8.136637</td>\n",
       "      <td>49.351731|8.136637</td>\n",
       "      <td>True</td>\n",
       "    </tr>\n",
       "    <tr>\n",
       "      <th>972</th>\n",
       "      <td>49.376347|8.153444</td>\n",
       "      <td>49.376347|8.153444</td>\n",
       "      <td>True</td>\n",
       "    </tr>\n",
       "    <tr>\n",
       "      <th>1047</th>\n",
       "      <td>49.316193|8.135477</td>\n",
       "      <td>49.316193|8.135477</td>\n",
       "      <td>True</td>\n",
       "    </tr>\n",
       "    <tr>\n",
       "      <th>1164</th>\n",
       "      <td>Schütt</td>\n",
       "      <td>Schütt</td>\n",
       "      <td>True</td>\n",
       "    </tr>\n",
       "    <tr>\n",
       "      <th>1371</th>\n",
       "      <td>49.35552|8.136674</td>\n",
       "      <td>49.35552|8.136674</td>\n",
       "      <td>True</td>\n",
       "    </tr>\n",
       "    <tr>\n",
       "      <th>1438</th>\n",
       "      <td>49.376347|8.153444</td>\n",
       "      <td>49.376347|8.153444</td>\n",
       "      <td>True</td>\n",
       "    </tr>\n",
       "    <tr>\n",
       "      <th>1441</th>\n",
       "      <td>Le Quartier Hornbach</td>\n",
       "      <td>Le Quartier Hornbach</td>\n",
       "      <td>True</td>\n",
       "    </tr>\n",
       "    <tr>\n",
       "      <th>1475</th>\n",
       "      <td>Strohmarkt</td>\n",
       "      <td>Strohmarkt</td>\n",
       "      <td>True</td>\n",
       "    </tr>\n",
       "  </tbody>\n",
       "</table>\n",
       "</div>"
      ],
      "text/plain": [
       "            pickup_address       dropoff_address  isSameAddress\n",
       "37       49.322557|8.12336     49.322557|8.12336           True\n",
       "49         Haardter Winzer       Haardter Winzer           True\n",
       "114         Am Herzel West        Am Herzel West           True\n",
       "418            TC Rot-Weiß           TC Rot-Weiß           True\n",
       "646                 Schütt                Schütt           True\n",
       "707     49.330245|8.130933    49.330245|8.130933           True\n",
       "841     49.351731|8.136637    49.351731|8.136637           True\n",
       "972     49.376347|8.153444    49.376347|8.153444           True\n",
       "1047    49.316193|8.135477    49.316193|8.135477           True\n",
       "1164                Schütt                Schütt           True\n",
       "1371     49.35552|8.136674     49.35552|8.136674           True\n",
       "1438    49.376347|8.153444    49.376347|8.153444           True\n",
       "1441  Le Quartier Hornbach  Le Quartier Hornbach           True\n",
       "1475            Strohmarkt            Strohmarkt           True"
      ]
     },
     "execution_count": 8,
     "metadata": {},
     "output_type": "execute_result"
    }
   ],
   "source": [
    "comparison = np.where(df['pickup_address'] == df['dropoff_address'], True, False)\n",
    "df.loc[:, 'isSameAddress'] = comparison\n",
    "mask = df['distance']==1\n",
    "df[mask][['pickup_address', 'dropoff_address', 'isSameAddress']]"
   ]
  },
  {
   "cell_type": "markdown",
   "metadata": {},
   "source": [
    "Was sollen wir mit distance=1m und gleichem Start- & Endhaltestopp machen? "
   ]
  },
  {
   "cell_type": "markdown",
   "metadata": {},
   "source": [
    "#### Column: number_of_passenger"
   ]
  },
  {
   "cell_type": "code",
   "execution_count": 9,
   "metadata": {},
   "outputs": [
    {
     "name": "stdout",
     "output_type": "stream",
     "text": [
      "# of NaN: 4535\n",
      "# of neg: 0\n",
      "# of zero: 0\n",
      "# of pos: 5813\n",
      "Max # of passengers: 5.0\n"
     ]
    }
   ],
   "source": [
    "print(\"# of NaN:\", int(df[['number_of_passenger']].isna().sum()))\n",
    "print(\"# of neg:\", len(df.loc[(df.number_of_passenger < 0)]))\n",
    "print(\"# of zero:\", len(df.loc[(df.number_of_passenger == 0)]))\n",
    "print(\"# of pos:\", len(df.loc[(df.number_of_passenger > 0)]))\n",
    "print('Max # of passengers:', df['number_of_passenger'].max())"
   ]
  },
  {
   "cell_type": "markdown",
   "metadata": {},
   "source": [
    "Fehlende Angaben bei number_of_passenger: Es handelt sich um rides, bei denen der Status 'offer' oder 'offer_rejected' ist. \n",
    "--> Bei Analysen vermutlich sowieso filtern auf completed"
   ]
  },
  {
   "cell_type": "markdown",
   "metadata": {},
   "source": [
    "#### Column: price_operations"
   ]
  },
  {
   "cell_type": "code",
   "execution_count": 10,
   "metadata": {},
   "outputs": [
    {
     "name": "stdout",
     "output_type": "stream",
     "text": [
      "# of NaN: 1204\n",
      "# of neg: 0\n",
      "# of zero: 458\n",
      "# of pos: 8686\n",
      "Min price: 0.0\n",
      "Max price: 33.1\n"
     ]
    }
   ],
   "source": [
    "print(\"# of NaN:\", int(df[['price_operations']].isna().sum()))\n",
    "print(\"# of neg:\", len(df.loc[(df.price_operations < 0)]))\n",
    "print(\"# of zero:\", len(df.loc[(df.price_operations == 0)]))\n",
    "print(\"# of pos:\", len(df.loc[(df.price_operations > 0)]))\n",
    "print('Min price:', df['price_operations'].min())\n",
    "print('Max price:', df['price_operations'].max())"
   ]
  },
  {
   "cell_type": "markdown",
   "metadata": {},
   "source": [
    "#### Column: price_offer"
   ]
  },
  {
   "cell_type": "code",
   "execution_count": 11,
   "metadata": {},
   "outputs": [
    {
     "name": "stdout",
     "output_type": "stream",
     "text": [
      "# of NaN: 4535\n",
      "# of neg: 0\n",
      "# of zero: 0\n",
      "# of pos: 5813\n",
      "Min price: 0.8\n",
      "Max price: 32.3\n"
     ]
    }
   ],
   "source": [
    "print(\"# of NaN:\", int(df[['price_offer']].isna().sum()))\n",
    "print(\"# of neg:\", len(df.loc[(df.price_offer < 0)]))\n",
    "print(\"# of zero:\", len(df.loc[(df.price_offer == 0)]))\n",
    "print(\"# of pos:\", len(df.loc[(df.price_offer > 0)]))\n",
    "print('Min price:', df['price_offer'].min())\n",
    "print('Max price:', df['price_offer'].max())"
   ]
  },
  {
   "cell_type": "markdown",
   "metadata": {},
   "source": [
    "#### Column: price_payed"
   ]
  },
  {
   "cell_type": "code",
   "execution_count": 12,
   "metadata": {},
   "outputs": [
    {
     "name": "stdout",
     "output_type": "stream",
     "text": [
      "# of NaN: 4535\n",
      "# of neg: 0\n",
      "# of zero: 1322\n",
      "# of pos: 4491\n",
      "Min price: 0.0\n",
      "Max price: 555.33\n"
     ]
    }
   ],
   "source": [
    "print(\"# of NaN:\", int(df[['price_payed']].isna().sum()))\n",
    "print(\"# of neg:\", len(df.loc[(df.price_payed < 0)]))\n",
    "print(\"# of zero:\", len(df.loc[(df.price_payed == 0)]))\n",
    "print(\"# of pos:\", len(df.loc[(df.price_payed > 0)]))\n",
    "print('Min price:', df['price_payed'].min())\n",
    "print('Max price:', df['price_payed'].max())"
   ]
  },
  {
   "cell_type": "markdown",
   "metadata": {},
   "source": [
    "#### Column: free_ride"
   ]
  },
  {
   "cell_type": "code",
   "execution_count": 13,
   "metadata": {},
   "outputs": [
    {
     "name": "stdout",
     "output_type": "stream",
     "text": [
      "# of NaN: 4535\n"
     ]
    }
   ],
   "source": [
    "print(\"# of NaN:\", int(df[['free_ride']].isna().sum()))\n"
   ]
  },
  {
   "cell_type": "markdown",
   "metadata": {},
   "source": [
    "Dies sind genau die rides, die keine ride id haben"
   ]
  },
  {
   "cell_type": "code",
   "execution_count": 14,
   "metadata": {},
   "outputs": [
    {
     "data": {
      "text/plain": [
       "0.0    5170\n",
       "1.0     643\n",
       "Name: free_ride, dtype: int64"
      ]
     },
     "execution_count": 14,
     "metadata": {},
     "output_type": "execute_result"
    }
   ],
   "source": [
    "df.free_ride.value_counts()"
   ]
  },
  {
   "cell_type": "markdown",
   "metadata": {},
   "source": [
    "#### Column: pickup_address and dropoff_address"
   ]
  },
  {
   "cell_type": "code",
   "execution_count": 15,
   "metadata": {},
   "outputs": [
    {
     "name": "stdout",
     "output_type": "stream",
     "text": [
      "# of NaN: 0\n",
      "# of NaN: 0\n"
     ]
    }
   ],
   "source": [
    "print(\"# of NaN:\", int(df[['pickup_address']].isna().sum()))\n",
    "print(\"# of NaN:\", int(df[['dropoff_address']].isna().sum()))\n"
   ]
  },
  {
   "cell_type": "code",
   "execution_count": 16,
   "metadata": {},
   "outputs": [],
   "source": [
    "df['start_id'] = \"\"\n",
    "df['end_id'] = \"\"\n",
    "\n",
    "def get_stop_id(address):\n",
    "    if address[0].isdigit():\n",
    "        lat = address.split(\"|\")[0]\n",
    "        long = address.split(\"|\")[1]\n",
    "        for index, row in df_stops.iterrows():\n",
    "            if str(row[\"MoDStop Lat\"]) == lat and str(row[\"MoDStop Long\"]) == long:\n",
    "                return row[\"MoDStop Id\"]\n",
    "        return \"No match of lat and long\"\n",
    "    else:\n",
    "        # different naming\n",
    "        if address == \"Rewe Mußbach\":\n",
    "            address = address + \" (Shoppenwiese)\"\n",
    "        for index, row in df_stops.iterrows():\n",
    "            if row[\"MoDStop Name\"] == address:\n",
    "                return row[\"MoDStop Id\"]\n",
    "        return \"No match of address name\"\n",
    "            \t\t\n",
    "        "
   ]
  },
  {
   "cell_type": "code",
   "execution_count": 17,
   "metadata": {},
   "outputs": [],
   "source": [
    "for index, row in df.iterrows():\n",
    "    df.at[index, 'start_id'] = get_stop_id(row['pickup_address'])\n",
    "    df.at[index, 'end_id'] = get_stop_id(row['dropoff_address'])"
   ]
  },
  {
   "cell_type": "code",
   "execution_count": 18,
   "metadata": {},
   "outputs": [],
   "source": [
    "df.to_excel(\"test.xlsx\")"
   ]
  },
  {
   "cell_type": "markdown",
   "metadata": {},
   "source": [
    "#### Column: State"
   ]
  },
  {
   "cell_type": "code",
   "execution_count": 19,
   "metadata": {},
   "outputs": [
    {
     "name": "stdout",
     "output_type": "stream",
     "text": [
      "# of NaN: 0\n"
     ]
    }
   ],
   "source": [
    "print(\"# of NaN:\", int(df[['state']].isna().sum()))"
   ]
  },
  {
   "cell_type": "code",
   "execution_count": 20,
   "metadata": {},
   "outputs": [
    {
     "data": {
      "text/plain": [
       "completed         4862\n",
       "offer             4365\n",
       "canceled           857\n",
       "offer-rejected     170\n",
       "rejected            93\n",
       "active               1\n",
       "Name: state, dtype: int64"
      ]
     },
     "execution_count": 20,
     "metadata": {},
     "output_type": "execute_result"
    }
   ],
   "source": [
    "df.state.value_counts()"
   ]
  },
  {
   "cell_type": "markdown",
   "metadata": {},
   "source": [
    "Was bedeutet ‚active‘, ‚rejected‘? Und ist offer-rejected wie cancelled zu betrachten?"
   ]
  },
  {
   "cell_type": "markdown",
   "metadata": {},
   "source": [
    "#### Column: Created_from_offer"
   ]
  },
  {
   "cell_type": "code",
   "execution_count": 21,
   "metadata": {},
   "outputs": [
    {
     "name": "stdout",
     "output_type": "stream",
     "text": [
      "# of NaN: 3065\n"
     ]
    }
   ],
   "source": [
    "print(\"# of NaN:\", int(df[['created_from_offer']].isna().sum()))"
   ]
  },
  {
   "cell_type": "markdown",
   "metadata": {},
   "source": [
    "#### Column: created_at"
   ]
  },
  {
   "cell_type": "code",
   "execution_count": 22,
   "metadata": {},
   "outputs": [
    {
     "name": "stdout",
     "output_type": "stream",
     "text": [
      "# of NaN: 0\n"
     ]
    }
   ],
   "source": [
    "print(\"# of NaN:\", int(df[['created_at']].isna().sum()))"
   ]
  },
  {
   "cell_type": "markdown",
   "metadata": {},
   "source": [
    "#### Column: scheduled_to"
   ]
  },
  {
   "cell_type": "code",
   "execution_count": 23,
   "metadata": {},
   "outputs": [
    {
     "name": "stdout",
     "output_type": "stream",
     "text": [
      "# of NaN: 7770\n"
     ]
    }
   ],
   "source": [
    "print(\"# of NaN:\", int(df[['scheduled_to']].isna().sum()))"
   ]
  },
  {
   "cell_type": "code",
   "execution_count": 36,
   "metadata": {},
   "outputs": [
    {
     "data": {
      "text/html": [
       "<div>\n",
       "<style scoped>\n",
       "    .dataframe tbody tr th:only-of-type {\n",
       "        vertical-align: middle;\n",
       "    }\n",
       "\n",
       "    .dataframe tbody tr th {\n",
       "        vertical-align: top;\n",
       "    }\n",
       "\n",
       "    .dataframe thead th {\n",
       "        text-align: right;\n",
       "    }\n",
       "</style>\n",
       "<table border=\"1\" class=\"dataframe\">\n",
       "  <thead>\n",
       "    <tr style=\"text-align: right;\">\n",
       "      <th></th>\n",
       "      <th>created_at</th>\n",
       "      <th>dispatched_at</th>\n",
       "      <th>isSame</th>\n",
       "    </tr>\n",
       "  </thead>\n",
       "  <tbody>\n",
       "    <tr>\n",
       "      <th>2</th>\n",
       "      <td>2021-07-01 09:21:39</td>\n",
       "      <td>2021-07-01 09:21:39</td>\n",
       "      <td>True</td>\n",
       "    </tr>\n",
       "    <tr>\n",
       "      <th>3</th>\n",
       "      <td>2021-07-01 11:24:01</td>\n",
       "      <td>2021-07-01 11:24:01</td>\n",
       "      <td>True</td>\n",
       "    </tr>\n",
       "    <tr>\n",
       "      <th>4</th>\n",
       "      <td>2021-07-01 13:12:19</td>\n",
       "      <td>2021-07-01 13:12:19</td>\n",
       "      <td>True</td>\n",
       "    </tr>\n",
       "    <tr>\n",
       "      <th>5</th>\n",
       "      <td>2021-07-01 16:37:49</td>\n",
       "      <td>2021-07-01 16:37:49</td>\n",
       "      <td>True</td>\n",
       "    </tr>\n",
       "    <tr>\n",
       "      <th>6</th>\n",
       "      <td>2021-07-01 17:11:11</td>\n",
       "      <td>2021-07-01 17:11:11</td>\n",
       "      <td>True</td>\n",
       "    </tr>\n",
       "    <tr>\n",
       "      <th>...</th>\n",
       "      <td>...</td>\n",
       "      <td>...</td>\n",
       "      <td>...</td>\n",
       "    </tr>\n",
       "    <tr>\n",
       "      <th>10342</th>\n",
       "      <td>2022-02-28 22:44:38</td>\n",
       "      <td>2022-02-28 22:44:38</td>\n",
       "      <td>True</td>\n",
       "    </tr>\n",
       "    <tr>\n",
       "      <th>10343</th>\n",
       "      <td>2022-02-28 22:45:35</td>\n",
       "      <td>2022-02-28 22:45:35</td>\n",
       "      <td>True</td>\n",
       "    </tr>\n",
       "    <tr>\n",
       "      <th>10344</th>\n",
       "      <td>2022-02-28 22:48:07</td>\n",
       "      <td>2022-02-28 22:48:07</td>\n",
       "      <td>True</td>\n",
       "    </tr>\n",
       "    <tr>\n",
       "      <th>10345</th>\n",
       "      <td>2022-02-28 22:50:10</td>\n",
       "      <td>2022-02-28 22:50:10</td>\n",
       "      <td>True</td>\n",
       "    </tr>\n",
       "    <tr>\n",
       "      <th>10346</th>\n",
       "      <td>2022-02-28 22:50:32</td>\n",
       "      <td>2022-02-28 22:50:32</td>\n",
       "      <td>True</td>\n",
       "    </tr>\n",
       "  </tbody>\n",
       "</table>\n",
       "<p>7770 rows × 3 columns</p>\n",
       "</div>"
      ],
      "text/plain": [
       "                created_at        dispatched_at  isSame\n",
       "2      2021-07-01 09:21:39  2021-07-01 09:21:39    True\n",
       "3      2021-07-01 11:24:01  2021-07-01 11:24:01    True\n",
       "4      2021-07-01 13:12:19  2021-07-01 13:12:19    True\n",
       "5      2021-07-01 16:37:49  2021-07-01 16:37:49    True\n",
       "6      2021-07-01 17:11:11  2021-07-01 17:11:11    True\n",
       "...                    ...                  ...     ...\n",
       "10342  2022-02-28 22:44:38  2022-02-28 22:44:38    True\n",
       "10343  2022-02-28 22:45:35  2022-02-28 22:45:35    True\n",
       "10344  2022-02-28 22:48:07  2022-02-28 22:48:07    True\n",
       "10345  2022-02-28 22:50:10  2022-02-28 22:50:10    True\n",
       "10346  2022-02-28 22:50:32  2022-02-28 22:50:32    True\n",
       "\n",
       "[7770 rows x 3 columns]"
      ]
     },
     "execution_count": 36,
     "metadata": {},
     "output_type": "execute_result"
    }
   ],
   "source": [
    "comparison = np.where(df['created_at'] == df['dispatched_at'], True, False)\n",
    "df.loc[:, 'isSame'] = comparison\n",
    "mask = df['scheduled_to'].isna()\n",
    "df_temp = df[mask]\n",
    "df_temp[:][['created_at', 'dispatched_at', 'isSame']]"
   ]
  },
  {
   "cell_type": "code",
   "execution_count": 37,
   "metadata": {},
   "outputs": [
    {
     "name": "stderr",
     "output_type": "stream",
     "text": [
      "C:\\Users\\janpa\\AppData\\Local\\Temp\\ipykernel_23308\\2517812279.py:1: UserWarning: Boolean Series key will be reindexed to match DataFrame index.\n",
      "  df_temp[df['isSame']==False]\n"
     ]
    },
    {
     "data": {
      "text/html": [
       "<div>\n",
       "<style scoped>\n",
       "    .dataframe tbody tr th:only-of-type {\n",
       "        vertical-align: middle;\n",
       "    }\n",
       "\n",
       "    .dataframe tbody tr th {\n",
       "        vertical-align: top;\n",
       "    }\n",
       "\n",
       "    .dataframe thead th {\n",
       "        text-align: right;\n",
       "    }\n",
       "</style>\n",
       "<table border=\"1\" class=\"dataframe\">\n",
       "  <thead>\n",
       "    <tr style=\"text-align: right;\">\n",
       "      <th></th>\n",
       "      <th>id</th>\n",
       "      <th>user_id</th>\n",
       "      <th>distance</th>\n",
       "      <th>number_of_passenger</th>\n",
       "      <th>price_operations</th>\n",
       "      <th>price_offer</th>\n",
       "      <th>price_payed</th>\n",
       "      <th>free_ride</th>\n",
       "      <th>payment_type</th>\n",
       "      <th>pickup_address</th>\n",
       "      <th>...</th>\n",
       "      <th>bahn_card_number</th>\n",
       "      <th>year_card_type</th>\n",
       "      <th>year_card_number</th>\n",
       "      <th>canceled_at</th>\n",
       "      <th>rating_question_one</th>\n",
       "      <th>rating_question_two</th>\n",
       "      <th>isSameAddress</th>\n",
       "      <th>start_id</th>\n",
       "      <th>end_id</th>\n",
       "      <th>isSame</th>\n",
       "    </tr>\n",
       "  </thead>\n",
       "  <tbody>\n",
       "    <tr>\n",
       "      <th>603</th>\n",
       "      <td>3ce77825-b758-426d-8595-48cda832f801</td>\n",
       "      <td>76f7bb28-ae72-4d6b-83f5-ce252a641f81</td>\n",
       "      <td>2983</td>\n",
       "      <td>1.0</td>\n",
       "      <td>3.4</td>\n",
       "      <td>3.4</td>\n",
       "      <td>3.4</td>\n",
       "      <td>0.0</td>\n",
       "      <td>STANDARD</td>\n",
       "      <td>Alter Turnplatz</td>\n",
       "      <td>...</td>\n",
       "      <td>NaN</td>\n",
       "      <td>NaN</td>\n",
       "      <td>NaN</td>\n",
       "      <td>NaN</td>\n",
       "      <td>NaN</td>\n",
       "      <td>NaN</td>\n",
       "      <td>False</td>\n",
       "      <td>1007</td>\n",
       "      <td>11003</td>\n",
       "      <td>False</td>\n",
       "    </tr>\n",
       "    <tr>\n",
       "      <th>605</th>\n",
       "      <td>NaN</td>\n",
       "      <td>8d46a720-a53a-44b2-99f8-138823ea42e0</td>\n",
       "      <td>1855</td>\n",
       "      <td>NaN</td>\n",
       "      <td>NaN</td>\n",
       "      <td>NaN</td>\n",
       "      <td>NaN</td>\n",
       "      <td>NaN</td>\n",
       "      <td>STANDARD</td>\n",
       "      <td>49.336132|8.130418</td>\n",
       "      <td>...</td>\n",
       "      <td>NaN</td>\n",
       "      <td>NaN</td>\n",
       "      <td>NaN</td>\n",
       "      <td>NaN</td>\n",
       "      <td>NaN</td>\n",
       "      <td>NaN</td>\n",
       "      <td>False</td>\n",
       "      <td>4041</td>\n",
       "      <td>3006</td>\n",
       "      <td>False</td>\n",
       "    </tr>\n",
       "    <tr>\n",
       "      <th>606</th>\n",
       "      <td>279824bc-f10e-4854-a9bb-acebe8bccafd</td>\n",
       "      <td>ea92845e-9a09-42f7-92cb-52e139479ba2</td>\n",
       "      <td>7306</td>\n",
       "      <td>1.0</td>\n",
       "      <td>8.6</td>\n",
       "      <td>8.6</td>\n",
       "      <td>0.0</td>\n",
       "      <td>1.0</td>\n",
       "      <td>STANDARD</td>\n",
       "      <td>Mandelring</td>\n",
       "      <td>...</td>\n",
       "      <td>NaN</td>\n",
       "      <td>NaN</td>\n",
       "      <td>NaN</td>\n",
       "      <td>NaN</td>\n",
       "      <td>NaN</td>\n",
       "      <td>NaN</td>\n",
       "      <td>False</td>\n",
       "      <td>12007</td>\n",
       "      <td>4025</td>\n",
       "      <td>False</td>\n",
       "    </tr>\n",
       "    <tr>\n",
       "      <th>607</th>\n",
       "      <td>NaN</td>\n",
       "      <td>106ec942-75cb-4ba5-8371-6f4404571f39</td>\n",
       "      <td>3978</td>\n",
       "      <td>NaN</td>\n",
       "      <td>NaN</td>\n",
       "      <td>NaN</td>\n",
       "      <td>NaN</td>\n",
       "      <td>NaN</td>\n",
       "      <td>VRN</td>\n",
       "      <td>49.325872|8.11613</td>\n",
       "      <td>...</td>\n",
       "      <td>NaN</td>\n",
       "      <td>NaN</td>\n",
       "      <td>NaN</td>\n",
       "      <td>NaN</td>\n",
       "      <td>NaN</td>\n",
       "      <td>NaN</td>\n",
       "      <td>False</td>\n",
       "      <td>4029</td>\n",
       "      <td>3013</td>\n",
       "      <td>False</td>\n",
       "    </tr>\n",
       "    <tr>\n",
       "      <th>608</th>\n",
       "      <td>8e5f4295-6701-4ce4-b805-f27af9fb66a8</td>\n",
       "      <td>44f61d06-8e79-42c6-9abd-0e85fcaf9d6d</td>\n",
       "      <td>5926</td>\n",
       "      <td>2.0</td>\n",
       "      <td>1.9</td>\n",
       "      <td>4.6</td>\n",
       "      <td>0.0</td>\n",
       "      <td>1.0</td>\n",
       "      <td>VRN</td>\n",
       "      <td>Karolinenstraße</td>\n",
       "      <td>...</td>\n",
       "      <td>NaN</td>\n",
       "      <td>NaN</td>\n",
       "      <td>NaN</td>\n",
       "      <td>NaN</td>\n",
       "      <td>NaN</td>\n",
       "      <td>NaN</td>\n",
       "      <td>False</td>\n",
       "      <td>3001</td>\n",
       "      <td>4029</td>\n",
       "      <td>False</td>\n",
       "    </tr>\n",
       "    <tr>\n",
       "      <th>...</th>\n",
       "      <td>...</td>\n",
       "      <td>...</td>\n",
       "      <td>...</td>\n",
       "      <td>...</td>\n",
       "      <td>...</td>\n",
       "      <td>...</td>\n",
       "      <td>...</td>\n",
       "      <td>...</td>\n",
       "      <td>...</td>\n",
       "      <td>...</td>\n",
       "      <td>...</td>\n",
       "      <td>...</td>\n",
       "      <td>...</td>\n",
       "      <td>...</td>\n",
       "      <td>...</td>\n",
       "      <td>...</td>\n",
       "      <td>...</td>\n",
       "      <td>...</td>\n",
       "      <td>...</td>\n",
       "      <td>...</td>\n",
       "      <td>...</td>\n",
       "    </tr>\n",
       "    <tr>\n",
       "      <th>3628</th>\n",
       "      <td>NaN</td>\n",
       "      <td>b6537f08-519c-4c67-ad43-6996aca5fb9a</td>\n",
       "      <td>6150</td>\n",
       "      <td>NaN</td>\n",
       "      <td>NaN</td>\n",
       "      <td>NaN</td>\n",
       "      <td>NaN</td>\n",
       "      <td>NaN</td>\n",
       "      <td>BAHN_CARD</td>\n",
       "      <td>49.368881|8.14174</td>\n",
       "      <td>...</td>\n",
       "      <td>NaN</td>\n",
       "      <td>NaN</td>\n",
       "      <td>NaN</td>\n",
       "      <td>NaN</td>\n",
       "      <td>NaN</td>\n",
       "      <td>NaN</td>\n",
       "      <td>False</td>\n",
       "      <td>12007</td>\n",
       "      <td>2007</td>\n",
       "      <td>False</td>\n",
       "    </tr>\n",
       "    <tr>\n",
       "      <th>3629</th>\n",
       "      <td>f72309ab-151f-42fb-a98e-cba05a84cb2b</td>\n",
       "      <td>76f7bb28-ae72-4d6b-83f5-ce252a641f81</td>\n",
       "      <td>2314</td>\n",
       "      <td>1.0</td>\n",
       "      <td>3.1</td>\n",
       "      <td>3.1</td>\n",
       "      <td>3.1</td>\n",
       "      <td>0.0</td>\n",
       "      <td>STANDARD</td>\n",
       "      <td>Schütt</td>\n",
       "      <td>...</td>\n",
       "      <td>NaN</td>\n",
       "      <td>NaN</td>\n",
       "      <td>NaN</td>\n",
       "      <td>NaN</td>\n",
       "      <td>NaN</td>\n",
       "      <td>NaN</td>\n",
       "      <td>False</td>\n",
       "      <td>1009</td>\n",
       "      <td>11003</td>\n",
       "      <td>False</td>\n",
       "    </tr>\n",
       "    <tr>\n",
       "      <th>3630</th>\n",
       "      <td>NaN</td>\n",
       "      <td>76f7bb28-ae72-4d6b-83f5-ce252a641f81</td>\n",
       "      <td>2845</td>\n",
       "      <td>NaN</td>\n",
       "      <td>NaN</td>\n",
       "      <td>NaN</td>\n",
       "      <td>NaN</td>\n",
       "      <td>NaN</td>\n",
       "      <td>STANDARD</td>\n",
       "      <td>49.356253|8.108031</td>\n",
       "      <td>...</td>\n",
       "      <td>NaN</td>\n",
       "      <td>NaN</td>\n",
       "      <td>NaN</td>\n",
       "      <td>NaN</td>\n",
       "      <td>NaN</td>\n",
       "      <td>NaN</td>\n",
       "      <td>False</td>\n",
       "      <td>11003</td>\n",
       "      <td>1009</td>\n",
       "      <td>False</td>\n",
       "    </tr>\n",
       "    <tr>\n",
       "      <th>3631</th>\n",
       "      <td>NaN</td>\n",
       "      <td>1a6b4e7f-6766-4d39-beef-9df24e641128</td>\n",
       "      <td>4003</td>\n",
       "      <td>NaN</td>\n",
       "      <td>NaN</td>\n",
       "      <td>NaN</td>\n",
       "      <td>NaN</td>\n",
       "      <td>NaN</td>\n",
       "      <td>STANDARD</td>\n",
       "      <td>49.328803|8.130412</td>\n",
       "      <td>...</td>\n",
       "      <td>NaN</td>\n",
       "      <td>NaN</td>\n",
       "      <td>NaN</td>\n",
       "      <td>NaN</td>\n",
       "      <td>NaN</td>\n",
       "      <td>NaN</td>\n",
       "      <td>False</td>\n",
       "      <td>4025</td>\n",
       "      <td>1009</td>\n",
       "      <td>False</td>\n",
       "    </tr>\n",
       "    <tr>\n",
       "      <th>3634</th>\n",
       "      <td>85430fe3-9d5f-427b-8964-987d0c9d0cd5</td>\n",
       "      <td>ea92845e-9a09-42f7-92cb-52e139479ba2</td>\n",
       "      <td>3797</td>\n",
       "      <td>2.0</td>\n",
       "      <td>5.8</td>\n",
       "      <td>5.8</td>\n",
       "      <td>0.0</td>\n",
       "      <td>1.0</td>\n",
       "      <td>STANDARD</td>\n",
       "      <td>Rathaus Hambach</td>\n",
       "      <td>...</td>\n",
       "      <td>NaN</td>\n",
       "      <td>NaN</td>\n",
       "      <td>NaN</td>\n",
       "      <td>NaN</td>\n",
       "      <td>NaN</td>\n",
       "      <td>NaN</td>\n",
       "      <td>False</td>\n",
       "      <td>4025</td>\n",
       "      <td>1008</td>\n",
       "      <td>False</td>\n",
       "    </tr>\n",
       "  </tbody>\n",
       "</table>\n",
       "<p>1672 rows × 55 columns</p>\n",
       "</div>"
      ],
      "text/plain": [
       "                                        id  \\\n",
       "603   3ce77825-b758-426d-8595-48cda832f801   \n",
       "605                                    NaN   \n",
       "606   279824bc-f10e-4854-a9bb-acebe8bccafd   \n",
       "607                                    NaN   \n",
       "608   8e5f4295-6701-4ce4-b805-f27af9fb66a8   \n",
       "...                                    ...   \n",
       "3628                                   NaN   \n",
       "3629  f72309ab-151f-42fb-a98e-cba05a84cb2b   \n",
       "3630                                   NaN   \n",
       "3631                                   NaN   \n",
       "3634  85430fe3-9d5f-427b-8964-987d0c9d0cd5   \n",
       "\n",
       "                                   user_id  distance  number_of_passenger  \\\n",
       "603   76f7bb28-ae72-4d6b-83f5-ce252a641f81      2983                  1.0   \n",
       "605   8d46a720-a53a-44b2-99f8-138823ea42e0      1855                  NaN   \n",
       "606   ea92845e-9a09-42f7-92cb-52e139479ba2      7306                  1.0   \n",
       "607   106ec942-75cb-4ba5-8371-6f4404571f39      3978                  NaN   \n",
       "608   44f61d06-8e79-42c6-9abd-0e85fcaf9d6d      5926                  2.0   \n",
       "...                                    ...       ...                  ...   \n",
       "3628  b6537f08-519c-4c67-ad43-6996aca5fb9a      6150                  NaN   \n",
       "3629  76f7bb28-ae72-4d6b-83f5-ce252a641f81      2314                  1.0   \n",
       "3630  76f7bb28-ae72-4d6b-83f5-ce252a641f81      2845                  NaN   \n",
       "3631  1a6b4e7f-6766-4d39-beef-9df24e641128      4003                  NaN   \n",
       "3634  ea92845e-9a09-42f7-92cb-52e139479ba2      3797                  2.0   \n",
       "\n",
       "      price_operations  price_offer  price_payed  free_ride payment_type  \\\n",
       "603                3.4          3.4          3.4        0.0     STANDARD   \n",
       "605                NaN          NaN          NaN        NaN     STANDARD   \n",
       "606                8.6          8.6          0.0        1.0     STANDARD   \n",
       "607                NaN          NaN          NaN        NaN          VRN   \n",
       "608                1.9          4.6          0.0        1.0          VRN   \n",
       "...                ...          ...          ...        ...          ...   \n",
       "3628               NaN          NaN          NaN        NaN    BAHN_CARD   \n",
       "3629               3.1          3.1          3.1        0.0     STANDARD   \n",
       "3630               NaN          NaN          NaN        NaN     STANDARD   \n",
       "3631               NaN          NaN          NaN        NaN     STANDARD   \n",
       "3634               5.8          5.8          0.0        1.0     STANDARD   \n",
       "\n",
       "          pickup_address  ... bahn_card_number year_card_type  \\\n",
       "603      Alter Turnplatz  ...              NaN            NaN   \n",
       "605   49.336132|8.130418  ...              NaN            NaN   \n",
       "606           Mandelring  ...              NaN            NaN   \n",
       "607    49.325872|8.11613  ...              NaN            NaN   \n",
       "608      Karolinenstraße  ...              NaN            NaN   \n",
       "...                  ...  ...              ...            ...   \n",
       "3628   49.368881|8.14174  ...              NaN            NaN   \n",
       "3629              Schütt  ...              NaN            NaN   \n",
       "3630  49.356253|8.108031  ...              NaN            NaN   \n",
       "3631  49.328803|8.130412  ...              NaN            NaN   \n",
       "3634     Rathaus Hambach  ...              NaN            NaN   \n",
       "\n",
       "      year_card_number canceled_at rating_question_one rating_question_two  \\\n",
       "603                NaN         NaN                 NaN                 NaN   \n",
       "605                NaN         NaN                 NaN                 NaN   \n",
       "606                NaN         NaN                 NaN                 NaN   \n",
       "607                NaN         NaN                 NaN                 NaN   \n",
       "608                NaN         NaN                 NaN                 NaN   \n",
       "...                ...         ...                 ...                 ...   \n",
       "3628               NaN         NaN                 NaN                 NaN   \n",
       "3629               NaN         NaN                 NaN                 NaN   \n",
       "3630               NaN         NaN                 NaN                 NaN   \n",
       "3631               NaN         NaN                 NaN                 NaN   \n",
       "3634               NaN         NaN                 NaN                 NaN   \n",
       "\n",
       "     isSameAddress start_id end_id isSame  \n",
       "603          False     1007  11003  False  \n",
       "605          False     4041   3006  False  \n",
       "606          False    12007   4025  False  \n",
       "607          False     4029   3013  False  \n",
       "608          False     3001   4029  False  \n",
       "...            ...      ...    ...    ...  \n",
       "3628         False    12007   2007  False  \n",
       "3629         False     1009  11003  False  \n",
       "3630         False    11003   1009  False  \n",
       "3631         False     4025   1009  False  \n",
       "3634         False     4025   1008  False  \n",
       "\n",
       "[1672 rows x 55 columns]"
      ]
     },
     "execution_count": 37,
     "metadata": {},
     "output_type": "execute_result"
    }
   ],
   "source": [
    "df_temp[df['isSame']==False]"
   ]
  },
  {
   "cell_type": "code",
   "execution_count": 34,
   "metadata": {},
   "outputs": [
    {
     "data": {
      "text/plain": [
       "True     6098\n",
       "False    4250\n",
       "Name: isSame, dtype: int64"
      ]
     },
     "execution_count": 34,
     "metadata": {},
     "output_type": "execute_result"
    }
   ],
   "source": [
    "df.isSame.value_counts()"
   ]
  },
  {
   "cell_type": "markdown",
   "metadata": {},
   "source": [
    "#### Column: dispatched_at"
   ]
  },
  {
   "cell_type": "code",
   "execution_count": 43,
   "metadata": {},
   "outputs": [
    {
     "name": "stdout",
     "output_type": "stream",
     "text": [
      "# of NaN: 32\n"
     ]
    }
   ],
   "source": [
    "print(\"# of NaN:\", int(df[['dispatched_at']].isna().sum()))"
   ]
  },
  {
   "cell_type": "code",
   "execution_count": 41,
   "metadata": {},
   "outputs": [
    {
     "data": {
      "text/html": [
       "<div>\n",
       "<style scoped>\n",
       "    .dataframe tbody tr th:only-of-type {\n",
       "        vertical-align: middle;\n",
       "    }\n",
       "\n",
       "    .dataframe tbody tr th {\n",
       "        vertical-align: top;\n",
       "    }\n",
       "\n",
       "    .dataframe thead th {\n",
       "        text-align: right;\n",
       "    }\n",
       "</style>\n",
       "<table border=\"1\" class=\"dataframe\">\n",
       "  <thead>\n",
       "    <tr style=\"text-align: right;\">\n",
       "      <th></th>\n",
       "      <th>id</th>\n",
       "      <th>user_id</th>\n",
       "      <th>distance</th>\n",
       "      <th>number_of_passenger</th>\n",
       "      <th>price_operations</th>\n",
       "      <th>price_offer</th>\n",
       "      <th>price_payed</th>\n",
       "      <th>free_ride</th>\n",
       "      <th>payment_type</th>\n",
       "      <th>pickup_address</th>\n",
       "      <th>...</th>\n",
       "      <th>year_card_type</th>\n",
       "      <th>year_card_number</th>\n",
       "      <th>canceled_at</th>\n",
       "      <th>rating_question_one</th>\n",
       "      <th>rating_question_two</th>\n",
       "      <th>isSameAddress</th>\n",
       "      <th>start_id</th>\n",
       "      <th>end_id</th>\n",
       "      <th>isSame</th>\n",
       "      <th>created_at_before_dispatched_at</th>\n",
       "    </tr>\n",
       "  </thead>\n",
       "  <tbody>\n",
       "    <tr>\n",
       "      <th>603</th>\n",
       "      <td>3ce77825-b758-426d-8595-48cda832f801</td>\n",
       "      <td>76f7bb28-ae72-4d6b-83f5-ce252a641f81</td>\n",
       "      <td>2983</td>\n",
       "      <td>1.0</td>\n",
       "      <td>3.40</td>\n",
       "      <td>3.40</td>\n",
       "      <td>3.40</td>\n",
       "      <td>0.0</td>\n",
       "      <td>STANDARD</td>\n",
       "      <td>Alter Turnplatz</td>\n",
       "      <td>...</td>\n",
       "      <td>NaN</td>\n",
       "      <td>NaN</td>\n",
       "      <td>NaN</td>\n",
       "      <td>NaN</td>\n",
       "      <td>NaN</td>\n",
       "      <td>False</td>\n",
       "      <td>1007</td>\n",
       "      <td>11003</td>\n",
       "      <td>False</td>\n",
       "      <td>False</td>\n",
       "    </tr>\n",
       "    <tr>\n",
       "      <th>604</th>\n",
       "      <td>5d7a3b12-bf3c-4615-a9dc-637c6efc81c4</td>\n",
       "      <td>f07028da-ca7e-4713-9e45-743c71712e80</td>\n",
       "      <td>3328</td>\n",
       "      <td>1.0</td>\n",
       "      <td>3.45</td>\n",
       "      <td>1.55</td>\n",
       "      <td>1.55</td>\n",
       "      <td>0.0</td>\n",
       "      <td>VRN</td>\n",
       "      <td>Jüdischer Friedhof</td>\n",
       "      <td>...</td>\n",
       "      <td>NaN</td>\n",
       "      <td>NaN</td>\n",
       "      <td>NaN</td>\n",
       "      <td>NaN</td>\n",
       "      <td>NaN</td>\n",
       "      <td>False</td>\n",
       "      <td>10003</td>\n",
       "      <td>6004</td>\n",
       "      <td>False</td>\n",
       "      <td>False</td>\n",
       "    </tr>\n",
       "    <tr>\n",
       "      <th>605</th>\n",
       "      <td>NaN</td>\n",
       "      <td>8d46a720-a53a-44b2-99f8-138823ea42e0</td>\n",
       "      <td>1855</td>\n",
       "      <td>NaN</td>\n",
       "      <td>NaN</td>\n",
       "      <td>NaN</td>\n",
       "      <td>NaN</td>\n",
       "      <td>NaN</td>\n",
       "      <td>STANDARD</td>\n",
       "      <td>49.336132|8.130418</td>\n",
       "      <td>...</td>\n",
       "      <td>NaN</td>\n",
       "      <td>NaN</td>\n",
       "      <td>NaN</td>\n",
       "      <td>NaN</td>\n",
       "      <td>NaN</td>\n",
       "      <td>False</td>\n",
       "      <td>4041</td>\n",
       "      <td>3006</td>\n",
       "      <td>False</td>\n",
       "      <td>False</td>\n",
       "    </tr>\n",
       "    <tr>\n",
       "      <th>606</th>\n",
       "      <td>279824bc-f10e-4854-a9bb-acebe8bccafd</td>\n",
       "      <td>ea92845e-9a09-42f7-92cb-52e139479ba2</td>\n",
       "      <td>7306</td>\n",
       "      <td>1.0</td>\n",
       "      <td>8.60</td>\n",
       "      <td>8.60</td>\n",
       "      <td>0.00</td>\n",
       "      <td>1.0</td>\n",
       "      <td>STANDARD</td>\n",
       "      <td>Mandelring</td>\n",
       "      <td>...</td>\n",
       "      <td>NaN</td>\n",
       "      <td>NaN</td>\n",
       "      <td>NaN</td>\n",
       "      <td>NaN</td>\n",
       "      <td>NaN</td>\n",
       "      <td>False</td>\n",
       "      <td>12007</td>\n",
       "      <td>4025</td>\n",
       "      <td>False</td>\n",
       "      <td>False</td>\n",
       "    </tr>\n",
       "    <tr>\n",
       "      <th>607</th>\n",
       "      <td>NaN</td>\n",
       "      <td>106ec942-75cb-4ba5-8371-6f4404571f39</td>\n",
       "      <td>3978</td>\n",
       "      <td>NaN</td>\n",
       "      <td>NaN</td>\n",
       "      <td>NaN</td>\n",
       "      <td>NaN</td>\n",
       "      <td>NaN</td>\n",
       "      <td>VRN</td>\n",
       "      <td>49.325872|8.11613</td>\n",
       "      <td>...</td>\n",
       "      <td>NaN</td>\n",
       "      <td>NaN</td>\n",
       "      <td>NaN</td>\n",
       "      <td>NaN</td>\n",
       "      <td>NaN</td>\n",
       "      <td>False</td>\n",
       "      <td>4029</td>\n",
       "      <td>3013</td>\n",
       "      <td>False</td>\n",
       "      <td>False</td>\n",
       "    </tr>\n",
       "    <tr>\n",
       "      <th>...</th>\n",
       "      <td>...</td>\n",
       "      <td>...</td>\n",
       "      <td>...</td>\n",
       "      <td>...</td>\n",
       "      <td>...</td>\n",
       "      <td>...</td>\n",
       "      <td>...</td>\n",
       "      <td>...</td>\n",
       "      <td>...</td>\n",
       "      <td>...</td>\n",
       "      <td>...</td>\n",
       "      <td>...</td>\n",
       "      <td>...</td>\n",
       "      <td>...</td>\n",
       "      <td>...</td>\n",
       "      <td>...</td>\n",
       "      <td>...</td>\n",
       "      <td>...</td>\n",
       "      <td>...</td>\n",
       "      <td>...</td>\n",
       "      <td>...</td>\n",
       "    </tr>\n",
       "    <tr>\n",
       "      <th>5356</th>\n",
       "      <td>65841607-adab-490e-9376-1b917c646a0f</td>\n",
       "      <td>4d428728-0aca-4345-aee1-022366c189f9</td>\n",
       "      <td>8883</td>\n",
       "      <td>2.0</td>\n",
       "      <td>10.80</td>\n",
       "      <td>10.80</td>\n",
       "      <td>10.80</td>\n",
       "      <td>0.0</td>\n",
       "      <td>STANDARD</td>\n",
       "      <td>Hauberallee</td>\n",
       "      <td>...</td>\n",
       "      <td>NaN</td>\n",
       "      <td>NaN</td>\n",
       "      <td>NaN</td>\n",
       "      <td>NaN</td>\n",
       "      <td>NaN</td>\n",
       "      <td>False</td>\n",
       "      <td>2002</td>\n",
       "      <td>14003</td>\n",
       "      <td>False</td>\n",
       "      <td>False</td>\n",
       "    </tr>\n",
       "    <tr>\n",
       "      <th>7288</th>\n",
       "      <td>7a88f7ad-e1c4-4ba4-90e7-4f004f0c24e1</td>\n",
       "      <td>4a35f2cd-c7df-43cc-b15b-7e2cd32473c7</td>\n",
       "      <td>2880</td>\n",
       "      <td>1.0</td>\n",
       "      <td>3.60</td>\n",
       "      <td>3.60</td>\n",
       "      <td>0.00</td>\n",
       "      <td>0.0</td>\n",
       "      <td>STANDARD</td>\n",
       "      <td>Oswald-Wiersich-Straße</td>\n",
       "      <td>...</td>\n",
       "      <td>NaN</td>\n",
       "      <td>NaN</td>\n",
       "      <td>NaN</td>\n",
       "      <td>NaN</td>\n",
       "      <td>NaN</td>\n",
       "      <td>False</td>\n",
       "      <td>9017</td>\n",
       "      <td>9005</td>\n",
       "      <td>False</td>\n",
       "      <td>False</td>\n",
       "    </tr>\n",
       "    <tr>\n",
       "      <th>7495</th>\n",
       "      <td>f1a7f16a-554c-4d2b-9293-4ab894bdb932</td>\n",
       "      <td>8c5545e5-72cd-4163-80bf-8d975695642f</td>\n",
       "      <td>4800</td>\n",
       "      <td>1.0</td>\n",
       "      <td>4.64</td>\n",
       "      <td>2.49</td>\n",
       "      <td>2.49</td>\n",
       "      <td>0.0</td>\n",
       "      <td>VRN</td>\n",
       "      <td>Hauptbahnhof</td>\n",
       "      <td>...</td>\n",
       "      <td>NaN</td>\n",
       "      <td>NaN</td>\n",
       "      <td>NaN</td>\n",
       "      <td>NaN</td>\n",
       "      <td>NaN</td>\n",
       "      <td>False</td>\n",
       "      <td>1008</td>\n",
       "      <td>4025</td>\n",
       "      <td>False</td>\n",
       "      <td>False</td>\n",
       "    </tr>\n",
       "    <tr>\n",
       "      <th>7973</th>\n",
       "      <td>e47cc4c0-d2e3-42cb-b66e-6241ce19e450</td>\n",
       "      <td>63adf4da-26c9-4ab9-baac-583aa1166f04</td>\n",
       "      <td>3933</td>\n",
       "      <td>1.0</td>\n",
       "      <td>4.20</td>\n",
       "      <td>4.20</td>\n",
       "      <td>4.20</td>\n",
       "      <td>0.0</td>\n",
       "      <td>STANDARD</td>\n",
       "      <td>Rathaus</td>\n",
       "      <td>...</td>\n",
       "      <td>NaN</td>\n",
       "      <td>NaN</td>\n",
       "      <td>NaN</td>\n",
       "      <td>NaN</td>\n",
       "      <td>NaN</td>\n",
       "      <td>False</td>\n",
       "      <td>1005</td>\n",
       "      <td>15002</td>\n",
       "      <td>False</td>\n",
       "      <td>False</td>\n",
       "    </tr>\n",
       "    <tr>\n",
       "      <th>8569</th>\n",
       "      <td>24dff03c-4bd9-4f48-8d32-0a047397d6aa</td>\n",
       "      <td>2fb93e2c-a433-4189-9ed3-810901de78de</td>\n",
       "      <td>3843</td>\n",
       "      <td>2.0</td>\n",
       "      <td>0.00</td>\n",
       "      <td>7.09</td>\n",
       "      <td>0.00</td>\n",
       "      <td>0.0</td>\n",
       "      <td>STANDARD</td>\n",
       "      <td>Kirchplatz</td>\n",
       "      <td>...</td>\n",
       "      <td>NaN</td>\n",
       "      <td>NaN</td>\n",
       "      <td>2022-02-04 15:04:54</td>\n",
       "      <td>NaN</td>\n",
       "      <td>NaN</td>\n",
       "      <td>False</td>\n",
       "      <td>13001</td>\n",
       "      <td>1008</td>\n",
       "      <td>False</td>\n",
       "      <td>False</td>\n",
       "    </tr>\n",
       "  </tbody>\n",
       "</table>\n",
       "<p>1080 rows × 56 columns</p>\n",
       "</div>"
      ],
      "text/plain": [
       "                                        id  \\\n",
       "603   3ce77825-b758-426d-8595-48cda832f801   \n",
       "604   5d7a3b12-bf3c-4615-a9dc-637c6efc81c4   \n",
       "605                                    NaN   \n",
       "606   279824bc-f10e-4854-a9bb-acebe8bccafd   \n",
       "607                                    NaN   \n",
       "...                                    ...   \n",
       "5356  65841607-adab-490e-9376-1b917c646a0f   \n",
       "7288  7a88f7ad-e1c4-4ba4-90e7-4f004f0c24e1   \n",
       "7495  f1a7f16a-554c-4d2b-9293-4ab894bdb932   \n",
       "7973  e47cc4c0-d2e3-42cb-b66e-6241ce19e450   \n",
       "8569  24dff03c-4bd9-4f48-8d32-0a047397d6aa   \n",
       "\n",
       "                                   user_id  distance  number_of_passenger  \\\n",
       "603   76f7bb28-ae72-4d6b-83f5-ce252a641f81      2983                  1.0   \n",
       "604   f07028da-ca7e-4713-9e45-743c71712e80      3328                  1.0   \n",
       "605   8d46a720-a53a-44b2-99f8-138823ea42e0      1855                  NaN   \n",
       "606   ea92845e-9a09-42f7-92cb-52e139479ba2      7306                  1.0   \n",
       "607   106ec942-75cb-4ba5-8371-6f4404571f39      3978                  NaN   \n",
       "...                                    ...       ...                  ...   \n",
       "5356  4d428728-0aca-4345-aee1-022366c189f9      8883                  2.0   \n",
       "7288  4a35f2cd-c7df-43cc-b15b-7e2cd32473c7      2880                  1.0   \n",
       "7495  8c5545e5-72cd-4163-80bf-8d975695642f      4800                  1.0   \n",
       "7973  63adf4da-26c9-4ab9-baac-583aa1166f04      3933                  1.0   \n",
       "8569  2fb93e2c-a433-4189-9ed3-810901de78de      3843                  2.0   \n",
       "\n",
       "      price_operations  price_offer  price_payed  free_ride payment_type  \\\n",
       "603               3.40         3.40         3.40        0.0     STANDARD   \n",
       "604               3.45         1.55         1.55        0.0          VRN   \n",
       "605                NaN          NaN          NaN        NaN     STANDARD   \n",
       "606               8.60         8.60         0.00        1.0     STANDARD   \n",
       "607                NaN          NaN          NaN        NaN          VRN   \n",
       "...                ...          ...          ...        ...          ...   \n",
       "5356             10.80        10.80        10.80        0.0     STANDARD   \n",
       "7288              3.60         3.60         0.00        0.0     STANDARD   \n",
       "7495              4.64         2.49         2.49        0.0          VRN   \n",
       "7973              4.20         4.20         4.20        0.0     STANDARD   \n",
       "8569              0.00         7.09         0.00        0.0     STANDARD   \n",
       "\n",
       "              pickup_address  ... year_card_type year_card_number  \\\n",
       "603          Alter Turnplatz  ...            NaN              NaN   \n",
       "604       Jüdischer Friedhof  ...            NaN              NaN   \n",
       "605       49.336132|8.130418  ...            NaN              NaN   \n",
       "606               Mandelring  ...            NaN              NaN   \n",
       "607        49.325872|8.11613  ...            NaN              NaN   \n",
       "...                      ...  ...            ...              ...   \n",
       "5356             Hauberallee  ...            NaN              NaN   \n",
       "7288  Oswald-Wiersich-Straße  ...            NaN              NaN   \n",
       "7495            Hauptbahnhof  ...            NaN              NaN   \n",
       "7973                 Rathaus  ...            NaN              NaN   \n",
       "8569              Kirchplatz  ...            NaN              NaN   \n",
       "\n",
       "              canceled_at rating_question_one rating_question_two  \\\n",
       "603                   NaN                 NaN                 NaN   \n",
       "604                   NaN                 NaN                 NaN   \n",
       "605                   NaN                 NaN                 NaN   \n",
       "606                   NaN                 NaN                 NaN   \n",
       "607                   NaN                 NaN                 NaN   \n",
       "...                   ...                 ...                 ...   \n",
       "5356                  NaN                 NaN                 NaN   \n",
       "7288                  NaN                 NaN                 NaN   \n",
       "7495                  NaN                 NaN                 NaN   \n",
       "7973                  NaN                 NaN                 NaN   \n",
       "8569  2022-02-04 15:04:54                 NaN                 NaN   \n",
       "\n",
       "     isSameAddress start_id end_id isSame created_at_before_dispatched_at  \n",
       "603          False     1007  11003  False                           False  \n",
       "604          False    10003   6004  False                           False  \n",
       "605          False     4041   3006  False                           False  \n",
       "606          False    12007   4025  False                           False  \n",
       "607          False     4029   3013  False                           False  \n",
       "...            ...      ...    ...    ...                             ...  \n",
       "5356         False     2002  14003  False                           False  \n",
       "7288         False     9017   9005  False                           False  \n",
       "7495         False     1008   4025  False                           False  \n",
       "7973         False     1005  15002  False                           False  \n",
       "8569         False    13001   1008  False                           False  \n",
       "\n",
       "[1080 rows x 56 columns]"
      ]
     },
     "execution_count": 41,
     "metadata": {},
     "output_type": "execute_result"
    }
   ],
   "source": [
    "comparison = np.where(df['created_at'] <= df['dispatched_at'], True, False)\n",
    "df.loc[:, 'created_at_before_dispatched_at'] = comparison\n",
    "df[df['created_at_before_dispatched_at']==False]"
   ]
  },
  {
   "cell_type": "code",
   "execution_count": null,
   "metadata": {},
   "outputs": [],
   "source": []
  },
  {
   "cell_type": "markdown",
   "metadata": {},
   "source": [
    "#### Column: pickup_arrival_time"
   ]
  },
  {
   "cell_type": "code",
   "execution_count": 45,
   "metadata": {},
   "outputs": [
    {
     "name": "stdout",
     "output_type": "stream",
     "text": [
      "# of NaN: 5582\n"
     ]
    }
   ],
   "source": [
    "print(\"# of NaN:\", int(df[['pickup_arrival_time']].isna().sum()))"
   ]
  },
  {
   "cell_type": "code",
   "execution_count": null,
   "metadata": {},
   "outputs": [],
   "source": []
  },
  {
   "cell_type": "markdown",
   "metadata": {},
   "source": [
    "#### Column: arriving_push"
   ]
  },
  {
   "cell_type": "code",
   "execution_count": 46,
   "metadata": {},
   "outputs": [
    {
     "name": "stdout",
     "output_type": "stream",
     "text": [
      "# of NaN: 5435\n"
     ]
    }
   ],
   "source": [
    "print(\"# of NaN:\", int(df[['arriving_push']].isna().sum()))"
   ]
  },
  {
   "cell_type": "markdown",
   "metadata": {},
   "source": [
    "#### Column: vehicle_arrived_at"
   ]
  },
  {
   "cell_type": "code",
   "execution_count": 47,
   "metadata": {},
   "outputs": [
    {
     "name": "stdout",
     "output_type": "stream",
     "text": [
      "# of NaN: 5582\n"
     ]
    }
   ],
   "source": [
    "print(\"# of NaN:\", int(df[['vehicle_arrived_at']].isna().sum()))"
   ]
  },
  {
   "cell_type": "markdown",
   "metadata": {},
   "source": [
    "#### Column: earliest_pickup_expectations"
   ]
  },
  {
   "cell_type": "code",
   "execution_count": null,
   "metadata": {},
   "outputs": [],
   "source": []
  },
  {
   "cell_type": "markdown",
   "metadata": {},
   "source": [
    "#### Column: pickup_first_eta, pickup_eta, pickup_at"
   ]
  },
  {
   "cell_type": "code",
   "execution_count": 49,
   "metadata": {},
   "outputs": [
    {
     "name": "stdout",
     "output_type": "stream",
     "text": [
      "# of NaN: 5496\n"
     ]
    }
   ],
   "source": [
    "print(\"# of NaN:\", int(df[['pickup_at']].isna().sum()))"
   ]
  },
  {
   "cell_type": "markdown",
   "metadata": {},
   "source": [
    "#### Column: dropoff_first_eta, dropoff_eta, dropoff_at"
   ]
  },
  {
   "cell_type": "code",
   "execution_count": 48,
   "metadata": {},
   "outputs": [
    {
     "name": "stdout",
     "output_type": "stream",
     "text": [
      "# of NaN: 5490\n"
     ]
    }
   ],
   "source": [
    "print(\"# of NaN:\", int(df[['dropoff_at']].isna().sum()))"
   ]
  },
  {
   "cell_type": "markdown",
   "metadata": {},
   "source": [
    "#### Column: updated_at"
   ]
  },
  {
   "cell_type": "code",
   "execution_count": null,
   "metadata": {},
   "outputs": [],
   "source": []
  },
  {
   "cell_type": "markdown",
   "metadata": {},
   "source": [
    "#### Column: arrival_deviation, waiting_time, boarding_time, ride_time, trip_time, shortest_ridetime, delay\n"
   ]
  },
  {
   "cell_type": "code",
   "execution_count": 50,
   "metadata": {},
   "outputs": [
    {
     "name": "stdout",
     "output_type": "stream",
     "text": [
      "arrival_deviation\n",
      "# of NaN: 6082\n",
      "# of neg: 2007\n",
      "# of zero: 439\n",
      "# of pos: 1820\n",
      "Min: -2535490.0\n",
      "Max: 2445838.0\n"
     ]
    }
   ],
   "source": [
    "print(\"arrival_deviation\")\n",
    "print(\"# of NaN:\", int(df[['arrival_deviation']].isna().sum()))\n",
    "print(\"# of neg:\", len(df.loc[(df.arrival_deviation < 0)]))\n",
    "print(\"# of zero:\", len(df.loc[(df.arrival_deviation == 0)]))\n",
    "print(\"# of pos:\", len(df.loc[(df.arrival_deviation > 0)]))\n",
    "print('Min:', df['arrival_deviation'].min())\n",
    "print('Max:', df['arrival_deviation'].max())"
   ]
  },
  {
   "cell_type": "code",
   "execution_count": 51,
   "metadata": {},
   "outputs": [
    {
     "name": "stdout",
     "output_type": "stream",
     "text": [
      "waiting_time\n",
      "# of NaN: 5599\n"
     ]
    },
    {
     "ename": "TypeError",
     "evalue": "'<' not supported between instances of 'str' and 'int'",
     "output_type": "error",
     "traceback": [
      "\u001b[1;31m---------------------------------------------------------------------------\u001b[0m",
      "\u001b[1;31mTypeError\u001b[0m                                 Traceback (most recent call last)",
      "\u001b[1;32md:\\Programme\\source\\repos\\vehicle-stream-team-project\\vehicle_stream_pipeline\\cleaning.ipynb Cell 67'\u001b[0m in \u001b[0;36m<cell line: 3>\u001b[1;34m()\u001b[0m\n\u001b[0;32m      <a href='vscode-notebook-cell:/d%3A/Programme/source/repos/vehicle-stream-team-project/vehicle_stream_pipeline/cleaning.ipynb#ch0000103?line=0'>1</a>\u001b[0m \u001b[39mprint\u001b[39m(\u001b[39m\"\u001b[39m\u001b[39mwaiting_time\u001b[39m\u001b[39m\"\u001b[39m)\n\u001b[0;32m      <a href='vscode-notebook-cell:/d%3A/Programme/source/repos/vehicle-stream-team-project/vehicle_stream_pipeline/cleaning.ipynb#ch0000103?line=1'>2</a>\u001b[0m \u001b[39mprint\u001b[39m(\u001b[39m\"\u001b[39m\u001b[39m# of NaN:\u001b[39m\u001b[39m\"\u001b[39m, \u001b[39mint\u001b[39m(df[[\u001b[39m'\u001b[39m\u001b[39mwaiting_time\u001b[39m\u001b[39m'\u001b[39m]]\u001b[39m.\u001b[39misna()\u001b[39m.\u001b[39msum()))\n\u001b[1;32m----> <a href='vscode-notebook-cell:/d%3A/Programme/source/repos/vehicle-stream-team-project/vehicle_stream_pipeline/cleaning.ipynb#ch0000103?line=2'>3</a>\u001b[0m \u001b[39mprint\u001b[39m(\u001b[39m\"\u001b[39m\u001b[39m# of neg:\u001b[39m\u001b[39m\"\u001b[39m, \u001b[39mlen\u001b[39m(df\u001b[39m.\u001b[39mloc[(df\u001b[39m.\u001b[39;49mwaiting_time \u001b[39m<\u001b[39;49m \u001b[39m0\u001b[39;49m)]))\n\u001b[0;32m      <a href='vscode-notebook-cell:/d%3A/Programme/source/repos/vehicle-stream-team-project/vehicle_stream_pipeline/cleaning.ipynb#ch0000103?line=3'>4</a>\u001b[0m \u001b[39mprint\u001b[39m(\u001b[39m\"\u001b[39m\u001b[39m# of zero:\u001b[39m\u001b[39m\"\u001b[39m, \u001b[39mlen\u001b[39m(df\u001b[39m.\u001b[39mloc[(df\u001b[39m.\u001b[39mwaiting_time \u001b[39m==\u001b[39m \u001b[39m0\u001b[39m)]))\n\u001b[0;32m      <a href='vscode-notebook-cell:/d%3A/Programme/source/repos/vehicle-stream-team-project/vehicle_stream_pipeline/cleaning.ipynb#ch0000103?line=4'>5</a>\u001b[0m \u001b[39mprint\u001b[39m(\u001b[39m\"\u001b[39m\u001b[39m# of pos:\u001b[39m\u001b[39m\"\u001b[39m, \u001b[39mlen\u001b[39m(df\u001b[39m.\u001b[39mloc[(df\u001b[39m.\u001b[39mwaiting_time \u001b[39m>\u001b[39m \u001b[39m0\u001b[39m)]))\n",
      "File \u001b[1;32m~\\AppData\\Local\\Programs\\Python\\Python39\\lib\\site-packages\\pandas\\core\\ops\\common.py:70\u001b[0m, in \u001b[0;36m_unpack_zerodim_and_defer.<locals>.new_method\u001b[1;34m(self, other)\u001b[0m\n\u001b[0;32m     <a href='file:///c%3A/Users/janpa/AppData/Local/Programs/Python/Python39/lib/site-packages/pandas/core/ops/common.py?line=65'>66</a>\u001b[0m             \u001b[39mreturn\u001b[39;00m \u001b[39mNotImplemented\u001b[39m\n\u001b[0;32m     <a href='file:///c%3A/Users/janpa/AppData/Local/Programs/Python/Python39/lib/site-packages/pandas/core/ops/common.py?line=67'>68</a>\u001b[0m other \u001b[39m=\u001b[39m item_from_zerodim(other)\n\u001b[1;32m---> <a href='file:///c%3A/Users/janpa/AppData/Local/Programs/Python/Python39/lib/site-packages/pandas/core/ops/common.py?line=69'>70</a>\u001b[0m \u001b[39mreturn\u001b[39;00m method(\u001b[39mself\u001b[39;49m, other)\n",
      "File \u001b[1;32m~\\AppData\\Local\\Programs\\Python\\Python39\\lib\\site-packages\\pandas\\core\\arraylike.py:48\u001b[0m, in \u001b[0;36mOpsMixin.__lt__\u001b[1;34m(self, other)\u001b[0m\n\u001b[0;32m     <a href='file:///c%3A/Users/janpa/AppData/Local/Programs/Python/Python39/lib/site-packages/pandas/core/arraylike.py?line=45'>46</a>\u001b[0m \u001b[39m@unpack_zerodim_and_defer\u001b[39m(\u001b[39m\"\u001b[39m\u001b[39m__lt__\u001b[39m\u001b[39m\"\u001b[39m)\n\u001b[0;32m     <a href='file:///c%3A/Users/janpa/AppData/Local/Programs/Python/Python39/lib/site-packages/pandas/core/arraylike.py?line=46'>47</a>\u001b[0m \u001b[39mdef\u001b[39;00m \u001b[39m__lt__\u001b[39m(\u001b[39mself\u001b[39m, other):\n\u001b[1;32m---> <a href='file:///c%3A/Users/janpa/AppData/Local/Programs/Python/Python39/lib/site-packages/pandas/core/arraylike.py?line=47'>48</a>\u001b[0m     \u001b[39mreturn\u001b[39;00m \u001b[39mself\u001b[39;49m\u001b[39m.\u001b[39;49m_cmp_method(other, operator\u001b[39m.\u001b[39;49mlt)\n",
      "File \u001b[1;32m~\\AppData\\Local\\Programs\\Python\\Python39\\lib\\site-packages\\pandas\\core\\series.py:5623\u001b[0m, in \u001b[0;36mSeries._cmp_method\u001b[1;34m(self, other, op)\u001b[0m\n\u001b[0;32m   <a href='file:///c%3A/Users/janpa/AppData/Local/Programs/Python/Python39/lib/site-packages/pandas/core/series.py?line=5619'>5620</a>\u001b[0m rvalues \u001b[39m=\u001b[39m extract_array(other, extract_numpy\u001b[39m=\u001b[39m\u001b[39mTrue\u001b[39;00m, extract_range\u001b[39m=\u001b[39m\u001b[39mTrue\u001b[39;00m)\n\u001b[0;32m   <a href='file:///c%3A/Users/janpa/AppData/Local/Programs/Python/Python39/lib/site-packages/pandas/core/series.py?line=5621'>5622</a>\u001b[0m \u001b[39mwith\u001b[39;00m np\u001b[39m.\u001b[39merrstate(\u001b[39mall\u001b[39m\u001b[39m=\u001b[39m\u001b[39m\"\u001b[39m\u001b[39mignore\u001b[39m\u001b[39m\"\u001b[39m):\n\u001b[1;32m-> <a href='file:///c%3A/Users/janpa/AppData/Local/Programs/Python/Python39/lib/site-packages/pandas/core/series.py?line=5622'>5623</a>\u001b[0m     res_values \u001b[39m=\u001b[39m ops\u001b[39m.\u001b[39;49mcomparison_op(lvalues, rvalues, op)\n\u001b[0;32m   <a href='file:///c%3A/Users/janpa/AppData/Local/Programs/Python/Python39/lib/site-packages/pandas/core/series.py?line=5624'>5625</a>\u001b[0m \u001b[39mreturn\u001b[39;00m \u001b[39mself\u001b[39m\u001b[39m.\u001b[39m_construct_result(res_values, name\u001b[39m=\u001b[39mres_name)\n",
      "File \u001b[1;32m~\\AppData\\Local\\Programs\\Python\\Python39\\lib\\site-packages\\pandas\\core\\ops\\array_ops.py:283\u001b[0m, in \u001b[0;36mcomparison_op\u001b[1;34m(left, right, op)\u001b[0m\n\u001b[0;32m    <a href='file:///c%3A/Users/janpa/AppData/Local/Programs/Python/Python39/lib/site-packages/pandas/core/ops/array_ops.py?line=279'>280</a>\u001b[0m     \u001b[39mreturn\u001b[39;00m invalid_comparison(lvalues, rvalues, op)\n\u001b[0;32m    <a href='file:///c%3A/Users/janpa/AppData/Local/Programs/Python/Python39/lib/site-packages/pandas/core/ops/array_ops.py?line=281'>282</a>\u001b[0m \u001b[39melif\u001b[39;00m is_object_dtype(lvalues\u001b[39m.\u001b[39mdtype) \u001b[39mor\u001b[39;00m \u001b[39misinstance\u001b[39m(rvalues, \u001b[39mstr\u001b[39m):\n\u001b[1;32m--> <a href='file:///c%3A/Users/janpa/AppData/Local/Programs/Python/Python39/lib/site-packages/pandas/core/ops/array_ops.py?line=282'>283</a>\u001b[0m     res_values \u001b[39m=\u001b[39m comp_method_OBJECT_ARRAY(op, lvalues, rvalues)\n\u001b[0;32m    <a href='file:///c%3A/Users/janpa/AppData/Local/Programs/Python/Python39/lib/site-packages/pandas/core/ops/array_ops.py?line=284'>285</a>\u001b[0m \u001b[39melse\u001b[39;00m:\n\u001b[0;32m    <a href='file:///c%3A/Users/janpa/AppData/Local/Programs/Python/Python39/lib/site-packages/pandas/core/ops/array_ops.py?line=285'>286</a>\u001b[0m     res_values \u001b[39m=\u001b[39m _na_arithmetic_op(lvalues, rvalues, op, is_cmp\u001b[39m=\u001b[39m\u001b[39mTrue\u001b[39;00m)\n",
      "File \u001b[1;32m~\\AppData\\Local\\Programs\\Python\\Python39\\lib\\site-packages\\pandas\\core\\ops\\array_ops.py:73\u001b[0m, in \u001b[0;36mcomp_method_OBJECT_ARRAY\u001b[1;34m(op, x, y)\u001b[0m\n\u001b[0;32m     <a href='file:///c%3A/Users/janpa/AppData/Local/Programs/Python/Python39/lib/site-packages/pandas/core/ops/array_ops.py?line=70'>71</a>\u001b[0m     result \u001b[39m=\u001b[39m libops\u001b[39m.\u001b[39mvec_compare(x\u001b[39m.\u001b[39mravel(), y\u001b[39m.\u001b[39mravel(), op)\n\u001b[0;32m     <a href='file:///c%3A/Users/janpa/AppData/Local/Programs/Python/Python39/lib/site-packages/pandas/core/ops/array_ops.py?line=71'>72</a>\u001b[0m \u001b[39melse\u001b[39;00m:\n\u001b[1;32m---> <a href='file:///c%3A/Users/janpa/AppData/Local/Programs/Python/Python39/lib/site-packages/pandas/core/ops/array_ops.py?line=72'>73</a>\u001b[0m     result \u001b[39m=\u001b[39m libops\u001b[39m.\u001b[39;49mscalar_compare(x\u001b[39m.\u001b[39;49mravel(), y, op)\n\u001b[0;32m     <a href='file:///c%3A/Users/janpa/AppData/Local/Programs/Python/Python39/lib/site-packages/pandas/core/ops/array_ops.py?line=73'>74</a>\u001b[0m \u001b[39mreturn\u001b[39;00m result\u001b[39m.\u001b[39mreshape(x\u001b[39m.\u001b[39mshape)\n",
      "File \u001b[1;32m~\\AppData\\Local\\Programs\\Python\\Python39\\lib\\site-packages\\pandas\\_libs\\ops.pyx:107\u001b[0m, in \u001b[0;36mpandas._libs.ops.scalar_compare\u001b[1;34m()\u001b[0m\n",
      "\u001b[1;31mTypeError\u001b[0m: '<' not supported between instances of 'str' and 'int'"
     ]
    }
   ],
   "source": [
    "print(\"waiting_time\")\n",
    "print(\"# of NaN:\", int(df[['waiting_time']].isna().sum()))\n",
    "print(\"# of neg:\", len(df.loc[(df.waiting_time < 0)]))\n",
    "print(\"# of zero:\", len(df.loc[(df.waiting_time == 0)]))\n",
    "print(\"# of pos:\", len(df.loc[(df.waiting_time > 0)]))\n",
    "print('Min:', df['waiting_time'].min())\n",
    "print('Max:', df['waiting_time'].max())"
   ]
  },
  {
   "cell_type": "code",
   "execution_count": null,
   "metadata": {},
   "outputs": [],
   "source": []
  },
  {
   "cell_type": "code",
   "execution_count": null,
   "metadata": {},
   "outputs": [],
   "source": []
  },
  {
   "cell_type": "markdown",
   "metadata": {},
   "source": [
    "#### Column: longer_route_factor, arrival_indicator"
   ]
  },
  {
   "cell_type": "code",
   "execution_count": null,
   "metadata": {},
   "outputs": [],
   "source": []
  },
  {
   "cell_type": "markdown",
   "metadata": {},
   "source": [
    "#### Column: rating, rating_X"
   ]
  },
  {
   "cell_type": "code",
   "execution_count": null,
   "metadata": {},
   "outputs": [],
   "source": []
  },
  {
   "cell_type": "markdown",
   "metadata": {},
   "source": [
    "#### Column: cancellation_reason, cancellation_comment, cancelled_at\n"
   ]
  },
  {
   "cell_type": "code",
   "execution_count": null,
   "metadata": {},
   "outputs": [],
   "source": []
  },
  {
   "cell_type": "markdown",
   "metadata": {},
   "source": [
    "#### Column: bahn_card_number, year_card_type, year_card_number"
   ]
  },
  {
   "cell_type": "code",
   "execution_count": null,
   "metadata": {},
   "outputs": [],
   "source": []
  }
 ],
 "metadata": {
  "interpreter": {
   "hash": "85c923e2c0b4b658cf82b42ec0bc8ede38fefbd968daacec8ad02aac2b53e9de"
  },
  "kernelspec": {
   "display_name": "Python 3.9.10 64-bit",
   "language": "python",
   "name": "python3"
  },
  "language_info": {
   "codemirror_mode": {
    "name": "ipython",
    "version": 3
   },
   "file_extension": ".py",
   "mimetype": "text/x-python",
   "name": "python",
   "nbconvert_exporter": "python",
   "pygments_lexer": "ipython3",
   "version": "3.9.10"
  },
  "orig_nbformat": 4
 },
 "nbformat": 4,
 "nbformat_minor": 2
}
