{
 "cells": [
  {
   "cell_type": "code",
   "execution_count": 1,
   "metadata": {},
   "outputs": [],
   "source": [
    "import numpy as np\n",
    "import pandas as pd \n",
    "from datetime import datetime"
   ]
  },
  {
   "cell_type": "code",
   "execution_count": 24,
   "metadata": {},
   "outputs": [
    {
     "data": {
      "text/html": [
       "<div>\n",
       "<style scoped>\n",
       "    .dataframe tbody tr th:only-of-type {\n",
       "        vertical-align: middle;\n",
       "    }\n",
       "\n",
       "    .dataframe tbody tr th {\n",
       "        vertical-align: top;\n",
       "    }\n",
       "\n",
       "    .dataframe thead th {\n",
       "        text-align: right;\n",
       "    }\n",
       "</style>\n",
       "<table border=\"1\" class=\"dataframe\">\n",
       "  <thead>\n",
       "    <tr style=\"text-align: right;\">\n",
       "      <th></th>\n",
       "      <th>id</th>\n",
       "      <th>user_id</th>\n",
       "      <th>distance</th>\n",
       "      <th>number_of_passenger</th>\n",
       "      <th>price_operations</th>\n",
       "      <th>price_offer</th>\n",
       "      <th>price_payed</th>\n",
       "      <th>free_ride</th>\n",
       "      <th>payment_type</th>\n",
       "      <th>pickup_address</th>\n",
       "      <th>...</th>\n",
       "      <th>cancellation_reason</th>\n",
       "      <th>cancellation_comment</th>\n",
       "      <th>sheet_name</th>\n",
       "      <th>file_name</th>\n",
       "      <th>bahn_card_number</th>\n",
       "      <th>year_card_type</th>\n",
       "      <th>year_card_number</th>\n",
       "      <th>canceled_at</th>\n",
       "      <th>rating_question_one</th>\n",
       "      <th>rating_question_two</th>\n",
       "    </tr>\n",
       "  </thead>\n",
       "  <tbody>\n",
       "    <tr>\n",
       "      <th>0</th>\n",
       "      <td>5727475e-8224-4302-9228-c92b9d4a5220</td>\n",
       "      <td>f8ff0526-887a-4e48-ad96-977e12fd70c1</td>\n",
       "      <td>5483</td>\n",
       "      <td>1.0</td>\n",
       "      <td>4.65</td>\n",
       "      <td>4.65</td>\n",
       "      <td>0.0</td>\n",
       "      <td>0.0</td>\n",
       "      <td>STANDARD</td>\n",
       "      <td>Würzmühle</td>\n",
       "      <td>...</td>\n",
       "      <td>NaN</td>\n",
       "      <td>NaN</td>\n",
       "      <td>1</td>\n",
       "      <td>b'Rides_2021-07.xlsx'</td>\n",
       "      <td>NaN</td>\n",
       "      <td>NaN</td>\n",
       "      <td>NaN</td>\n",
       "      <td>NaN</td>\n",
       "      <td>NaN</td>\n",
       "      <td>NaN</td>\n",
       "    </tr>\n",
       "    <tr>\n",
       "      <th>1</th>\n",
       "      <td>18fec0a6-b7ba-442b-8472-04bdb6ba1b86</td>\n",
       "      <td>51e1a1a8-995c-488c-84ce-3789e46f0417</td>\n",
       "      <td>3575</td>\n",
       "      <td>1.0</td>\n",
       "      <td>0.00</td>\n",
       "      <td>2.77</td>\n",
       "      <td>0.0</td>\n",
       "      <td>0.0</td>\n",
       "      <td>BAHN_CARD</td>\n",
       "      <td>Julius-Wilde-Straße</td>\n",
       "      <td>...</td>\n",
       "      <td>NaN</td>\n",
       "      <td>NaN</td>\n",
       "      <td>1</td>\n",
       "      <td>b'Rides_2021-07.xlsx'</td>\n",
       "      <td>NaN</td>\n",
       "      <td>NaN</td>\n",
       "      <td>NaN</td>\n",
       "      <td>NaN</td>\n",
       "      <td>NaN</td>\n",
       "      <td>NaN</td>\n",
       "    </tr>\n",
       "  </tbody>\n",
       "</table>\n",
       "<p>2 rows × 52 columns</p>\n",
       "</div>"
      ],
      "text/plain": [
       "                                     id                               user_id  \\\n",
       "0  5727475e-8224-4302-9228-c92b9d4a5220  f8ff0526-887a-4e48-ad96-977e12fd70c1   \n",
       "1  18fec0a6-b7ba-442b-8472-04bdb6ba1b86  51e1a1a8-995c-488c-84ce-3789e46f0417   \n",
       "\n",
       "   distance  number_of_passenger  price_operations  price_offer  price_payed  \\\n",
       "0      5483                  1.0              4.65         4.65          0.0   \n",
       "1      3575                  1.0              0.00         2.77          0.0   \n",
       "\n",
       "   free_ride payment_type       pickup_address  ... cancellation_reason  \\\n",
       "0        0.0     STANDARD            Würzmühle  ...                 NaN   \n",
       "1        0.0    BAHN_CARD  Julius-Wilde-Straße  ...                 NaN   \n",
       "\n",
       "  cancellation_comment  sheet_name              file_name bahn_card_number  \\\n",
       "0                  NaN           1  b'Rides_2021-07.xlsx'              NaN   \n",
       "1                  NaN           1  b'Rides_2021-07.xlsx'              NaN   \n",
       "\n",
       "  year_card_type year_card_number canceled_at rating_question_one  \\\n",
       "0            NaN              NaN         NaN                 NaN   \n",
       "1            NaN              NaN         NaN                 NaN   \n",
       "\n",
       "  rating_question_two  \n",
       "0                 NaN  \n",
       "1                 NaN  \n",
       "\n",
       "[2 rows x 52 columns]"
      ]
     },
     "execution_count": 24,
     "metadata": {},
     "output_type": "execute_result"
    }
   ],
   "source": [
    "df = pd.read_csv(\"../data/rides_combined.csv\", index_col=0)\n",
    "df.head(2)"
   ]
  },
  {
   "cell_type": "code",
   "execution_count": 26,
   "metadata": {},
   "outputs": [
    {
     "data": {
      "text/html": [
       "<div>\n",
       "<style scoped>\n",
       "    .dataframe tbody tr th:only-of-type {\n",
       "        vertical-align: middle;\n",
       "    }\n",
       "\n",
       "    .dataframe tbody tr th {\n",
       "        vertical-align: top;\n",
       "    }\n",
       "\n",
       "    .dataframe thead th {\n",
       "        text-align: right;\n",
       "    }\n",
       "</style>\n",
       "<table border=\"1\" class=\"dataframe\">\n",
       "  <thead>\n",
       "    <tr style=\"text-align: right;\">\n",
       "      <th></th>\n",
       "      <th>MoDStop Id</th>\n",
       "      <th>MoDStop Name</th>\n",
       "      <th>MoDStop Lat</th>\n",
       "      <th>MoDStop Long</th>\n",
       "      <th>MoDStop Adresse</th>\n",
       "    </tr>\n",
       "  </thead>\n",
       "  <tbody>\n",
       "    <tr>\n",
       "      <th>0</th>\n",
       "      <td>1001</td>\n",
       "      <td>Mandelgasse</td>\n",
       "      <td>49.351780</td>\n",
       "      <td>8.129000</td>\n",
       "      <td>Seilerbahn 1, 67433 Neustadt</td>\n",
       "    </tr>\n",
       "    <tr>\n",
       "      <th>1</th>\n",
       "      <td>1002</td>\n",
       "      <td>Hauptfeuerwache</td>\n",
       "      <td>49.353733</td>\n",
       "      <td>8.131552</td>\n",
       "      <td>Lindenstraße 11, 67433 Neustadt</td>\n",
       "    </tr>\n",
       "  </tbody>\n",
       "</table>\n",
       "</div>"
      ],
      "text/plain": [
       "   MoDStop Id     MoDStop Name  MoDStop Lat  MoDStop Long  \\\n",
       "0        1001      Mandelgasse    49.351780      8.129000   \n",
       "1        1002  Hauptfeuerwache    49.353733      8.131552   \n",
       "\n",
       "                   MoDStop Adresse  \n",
       "0     Seilerbahn 1, 67433 Neustadt  \n",
       "1  Lindenstraße 11, 67433 Neustadt  "
      ]
     },
     "execution_count": 26,
     "metadata": {},
     "output_type": "execute_result"
    }
   ],
   "source": [
    "df_stops = pd.read_excel(\"../data/MoDstops+Preismodell.xlsx\", sheet_name=\"MoDstops\")\n",
    "df_stops.head(2)"
   ]
  },
  {
   "cell_type": "markdown",
   "metadata": {},
   "source": [
    "#### Column: id"
   ]
  },
  {
   "cell_type": "code",
   "execution_count": 13,
   "metadata": {},
   "outputs": [
    {
     "name": "stdout",
     "output_type": "stream",
     "text": [
      "# of NaN: 4535\n",
      "# of duplicates: 4 (exklusive NaN)\n"
     ]
    }
   ],
   "source": [
    "print(\"# of NaN:\", int(df[['id']].isna().sum()))\n",
    "print(\"# of duplicates:\", df.id.duplicated().sum() - int(df[['id']].isna().sum() - 1), \"(exklusive NaN)\")"
   ]
  },
  {
   "cell_type": "code",
   "execution_count": 10,
   "metadata": {},
   "outputs": [
    {
     "data": {
      "text/html": [
       "<div>\n",
       "<style scoped>\n",
       "    .dataframe tbody tr th:only-of-type {\n",
       "        vertical-align: middle;\n",
       "    }\n",
       "\n",
       "    .dataframe tbody tr th {\n",
       "        vertical-align: top;\n",
       "    }\n",
       "\n",
       "    .dataframe thead th {\n",
       "        text-align: right;\n",
       "    }\n",
       "</style>\n",
       "<table border=\"1\" class=\"dataframe\">\n",
       "  <thead>\n",
       "    <tr style=\"text-align: right;\">\n",
       "      <th></th>\n",
       "      <th>id</th>\n",
       "      <th>user_id</th>\n",
       "      <th>distance</th>\n",
       "      <th>number_of_passenger</th>\n",
       "      <th>price_operations</th>\n",
       "      <th>price_offer</th>\n",
       "      <th>price_payed</th>\n",
       "      <th>free_ride</th>\n",
       "      <th>payment_type</th>\n",
       "      <th>pickup_address</th>\n",
       "      <th>...</th>\n",
       "      <th>cancellation_reason</th>\n",
       "      <th>cancellation_comment</th>\n",
       "      <th>sheet_name</th>\n",
       "      <th>file_name</th>\n",
       "      <th>bahn_card_number</th>\n",
       "      <th>year_card_type</th>\n",
       "      <th>year_card_number</th>\n",
       "      <th>canceled_at</th>\n",
       "      <th>rating_question_one</th>\n",
       "      <th>rating_question_two</th>\n",
       "    </tr>\n",
       "  </thead>\n",
       "  <tbody>\n",
       "    <tr>\n",
       "      <th>1607</th>\n",
       "      <td>b2246a46-183f-4966-8d60-5120985239c9</td>\n",
       "      <td>227d25b5-9f23-4c15-8b96-ec9541a0fd87</td>\n",
       "      <td>1873</td>\n",
       "      <td>1.0</td>\n",
       "      <td>2.85</td>\n",
       "      <td>2.85</td>\n",
       "      <td>2.85</td>\n",
       "      <td>0.0</td>\n",
       "      <td>STANDARD</td>\n",
       "      <td>Schütt</td>\n",
       "      <td>...</td>\n",
       "      <td>NaN</td>\n",
       "      <td>NaN</td>\n",
       "      <td>5</td>\n",
       "      <td>b'Rides_2021-09.xlsx'</td>\n",
       "      <td>NaN</td>\n",
       "      <td>NaN</td>\n",
       "      <td>NaN</td>\n",
       "      <td>NaN</td>\n",
       "      <td>NaN</td>\n",
       "      <td>NaN</td>\n",
       "    </tr>\n",
       "    <tr>\n",
       "      <th>2303</th>\n",
       "      <td>30220736-f869-4e77-9035-12a675ddfeb6</td>\n",
       "      <td>d253df67-6600-449e-add7-ad95c84fda85</td>\n",
       "      <td>4505</td>\n",
       "      <td>1.0</td>\n",
       "      <td>0.00</td>\n",
       "      <td>4.00</td>\n",
       "      <td>0.00</td>\n",
       "      <td>0.0</td>\n",
       "      <td>BAHN_CARD</td>\n",
       "      <td>Am Kirschgarten</td>\n",
       "      <td>...</td>\n",
       "      <td>NaN</td>\n",
       "      <td>NaN</td>\n",
       "      <td>27</td>\n",
       "      <td>b'Rides_2021-09.xlsx'</td>\n",
       "      <td>NaN</td>\n",
       "      <td>NaN</td>\n",
       "      <td>NaN</td>\n",
       "      <td>NaN</td>\n",
       "      <td>NaN</td>\n",
       "      <td>NaN</td>\n",
       "    </tr>\n",
       "    <tr>\n",
       "      <th>2565</th>\n",
       "      <td>b254fd87-6e8a-4b7c-96e6-a4af48e2ec22</td>\n",
       "      <td>be6038b5-1582-4efb-9c80-8d07c1749e7d</td>\n",
       "      <td>7581</td>\n",
       "      <td>4.0</td>\n",
       "      <td>16.50</td>\n",
       "      <td>16.50</td>\n",
       "      <td>16.50</td>\n",
       "      <td>0.0</td>\n",
       "      <td>STANDARD</td>\n",
       "      <td>Am Kirschgarten</td>\n",
       "      <td>...</td>\n",
       "      <td>NaN</td>\n",
       "      <td>NaN</td>\n",
       "      <td>2</td>\n",
       "      <td>b'Rides_2021-10.xlsx'</td>\n",
       "      <td>NaN</td>\n",
       "      <td>NaN</td>\n",
       "      <td>NaN</td>\n",
       "      <td>NaN</td>\n",
       "      <td>NaN</td>\n",
       "      <td>NaN</td>\n",
       "    </tr>\n",
       "    <tr>\n",
       "      <th>3119</th>\n",
       "      <td>bb4c0149-4c38-4018-a096-d90ef14ee801</td>\n",
       "      <td>456d1e59-257e-42b7-8e3d-94ddd24f88d5</td>\n",
       "      <td>6392</td>\n",
       "      <td>1.0</td>\n",
       "      <td>5.10</td>\n",
       "      <td>5.10</td>\n",
       "      <td>5.10</td>\n",
       "      <td>0.0</td>\n",
       "      <td>STANDARD</td>\n",
       "      <td>Altes Schulhaus Lachen</td>\n",
       "      <td>...</td>\n",
       "      <td>NaN</td>\n",
       "      <td>NaN</td>\n",
       "      <td>20</td>\n",
       "      <td>b'Rides_2021-10.xlsx'</td>\n",
       "      <td>NaN</td>\n",
       "      <td>NaN</td>\n",
       "      <td>NaN</td>\n",
       "      <td>NaN</td>\n",
       "      <td>NaN</td>\n",
       "      <td>NaN</td>\n",
       "    </tr>\n",
       "  </tbody>\n",
       "</table>\n",
       "<p>4 rows × 52 columns</p>\n",
       "</div>"
      ],
      "text/plain": [
       "                                        id  \\\n",
       "1607  b2246a46-183f-4966-8d60-5120985239c9   \n",
       "2303  30220736-f869-4e77-9035-12a675ddfeb6   \n",
       "2565  b254fd87-6e8a-4b7c-96e6-a4af48e2ec22   \n",
       "3119  bb4c0149-4c38-4018-a096-d90ef14ee801   \n",
       "\n",
       "                                   user_id  distance  number_of_passenger  \\\n",
       "1607  227d25b5-9f23-4c15-8b96-ec9541a0fd87      1873                  1.0   \n",
       "2303  d253df67-6600-449e-add7-ad95c84fda85      4505                  1.0   \n",
       "2565  be6038b5-1582-4efb-9c80-8d07c1749e7d      7581                  4.0   \n",
       "3119  456d1e59-257e-42b7-8e3d-94ddd24f88d5      6392                  1.0   \n",
       "\n",
       "      price_operations  price_offer  price_payed  free_ride payment_type  \\\n",
       "1607              2.85         2.85         2.85        0.0     STANDARD   \n",
       "2303              0.00         4.00         0.00        0.0    BAHN_CARD   \n",
       "2565             16.50        16.50        16.50        0.0     STANDARD   \n",
       "3119              5.10         5.10         5.10        0.0     STANDARD   \n",
       "\n",
       "              pickup_address  ... cancellation_reason cancellation_comment  \\\n",
       "1607                  Schütt  ...                 NaN                  NaN   \n",
       "2303         Am Kirschgarten  ...                 NaN                  NaN   \n",
       "2565         Am Kirschgarten  ...                 NaN                  NaN   \n",
       "3119  Altes Schulhaus Lachen  ...                 NaN                  NaN   \n",
       "\n",
       "      sheet_name              file_name bahn_card_number year_card_type  \\\n",
       "1607           5  b'Rides_2021-09.xlsx'              NaN            NaN   \n",
       "2303          27  b'Rides_2021-09.xlsx'              NaN            NaN   \n",
       "2565           2  b'Rides_2021-10.xlsx'              NaN            NaN   \n",
       "3119          20  b'Rides_2021-10.xlsx'              NaN            NaN   \n",
       "\n",
       "     year_card_number canceled_at rating_question_one rating_question_two  \n",
       "1607              NaN         NaN                 NaN                 NaN  \n",
       "2303              NaN         NaN                 NaN                 NaN  \n",
       "2565              NaN         NaN                 NaN                 NaN  \n",
       "3119              NaN         NaN                 NaN                 NaN  \n",
       "\n",
       "[4 rows x 52 columns]"
      ]
     },
     "execution_count": 10,
     "metadata": {},
     "output_type": "execute_result"
    }
   ],
   "source": [
    "df.loc[(df['id'].duplicated()) & (~df['id'].isna()), :]"
   ]
  },
  {
   "cell_type": "markdown",
   "metadata": {},
   "source": [
    "Wieso gibts doppelte ids?"
   ]
  },
  {
   "cell_type": "markdown",
   "metadata": {},
   "source": [
    "Fehlende ID's sind problematisch, wenn wir die ride id als Primärschlüssel nutzen wollen. Es handelt sich um rides, bei denen der Status 'offer' oder 'offer_rejected' ist. "
   ]
  },
  {
   "cell_type": "markdown",
   "metadata": {},
   "source": [
    "#### Column: user_id"
   ]
  },
  {
   "cell_type": "code",
   "execution_count": 79,
   "metadata": {},
   "outputs": [
    {
     "name": "stdout",
     "output_type": "stream",
     "text": [
      "# of NaN: 0\n",
      "# of duplicates: 10458 (exklusive NaN)\n"
     ]
    }
   ],
   "source": [
    "print(\"# of NaN:\", int(df[['user_id']].isna().sum()))\n",
    "print(\"# of duplicates:\", df.user_id.duplicated().sum() - int(df[['user_id']].isna().sum()), \"(exklusive NaN)\")"
   ]
  },
  {
   "cell_type": "markdown",
   "metadata": {},
   "source": [
    "#### Column: distance"
   ]
  },
  {
   "cell_type": "code",
   "execution_count": 59,
   "metadata": {},
   "outputs": [
    {
     "name": "stdout",
     "output_type": "stream",
     "text": [
      "# of NaN: 0\n",
      "# of neg: 0\n",
      "# of zero: 0\n",
      "# of ones: 24\n"
     ]
    }
   ],
   "source": [
    "print(\"# of NaN:\", int(df[['distance']].isna().sum()))\n",
    "print(\"# of neg:\", len(df.loc[(df.distance < 0)]))\n",
    "print(\"# of zero:\", len(df.loc[(df.distance == 0)]))\n",
    "print(\"# of ones:\", len(df.loc[(df.distance == 1)]))"
   ]
  },
  {
   "cell_type": "code",
   "execution_count": 60,
   "metadata": {},
   "outputs": [
    {
     "data": {
      "text/html": [
       "<div>\n",
       "<style scoped>\n",
       "    .dataframe tbody tr th:only-of-type {\n",
       "        vertical-align: middle;\n",
       "    }\n",
       "\n",
       "    .dataframe tbody tr th {\n",
       "        vertical-align: top;\n",
       "    }\n",
       "\n",
       "    .dataframe thead th {\n",
       "        text-align: right;\n",
       "    }\n",
       "</style>\n",
       "<table border=\"1\" class=\"dataframe\">\n",
       "  <thead>\n",
       "    <tr style=\"text-align: right;\">\n",
       "      <th></th>\n",
       "      <th>pickup_address</th>\n",
       "      <th>dropoff_address</th>\n",
       "      <th>isSameAddress</th>\n",
       "    </tr>\n",
       "  </thead>\n",
       "  <tbody>\n",
       "    <tr>\n",
       "      <th>37</th>\n",
       "      <td>Schütt</td>\n",
       "      <td>Schütt</td>\n",
       "      <td>True</td>\n",
       "    </tr>\n",
       "    <tr>\n",
       "      <th>38</th>\n",
       "      <td>Schütt</td>\n",
       "      <td>Schütt</td>\n",
       "      <td>True</td>\n",
       "    </tr>\n",
       "    <tr>\n",
       "      <th>400</th>\n",
       "      <td>49.330245|8.130933</td>\n",
       "      <td>49.330245|8.130933</td>\n",
       "      <td>True</td>\n",
       "    </tr>\n",
       "    <tr>\n",
       "      <th>430</th>\n",
       "      <td>49.351731|8.136637</td>\n",
       "      <td>49.351731|8.136637</td>\n",
       "      <td>True</td>\n",
       "    </tr>\n",
       "    <tr>\n",
       "      <th>448</th>\n",
       "      <td>49.316193|8.135477</td>\n",
       "      <td>49.316193|8.135477</td>\n",
       "      <td>True</td>\n",
       "    </tr>\n",
       "    <tr>\n",
       "      <th>822</th>\n",
       "      <td>49.376347|8.153444</td>\n",
       "      <td>49.376347|8.153444</td>\n",
       "      <td>True</td>\n",
       "    </tr>\n",
       "    <tr>\n",
       "      <th>841</th>\n",
       "      <td>49.376347|8.153444</td>\n",
       "      <td>49.376347|8.153444</td>\n",
       "      <td>True</td>\n",
       "    </tr>\n",
       "    <tr>\n",
       "      <th>845</th>\n",
       "      <td>Le Quartier Hornbach</td>\n",
       "      <td>Le Quartier Hornbach</td>\n",
       "      <td>True</td>\n",
       "    </tr>\n",
       "    <tr>\n",
       "      <th>866</th>\n",
       "      <td>49.35552|8.136674</td>\n",
       "      <td>49.35552|8.136674</td>\n",
       "      <td>True</td>\n",
       "    </tr>\n",
       "    <tr>\n",
       "      <th>881</th>\n",
       "      <td>Strohmarkt</td>\n",
       "      <td>Strohmarkt</td>\n",
       "      <td>True</td>\n",
       "    </tr>\n",
       "    <tr>\n",
       "      <th>926</th>\n",
       "      <td>49.322557|8.12336</td>\n",
       "      <td>49.322557|8.12336</td>\n",
       "      <td>True</td>\n",
       "    </tr>\n",
       "    <tr>\n",
       "      <th>982</th>\n",
       "      <td>Am Herzel West</td>\n",
       "      <td>Am Herzel West</td>\n",
       "      <td>True</td>\n",
       "    </tr>\n",
       "    <tr>\n",
       "      <th>1286</th>\n",
       "      <td>TC Rot-Weiß</td>\n",
       "      <td>TC Rot-Weiß</td>\n",
       "      <td>True</td>\n",
       "    </tr>\n",
       "    <tr>\n",
       "      <th>1472</th>\n",
       "      <td>Haardter Winzer</td>\n",
       "      <td>Haardter Winzer</td>\n",
       "      <td>True</td>\n",
       "    </tr>\n",
       "    <tr>\n",
       "      <th>10389</th>\n",
       "      <td>Schütt</td>\n",
       "      <td>Schütt</td>\n",
       "      <td>True</td>\n",
       "    </tr>\n",
       "    <tr>\n",
       "      <th>10390</th>\n",
       "      <td>Schütt</td>\n",
       "      <td>Schütt</td>\n",
       "      <td>True</td>\n",
       "    </tr>\n",
       "    <tr>\n",
       "      <th>10752</th>\n",
       "      <td>49.330245|8.130933</td>\n",
       "      <td>49.330245|8.130933</td>\n",
       "      <td>True</td>\n",
       "    </tr>\n",
       "    <tr>\n",
       "      <th>10782</th>\n",
       "      <td>49.351731|8.136637</td>\n",
       "      <td>49.351731|8.136637</td>\n",
       "      <td>True</td>\n",
       "    </tr>\n",
       "    <tr>\n",
       "      <th>10800</th>\n",
       "      <td>49.316193|8.135477</td>\n",
       "      <td>49.316193|8.135477</td>\n",
       "      <td>True</td>\n",
       "    </tr>\n",
       "    <tr>\n",
       "      <th>11174</th>\n",
       "      <td>49.376347|8.153444</td>\n",
       "      <td>49.376347|8.153444</td>\n",
       "      <td>True</td>\n",
       "    </tr>\n",
       "    <tr>\n",
       "      <th>11193</th>\n",
       "      <td>49.376347|8.153444</td>\n",
       "      <td>49.376347|8.153444</td>\n",
       "      <td>True</td>\n",
       "    </tr>\n",
       "    <tr>\n",
       "      <th>11197</th>\n",
       "      <td>Le Quartier Hornbach</td>\n",
       "      <td>Le Quartier Hornbach</td>\n",
       "      <td>True</td>\n",
       "    </tr>\n",
       "    <tr>\n",
       "      <th>11218</th>\n",
       "      <td>49.35552|8.136674</td>\n",
       "      <td>49.35552|8.136674</td>\n",
       "      <td>True</td>\n",
       "    </tr>\n",
       "    <tr>\n",
       "      <th>11233</th>\n",
       "      <td>Strohmarkt</td>\n",
       "      <td>Strohmarkt</td>\n",
       "      <td>True</td>\n",
       "    </tr>\n",
       "  </tbody>\n",
       "</table>\n",
       "</div>"
      ],
      "text/plain": [
       "             pickup_address       dropoff_address  isSameAddress\n",
       "37                   Schütt                Schütt           True\n",
       "38                   Schütt                Schütt           True\n",
       "400      49.330245|8.130933    49.330245|8.130933           True\n",
       "430      49.351731|8.136637    49.351731|8.136637           True\n",
       "448      49.316193|8.135477    49.316193|8.135477           True\n",
       "822      49.376347|8.153444    49.376347|8.153444           True\n",
       "841      49.376347|8.153444    49.376347|8.153444           True\n",
       "845    Le Quartier Hornbach  Le Quartier Hornbach           True\n",
       "866       49.35552|8.136674     49.35552|8.136674           True\n",
       "881              Strohmarkt            Strohmarkt           True\n",
       "926       49.322557|8.12336     49.322557|8.12336           True\n",
       "982          Am Herzel West        Am Herzel West           True\n",
       "1286            TC Rot-Weiß           TC Rot-Weiß           True\n",
       "1472        Haardter Winzer       Haardter Winzer           True\n",
       "10389                Schütt                Schütt           True\n",
       "10390                Schütt                Schütt           True\n",
       "10752    49.330245|8.130933    49.330245|8.130933           True\n",
       "10782    49.351731|8.136637    49.351731|8.136637           True\n",
       "10800    49.316193|8.135477    49.316193|8.135477           True\n",
       "11174    49.376347|8.153444    49.376347|8.153444           True\n",
       "11193    49.376347|8.153444    49.376347|8.153444           True\n",
       "11197  Le Quartier Hornbach  Le Quartier Hornbach           True\n",
       "11218     49.35552|8.136674     49.35552|8.136674           True\n",
       "11233            Strohmarkt            Strohmarkt           True"
      ]
     },
     "execution_count": 60,
     "metadata": {},
     "output_type": "execute_result"
    }
   ],
   "source": [
    "comparison = np.where(df['pickup_address'] == df['dropoff_address'], True, False)\n",
    "df.loc[:, 'isSameAddress'] = comparison\n",
    "mask = df['distance']==1\n",
    "df[mask][['pickup_address', 'dropoff_address', 'isSameAddress']]"
   ]
  },
  {
   "cell_type": "markdown",
   "metadata": {},
   "source": [
    "Was sollen wir mit distance=1m und gleichem Start- & Endhaltestopp machen? "
   ]
  },
  {
   "cell_type": "markdown",
   "metadata": {},
   "source": [
    "#### Column: number_of_passenger"
   ]
  },
  {
   "cell_type": "code",
   "execution_count": 14,
   "metadata": {},
   "outputs": [
    {
     "name": "stdout",
     "output_type": "stream",
     "text": [
      "# of NaN: 4535\n",
      "# of neg: 0\n",
      "# of zero: 0\n",
      "# of pos: 5817\n",
      "Max # of passengers: 5.0\n"
     ]
    }
   ],
   "source": [
    "print(\"# of NaN:\", int(df[['number_of_passenger']].isna().sum()))\n",
    "print(\"# of neg:\", len(df.loc[(df.number_of_passenger < 0)]))\n",
    "print(\"# of zero:\", len(df.loc[(df.number_of_passenger == 0)]))\n",
    "print(\"# of pos:\", len(df.loc[(df.number_of_passenger > 0)]))\n",
    "print('Max # of passengers:', df['number_of_passenger'].max())"
   ]
  },
  {
   "cell_type": "markdown",
   "metadata": {},
   "source": [
    "Fehlende Angaben bei number_of_passenger: Es handelt sich um rides, bei denen der Status 'offer' oder 'offer_rejected' ist. \n",
    "--> Bei Analysen vermutlich sowieso filtern auf completed"
   ]
  },
  {
   "cell_type": "markdown",
   "metadata": {},
   "source": [
    "#### Column: price_operations"
   ]
  },
  {
   "cell_type": "code",
   "execution_count": 15,
   "metadata": {},
   "outputs": [
    {
     "name": "stdout",
     "output_type": "stream",
     "text": [
      "# of NaN: 1204\n",
      "# of neg: 0\n",
      "# of zero: 459\n",
      "# of pos: 8689\n",
      "Min price: 0.0\n",
      "Max price: 33.1\n"
     ]
    }
   ],
   "source": [
    "print(\"# of NaN:\", int(df[['price_operations']].isna().sum()))\n",
    "print(\"# of neg:\", len(df.loc[(df.price_operations < 0)]))\n",
    "print(\"# of zero:\", len(df.loc[(df.price_operations == 0)]))\n",
    "print(\"# of pos:\", len(df.loc[(df.price_operations > 0)]))\n",
    "print('Min price:', df['price_operations'].min())\n",
    "print('Max price:', df['price_operations'].max())"
   ]
  },
  {
   "cell_type": "markdown",
   "metadata": {},
   "source": [
    "#### Column: price_offer"
   ]
  },
  {
   "cell_type": "code",
   "execution_count": 17,
   "metadata": {},
   "outputs": [
    {
     "name": "stdout",
     "output_type": "stream",
     "text": [
      "# of NaN: 4535\n",
      "# of neg: 0\n",
      "# of zero: 0\n",
      "# of pos: 5817\n",
      "Min price: 0.8\n",
      "Max price: 32.3\n"
     ]
    }
   ],
   "source": [
    "print(\"# of NaN:\", int(df[['price_offer']].isna().sum()))\n",
    "print(\"# of neg:\", len(df.loc[(df.price_offer < 0)]))\n",
    "print(\"# of zero:\", len(df.loc[(df.price_offer == 0)]))\n",
    "print(\"# of pos:\", len(df.loc[(df.price_offer > 0)]))\n",
    "print('Min price:', df['price_offer'].min())\n",
    "print('Max price:', df['price_offer'].max())"
   ]
  },
  {
   "cell_type": "markdown",
   "metadata": {},
   "source": [
    "#### Column: price_payed"
   ]
  },
  {
   "cell_type": "code",
   "execution_count": 18,
   "metadata": {},
   "outputs": [
    {
     "name": "stdout",
     "output_type": "stream",
     "text": [
      "# of NaN: 4535\n",
      "# of neg: 0\n",
      "# of zero: 1323\n",
      "# of pos: 4494\n",
      "Min price: 0.0\n",
      "Max price: 555.33\n"
     ]
    }
   ],
   "source": [
    "print(\"# of NaN:\", int(df[['price_payed']].isna().sum()))\n",
    "print(\"# of neg:\", len(df.loc[(df.price_payed < 0)]))\n",
    "print(\"# of zero:\", len(df.loc[(df.price_payed == 0)]))\n",
    "print(\"# of pos:\", len(df.loc[(df.price_payed > 0)]))\n",
    "print('Min price:', df['price_payed'].min())\n",
    "print('Max price:', df['price_payed'].max())"
   ]
  },
  {
   "cell_type": "markdown",
   "metadata": {},
   "source": [
    "#### Column: free_ride"
   ]
  },
  {
   "cell_type": "code",
   "execution_count": 19,
   "metadata": {},
   "outputs": [
    {
     "name": "stdout",
     "output_type": "stream",
     "text": [
      "# of NaN: 4535\n"
     ]
    }
   ],
   "source": [
    "print(\"# of NaN:\", int(df[['free_ride']].isna().sum()))\n"
   ]
  },
  {
   "cell_type": "code",
   "execution_count": 22,
   "metadata": {},
   "outputs": [
    {
     "data": {
      "text/plain": [
       "0.0    5174\n",
       "1.0     643\n",
       "Name: free_ride, dtype: int64"
      ]
     },
     "execution_count": 22,
     "metadata": {},
     "output_type": "execute_result"
    }
   ],
   "source": [
    "df.free_ride.value_counts()"
   ]
  },
  {
   "cell_type": "markdown",
   "metadata": {},
   "source": [
    "#### Column: pickup_address and dropoff_address"
   ]
  },
  {
   "cell_type": "code",
   "execution_count": 23,
   "metadata": {},
   "outputs": [
    {
     "name": "stdout",
     "output_type": "stream",
     "text": [
      "# of NaN: 0\n",
      "# of NaN: 0\n"
     ]
    }
   ],
   "source": [
    "print(\"# of NaN:\", int(df[['pickup_address']].isna().sum()))\n",
    "print(\"# of NaN:\", int(df[['dropoff_address']].isna().sum()))\n"
   ]
  },
  {
   "cell_type": "code",
   "execution_count": 45,
   "metadata": {},
   "outputs": [],
   "source": [
    "df['start_id'] = \"\"\n",
    "df['end_id'] = \"\"\n",
    "\n",
    "def get_stop_id(address):\n",
    "    if address[0].isdigit():\n",
    "        lat = address.split(\"|\")[0]\n",
    "        long = address.split(\"|\")[1]\n",
    "        for index, row in df_stops.iterrows():\n",
    "            if str(row[\"MoDStop Lat\"]) == lat and str(row[\"MoDStop Long\"]) == long:\n",
    "                return row[\"MoDStop Id\"]\n",
    "        return \"No match of lat and long\"\n",
    "    else:\n",
    "        # different naming\n",
    "        if address == \"Rewe Mußbach\":\n",
    "            address = address + \" (Shoppenwiese)\"\n",
    "        for index, row in df_stops.iterrows():\n",
    "            if row[\"MoDStop Name\"] == address:\n",
    "                return row[\"MoDStop Id\"]\n",
    "        return \"No match of address name\"\n",
    "            \t\t\n",
    "        "
   ]
  },
  {
   "cell_type": "code",
   "execution_count": 39,
   "metadata": {},
   "outputs": [],
   "source": [
    "for index, row in df.iterrows():\n",
    "    df.at[index, 'start_id'] = get_stop_id(row['pickup_address'])\n",
    "    df.at[index, 'end_id'] = get_stop_id(row['dropoff_address'])"
   ]
  },
  {
   "cell_type": "code",
   "execution_count": null,
   "metadata": {},
   "outputs": [],
   "source": [
    "df.to_excel(\"test.xlsx\")\n"
   ]
  },
  {
   "cell_type": "markdown",
   "metadata": {},
   "source": []
  },
  {
   "cell_type": "code",
   "execution_count": null,
   "metadata": {},
   "outputs": [],
   "source": []
  }
 ],
 "metadata": {
  "interpreter": {
   "hash": "85c923e2c0b4b658cf82b42ec0bc8ede38fefbd968daacec8ad02aac2b53e9de"
  },
  "kernelspec": {
   "display_name": "Python 3.9.10 64-bit",
   "language": "python",
   "name": "python3"
  },
  "language_info": {
   "codemirror_mode": {
    "name": "ipython",
    "version": 3
   },
   "file_extension": ".py",
   "mimetype": "text/x-python",
   "name": "python",
   "nbconvert_exporter": "python",
   "pygments_lexer": "ipython3",
   "version": "3.9.10"
  },
  "orig_nbformat": 4
 },
 "nbformat": 4,
 "nbformat_minor": 2
}
