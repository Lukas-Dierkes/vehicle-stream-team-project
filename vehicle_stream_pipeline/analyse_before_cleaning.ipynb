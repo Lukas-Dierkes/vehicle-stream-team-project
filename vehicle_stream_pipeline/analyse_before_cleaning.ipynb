{
 "cells": [
  {
   "cell_type": "code",
   "execution_count": 1,
   "metadata": {},
   "outputs": [],
   "source": [
    "import numpy as np\n",
    "import pandas as pd \n",
    "from datetime import datetime"
   ]
  },
  {
   "cell_type": "code",
   "execution_count": 2,
   "metadata": {},
   "outputs": [
    {
     "data": {
      "text/html": [
       "<div>\n",
       "<style scoped>\n",
       "    .dataframe tbody tr th:only-of-type {\n",
       "        vertical-align: middle;\n",
       "    }\n",
       "\n",
       "    .dataframe tbody tr th {\n",
       "        vertical-align: top;\n",
       "    }\n",
       "\n",
       "    .dataframe thead th {\n",
       "        text-align: right;\n",
       "    }\n",
       "</style>\n",
       "<table border=\"1\" class=\"dataframe\">\n",
       "  <thead>\n",
       "    <tr style=\"text-align: right;\">\n",
       "      <th></th>\n",
       "      <th>id</th>\n",
       "      <th>user_id</th>\n",
       "      <th>distance</th>\n",
       "      <th>number_of_passenger</th>\n",
       "      <th>price_operations</th>\n",
       "      <th>price_offer</th>\n",
       "      <th>price_payed</th>\n",
       "      <th>free_ride</th>\n",
       "      <th>payment_type</th>\n",
       "      <th>pickup_address</th>\n",
       "      <th>...</th>\n",
       "      <th>rating_other_comments</th>\n",
       "      <th>cancellation_reason</th>\n",
       "      <th>cancellation_comment</th>\n",
       "      <th>sheet_name</th>\n",
       "      <th>bahn_card_number</th>\n",
       "      <th>year_card_type</th>\n",
       "      <th>year_card_number</th>\n",
       "      <th>canceled_at</th>\n",
       "      <th>rating_question_one</th>\n",
       "      <th>rating_question_two</th>\n",
       "    </tr>\n",
       "  </thead>\n",
       "  <tbody>\n",
       "    <tr>\n",
       "      <th>0</th>\n",
       "      <td>5727475e-8224-4302-9228-c92b9d4a5220</td>\n",
       "      <td>f8ff0526-887a-4e48-ad96-977e12fd70c1</td>\n",
       "      <td>5483</td>\n",
       "      <td>1.0</td>\n",
       "      <td>4.65</td>\n",
       "      <td>4.65</td>\n",
       "      <td>0.00</td>\n",
       "      <td>0.0</td>\n",
       "      <td>STANDARD</td>\n",
       "      <td>Würzmühle</td>\n",
       "      <td>...</td>\n",
       "      <td>NaN</td>\n",
       "      <td>NaN</td>\n",
       "      <td>NaN</td>\n",
       "      <td>MTD</td>\n",
       "      <td>NaN</td>\n",
       "      <td>NaN</td>\n",
       "      <td>NaN</td>\n",
       "      <td>NaN</td>\n",
       "      <td>NaN</td>\n",
       "      <td>NaN</td>\n",
       "    </tr>\n",
       "    <tr>\n",
       "      <th>1</th>\n",
       "      <td>18fec0a6-b7ba-442b-8472-04bdb6ba1b86</td>\n",
       "      <td>51e1a1a8-995c-488c-84ce-3789e46f0417</td>\n",
       "      <td>3575</td>\n",
       "      <td>1.0</td>\n",
       "      <td>0.00</td>\n",
       "      <td>2.77</td>\n",
       "      <td>0.00</td>\n",
       "      <td>0.0</td>\n",
       "      <td>BAHN_CARD</td>\n",
       "      <td>Julius-Wilde-Straße</td>\n",
       "      <td>...</td>\n",
       "      <td>NaN</td>\n",
       "      <td>NaN</td>\n",
       "      <td>NaN</td>\n",
       "      <td>MTD</td>\n",
       "      <td>NaN</td>\n",
       "      <td>NaN</td>\n",
       "      <td>NaN</td>\n",
       "      <td>NaN</td>\n",
       "      <td>NaN</td>\n",
       "      <td>NaN</td>\n",
       "    </tr>\n",
       "    <tr>\n",
       "      <th>2</th>\n",
       "      <td>bb916271-0627-4196-8ec1-5324e0e1f71d</td>\n",
       "      <td>f07028da-ca7e-4713-9e45-743c71712e80</td>\n",
       "      <td>3040</td>\n",
       "      <td>1.0</td>\n",
       "      <td>3.45</td>\n",
       "      <td>1.55</td>\n",
       "      <td>1.55</td>\n",
       "      <td>0.0</td>\n",
       "      <td>VRN</td>\n",
       "      <td>Jüdischer Friedhof</td>\n",
       "      <td>...</td>\n",
       "      <td>NaN</td>\n",
       "      <td>NaN</td>\n",
       "      <td>NaN</td>\n",
       "      <td>MTD</td>\n",
       "      <td>NaN</td>\n",
       "      <td>NaN</td>\n",
       "      <td>NaN</td>\n",
       "      <td>NaN</td>\n",
       "      <td>NaN</td>\n",
       "      <td>NaN</td>\n",
       "    </tr>\n",
       "    <tr>\n",
       "      <th>3</th>\n",
       "      <td>3cffa0f3-e278-4828-b0a1-f55cb35c1adb</td>\n",
       "      <td>44f61d06-8e79-42c6-9abd-0e85fcaf9d6d</td>\n",
       "      <td>7233</td>\n",
       "      <td>1.0</td>\n",
       "      <td>0.00</td>\n",
       "      <td>5.55</td>\n",
       "      <td>0.00</td>\n",
       "      <td>1.0</td>\n",
       "      <td>STANDARD</td>\n",
       "      <td>Weinland Königsbach</td>\n",
       "      <td>...</td>\n",
       "      <td>NaN</td>\n",
       "      <td>NaN</td>\n",
       "      <td>NaN</td>\n",
       "      <td>MTD</td>\n",
       "      <td>NaN</td>\n",
       "      <td>NaN</td>\n",
       "      <td>NaN</td>\n",
       "      <td>NaN</td>\n",
       "      <td>NaN</td>\n",
       "      <td>NaN</td>\n",
       "    </tr>\n",
       "    <tr>\n",
       "      <th>4</th>\n",
       "      <td>NaN</td>\n",
       "      <td>1a6d2ec4-7e85-4e5b-aed0-1c3693268986</td>\n",
       "      <td>3998</td>\n",
       "      <td>NaN</td>\n",
       "      <td>NaN</td>\n",
       "      <td>NaN</td>\n",
       "      <td>NaN</td>\n",
       "      <td>NaN</td>\n",
       "      <td>STANDARD</td>\n",
       "      <td>49.328651|8.1268</td>\n",
       "      <td>...</td>\n",
       "      <td>NaN</td>\n",
       "      <td>NaN</td>\n",
       "      <td>NaN</td>\n",
       "      <td>MTD</td>\n",
       "      <td>NaN</td>\n",
       "      <td>NaN</td>\n",
       "      <td>NaN</td>\n",
       "      <td>NaN</td>\n",
       "      <td>NaN</td>\n",
       "      <td>NaN</td>\n",
       "    </tr>\n",
       "  </tbody>\n",
       "</table>\n",
       "<p>5 rows × 51 columns</p>\n",
       "</div>"
      ],
      "text/plain": [
       "                                     id                               user_id  \\\n",
       "0  5727475e-8224-4302-9228-c92b9d4a5220  f8ff0526-887a-4e48-ad96-977e12fd70c1   \n",
       "1  18fec0a6-b7ba-442b-8472-04bdb6ba1b86  51e1a1a8-995c-488c-84ce-3789e46f0417   \n",
       "2  bb916271-0627-4196-8ec1-5324e0e1f71d  f07028da-ca7e-4713-9e45-743c71712e80   \n",
       "3  3cffa0f3-e278-4828-b0a1-f55cb35c1adb  44f61d06-8e79-42c6-9abd-0e85fcaf9d6d   \n",
       "4                                   NaN  1a6d2ec4-7e85-4e5b-aed0-1c3693268986   \n",
       "\n",
       "   distance  number_of_passenger  price_operations  price_offer  price_payed  \\\n",
       "0      5483                  1.0              4.65         4.65         0.00   \n",
       "1      3575                  1.0              0.00         2.77         0.00   \n",
       "2      3040                  1.0              3.45         1.55         1.55   \n",
       "3      7233                  1.0              0.00         5.55         0.00   \n",
       "4      3998                  NaN               NaN          NaN          NaN   \n",
       "\n",
       "   free_ride payment_type       pickup_address  ... rating_other_comments  \\\n",
       "0        0.0     STANDARD            Würzmühle  ...                   NaN   \n",
       "1        0.0    BAHN_CARD  Julius-Wilde-Straße  ...                   NaN   \n",
       "2        0.0          VRN   Jüdischer Friedhof  ...                   NaN   \n",
       "3        1.0     STANDARD  Weinland Königsbach  ...                   NaN   \n",
       "4        NaN     STANDARD     49.328651|8.1268  ...                   NaN   \n",
       "\n",
       "  cancellation_reason  cancellation_comment sheet_name bahn_card_number  \\\n",
       "0                 NaN                   NaN        MTD              NaN   \n",
       "1                 NaN                   NaN        MTD              NaN   \n",
       "2                 NaN                   NaN        MTD              NaN   \n",
       "3                 NaN                   NaN        MTD              NaN   \n",
       "4                 NaN                   NaN        MTD              NaN   \n",
       "\n",
       "  year_card_type year_card_number canceled_at rating_question_one  \\\n",
       "0            NaN              NaN         NaN                 NaN   \n",
       "1            NaN              NaN         NaN                 NaN   \n",
       "2            NaN              NaN         NaN                 NaN   \n",
       "3            NaN              NaN         NaN                 NaN   \n",
       "4            NaN              NaN         NaN                 NaN   \n",
       "\n",
       "  rating_question_two  \n",
       "0                 NaN  \n",
       "1                 NaN  \n",
       "2                 NaN  \n",
       "3                 NaN  \n",
       "4                 NaN  \n",
       "\n",
       "[5 rows x 51 columns]"
      ]
     },
     "execution_count": 2,
     "metadata": {},
     "output_type": "execute_result"
    }
   ],
   "source": [
    "df = pd.read_csv(\"../data/mtd_combined.csv\", index_col=0)\n",
    "df.head()"
   ]
  },
  {
   "cell_type": "code",
   "execution_count": 3,
   "metadata": {},
   "outputs": [],
   "source": [
    "# df.to_excel(\"test.xlsx\")"
   ]
  },
  {
   "cell_type": "code",
   "execution_count": 4,
   "metadata": {},
   "outputs": [
    {
     "data": {
      "text/html": [
       "<div>\n",
       "<style scoped>\n",
       "    .dataframe tbody tr th:only-of-type {\n",
       "        vertical-align: middle;\n",
       "    }\n",
       "\n",
       "    .dataframe tbody tr th {\n",
       "        vertical-align: top;\n",
       "    }\n",
       "\n",
       "    .dataframe thead th {\n",
       "        text-align: right;\n",
       "    }\n",
       "</style>\n",
       "<table border=\"1\" class=\"dataframe\">\n",
       "  <thead>\n",
       "    <tr style=\"text-align: right;\">\n",
       "      <th></th>\n",
       "      <th>MoDStop Id</th>\n",
       "      <th>MoDStop Name</th>\n",
       "      <th>MoDStop Lat</th>\n",
       "      <th>MoDStop Long</th>\n",
       "      <th>MoDStop Adresse</th>\n",
       "    </tr>\n",
       "  </thead>\n",
       "  <tbody>\n",
       "    <tr>\n",
       "      <th>0</th>\n",
       "      <td>1001</td>\n",
       "      <td>Mandelgasse</td>\n",
       "      <td>49.351780</td>\n",
       "      <td>8.129000</td>\n",
       "      <td>Seilerbahn 1, 67433 Neustadt</td>\n",
       "    </tr>\n",
       "    <tr>\n",
       "      <th>1</th>\n",
       "      <td>1002</td>\n",
       "      <td>Hauptfeuerwache</td>\n",
       "      <td>49.353733</td>\n",
       "      <td>8.131552</td>\n",
       "      <td>Lindenstraße 11, 67433 Neustadt</td>\n",
       "    </tr>\n",
       "    <tr>\n",
       "      <th>2</th>\n",
       "      <td>1003</td>\n",
       "      <td>Kindergarten St. Marien</td>\n",
       "      <td>49.355745</td>\n",
       "      <td>8.134341</td>\n",
       "      <td>Sauterstraße 12, 67433 Neustadt</td>\n",
       "    </tr>\n",
       "    <tr>\n",
       "      <th>3</th>\n",
       "      <td>1004</td>\n",
       "      <td>Strohmarkt</td>\n",
       "      <td>49.355520</td>\n",
       "      <td>8.136674</td>\n",
       "      <td>Strohmarkt, 67433 Neustadt</td>\n",
       "    </tr>\n",
       "    <tr>\n",
       "      <th>4</th>\n",
       "      <td>1005</td>\n",
       "      <td>Rathaus</td>\n",
       "      <td>49.354022</td>\n",
       "      <td>8.135143</td>\n",
       "      <td>Rathausstraße 1, 67433 Neustadt</td>\n",
       "    </tr>\n",
       "  </tbody>\n",
       "</table>\n",
       "</div>"
      ],
      "text/plain": [
       "   MoDStop Id             MoDStop Name  MoDStop Lat  MoDStop Long  \\\n",
       "0        1001              Mandelgasse    49.351780      8.129000   \n",
       "1        1002          Hauptfeuerwache    49.353733      8.131552   \n",
       "2        1003  Kindergarten St. Marien    49.355745      8.134341   \n",
       "3        1004               Strohmarkt    49.355520      8.136674   \n",
       "4        1005                  Rathaus    49.354022      8.135143   \n",
       "\n",
       "                   MoDStop Adresse  \n",
       "0     Seilerbahn 1, 67433 Neustadt  \n",
       "1  Lindenstraße 11, 67433 Neustadt  \n",
       "2  Sauterstraße 12, 67433 Neustadt  \n",
       "3       Strohmarkt, 67433 Neustadt  \n",
       "4  Rathausstraße 1, 67433 Neustadt  "
      ]
     },
     "execution_count": 4,
     "metadata": {},
     "output_type": "execute_result"
    }
   ],
   "source": [
    "df_stops = pd.read_excel(\"../data/MoDstops+Preismodell.xlsx\", sheet_name=\"MoDstops\")\n",
    "df_stops.head()"
   ]
  },
  {
   "cell_type": "markdown",
   "metadata": {},
   "source": [
    "### Column: id"
   ]
  },
  {
   "cell_type": "code",
   "execution_count": 5,
   "metadata": {},
   "outputs": [
    {
     "name": "stdout",
     "output_type": "stream",
     "text": [
      "Total number of ID's: 10348\n",
      "# of NaN: 4535\n",
      "# of duplicates: 0 (exklusive NaN)\n"
     ]
    }
   ],
   "source": [
    "print(\"Total number of ID's:\", len(df.id))\n",
    "print(\"# of NaN:\", int(df[['id']].isna().sum()))\n",
    "print(\"# of duplicates:\", df.id.duplicated().sum() - int(df[['id']].isna().sum() - 1), \"(exklusive NaN)\")"
   ]
  },
  {
   "cell_type": "markdown",
   "metadata": {},
   "source": [
    "4535 fehlende ID's, alle mit dem Status offer oder offer_rejeceted. Falls wir diese als Primärschlüssel nutzen wollen evtl. künstlich hinzufügen?"
   ]
  },
  {
   "cell_type": "markdown",
   "metadata": {},
   "source": [
    "### Column: user_id"
   ]
  },
  {
   "cell_type": "code",
   "execution_count": 6,
   "metadata": {},
   "outputs": [
    {
     "name": "stdout",
     "output_type": "stream",
     "text": [
      "# of NaN: 0\n",
      "# of duplicates: 9565 (exklusive NaN)\n"
     ]
    }
   ],
   "source": [
    "print(\"# of NaN:\", int(df[['user_id']].isna().sum()))\n",
    "print(\"# of duplicates:\", df.user_id.duplicated().sum() - int(df[['user_id']].isna().sum()), \"(exklusive NaN)\")"
   ]
  },
  {
   "cell_type": "markdown",
   "metadata": {},
   "source": [
    "### Column: distance"
   ]
  },
  {
   "cell_type": "code",
   "execution_count": 7,
   "metadata": {},
   "outputs": [
    {
     "name": "stdout",
     "output_type": "stream",
     "text": [
      "# of NaN: 0\n",
      "# of neg: 0\n",
      "# of zero: 0\n",
      "# of ones: 14\n"
     ]
    }
   ],
   "source": [
    "print(\"# of NaN:\", int(df[['distance']].isna().sum()))\n",
    "print(\"# of neg:\", len(df.loc[(df.distance < 0)]))\n",
    "print(\"# of zero:\", len(df.loc[(df.distance == 0)]))\n",
    "print(\"# of ones:\", len(df.loc[(df.distance == 1)]))"
   ]
  },
  {
   "cell_type": "code",
   "execution_count": 8,
   "metadata": {},
   "outputs": [
    {
     "data": {
      "text/html": [
       "<div>\n",
       "<style scoped>\n",
       "    .dataframe tbody tr th:only-of-type {\n",
       "        vertical-align: middle;\n",
       "    }\n",
       "\n",
       "    .dataframe tbody tr th {\n",
       "        vertical-align: top;\n",
       "    }\n",
       "\n",
       "    .dataframe thead th {\n",
       "        text-align: right;\n",
       "    }\n",
       "</style>\n",
       "<table border=\"1\" class=\"dataframe\">\n",
       "  <thead>\n",
       "    <tr style=\"text-align: right;\">\n",
       "      <th></th>\n",
       "      <th>pickup_address</th>\n",
       "      <th>dropoff_address</th>\n",
       "      <th>isSameAddress</th>\n",
       "    </tr>\n",
       "  </thead>\n",
       "  <tbody>\n",
       "    <tr>\n",
       "      <th>37</th>\n",
       "      <td>49.322557|8.12336</td>\n",
       "      <td>49.322557|8.12336</td>\n",
       "      <td>True</td>\n",
       "    </tr>\n",
       "    <tr>\n",
       "      <th>49</th>\n",
       "      <td>Haardter Winzer</td>\n",
       "      <td>Haardter Winzer</td>\n",
       "      <td>True</td>\n",
       "    </tr>\n",
       "    <tr>\n",
       "      <th>114</th>\n",
       "      <td>Am Herzel West</td>\n",
       "      <td>Am Herzel West</td>\n",
       "      <td>True</td>\n",
       "    </tr>\n",
       "    <tr>\n",
       "      <th>418</th>\n",
       "      <td>TC Rot-Weiß</td>\n",
       "      <td>TC Rot-Weiß</td>\n",
       "      <td>True</td>\n",
       "    </tr>\n",
       "    <tr>\n",
       "      <th>9502</th>\n",
       "      <td>Schütt</td>\n",
       "      <td>Schütt</td>\n",
       "      <td>True</td>\n",
       "    </tr>\n",
       "    <tr>\n",
       "      <th>9563</th>\n",
       "      <td>49.330245|8.130933</td>\n",
       "      <td>49.330245|8.130933</td>\n",
       "      <td>True</td>\n",
       "    </tr>\n",
       "    <tr>\n",
       "      <th>9697</th>\n",
       "      <td>49.351731|8.136637</td>\n",
       "      <td>49.351731|8.136637</td>\n",
       "      <td>True</td>\n",
       "    </tr>\n",
       "    <tr>\n",
       "      <th>9828</th>\n",
       "      <td>49.376347|8.153444</td>\n",
       "      <td>49.376347|8.153444</td>\n",
       "      <td>True</td>\n",
       "    </tr>\n",
       "    <tr>\n",
       "      <th>9903</th>\n",
       "      <td>49.316193|8.135477</td>\n",
       "      <td>49.316193|8.135477</td>\n",
       "      <td>True</td>\n",
       "    </tr>\n",
       "    <tr>\n",
       "      <th>10020</th>\n",
       "      <td>Schütt</td>\n",
       "      <td>Schütt</td>\n",
       "      <td>True</td>\n",
       "    </tr>\n",
       "    <tr>\n",
       "      <th>10227</th>\n",
       "      <td>49.35552|8.136674</td>\n",
       "      <td>49.35552|8.136674</td>\n",
       "      <td>True</td>\n",
       "    </tr>\n",
       "    <tr>\n",
       "      <th>10294</th>\n",
       "      <td>49.376347|8.153444</td>\n",
       "      <td>49.376347|8.153444</td>\n",
       "      <td>True</td>\n",
       "    </tr>\n",
       "    <tr>\n",
       "      <th>10297</th>\n",
       "      <td>Le Quartier Hornbach</td>\n",
       "      <td>Le Quartier Hornbach</td>\n",
       "      <td>True</td>\n",
       "    </tr>\n",
       "    <tr>\n",
       "      <th>10331</th>\n",
       "      <td>Strohmarkt</td>\n",
       "      <td>Strohmarkt</td>\n",
       "      <td>True</td>\n",
       "    </tr>\n",
       "  </tbody>\n",
       "</table>\n",
       "</div>"
      ],
      "text/plain": [
       "             pickup_address       dropoff_address  isSameAddress\n",
       "37        49.322557|8.12336     49.322557|8.12336           True\n",
       "49          Haardter Winzer       Haardter Winzer           True\n",
       "114          Am Herzel West        Am Herzel West           True\n",
       "418             TC Rot-Weiß           TC Rot-Weiß           True\n",
       "9502                 Schütt                Schütt           True\n",
       "9563     49.330245|8.130933    49.330245|8.130933           True\n",
       "9697     49.351731|8.136637    49.351731|8.136637           True\n",
       "9828     49.376347|8.153444    49.376347|8.153444           True\n",
       "9903     49.316193|8.135477    49.316193|8.135477           True\n",
       "10020                Schütt                Schütt           True\n",
       "10227     49.35552|8.136674     49.35552|8.136674           True\n",
       "10294    49.376347|8.153444    49.376347|8.153444           True\n",
       "10297  Le Quartier Hornbach  Le Quartier Hornbach           True\n",
       "10331            Strohmarkt            Strohmarkt           True"
      ]
     },
     "execution_count": 8,
     "metadata": {},
     "output_type": "execute_result"
    }
   ],
   "source": [
    "comparison = np.where(df['pickup_address'] == df['dropoff_address'], True, False)\n",
    "df.loc[:, 'isSameAddress'] = comparison\n",
    "mask = df['distance']==1\n",
    "df[mask][['pickup_address', 'dropoff_address', 'isSameAddress']]"
   ]
  },
  {
   "cell_type": "markdown",
   "metadata": {},
   "source": [
    "### Column: number_of_passenger"
   ]
  },
  {
   "cell_type": "code",
   "execution_count": 9,
   "metadata": {},
   "outputs": [
    {
     "name": "stdout",
     "output_type": "stream",
     "text": [
      "# of NaN: 4535\n",
      "# of neg: 0\n",
      "# of zero: 0\n",
      "# of pos: 5813\n",
      "Max # of passengers: 5.0\n"
     ]
    }
   ],
   "source": [
    "print(\"# of NaN:\", int(df[['number_of_passenger']].isna().sum()))\n",
    "print(\"# of neg:\", len(df.loc[(df.number_of_passenger < 0)]))\n",
    "print(\"# of zero:\", len(df.loc[(df.number_of_passenger == 0)]))\n",
    "print(\"# of pos:\", len(df.loc[(df.number_of_passenger > 0)]))\n",
    "print('Max # of passengers:', df['number_of_passenger'].max())"
   ]
  },
  {
   "cell_type": "markdown",
   "metadata": {},
   "source": [
    "NaN Zeilen sind auf die offer oder offer_rejected zurückzuführen. Wenn man diese beachtet könnte man 0 hinzufügen."
   ]
  },
  {
   "cell_type": "markdown",
   "metadata": {},
   "source": [
    "### Column: price_operations"
   ]
  },
  {
   "cell_type": "code",
   "execution_count": 10,
   "metadata": {},
   "outputs": [
    {
     "name": "stdout",
     "output_type": "stream",
     "text": [
      "# of NaN: 1204\n",
      "# of neg: 0\n",
      "# of zero: 458\n",
      "# of pos: 8686\n",
      "Min price: 0.0\n",
      "Max price: 33.1\n"
     ]
    }
   ],
   "source": [
    "print(\"# of NaN:\", int(df[['price_operations']].isna().sum()))\n",
    "print(\"# of neg:\", len(df.loc[(df.price_operations < 0)]))\n",
    "print(\"# of zero:\", len(df.loc[(df.price_operations == 0)]))\n",
    "print(\"# of pos:\", len(df.loc[(df.price_operations > 0)]))\n",
    "print('Min price:', df['price_operations'].min())\n",
    "print('Max price:', df['price_operations'].max())"
   ]
  },
  {
   "cell_type": "markdown",
   "metadata": {},
   "source": [
    "### Column: price_offer"
   ]
  },
  {
   "cell_type": "code",
   "execution_count": 11,
   "metadata": {},
   "outputs": [
    {
     "name": "stdout",
     "output_type": "stream",
     "text": [
      "# of NaN: 4535\n",
      "# of neg: 0\n",
      "# of zero: 0\n",
      "# of pos: 5813\n",
      "Min price: 0.8\n",
      "Max price: 32.3\n"
     ]
    }
   ],
   "source": [
    "print(\"# of NaN:\", int(df[['price_offer']].isna().sum()))\n",
    "print(\"# of neg:\", len(df.loc[(df.price_offer < 0)]))\n",
    "print(\"# of zero:\", len(df.loc[(df.price_offer == 0)]))\n",
    "print(\"# of pos:\", len(df.loc[(df.price_offer > 0)]))\n",
    "print('Min price:', df['price_offer'].min())\n",
    "print('Max price:', df['price_offer'].max())"
   ]
  },
  {
   "cell_type": "markdown",
   "metadata": {},
   "source": [
    "### Column: price_payed"
   ]
  },
  {
   "cell_type": "code",
   "execution_count": 12,
   "metadata": {},
   "outputs": [
    {
     "name": "stdout",
     "output_type": "stream",
     "text": [
      "# of NaN: 4535\n",
      "# of neg: 0\n",
      "# of zero: 1322\n",
      "# of pos: 4491\n",
      "Min price: 0.0\n",
      "Max price: 555.33\n"
     ]
    }
   ],
   "source": [
    "print(\"# of NaN:\", int(df[['price_payed']].isna().sum()))\n",
    "print(\"# of neg:\", len(df.loc[(df.price_payed < 0)]))\n",
    "print(\"# of zero:\", len(df.loc[(df.price_payed == 0)]))\n",
    "print(\"# of pos:\", len(df.loc[(df.price_payed > 0)]))\n",
    "print('Min price:', df['price_payed'].min())\n",
    "print('Max price:', df['price_payed'].max())"
   ]
  },
  {
   "cell_type": "markdown",
   "metadata": {},
   "source": [
    "### Column: free_ride"
   ]
  },
  {
   "cell_type": "code",
   "execution_count": 13,
   "metadata": {},
   "outputs": [
    {
     "name": "stdout",
     "output_type": "stream",
     "text": [
      "# of NaN: 4535\n"
     ]
    },
    {
     "data": {
      "text/plain": [
       "0.0    5170\n",
       "1.0     643\n",
       "Name: free_ride, dtype: int64"
      ]
     },
     "execution_count": 13,
     "metadata": {},
     "output_type": "execute_result"
    }
   ],
   "source": [
    "print(\"# of NaN:\", int(df[['free_ride']].isna().sum()))\n",
    "df.free_ride.value_counts()"
   ]
  },
  {
   "cell_type": "markdown",
   "metadata": {},
   "source": [
    "### Column: payment_type"
   ]
  },
  {
   "cell_type": "code",
   "execution_count": 14,
   "metadata": {},
   "outputs": [
    {
     "name": "stdout",
     "output_type": "stream",
     "text": [
      "# of NaN: 0\n"
     ]
    },
    {
     "data": {
      "text/plain": [
       "STANDARD     5431\n",
       "VRN          3373\n",
       "BAHN_CARD    1544\n",
       "Name: payment_type, dtype: int64"
      ]
     },
     "execution_count": 14,
     "metadata": {},
     "output_type": "execute_result"
    }
   ],
   "source": [
    "print(\"# of NaN:\", int(df[['payment_type']].isna().sum()))\n",
    "df.payment_type.value_counts()"
   ]
  },
  {
   "cell_type": "markdown",
   "metadata": {},
   "source": [
    "### Column: pickup_address and dropoff_address"
   ]
  },
  {
   "cell_type": "code",
   "execution_count": 15,
   "metadata": {},
   "outputs": [
    {
     "name": "stdout",
     "output_type": "stream",
     "text": [
      "# of NaN: 0\n",
      "# of NaN: 0\n"
     ]
    }
   ],
   "source": [
    "print(\"# of NaN:\", int(df[['pickup_address']].isna().sum()))\n",
    "print(\"# of NaN:\", int(df[['dropoff_address']].isna().sum()))"
   ]
  },
  {
   "cell_type": "code",
   "execution_count": 16,
   "metadata": {},
   "outputs": [
    {
     "name": "stdout",
     "output_type": "stream",
     "text": [
      "True     6908\n",
      "False    3440\n",
      "Name: pickup_address, dtype: int64\n",
      "True     6935\n",
      "False    3413\n",
      "Name: dropoff_address, dtype: int64\n"
     ]
    }
   ],
   "source": [
    "print(df['pickup_address'].isin(df_stops['MoDStop Name']).value_counts())\n",
    "print(df['dropoff_address'].isin(df_stops['MoDStop Name']).value_counts())"
   ]
  },
  {
   "cell_type": "code",
   "execution_count": 17,
   "metadata": {},
   "outputs": [],
   "source": [
    "df_a = pd.DataFrame(columns=['start_id','end_id'])\n",
    "\n",
    "def get_stop_id(address):\n",
    "    if address[0].isdigit():\n",
    "        lat = address.split(\"|\")[0]\n",
    "        long = address.split(\"|\")[1]\n",
    "        for index, row in df_stops.iterrows():\n",
    "            if str(row[\"MoDStop Lat\"]) == lat and str(row[\"MoDStop Long\"]) == long:\n",
    "                return row[\"MoDStop Id\"]\n",
    "        return \"No match of lat and long\"\n",
    "    else:\n",
    "        # different naming\n",
    "        if address == \"Rewe Mußbach\":\n",
    "            address = address + \" (Shoppenwiese)\"\n",
    "        for index, row in df_stops.iterrows():\n",
    "            if row[\"MoDStop Name\"] == address:\n",
    "                return row[\"MoDStop Id\"]\n",
    "        return \"No match of address name\""
   ]
  },
  {
   "cell_type": "code",
   "execution_count": 18,
   "metadata": {},
   "outputs": [
    {
     "data": {
      "text/html": [
       "<div>\n",
       "<style scoped>\n",
       "    .dataframe tbody tr th:only-of-type {\n",
       "        vertical-align: middle;\n",
       "    }\n",
       "\n",
       "    .dataframe tbody tr th {\n",
       "        vertical-align: top;\n",
       "    }\n",
       "\n",
       "    .dataframe thead th {\n",
       "        text-align: right;\n",
       "    }\n",
       "</style>\n",
       "<table border=\"1\" class=\"dataframe\">\n",
       "  <thead>\n",
       "    <tr style=\"text-align: right;\">\n",
       "      <th></th>\n",
       "      <th>start_id</th>\n",
       "      <th>end_id</th>\n",
       "    </tr>\n",
       "  </thead>\n",
       "  <tbody>\n",
       "    <tr>\n",
       "      <th>0</th>\n",
       "      <td>No match of address name</td>\n",
       "      <td>6004</td>\n",
       "    </tr>\n",
       "    <tr>\n",
       "      <th>1</th>\n",
       "      <td>2007</td>\n",
       "      <td>3025</td>\n",
       "    </tr>\n",
       "    <tr>\n",
       "      <th>2</th>\n",
       "      <td>10003</td>\n",
       "      <td>6004</td>\n",
       "    </tr>\n",
       "    <tr>\n",
       "      <th>3</th>\n",
       "      <td>14003</td>\n",
       "      <td>7001</td>\n",
       "    </tr>\n",
       "    <tr>\n",
       "      <th>4</th>\n",
       "      <td>4027</td>\n",
       "      <td>1008</td>\n",
       "    </tr>\n",
       "  </tbody>\n",
       "</table>\n",
       "</div>"
      ],
      "text/plain": [
       "                   start_id end_id\n",
       "0  No match of address name   6004\n",
       "1                      2007   3025\n",
       "2                     10003   6004\n",
       "3                     14003   7001\n",
       "4                      4027   1008"
      ]
     },
     "execution_count": 18,
     "metadata": {},
     "output_type": "execute_result"
    }
   ],
   "source": [
    "for index, row in df.iterrows():\n",
    "    df_a.at[index, 'start_id'] = get_stop_id(row['pickup_address'])\n",
    "    df_a.at[index, 'end_id'] = get_stop_id(row['dropoff_address'])\n",
    "df_a.head()"
   ]
  },
  {
   "cell_type": "code",
   "execution_count": 21,
   "metadata": {},
   "outputs": [
    {
     "data": {
      "text/html": [
       "<div>\n",
       "<style scoped>\n",
       "    .dataframe tbody tr th:only-of-type {\n",
       "        vertical-align: middle;\n",
       "    }\n",
       "\n",
       "    .dataframe tbody tr th {\n",
       "        vertical-align: top;\n",
       "    }\n",
       "\n",
       "    .dataframe thead th {\n",
       "        text-align: right;\n",
       "    }\n",
       "</style>\n",
       "<table border=\"1\" class=\"dataframe\">\n",
       "  <thead>\n",
       "    <tr style=\"text-align: right;\">\n",
       "      <th></th>\n",
       "      <th>start_id</th>\n",
       "      <th>end_id</th>\n",
       "      <th>state_x</th>\n",
       "      <th>offer</th>\n",
       "      <th>state_y</th>\n",
       "      <th>state</th>\n",
       "    </tr>\n",
       "  </thead>\n",
       "  <tbody>\n",
       "    <tr>\n",
       "      <th>0</th>\n",
       "      <td>No match of address name</td>\n",
       "      <td>6004</td>\n",
       "      <td>completed</td>\n",
       "      <td>0</td>\n",
       "      <td>completed</td>\n",
       "      <td>completed</td>\n",
       "    </tr>\n",
       "    <tr>\n",
       "      <th>1</th>\n",
       "      <td>2007</td>\n",
       "      <td>3025</td>\n",
       "      <td>canceled</td>\n",
       "      <td>0</td>\n",
       "      <td>canceled</td>\n",
       "      <td>canceled</td>\n",
       "    </tr>\n",
       "    <tr>\n",
       "      <th>2</th>\n",
       "      <td>10003</td>\n",
       "      <td>6004</td>\n",
       "      <td>completed</td>\n",
       "      <td>0</td>\n",
       "      <td>completed</td>\n",
       "      <td>completed</td>\n",
       "    </tr>\n",
       "    <tr>\n",
       "      <th>3</th>\n",
       "      <td>14003</td>\n",
       "      <td>7001</td>\n",
       "      <td>canceled</td>\n",
       "      <td>0</td>\n",
       "      <td>canceled</td>\n",
       "      <td>canceled</td>\n",
       "    </tr>\n",
       "    <tr>\n",
       "      <th>4</th>\n",
       "      <td>4027</td>\n",
       "      <td>1008</td>\n",
       "      <td>offer</td>\n",
       "      <td>0</td>\n",
       "      <td>offer</td>\n",
       "      <td>offer</td>\n",
       "    </tr>\n",
       "    <tr>\n",
       "      <th>...</th>\n",
       "      <td>...</td>\n",
       "      <td>...</td>\n",
       "      <td>...</td>\n",
       "      <td>...</td>\n",
       "      <td>...</td>\n",
       "      <td>...</td>\n",
       "    </tr>\n",
       "    <tr>\n",
       "      <th>10343</th>\n",
       "      <td>1009</td>\n",
       "      <td>7001</td>\n",
       "      <td>completed</td>\n",
       "      <td>0</td>\n",
       "      <td>completed</td>\n",
       "      <td>completed</td>\n",
       "    </tr>\n",
       "    <tr>\n",
       "      <th>10344</th>\n",
       "      <td>3005</td>\n",
       "      <td>15013</td>\n",
       "      <td>offer</td>\n",
       "      <td>0</td>\n",
       "      <td>offer</td>\n",
       "      <td>offer</td>\n",
       "    </tr>\n",
       "    <tr>\n",
       "      <th>10345</th>\n",
       "      <td>1007</td>\n",
       "      <td>14003</td>\n",
       "      <td>completed</td>\n",
       "      <td>0</td>\n",
       "      <td>completed</td>\n",
       "      <td>completed</td>\n",
       "    </tr>\n",
       "    <tr>\n",
       "      <th>10346</th>\n",
       "      <td>3006</td>\n",
       "      <td>3022</td>\n",
       "      <td>offer</td>\n",
       "      <td>0</td>\n",
       "      <td>offer</td>\n",
       "      <td>offer</td>\n",
       "    </tr>\n",
       "    <tr>\n",
       "      <th>10347</th>\n",
       "      <td>1008</td>\n",
       "      <td>12005</td>\n",
       "      <td>offer-rejected</td>\n",
       "      <td>0</td>\n",
       "      <td>offer-rejected</td>\n",
       "      <td>offer-rejected</td>\n",
       "    </tr>\n",
       "  </tbody>\n",
       "</table>\n",
       "<p>10348 rows × 6 columns</p>\n",
       "</div>"
      ],
      "text/plain": [
       "                       start_id end_id         state_x  offer         state_y  \\\n",
       "0      No match of address name   6004       completed      0       completed   \n",
       "1                          2007   3025        canceled      0        canceled   \n",
       "2                         10003   6004       completed      0       completed   \n",
       "3                         14003   7001        canceled      0        canceled   \n",
       "4                          4027   1008           offer      0           offer   \n",
       "...                         ...    ...             ...    ...             ...   \n",
       "10343                      1009   7001       completed      0       completed   \n",
       "10344                      3005  15013           offer      0           offer   \n",
       "10345                      1007  14003       completed      0       completed   \n",
       "10346                      3006   3022           offer      0           offer   \n",
       "10347                      1008  12005  offer-rejected      0  offer-rejected   \n",
       "\n",
       "                state  \n",
       "0           completed  \n",
       "1            canceled  \n",
       "2           completed  \n",
       "3            canceled  \n",
       "4               offer  \n",
       "...               ...  \n",
       "10343       completed  \n",
       "10344           offer  \n",
       "10345       completed  \n",
       "10346           offer  \n",
       "10347  offer-rejected  \n",
       "\n",
       "[10348 rows x 6 columns]"
      ]
     },
     "execution_count": 21,
     "metadata": {},
     "output_type": "execute_result"
    }
   ],
   "source": [
    "df_a = pd.merge(df_a, df.state, left_index=True, right_index=True)\n",
    "df_a"
   ]
  },
  {
   "cell_type": "code",
   "execution_count": 182,
   "metadata": {},
   "outputs": [
    {
     "data": {
      "text/html": [
       "<div>\n",
       "<style scoped>\n",
       "    .dataframe tbody tr th:only-of-type {\n",
       "        vertical-align: middle;\n",
       "    }\n",
       "\n",
       "    .dataframe tbody tr th {\n",
       "        vertical-align: top;\n",
       "    }\n",
       "\n",
       "    .dataframe thead th {\n",
       "        text-align: right;\n",
       "    }\n",
       "</style>\n",
       "<table border=\"1\" class=\"dataframe\">\n",
       "  <thead>\n",
       "    <tr style=\"text-align: right;\">\n",
       "      <th></th>\n",
       "      <th>start_id</th>\n",
       "      <th>end_id</th>\n",
       "      <th>offer</th>\n",
       "      <th>state</th>\n",
       "    </tr>\n",
       "  </thead>\n",
       "  <tbody>\n",
       "    <tr>\n",
       "      <th>0</th>\n",
       "      <td>No match of address name</td>\n",
       "      <td>6004</td>\n",
       "      <td>0</td>\n",
       "      <td>completed</td>\n",
       "    </tr>\n",
       "    <tr>\n",
       "      <th>1</th>\n",
       "      <td>2007</td>\n",
       "      <td>3025</td>\n",
       "      <td>0</td>\n",
       "      <td>canceled</td>\n",
       "    </tr>\n",
       "    <tr>\n",
       "      <th>2</th>\n",
       "      <td>10003</td>\n",
       "      <td>6004</td>\n",
       "      <td>0</td>\n",
       "      <td>completed</td>\n",
       "    </tr>\n",
       "    <tr>\n",
       "      <th>3</th>\n",
       "      <td>14003</td>\n",
       "      <td>7001</td>\n",
       "      <td>0</td>\n",
       "      <td>canceled</td>\n",
       "    </tr>\n",
       "    <tr>\n",
       "      <th>4</th>\n",
       "      <td>4027</td>\n",
       "      <td>1008</td>\n",
       "      <td>0</td>\n",
       "      <td>offer</td>\n",
       "    </tr>\n",
       "    <tr>\n",
       "      <th>...</th>\n",
       "      <td>...</td>\n",
       "      <td>...</td>\n",
       "      <td>...</td>\n",
       "      <td>...</td>\n",
       "    </tr>\n",
       "    <tr>\n",
       "      <th>10343</th>\n",
       "      <td>1009</td>\n",
       "      <td>7001</td>\n",
       "      <td>0</td>\n",
       "      <td>completed</td>\n",
       "    </tr>\n",
       "    <tr>\n",
       "      <th>10344</th>\n",
       "      <td>3005</td>\n",
       "      <td>15013</td>\n",
       "      <td>0</td>\n",
       "      <td>offer</td>\n",
       "    </tr>\n",
       "    <tr>\n",
       "      <th>10345</th>\n",
       "      <td>1007</td>\n",
       "      <td>14003</td>\n",
       "      <td>0</td>\n",
       "      <td>completed</td>\n",
       "    </tr>\n",
       "    <tr>\n",
       "      <th>10346</th>\n",
       "      <td>3006</td>\n",
       "      <td>3022</td>\n",
       "      <td>0</td>\n",
       "      <td>offer</td>\n",
       "    </tr>\n",
       "    <tr>\n",
       "      <th>10347</th>\n",
       "      <td>1008</td>\n",
       "      <td>12005</td>\n",
       "      <td>0</td>\n",
       "      <td>offer-rejected</td>\n",
       "    </tr>\n",
       "  </tbody>\n",
       "</table>\n",
       "<p>10348 rows × 4 columns</p>\n",
       "</div>"
      ],
      "text/plain": [
       "                       start_id end_id  offer           state\n",
       "0      No match of address name   6004      0       completed\n",
       "1                          2007   3025      0        canceled\n",
       "2                         10003   6004      0       completed\n",
       "3                         14003   7001      0        canceled\n",
       "4                          4027   1008      0           offer\n",
       "...                         ...    ...    ...             ...\n",
       "10343                      1009   7001      0       completed\n",
       "10344                      3005  15013      0           offer\n",
       "10345                      1007  14003      0       completed\n",
       "10346                      3006   3022      0           offer\n",
       "10347                      1008  12005      0  offer-rejected\n",
       "\n",
       "[10348 rows x 4 columns]"
      ]
     },
     "execution_count": 182,
     "metadata": {},
     "output_type": "execute_result"
    }
   ],
   "source": [
    "\n",
    "    "
   ]
  },
  {
   "cell_type": "markdown",
   "metadata": {},
   "source": [
    "### Column: state"
   ]
  },
  {
   "cell_type": "markdown",
   "metadata": {},
   "source": [
    "### Column: created_from_offer"
   ]
  },
  {
   "cell_type": "markdown",
   "metadata": {},
   "source": [
    "### Column: created_at"
   ]
  },
  {
   "cell_type": "markdown",
   "metadata": {},
   "source": [
    "### Column: scheduled_to"
   ]
  },
  {
   "cell_type": "markdown",
   "metadata": {},
   "source": [
    "### Column: dispatched_at"
   ]
  },
  {
   "cell_type": "markdown",
   "metadata": {},
   "source": [
    "### Column: canceled_at"
   ]
  },
  {
   "cell_type": "markdown",
   "metadata": {},
   "source": [
    "### Column: pickup_arrival_time"
   ]
  },
  {
   "cell_type": "markdown",
   "metadata": {},
   "source": [
    "### Column: arriving_push"
   ]
  },
  {
   "cell_type": "markdown",
   "metadata": {},
   "source": [
    "### Column: vehicle_arrived_at"
   ]
  },
  {
   "cell_type": "markdown",
   "metadata": {},
   "source": [
    "### Column: earliest_pickup_expectation"
   ]
  },
  {
   "cell_type": "markdown",
   "metadata": {},
   "source": [
    "### Column: pickup_first_eta"
   ]
  },
  {
   "cell_type": "markdown",
   "metadata": {},
   "source": [
    "### Column: pickup_at"
   ]
  },
  {
   "cell_type": "markdown",
   "metadata": {},
   "source": [
    "### Column: dropoff_first_eta"
   ]
  },
  {
   "cell_type": "markdown",
   "metadata": {},
   "source": [
    "### Column: dropoff_eta"
   ]
  },
  {
   "cell_type": "markdown",
   "metadata": {},
   "source": [
    "### Column: dropoff_at"
   ]
  },
  {
   "cell_type": "markdown",
   "metadata": {},
   "source": [
    "### Column: updated_at"
   ]
  },
  {
   "cell_type": "markdown",
   "metadata": {},
   "source": [
    "### Column: arrival_destination"
   ]
  },
  {
   "cell_type": "markdown",
   "metadata": {},
   "source": [
    "### Column: waiting_time"
   ]
  },
  {
   "cell_type": "markdown",
   "metadata": {},
   "source": [
    "### Column: boarding_time"
   ]
  },
  {
   "cell_type": "markdown",
   "metadata": {},
   "source": [
    "### Column: ride_time"
   ]
  },
  {
   "cell_type": "markdown",
   "metadata": {},
   "source": [
    "### Column: trip_time"
   ]
  },
  {
   "cell_type": "markdown",
   "metadata": {},
   "source": [
    "### Column: shortest_ridetime"
   ]
  },
  {
   "cell_type": "markdown",
   "metadata": {},
   "source": [
    "### Column: delay"
   ]
  },
  {
   "cell_type": "markdown",
   "metadata": {},
   "source": [
    "### Column: longer_route_factor"
   ]
  },
  {
   "cell_type": "markdown",
   "metadata": {},
   "source": [
    "### Column: arrival indicator"
   ]
  }
 ],
 "metadata": {
  "interpreter": {
   "hash": "31f2aee4e71d21fbe5cf8b01ff0e069b9275f58929596ceb00d14d90e3e16cd6"
  },
  "kernelspec": {
   "display_name": "Python 3.8.9 64-bit",
   "language": "python",
   "name": "python3"
  },
  "language_info": {
   "codemirror_mode": {
    "name": "ipython",
    "version": 3
   },
   "file_extension": ".py",
   "mimetype": "text/x-python",
   "name": "python",
   "nbconvert_exporter": "python",
   "pygments_lexer": "ipython3",
   "version": "3.8.9"
  },
  "orig_nbformat": 4
 },
 "nbformat": 4,
 "nbformat_minor": 2
}
