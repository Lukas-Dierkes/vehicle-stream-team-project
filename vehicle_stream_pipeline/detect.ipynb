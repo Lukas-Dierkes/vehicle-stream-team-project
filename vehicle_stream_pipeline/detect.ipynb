{
 "cells": [
  {
   "cell_type": "code",
   "execution_count": 1,
   "metadata": {},
   "outputs": [],
   "source": [
    "import pandas as pd\n",
    "import numpy as np\n",
    "from numpy import NaN\n",
    "import datetime as dt \n",
    "from datetime import timedelta\n",
    "pd.set_option(\"display.max_columns\", None)"
   ]
  },
  {
   "cell_type": "code",
   "execution_count": 2,
   "metadata": {},
   "outputs": [],
   "source": [
    "# read rides_combined.csv - change to your loaction\n",
    "df = pd.read_csv(\n",
    "    \"/Users/ericchittka/Documents/GitHub/vehicle-stream-team-project/data/rides_combined.csv\"\n",
    ")\n",
    "# check the types of the dataframe columns \n",
    "#df.dtypes"
   ]
  },
  {
   "cell_type": "code",
   "execution_count": 3,
   "metadata": {},
   "outputs": [],
   "source": [
    "# convert all column with dates into datetime objects \n",
    "df['created_at'] = pd.to_datetime(df['created_at'])\n",
    "df['scheduled_to'] = pd.to_datetime(df['scheduled_to'])\n",
    "df['dispatched_at'] = pd.to_datetime(df['dispatched_at'])\n",
    "df['canceled_at'] = pd.to_datetime(df['canceled_at'])\n",
    "df['arriving_push'] = pd.to_datetime(df['arriving_push'])\n",
    "df['vehicle_arrived_at'] = pd.to_datetime(df['vehicle_arrived_at'])\n",
    "df['earliest_pickup_expectation'] = pd.to_datetime(df['earliest_pickup_expectation'])\n",
    "df['pickup_first_eta'] = pd.to_datetime(df['pickup_first_eta'])\n",
    "df['pickup_eta'] = pd.to_datetime(df['pickup_eta'])\n",
    "df['pickup_at'] = pd.to_datetime(df['pickup_at'])\n",
    "df['dropoff_first_eta'] = pd.to_datetime(df['dropoff_first_eta'])\n",
    "df['dropoff_eta'] = pd.to_datetime(df['dropoff_eta'])\n",
    "df['dropoff_at'] = pd.to_datetime(df['dropoff_at'])\n",
    "df['updated_at'] = pd.to_datetime(df['updated_at'])"
   ]
  },
  {
   "cell_type": "markdown",
   "metadata": {},
   "source": [
    "### Timestamp Ordering "
   ]
  },
  {
   "cell_type": "code",
   "execution_count": 4,
   "metadata": {},
   "outputs": [],
   "source": [
    "# check if clean is before the scheduled time  \n",
    "def check_created_ordering(df):\n",
    "    # create a list of our conditions\n",
    "    conditions = [\n",
    "        df['created_at'] > df['scheduled_to'],\n",
    "        df['created_at'] > df['dispatched_at'],\n",
    "        df['created_at'] > df['arriving_push'],\n",
    "        df['created_at'] > df['vehicle_arrived_at'],\n",
    "        df['created_at'] > df['earliest_pickup_expectation'],\n",
    "        df['created_at'] > df['pickup_first_eta'],\n",
    "        df['created_at'] > df['pickup_eta'],\n",
    "        df['created_at'] > df['pickup_at'],\n",
    "        df['created_at'] > df['dropoff_first_eta'],\n",
    "        df['created_at'] > df['dropoff_eta'],\n",
    "        df['created_at'] > df['dropoff_at'],\n",
    "        df['created_at'] > df['updated_at'],\n",
    "        df['created_at'] > df['canceled_at']\n",
    "        ]\n",
    "        \n",
    "    # create a list of the values we want to assign for each condition\n",
    "    values = [\n",
    "        'Created > Scheduled',\n",
    "        'Created > Dispatched', \n",
    "        'Created > ArrivingPush', \n",
    "        'Created > VehicleArrivedAt', \n",
    "        'Created > EarliestPickupExpectations', \n",
    "        'Created > PickupFirstEta', \n",
    "        'Created > PickupEta', \n",
    "        'Created > PickupAt', \n",
    "        'Created > DropoffFirstEta', \n",
    "        'Created > DropoffEta', \n",
    "        'Created > DropoffAt', \n",
    "        'Created > UpdatedAt', \n",
    "        'Created > CanceledAt'\n",
    "        ]\n",
    "        \n",
    "    # create error-column \n",
    "    df['Error: Created ordering'] = np.select(\n",
    "    conditions,\n",
    "    values, \n",
    "    'Correct'\n",
    "    )\n",
    "    return df['Error: Created ordering'] \n",
    "\n",
    "# update the dataframe \n",
    "df['Error: Created ordering'] = check_created_ordering(df)\n"
   ]
  },
  {
   "cell_type": "code",
   "execution_count": 5,
   "metadata": {},
   "outputs": [],
   "source": [
    "def check_scheduled_ordering(df):\n",
    "    # create a list of our conditions\n",
    "    conditions = [\n",
    "        df['scheduled_to'] < df['dispatched_at'],\n",
    "        df['scheduled_to'] > df['pickup_eta'],\n",
    "        df['scheduled_to'] > df['pickup_at'],\n",
    "        df['scheduled_to'] > df['dropoff_first_eta'],\n",
    "        df['scheduled_to'] > df['dropoff_eta'],\n",
    "        df['scheduled_to'] > df['dropoff_at'],\n",
    "        df['scheduled_to'] > df['canceled_at']\n",
    "        ]\n",
    "        \n",
    "    # create a list of the values we want to assign for each condition\n",
    "    values = [        \n",
    "        'Scheduled < Dispatched',                 \n",
    "        'Scheduled > PickupEta', \n",
    "        'Scheduled > PickupAt', \n",
    "        'Scheduled > DropoffFirstEta', \n",
    "        'Scheduled > DropoffEta', \n",
    "        'Scheduled > DropoffAt', \n",
    "        'Scheduled > CanceledAt'\n",
    "        ]\n",
    "        \n",
    "    # create error-column \n",
    "    df['Error: Scheduled ordering'] = np.select(\n",
    "    conditions,\n",
    "    values, \n",
    "    'Correct'\n",
    "    )\n",
    "    return df['Error: Scheduled ordering']\n",
    "\n",
    "# update the dataframe \n",
    "df['Error: Scheduled ordering'] = check_scheduled_ordering(df)"
   ]
  },
  {
   "cell_type": "code",
   "execution_count": 6,
   "metadata": {},
   "outputs": [],
   "source": [
    "def check_dispatched_ordering(df):\n",
    "    # create a list of our conditions\n",
    "    conditions = [\n",
    "        df['dispatched_at'] > df['arriving_push'],\n",
    "        df['dispatched_at'] > df['vehicle_arrived_at'],\n",
    "        df['dispatched_at'] > df['earliest_pickup_expectation'],\n",
    "        df['dispatched_at'] > df['pickup_first_eta'],\n",
    "        df['dispatched_at'] > df['pickup_eta'],\n",
    "        df['dispatched_at'] > df['pickup_at'],\n",
    "        df['dispatched_at'] > df['dropoff_first_eta'],\n",
    "        df['dispatched_at'] > df['dropoff_eta'],\n",
    "        df['dispatched_at'] > df['dropoff_at'],\n",
    "        df['dispatched_at'] > df['updated_at'],\n",
    "        df['dispatched_at'] > df['canceled_at']\n",
    "        ]\n",
    "        \n",
    "    # create a list of the values we want to assign for each condition\n",
    "    values = [\n",
    "        'Dispatched > ArrivingPush', \n",
    "        'Dispatched > VehicleArrivedAt', \n",
    "        'Dispatched > EarliestPickupExpectations', \n",
    "        'Dispatched > PickupFirstEta', \n",
    "        'Dispatched > PickupEta', \n",
    "        'Dispatched > PickupAt', \n",
    "        'Dispatched > DropoffFirstEta', \n",
    "        'Dispatched > DropoffEta', \n",
    "        'Dispatched > DropoffAt', \n",
    "        'Dispatched > UpdatedAt', \n",
    "        'Dispatched > CanceledAt'\n",
    "        ]\n",
    "        \n",
    "    # create error-column \n",
    "    df['Error: Dispatched ordering'] = np.select(\n",
    "    conditions,\n",
    "    values, \n",
    "    'Correct'\n",
    "    )\n",
    "    return df['Error: Dispatched ordering']\n",
    "\n",
    "# update the dataframe \n",
    "df['Error: Dispatched ordering'] = check_dispatched_ordering(df)"
   ]
  },
  {
   "cell_type": "code",
   "execution_count": 7,
   "metadata": {},
   "outputs": [],
   "source": [
    "def check_arriving_push_ordering(df):\n",
    "    # create a list of our conditions\n",
    "    conditions = [\n",
    "        df['arriving_push'] > df['vehicle_arrived_at'],\n",
    "        df['arriving_push'] < df['earliest_pickup_expectation'],\n",
    "        df['arriving_push'] > df['pickup_eta'],\n",
    "        df['arriving_push'] > df['pickup_at'],\n",
    "        df['arriving_push'] > df['dropoff_first_eta'],\n",
    "        df['arriving_push'] > df['dropoff_eta'],\n",
    "        df['arriving_push'] > df['dropoff_at'],\n",
    "        df['arriving_push'] > df['updated_at'],\n",
    "        df['arriving_push'] > df['canceled_at']\n",
    "        ]\n",
    "        \n",
    "    # create a list of the values we want to assign for each condition\n",
    "    values = [         \n",
    "        'ArrivingPush > VehicleArrivedAt', \n",
    "        'ArrivingPush < EarliestPickupExpectations',  \n",
    "        'ArrivingPush > PickupEta', \n",
    "        'ArrivingPush > PickupAt', \n",
    "        'ArrivingPush > DropoffFirstEta', \n",
    "        'ArrivingPush > DropoffEta', \n",
    "        'ArrivingPush > DropoffAt', \n",
    "        'ArrivingPush > UpdatedAt', \n",
    "        'ArrivingPush > CanceledAt'\n",
    "        ]\n",
    "        \n",
    "    # create error-column \n",
    "    df['Error: ArrivingPush ordering'] = np.select(\n",
    "    conditions,\n",
    "    values, \n",
    "    'Correct'\n",
    "    )\n",
    "    return df['Error: ArrivingPush ordering']\n",
    "\n",
    "# update the dataframe \n",
    "df['Error: ArrivingPush ordering'] = check_arriving_push_ordering(df)"
   ]
  },
  {
   "cell_type": "code",
   "execution_count": 8,
   "metadata": {},
   "outputs": [],
   "source": [
    "def check_vehicle_arrived_ordering(df):\n",
    "    # create a list of our conditions\n",
    "    conditions = [\n",
    "        df['vehicle_arrived_at'] > df['earliest_pickup_expectation'],\n",
    "        df['vehicle_arrived_at'] > df['pickup_first_eta'],\n",
    "        df['vehicle_arrived_at'] > df['pickup_eta'],\n",
    "        df['vehicle_arrived_at'] > df['pickup_at'],\n",
    "        df['vehicle_arrived_at'] > df['dropoff_first_eta'],\n",
    "        df['vehicle_arrived_at'] > df['dropoff_eta'],\n",
    "        df['vehicle_arrived_at'] > df['dropoff_at'],\n",
    "        df['vehicle_arrived_at'] > df['updated_at'],\n",
    "        df['vehicle_arrived_at'] > df['canceled_at']\n",
    "        ]\n",
    "        \n",
    "    # create a list of the values we want to assign for each condition\n",
    "    values = [         \n",
    "        'VehicleArrivedAt > EarliestPickupExpectations', \n",
    "        'VehicleArrivedAt > PickupFirstEta', \n",
    "        'VehicleArrivedAt > PickupEta', \n",
    "        'VehicleArrivedAt > PickupAt', \n",
    "        'VehicleArrivedAt > DropoffFirstEta', \n",
    "        'VehicleArrivedAt > DropoffEta', \n",
    "        'VehicleArrivedAt > DropoffAt', \n",
    "        'VehicleArrivedAt > UpdatedAt', \n",
    "        'VehicleArrivedAt > CanceledAt'\n",
    "        ]\n",
    "        \n",
    "    # create error-column \n",
    "    df['Error: VehicleArrived ordering'] = np.select(\n",
    "    conditions,\n",
    "    values, \n",
    "    'Correct'\n",
    "    )\n",
    "    return df['Error: VehicleArrived ordering']\n",
    "\n",
    "# update the dataframe \n",
    "df['Error: VehicleArrived ordering'] = check_vehicle_arrived_ordering(df)"
   ]
  },
  {
   "cell_type": "code",
   "execution_count": 9,
   "metadata": {},
   "outputs": [],
   "source": [
    "def check_eraliest_pickup_expectation_ordering(df):\n",
    "    # create a list of our conditions\n",
    "    conditions = [\n",
    "        df['earliest_pickup_expectation'] > df['pickup_first_eta'],\n",
    "        df['earliest_pickup_expectation'] > df['dropoff_first_eta'],\n",
    "        df['earliest_pickup_expectation'] > df['dropoff_eta'],\n",
    "        df['earliest_pickup_expectation'] > df['dropoff_at'],\n",
    "        df['earliest_pickup_expectation'] > df['updated_at'],\n",
    "        df['earliest_pickup_expectation'] > df['canceled_at']\n",
    "        ]\n",
    "        \n",
    "    # create a list of the values we want to assign for each condition\n",
    "    values = [         \n",
    "        'EarliestPickupExpectations > PickupFirstEta',  \n",
    "        'EarliestPickupExpectations > DropoffFirstEta', \n",
    "        'EarliestPickupExpectations > DropoffEta', \n",
    "        'EarliestPickupExpectations > DropoffAt', \n",
    "        'EarliestPickupExpectations > UpdatedAt', \n",
    "        'EarliestPickupExpectations > CanceledAt'\n",
    "        ]\n",
    "        \n",
    "    # create error-column \n",
    "    df['Error: EarliestPickupExpect ordering'] = np.select(\n",
    "    conditions,\n",
    "    values, \n",
    "    'Correct'\n",
    "    )\n",
    "    return df['Error: EarliestPickupExpect ordering']\n",
    "\n",
    "# update the dataframe \n",
    "df['Error: EarliestPickupExpect ordering'] = check_eraliest_pickup_expectation_ordering(df)"
   ]
  },
  {
   "cell_type": "code",
   "execution_count": 10,
   "metadata": {},
   "outputs": [],
   "source": [
    "def check_pickup_first_eta_ordering(df):\n",
    "    # create a list of our conditions\n",
    "    conditions = [             \n",
    "        df['pickup_first_eta'] > df['dropoff_first_eta'],\n",
    "        df['pickup_first_eta'] > df['dropoff_eta'],\n",
    "        df['pickup_first_eta'] > df['dropoff_at'],\n",
    "        df['pickup_first_eta'] > df['updated_at'],\n",
    "        df['pickup_first_eta'] > df['canceled_at']\n",
    "        ]\n",
    "         \n",
    "    # create a list of the values we want to assign for each condition\n",
    "    values = [              \n",
    "        'PickupFirstEta > DropoffFirstEta', \n",
    "        'PickupFirstEta > DropoffEta', \n",
    "        'PickupFirstEta > DropoffAt', \n",
    "        'PickupFirstEta > UpdatedAt', \n",
    "        'PickupFirstEta > CanceledAt'\n",
    "        ]\n",
    "        \n",
    "    # create error-column \n",
    "    df['Error: PFE ordering'] = np.select(\n",
    "    conditions,\n",
    "    values, \n",
    "    'Correct'\n",
    "    )\n",
    "    return df['Error: PFE ordering']\n",
    "\n",
    "# update the dataframe \n",
    "df['Error: PFE ordering'] = check_pickup_first_eta_ordering(df)"
   ]
  },
  {
   "cell_type": "code",
   "execution_count": 11,
   "metadata": {},
   "outputs": [],
   "source": [
    "def check_pickup_eta_ordering(df):\n",
    "    # create a list of our conditions\n",
    "    conditions = [\n",
    "        df['pickup_eta'] > df['dropoff_first_eta'],\n",
    "        df['pickup_eta'] > df['dropoff_eta'],\n",
    "        df['pickup_eta'] > df['dropoff_at'],\n",
    "        df['pickup_eta'] > df['updated_at'],\n",
    "        df['pickup_eta'] > df['canceled_at']\n",
    "        ]\n",
    "         \n",
    "    # create a list of the values we want to assign for each condition\n",
    "    values = [             \n",
    "        'PickupEta > DropoffFirstEta', \n",
    "        'PickupEta > DropoffEta', \n",
    "        'PickupEta > DropoffAt', \n",
    "        'PickupEta > UpdatedAt', \n",
    "        'PickupEta > CanceledAt'\n",
    "        ]\n",
    "        \n",
    "    # create error-column \n",
    "    df['Error: PickupETA ordering'] = np.select(\n",
    "    conditions,\n",
    "    values, \n",
    "    'Correct'\n",
    "    )\n",
    "    return df['Error: PickupETA ordering']\n",
    "\n",
    "# update the dataframe \n",
    "df['Error: PickupETA ordering'] = check_pickup_eta_ordering(df)"
   ]
  },
  {
   "cell_type": "code",
   "execution_count": 12,
   "metadata": {},
   "outputs": [],
   "source": [
    "def check_pickup_ordering(df):\n",
    "    # create a list of our conditions\n",
    "    conditions = [\n",
    "        df['pickup_at'] > df['dropoff_first_eta'],\n",
    "        df['pickup_at'] > df['dropoff_eta'],\n",
    "        df['pickup_at'] > df['dropoff_at'],\n",
    "        df['pickup_at'] > df['updated_at'],\n",
    "        df['pickup_at'] > df['canceled_at']\n",
    "        ]\n",
    "         \n",
    "    # create a list of the values we want to assign for each condition\n",
    "    values = [                     \n",
    "        'PickupAt > DropoffFirstEta', \n",
    "        'PickupAt > DropoffEta', \n",
    "        'PickupAt > DropoffAt', \n",
    "        'PickupAt > UpdatedAt', \n",
    "        'PickupAt > CanceledAt'\n",
    "        ]\n",
    "        \n",
    "    # create error-column \n",
    "    df['Error: Pickup ordering'] = np.select(\n",
    "    conditions,\n",
    "    values, \n",
    "    'Correct'\n",
    "    )\n",
    "    return df['Error: Pickup ordering']\n",
    "\n",
    "# update the dataframe \n",
    "df['Error: Pickup ordering'] = check_pickup_ordering(df)"
   ]
  },
  {
   "cell_type": "code",
   "execution_count": 13,
   "metadata": {},
   "outputs": [],
   "source": [
    "def check_dropoff_first_eta_ordering(df):\n",
    "    # create a list of our conditions\n",
    "    conditions = [\n",
    "        df['dropoff_first_eta'] > df['dropoff_eta'],\n",
    "        df['dropoff_first_eta'] > df['dropoff_at'],\n",
    "        df['dropoff_first_eta'] > df['updated_at'],\n",
    "        df['dropoff_first_eta'] > df['canceled_at']\n",
    "        ]\n",
    "         \n",
    "    # create a list of the values we want to assign for each condition\n",
    "    values = [                     \n",
    "        'DropoffFirstEta > DropoffEta', \n",
    "        'DropoffFirstEta > DropoffAt', \n",
    "        'DropoffFirstEta > UpdatedAt', \n",
    "        'DropoffFirstEta > CanceledAt'\n",
    "        ]\n",
    "        \n",
    "    # create error-column \n",
    "    df['Error: DFE ordering'] = np.select(\n",
    "    conditions,\n",
    "    values, \n",
    "    'Correct'\n",
    "    )\n",
    "    return df['Error: DFE ordering']\n",
    "\n",
    "# update the dataframe \n",
    "df['Error: DFE ordering'] = check_dropoff_first_eta_ordering(df)"
   ]
  },
  {
   "cell_type": "code",
   "execution_count": 14,
   "metadata": {},
   "outputs": [],
   "source": [
    "def check_dropoff_eta_ordering(df):\n",
    "    # create a list of our conditions\n",
    "    conditions = [\n",
    "        df['dropoff_eta'] > df['updated_at'],\n",
    "        df['dropoff_eta'] > df['canceled_at']\n",
    "        ]\n",
    "         \n",
    "    # create a list of the values we want to assign for each condition\n",
    "    values = [                     \n",
    "        'DropoffEta > UpdatedAt', \n",
    "        'DropoffEta > CanceledAt'\n",
    "        ]\n",
    "        \n",
    "    # create error-column \n",
    "    df['Error: DropoffETA ordering'] = np.select(\n",
    "    conditions,\n",
    "    values, \n",
    "    'Correct'\n",
    "    )\n",
    "    return df['Error: DropoffETA ordering']\n",
    "\n",
    "# update the dataframe \n",
    "df['Error: DropoffETA ordering'] = check_dropoff_eta_ordering(df)"
   ]
  },
  {
   "cell_type": "code",
   "execution_count": 15,
   "metadata": {},
   "outputs": [],
   "source": [
    "def check_dropoff_ordering(df):\n",
    "    # create a list of our conditions\n",
    "    conditions = [\n",
    "        df['dropoff_at'] > df['updated_at'],\n",
    "        df['dropoff_at'] > df['canceled_at']\n",
    "        ]\n",
    "         \n",
    "    # create a list of the values we want to assign for each condition\n",
    "    values = [                     \n",
    "        'DropoffAt > UpdatedAt', \n",
    "        'DropoffAt > CanceledAt'\n",
    "        ]\n",
    "        \n",
    "    # create error-column \n",
    "    df['Error: Dropoff ordering'] = np.select(\n",
    "    conditions,\n",
    "    values, \n",
    "    'Correct'\n",
    "    )\n",
    "    return df['Error: Dropoff ordering']\n",
    "\n",
    "# update the dataframe \n",
    "df['Error: Dropoff ordering'] = check_dropoff_ordering(df)"
   ]
  },
  {
   "cell_type": "code",
   "execution_count": 16,
   "metadata": {},
   "outputs": [],
   "source": [
    "def check_updated_ordering(df):\n",
    "    # create error-column \n",
    "    df['Error: Updated ordering'] = np.where(\n",
    "    df['updated_at'] < df['canceled_at'],\n",
    "    'Updated < Canceled', \n",
    "    'Correct'\n",
    "    )\n",
    "    return df['Error: Updated ordering']\n",
    "\n",
    "# update the dataframe \n",
    "df['Error: Updated ordering'] = check_updated_ordering(df)"
   ]
  },
  {
   "cell_type": "markdown",
   "metadata": {},
   "source": [
    "### Check time calculations"
   ]
  },
  {
   "cell_type": "markdown",
   "metadata": {},
   "source": [
    "##### Dispatched"
   ]
  },
  {
   "cell_type": "code",
   "execution_count": 17,
   "metadata": {},
   "outputs": [],
   "source": [
    "# check if dispatched_at was calculated correctly \n",
    "def check_dispatched_at_column(df):\n",
    "    df['Error: Dispatched Calc.: Scheduled - 8 Minutes'] = np.where(\n",
    "        ~df['dispatched_at'].isna(),\n",
    "        np.where(\n",
    "            df['scheduled_to'].isna(),\n",
    "            np.where(\n",
    "                df['dispatched_at'] == df['created_at'],\n",
    "                'Correct',\n",
    "                'Dispatched != Created'              # dispatched and created are not the same \n",
    "            ),\n",
    "            np.where(\n",
    "                df['dispatched_at'] == df['scheduled_to'] - pd.Timedelta(minutes=8),\n",
    "                'Correct',              # right calculation  \n",
    "                'Wrong Calculation'     # wrong calculation  \n",
    "            )\n",
    "        ),\n",
    "        'Dispatched was empty'\n",
    "    )\n",
    "    return df['Error: Dispatched Calc.: Scheduled - 8 Minutes']\n",
    "\n",
    "# update the dataframe \n",
    "df['Error: Dispatched Calc.: Scheduled - 8 Minutes'] = check_dispatched_at_column(df)"
   ]
  },
  {
   "cell_type": "markdown",
   "metadata": {},
   "source": [
    "##### Pickup Arrival Time "
   ]
  },
  {
   "cell_type": "code",
   "execution_count": 18,
   "metadata": {},
   "outputs": [
    {
     "name": "stderr",
     "output_type": "stream",
     "text": [
      "/var/folders/kw/t27bnrpn52lfl7x3g64tdw1r0000gn/T/ipykernel_27714/3677033613.py:21: FutureWarning: In a future version of pandas all arguments of DataFrame.drop except for the argument 'labels' will be keyword-only.\n",
      "  df = df.drop('pickup_arrival_time2', 1)\n"
     ]
    }
   ],
   "source": [
    "# check if pickup_arrival_time was calculated correctly \n",
    "def check_pickup_arrival_time(df):\n",
    "      # create help column \n",
    "    df['pickup_arrival_time2'] = df['vehicle_arrived_at'] - df['dispatched_at']\n",
    "    df['pickup_arrival_time2'] = df['pickup_arrival_time2'].astype(str).str.split(' ').str[-1]\n",
    "\n",
    "    df['Error: PickupArrivalTime Calc.: VehicleArrivedAt - DispatchedAt'] = np.where(\n",
    "        ~df['pickup_arrival_time'].isna(),\n",
    "        np.where(\n",
    "           df['pickup_arrival_time'] == df['pickup_arrival_time2'],\n",
    "            'Correct',              # right calculation of scheduled\n",
    "            'Wrong Calculation'     # wrong calculation of scheduled\n",
    "        ),\n",
    "        'Value is NaN'\n",
    "    )\n",
    "    return df['Error: PickupArrivalTime Calc.: VehicleArrivedAt - DispatchedAt']\n",
    "\n",
    "# update the dataframe \n",
    "df['Error: PickupArrivalTime Calc.: VehicleArrivedAt - DispatchedAt'] = check_pickup_arrival_time(df)\n",
    "# delete help column\n",
    "df = df.drop('pickup_arrival_time2', 1)"
   ]
  },
  {
   "cell_type": "markdown",
   "metadata": {},
   "source": [
    "##### Earliest Pickup Expectation"
   ]
  },
  {
   "cell_type": "code",
   "execution_count": 19,
   "metadata": {},
   "outputs": [],
   "source": [
    "# check if earliest_pickup_expectation was calculated correctly \n",
    "def check_earliest_pickup_expectation(df):\n",
    "    df['Error: EarliestPickupExpect. Calc.: DispatchedAt + 3 Min'] = np.where(\n",
    "        ~df['earliest_pickup_expectation'].isna(),\n",
    "        np.where(\n",
    "           df['earliest_pickup_expectation'] == df['dispatched_at'] + pd.Timedelta(minutes=3),\n",
    "            'Correct',              # right calculation \n",
    "            'Wrong Calculation'     # wrong calculation \n",
    "        ),\n",
    "        'Value is NaN'\n",
    "    )\n",
    "    return df['Error: EarliestPickupExpect. Calc.: DispatchedAt + 3 Min']\n",
    "\n",
    "# update the dataframe \n",
    "df['Error: EarliestPickupExpect. Calc.: DispatchedAt + 3 Min'] = check_earliest_pickup_expectation(df)"
   ]
  },
  {
   "cell_type": "markdown",
   "metadata": {},
   "source": [
    "##### Pickup 1.ETA"
   ]
  },
  {
   "cell_type": "code",
   "execution_count": 20,
   "metadata": {},
   "outputs": [],
   "source": [
    "# check if pickup_first_eta was calculated correctly, respectively minimum > created_at + 3 minutes \n",
    "def check_pickup_first_eta(df):\n",
    "    df['Error: PickupFirstEta 3 Minute Range'] = np.where(\n",
    "        ~df['pickup_first_eta'].isna(),\n",
    "        np.where(\n",
    "           df['pickup_first_eta'] >= df['created_at'] + pd.Timedelta(minutes=3.1),\n",
    "            'Correct',                              # right calculation\n",
    "            'Not Minimmum created at + 3 min'       # not minimum created_at + 3 minutes \n",
    "        ),\n",
    "        'Value is NaN'\n",
    "    )\n",
    "    return df['Error: PickupFirstEta 3 Minute Range']\n",
    "\n",
    "# update the dataframe \n",
    "df['Error: PickupFirstEta 3 Minute Range'] = check_pickup_first_eta(df)"
   ]
  },
  {
   "cell_type": "markdown",
   "metadata": {},
   "source": [
    "##### Dropff 1. ETA"
   ]
  },
  {
   "cell_type": "code",
   "execution_count": 21,
   "metadata": {},
   "outputs": [],
   "source": [
    "# check if dropff_first was calculated correctly\n",
    "def check_dropoff_first_eta(df):\n",
    "    ftr = [3600, 60, 1]\n",
    "    shortest_ridetime = (\n",
    "        df[\"shortest_ridetime\"]\n",
    "        .str[0:8]\n",
    "        .apply(lambda row: sum([a * b for a, b in zip(ftr, map(int, row.split(\":\")))]))\n",
    "    )\n",
    "    df['Error: DropoffFirstEta Calc.: PickupFirstEta + ShortestRideTime'] = np.where(\n",
    "        ~df['dropoff_first_eta'].isna(),\n",
    "        np.where(\n",
    "           df['dropoff_first_eta'] == df['pickup_first_eta'] + pd.to_timedelta(shortest_ridetime),\n",
    "            'Correct',              # right calculation \n",
    "            'Wrong Calculation'     # wrong calculation \n",
    "        ),\n",
    "        'Value is NaN'\n",
    "    )\n",
    "    return df['Error: DropoffFirstEta Calc.: PickupFirstEta + ShortestRideTime']\n",
    "\n",
    "# update the dataframe \n",
    "df['Error: DropoffFirstEta Calc.: PickupFirstEta + ShortestRideTime'] = check_dropoff_first_eta(df)"
   ]
  },
  {
   "cell_type": "markdown",
   "metadata": {},
   "source": [
    "##### Arrival Deviation"
   ]
  },
  {
   "cell_type": "code",
   "execution_count": 22,
   "metadata": {},
   "outputs": [],
   "source": [
    "# check if arrival deviaion was calculated correctly \n",
    "def check_arrival_deviation(df):\n",
    "    # create help column \n",
    "    df['arrival_deviation2'] = df.apply(\n",
    "        lambda row: (\n",
    "            (row['vehicle_arrived_at'] - row['arriving_push']).round(freq=\"s\")\n",
    "        ).total_seconds()\n",
    "        - 180, \n",
    "        axis=1,\n",
    "    )\n",
    "    # check whether the calculated help column match with the actual column \n",
    "    df['Error: ArrivalDeviation Calc.: (ArrivedAt - ArrivingPush) - 3 Min'] = np.where(\n",
    "        ~df['arrival_deviation'].isna(),\n",
    "        np.where( \n",
    "            df['arrival_deviation'] == df['arrival_deviation2'],\n",
    "            'Correct',              # right calculation\n",
    "            'Wrong Calculation'     # wrong calculationt\n",
    "        ),\n",
    "        'Value is NaN',\n",
    "    )\n",
    "    return df['Error: ArrivalDeviation Calc.: (ArrivedAt - ArrivingPush) - 3 Min']\n",
    "\n",
    "# update the dataframe \n",
    "df['Error: ArrivalDeviation Calc.: (ArrivedAt - ArrivingPush) - 3 Min'] = check_arrival_deviation(df)\n",
    "# delete help column\n",
    "#df = df.drop('arrival_deviation2', 1)"
   ]
  },
  {
   "cell_type": "markdown",
   "metadata": {},
   "source": [
    "##### Waiting time "
   ]
  },
  {
   "cell_type": "code",
   "execution_count": 23,
   "metadata": {},
   "outputs": [
    {
     "name": "stderr",
     "output_type": "stream",
     "text": [
      "/var/folders/kw/t27bnrpn52lfl7x3g64tdw1r0000gn/T/ipykernel_27714/1142209579.py:25: FutureWarning: In a future version of pandas all arguments of DataFrame.drop except for the argument 'labels' will be keyword-only.\n",
      "  df = df.drop('waiting_time2', 1)\n"
     ]
    }
   ],
   "source": [
    "# check if WaitingTime was calculated correctly\n",
    "def check_waiting_time(df):\n",
    "     # create help column \n",
    "    df['waiting_time2'] = df['vehicle_arrived_at'] - df['earliest_pickup_expectation']\n",
    "    df['waiting_time2'] = df['waiting_time2'].astype(str).str.split(' ').str[-1]\n",
    "    \n",
    "    df['Error: WaitingTime Calc.: ArrivedAt - EarliestPickupExpect.'] = np.where(\n",
    "        ~df['waiting_time'].isna(),\n",
    "        np.where(\n",
    "            df['waiting_time'] == '00:00:00',\n",
    "            'Vehicle arrived at was earlier than expeceted, but waiting time not negative',\n",
    "            np.where(\n",
    "                df['waiting_time'] == df['waiting_time2'],\n",
    "                'Correct',              # right calculation\n",
    "                'Wrong Calculation'     # wrong calculation\n",
    "            )\n",
    "        ),\n",
    "        'Value is NaN'\n",
    "    )\n",
    "    return df['Error: WaitingTime Calc.: ArrivedAt - EarliestPickupExpect.']\n",
    "\n",
    "# update the dataframe \n",
    "df['Error: WaitingTime Calc.: ArrivedAt - EarliestPickupExpect.'] = check_waiting_time(df)\n",
    "# delete help column\n",
    "df = df.drop('waiting_time2', 1)"
   ]
  },
  {
   "cell_type": "markdown",
   "metadata": {},
   "source": [
    "##### Boarding time"
   ]
  },
  {
   "cell_type": "code",
   "execution_count": 24,
   "metadata": {},
   "outputs": [
    {
     "name": "stderr",
     "output_type": "stream",
     "text": [
      "/var/folders/kw/t27bnrpn52lfl7x3g64tdw1r0000gn/T/ipykernel_27714/744015996.py:22: FutureWarning: In a future version of pandas all arguments of DataFrame.drop except for the argument 'labels' will be keyword-only.\n",
      "  df = df.drop('boarding_time2', 1)\n"
     ]
    }
   ],
   "source": [
    "# check if boarding time was calculated correctly\n",
    "def check_boarding_time(df):\n",
    "    # create help column \n",
    "    df['boarding_time2'] = df['pickup_at'] - df['vehicle_arrived_at']\n",
    "    df['boarding_time2'] = df['boarding_time2'].astype(str).str.split(' ').str[-1]\n",
    "    df['boarding_time2'] = df['boarding_time2'].map(lambda x: x.lstrip('+'))\n",
    "\n",
    "    df['Error: BoardingTime Calc.: PickupAt - ArrivedAt'] = np.where(\n",
    "        ~df['boarding_time'].isna(),\n",
    "        np.where(\n",
    "           df['boarding_time'] == df['boarding_time2'],\n",
    "            'Correct',              # right calculation\n",
    "            'Wrong Calculation'     # wrong calculation\n",
    "        ),\n",
    "        'Value is NaN'\n",
    "    )\n",
    "    return df['Error: BoardingTime Calc.: PickupAt - ArrivedAt']\n",
    "\n",
    "# update the dataframe \n",
    "df['Error: BoardingTime Calc.: PickupAt - ArrivedAt'] = check_boarding_time(df)\n",
    "# delete help column\n",
    "df = df.drop('boarding_time2', 1)"
   ]
  },
  {
   "cell_type": "markdown",
   "metadata": {},
   "source": [
    "##### Ride time"
   ]
  },
  {
   "cell_type": "code",
   "execution_count": 25,
   "metadata": {},
   "outputs": [
    {
     "name": "stderr",
     "output_type": "stream",
     "text": [
      "/var/folders/kw/t27bnrpn52lfl7x3g64tdw1r0000gn/T/ipykernel_27714/2482739638.py:22: FutureWarning: In a future version of pandas all arguments of DataFrame.drop except for the argument 'labels' will be keyword-only.\n",
      "  df = df.drop('ride_time2', 1)\n"
     ]
    }
   ],
   "source": [
    "# check if riding time was calculated correctly\n",
    "def check_riding_time(df):\n",
    "    # create help column \n",
    "    df['ride_time2'] = df['dropoff_at'] - df['pickup_at']\n",
    "    df['ride_time2'] = df['ride_time2'].astype(str).str.split(' ').str[-1]\n",
    "    df['ride_time2'] = df['ride_time2'].map(lambda x: x.lstrip('+'))\n",
    "    \n",
    "    df['Error: RidingTime Calc.: DropoffAt - PickupAt'] = np.where(\n",
    "        ~df['ride_time'].isna(),\n",
    "        np.where(\n",
    "           df['ride_time'] == df['ride_time2'],\n",
    "            'Correct',              # right calculation\n",
    "            'Wrong Calculation'     # wrong calculation\n",
    "        ),\n",
    "        'Value is NaN'\n",
    "    )\n",
    "    return df['Error: RidingTime Calc.: DropoffAt - PickupAt']\n",
    "\n",
    "# update the dataframe \n",
    "df['Error: RidingTime Calc.: DropoffAt - PickupAt'] = check_riding_time(df)\n",
    "# delete help column\n",
    "df = df.drop('ride_time2', 1)\n"
   ]
  },
  {
   "cell_type": "markdown",
   "metadata": {},
   "source": [
    "##### Trip time"
   ]
  },
  {
   "cell_type": "code",
   "execution_count": 26,
   "metadata": {},
   "outputs": [
    {
     "name": "stderr",
     "output_type": "stream",
     "text": [
      "/var/folders/kw/t27bnrpn52lfl7x3g64tdw1r0000gn/T/ipykernel_27714/1048518713.py:48: FutureWarning: In a future version of pandas all arguments of DataFrame.drop except for the argument 'labels' will be keyword-only.\n",
      "  df = df.drop('trip_time3', 1)\n",
      "/var/folders/kw/t27bnrpn52lfl7x3g64tdw1r0000gn/T/ipykernel_27714/1048518713.py:49: FutureWarning: In a future version of pandas all arguments of DataFrame.drop except for the argument 'labels' will be keyword-only.\n",
      "  df = df.drop('waiting_time2', 1)\n",
      "/var/folders/kw/t27bnrpn52lfl7x3g64tdw1r0000gn/T/ipykernel_27714/1048518713.py:50: FutureWarning: In a future version of pandas all arguments of DataFrame.drop except for the argument 'labels' will be keyword-only.\n",
      "  df = df.drop('ride_time2', 1)\n"
     ]
    }
   ],
   "source": [
    "# Attribute: 'waiting_time'\n",
    "df[\"waiting_time2\"] = df.apply(\n",
    "    lambda row: (\n",
    "        (row[\"vehicle_arrived_at\"] - row[\"earliest_pickup_expectation\"]).round(\n",
    "            freq=\"s\"\n",
    "        )\n",
    "    ).total_seconds()\n",
    "    if (row[\"vehicle_arrived_at\"] == row[\"vehicle_arrived_at\"])\n",
    "    and (row[\"earliest_pickup_expectation\"] == row[\"earliest_pickup_expectation\"])\n",
    "    else np.NaN,\n",
    "    axis=1,\n",
    ")\n",
    "# Attribute: 'ride_time'\n",
    "df[\"ride_time2\"] = df.apply(\n",
    "    lambda row: (\n",
    "        (row[\"dropoff_at\"] - row[\"pickup_at\"]).round(freq=\"s\")\n",
    "    ).total_seconds()\n",
    "    if (row[\"dropoff_at\"] == row[\"dropoff_at\"])\n",
    "    and (row[\"pickup_at\"] == row[\"pickup_at\"])\n",
    "    else np.NaN,\n",
    "    axis=1,\n",
    ")\n",
    "# Attribute: 'trip_time'\n",
    "df[\"trip_time2\"] = df.apply(\n",
    "    lambda row: (row[\"ride_time2\"] + row[\"waiting_time2\"]),\n",
    "    axis=1,\n",
    ")\n",
    "# change format of trip_time2\n",
    "df['trip_time3'] = pd.to_datetime(df[\"trip_time2\"], unit='s').dt.strftime(\"%H:%M:%S\")\n",
    "\n",
    "# check if trip time was calculated correctly\n",
    "def check_trip_time(df):\n",
    "\n",
    "    df['Error: TripTime Calc.: RideTime + WaitingTime'] = np.where(\n",
    "        ~df['trip_time'].isna(),\n",
    "        np.where(\n",
    "           df['trip_time'] == df['trip_time3'],\n",
    "            'Correct',              # right calculation\n",
    "            'Wrong Calculation'     # wrong calculation\n",
    "        ),\n",
    "        'Value is NaN'\n",
    "    )\n",
    "    return df['Error: TripTime Calc.: RideTime + WaitingTime']\n",
    "\n",
    "# update the dataframe \n",
    "df['Error: TripTime Calc.: RideTime + WaitingTime'] = check_trip_time(df)\n",
    "# delete help column\n",
    "df = df.drop('trip_time3', 1)\n",
    "df = df.drop('waiting_time2', 1)\n",
    "df = df.drop('ride_time2', 1)"
   ]
  },
  {
   "cell_type": "markdown",
   "metadata": {},
   "source": [
    "##### Delay"
   ]
  },
  {
   "cell_type": "code",
   "execution_count": 27,
   "metadata": {},
   "outputs": [
    {
     "name": "stderr",
     "output_type": "stream",
     "text": [
      "/var/folders/kw/t27bnrpn52lfl7x3g64tdw1r0000gn/T/ipykernel_27714/4294952970.py:39: FutureWarning: In a future version of pandas all arguments of DataFrame.drop except for the argument 'labels' will be keyword-only.\n",
      "  df = df.drop('shortest_ridetime_s', 1)\n",
      "/var/folders/kw/t27bnrpn52lfl7x3g64tdw1r0000gn/T/ipykernel_27714/4294952970.py:40: FutureWarning: In a future version of pandas all arguments of DataFrame.drop except for the argument 'labels' will be keyword-only.\n",
      "  df = df.drop('trip_time2', 1)\n",
      "/var/folders/kw/t27bnrpn52lfl7x3g64tdw1r0000gn/T/ipykernel_27714/4294952970.py:41: FutureWarning: In a future version of pandas all arguments of DataFrame.drop except for the argument 'labels' will be keyword-only.\n",
      "  df = df.drop('delay2', 1)\n"
     ]
    }
   ],
   "source": [
    "# check if delaytime was calculated correctly\n",
    "def check_delay_time(df):\n",
    "    # create help column shortest ridetime in seconds\n",
    "    df[\"shortest_ridetime_s\"] = df.apply(\n",
    "        lambda row: (\n",
    "            pd.to_timedelta(row[\"shortest_ridetime\"]).round(freq=\"s\").total_seconds()\n",
    "        )\n",
    "        if (row[\"shortest_ridetime\"] == row[\"shortest_ridetime\"])\n",
    "        else np.NaN,\n",
    "        axis=1,\n",
    "    )\n",
    "    # create help column for comparison\n",
    "    df[\"delay2\"] = df.apply(\n",
    "        lambda row: round(row[\"trip_time2\"] - row[\"shortest_ridetime_s\"], 2)\n",
    "        if (row[\"state\"] == \"completed\")\n",
    "        else np.NaN,\n",
    "        axis=1,\n",
    "    )\n",
    "    df['delay2'] = df['delay2'].astype('datetime64[s]').dt.strftime(\"%H:%M:%S\")\n",
    "    # comparison \n",
    "    df['Error: DelayTime Calc.: TripTime - ShortestRideTime (+- 2 seconds of rounding tolerance)'] = np.where(\n",
    "        ~df['delay'].isna(),\n",
    "        np.where(\n",
    "            df['delay'] == '00:00:00',\n",
    "            'Shortest ride time is bigger than trip time',\n",
    "                np.where(\n",
    "                (df['delay'] == df['delay2']) | (df['delay'] <= df['delay2'] + '00:00:02') | (df['delay'] >= df['delay2'] + '00:00:02'),\n",
    "                'Correct',              # right calculation\n",
    "                'Wrong Calculation'     # wrong calculation\n",
    "            ),\n",
    "        ),\n",
    "        'Value is NaN'\n",
    "    )\n",
    "    return df['Error: DelayTime Calc.: TripTime - ShortestRideTime (+- 2 seconds of rounding tolerance)']\n",
    "\n",
    "# update the dataframe \n",
    "df['Error: DelayTime Calc.: TripTime - ShortestRideTime (+- 2 seconds of rounding tolerance)'] = check_delay_time(df)\n",
    "# delete help column\n",
    "df = df.drop('shortest_ridetime_s', 1)\n",
    "df = df.drop('trip_time2', 1)\n",
    "df = df.drop('delay2', 1)"
   ]
  },
  {
   "cell_type": "markdown",
   "metadata": {},
   "source": [
    "##### Longer route factor "
   ]
  },
  {
   "cell_type": "code",
   "execution_count": 28,
   "metadata": {},
   "outputs": [
    {
     "name": "stderr",
     "output_type": "stream",
     "text": [
      "/var/folders/kw/t27bnrpn52lfl7x3g64tdw1r0000gn/T/ipykernel_27714/2568673973.py:41: FutureWarning: In a future version of pandas all arguments of DataFrame.drop except for the argument 'labels' will be keyword-only.\n",
      "  df = df.drop('shortest_ridetime_s', 1)\n",
      "/var/folders/kw/t27bnrpn52lfl7x3g64tdw1r0000gn/T/ipykernel_27714/2568673973.py:42: FutureWarning: In a future version of pandas all arguments of DataFrame.drop except for the argument 'labels' will be keyword-only.\n",
      "  df = df.drop('ride_time_s', 1)\n",
      "/var/folders/kw/t27bnrpn52lfl7x3g64tdw1r0000gn/T/ipykernel_27714/2568673973.py:43: FutureWarning: In a future version of pandas all arguments of DataFrame.drop except for the argument 'labels' will be keyword-only.\n",
      "  df = df.drop('longer_route_factor2', 1)\n"
     ]
    }
   ],
   "source": [
    "# check if longer route factor was calculated correctly\n",
    "def check_lrf_calculation(df):\n",
    "    # create help column shortest ridetime in seconds\n",
    "    df[\"shortest_ridetime_s\"] = df.apply(\n",
    "        lambda row: (\n",
    "            pd.to_timedelta(row[\"shortest_ridetime\"]).round(freq=\"s\").total_seconds()\n",
    "        )\n",
    "        if (row[\"shortest_ridetime\"] == row[\"shortest_ridetime\"])\n",
    "        else np.NaN,\n",
    "        axis=1,\n",
    "    )\n",
    "    # create help column ride time in seconds\n",
    "    df[\"ride_time_s\"] = df.apply(\n",
    "        lambda row: (pd.to_timedelta(row[\"ride_time\"]).total_seconds())\n",
    "        if (row[\"state\"] == \"completed\") & (row[\"ride_time\"] == row[\"ride_time\"])\n",
    "        else np.NaN,\n",
    "        axis=1,\n",
    "    )\n",
    "     # create help column for comparison\n",
    "    df[\"longer_route_factor2\"] = df.apply(\n",
    "        lambda row: round(row[\"ride_time_s\"] / row[\"shortest_ridetime_s\"], 2)\n",
    "        if (row[\"state\"] == \"completed\") & (row[\"shortest_ridetime_s\"] != 0)\n",
    "        else np.NaN,\n",
    "        axis=1,\n",
    "    )\n",
    "    # comparison\n",
    "    df['Error: LongerRouteFactor Calc.'] = np.where(\n",
    "        ~df['longer_route_factor'].isna(),\n",
    "        np.where(\n",
    "           df['longer_route_factor'] == df['longer_route_factor2'],\n",
    "            'Correct',              # right calculation\n",
    "            'Wrong Calculation'     # wrong calculation\n",
    "        ),\n",
    "        'Value is NaN'\n",
    "    )\n",
    "    return df['Error: LongerRouteFactor Calc.']\n",
    "\n",
    "# update the dataframe \n",
    "df['Error: LongerRouteFactor Calc.'] = check_lrf_calculation(df)\n",
    "# delete help column\n",
    "df = df.drop('shortest_ridetime_s', 1)\n",
    "df = df.drop('ride_time_s', 1)\n",
    "df = df.drop('longer_route_factor2', 1)"
   ]
  },
  {
   "cell_type": "markdown",
   "metadata": {},
   "source": [
    "### States checking "
   ]
  },
  {
   "cell_type": "markdown",
   "metadata": {},
   "source": [
    "##### Canceled "
   ]
  },
  {
   "cell_type": "code",
   "execution_count": 29,
   "metadata": {},
   "outputs": [],
   "source": [
    "# check if if there is a pickup_at time although the ride was canceled\n",
    "def check_canceled_state(df):\n",
    "   \n",
    "   # create error-column \n",
    "    df['Error: State canceled'] = np.where(\n",
    "        (df['state'] == 'canceled') & (~df['pickup_at'].isna()),\n",
    "            'Canceled but picked up',\n",
    "            'Correct'\n",
    "        )\n",
    "    return df['Error: State canceled']\n",
    "\n",
    "# update the dataframe \n",
    "df['Error: State canceled'] = check_canceled_state(df)"
   ]
  },
  {
   "cell_type": "markdown",
   "metadata": {},
   "source": [
    "##### Completed"
   ]
  },
  {
   "cell_type": "code",
   "execution_count": 30,
   "metadata": {},
   "outputs": [],
   "source": [
    "# check if state is completed but there is no vehicle_arrived_at time   \n",
    "def check_completed_state(df):\n",
    "   \n",
    "    # create error-column \n",
    "    df['Error: Completed state w/o vehicle arrived'] = np.where(\n",
    "    (df['state'] == 'completed') & (df['vehicle_arrived_at'].isna()),\n",
    "    'Completed but non vehicle arrived', \n",
    "    'Correct'\n",
    "    )\n",
    "    return df['Error: Completed state w/o vehicle arrived'] \n",
    "\n",
    "# update the dataframe \n",
    "df['Error: Completed state w/o vehicle arrived'] = check_completed_state(df)"
   ]
  },
  {
   "cell_type": "code",
   "execution_count": 31,
   "metadata": {},
   "outputs": [],
   "source": [
    "# check if state is completed but there is no vehicle_arrived_at time   \n",
    "def check_completed_state(df):\n",
    "   \n",
    "    # create error-column \n",
    "    df['Error: Completed state w/o pickup_at'] = np.where(\n",
    "    (df['state'] == 'completed') & (df['pickup_at'].isna()),\n",
    "    'Completed but non pickup_at', \n",
    "    'Correct'\n",
    "    )\n",
    "    return df['Error: Completed state w/o pickup_at'] \n",
    "\n",
    "# update the dataframe \n",
    "df['Error: Completed state w/o pickup_at'] = check_completed_state(df)"
   ]
  },
  {
   "cell_type": "code",
   "execution_count": 32,
   "metadata": {},
   "outputs": [],
   "source": [
    "# check if state is completed but there is no vehicle_arrived_at time   \n",
    "def check_completed_state(df):\n",
    "   \n",
    "    # create error-column \n",
    "    df['Error: Completed state w/o dropoff_at'] = np.where(\n",
    "    (df['state'] == 'completed') & (df['dropoff_at'].isna()),\n",
    "    'Completed but non dropoff_at', \n",
    "    'Correct'\n",
    "    )\n",
    "    return df['Error: Completed state w/o dropoff_at'] \n",
    "\n",
    "# update the dataframe \n",
    "df['Error: Completed state w/o dropoff_at'] = check_completed_state(df)"
   ]
  },
  {
   "cell_type": "markdown",
   "metadata": {},
   "source": [
    "##### Offer"
   ]
  },
  {
   "cell_type": "code",
   "execution_count": 33,
   "metadata": {},
   "outputs": [],
   "source": [
    "# check for presences/absence of timestamps for status offer\n",
    "def check_offer_timestamps(df):\n",
    "    # create help column \n",
    "    conditions = [\n",
    "        (df['state'] == 'offer') & df['created_at'].isna() ,\n",
    "        (df['state'] == 'offer') & df['dispatched_at'].isna(),\n",
    "        (df['state'] == 'offer') & ~df['arriving_push'].isna(),\n",
    "        (df['state'] == 'offer') & ~df['vehicle_arrived_at'].isna(),\n",
    "        (df['state'] == 'offer') & df['earliest_pickup_expectation'].isna(),\n",
    "        (df['state'] == 'offer') & ~df['pickup_first_eta'].isna(),\n",
    "        (df['state'] == 'offer') & ~df['pickup_eta'].isna(),\n",
    "        (df['state'] == 'offer') & ~df['pickup_at'].isna(),\n",
    "        (df['state'] == 'offer') & ~df['dropoff_first_eta'].isna(),\n",
    "        (df['state'] == 'offer') & ~df['dropoff_eta'].isna(),\n",
    "        (df['state'] == 'offer') & ~df['dropoff_at'].isna(),\n",
    "        (df['state'] == 'offer') & df['updated_at'].isna(),\n",
    "    ]\n",
    "    # create a list of the values we want to assign for each condition\n",
    "    values = values = ['created_at missing', 'dispatched_at missing', \n",
    "    'arriving_push present', 'vehicle_arrived_at present', 'earliest_pickup_expectation missing', \n",
    "    'pickup_first_eta present', 'pickup_eta present', 'pickup_at present', 'dropoff_first_eta present', \n",
    "    'dropoff_eta present', 'dropoff_at present', 'updated_at missing']\n",
    "    \n",
    "    df['Error: Offer Timestamps'] = np.select(\n",
    "    conditions,\n",
    "    values, \n",
    "    'Correct'\n",
    "    )\n",
    "    return df['Error: Offer Timestamps']\n",
    "\n",
    "# update the dataframe \n",
    "df['Error: Offer Timestamps'] = check_offer_timestamps(df)\n"
   ]
  },
  {
   "cell_type": "markdown",
   "metadata": {},
   "source": [
    "### Price Operations "
   ]
  },
  {
   "cell_type": "code",
   "execution_count": 34,
   "metadata": {},
   "outputs": [],
   "source": [
    "# check if non-free ride but price was not payed although there is a arriving push\n",
    "def check_not_payed(df):\n",
    "   \n",
    "    # create error-column \n",
    "    df['Error: Price not payed although non-free'] = np.where(\n",
    "    (~df['arriving_push'].isna()) & (df['price_payed'] == 0) & (df['free_ride'] == 0),\n",
    "    'Not Paid', \n",
    "    'Correct'\n",
    "    )\n",
    "    return df['Error: Price not payed although non-free'] \n",
    "\n",
    "# update the dataframe \n",
    "df['Error: Price not payed although non-free'] = check_not_payed(df)"
   ]
  },
  {
   "cell_type": "code",
   "execution_count": 35,
   "metadata": {},
   "outputs": [],
   "source": [
    "# check if it was a completed and free ride but price was payed\n",
    "def check_payed_but_free(df):\n",
    "   \n",
    "    # create error-column \n",
    "    df['Error: Price payed although free'] = np.where(\n",
    "    (df['state'] == 'completed') & (df['price_payed'] != 0) & (df['free_ride'] == 1),\n",
    "    'Paid', \n",
    "    'Correct'\n",
    "    )\n",
    "    return df['Error: Price payed although free'] \n",
    "\n",
    "# update the dataframe \n",
    "df['Error: Price payed although free'] = check_payed_but_free(df)"
   ]
  },
  {
   "cell_type": "markdown",
   "metadata": {},
   "source": [
    "### Ride ID"
   ]
  },
  {
   "cell_type": "code",
   "execution_count": 36,
   "metadata": {},
   "outputs": [],
   "source": [
    "# check for duplicates in ride id for status other than offer/offer_rejected\n",
    "def check_duplicate_ride(df):\n",
    "   \n",
    "    # create error-column \n",
    "    df['Error: Duplicate Ride id'] = np.where(\n",
    "    (df['id'].duplicated(keep=False)) & ((~df['id'].isna())),\n",
    "    'Duplicate Ride id', \n",
    "    'Correct'\n",
    "    )\n",
    "    return df['Error: Duplicate Ride id'] \n",
    "    \n",
    "# update the dataframe \n",
    "df['Error: Duplicate Ride id'] = check_duplicate_ride(df)\n"
   ]
  },
  {
   "cell_type": "code",
   "execution_count": 37,
   "metadata": {},
   "outputs": [],
   "source": [
    "# check if a ride id was given for status offer or offer-rejeceted\n",
    "def check_offer_ride_id(df):\n",
    "   \n",
    "    # create error-column \n",
    "    df['Error: Offer w Ride id'] = np.where(\n",
    "    ((df['state'] == 'offer') | (df['state'] == 'offer-rejected')) & (~df['id'].isna()),\n",
    "    'Ride id in Offer', \n",
    "    'Correct'\n",
    "    )\n",
    "    return df['Error: Offer w Ride id'] \n",
    "\n",
    "# update the dataframe \n",
    "df['Error: Offer w Ride id'] = check_offer_ride_id(df)\n"
   ]
  },
  {
   "cell_type": "code",
   "execution_count": 38,
   "metadata": {},
   "outputs": [],
   "source": [
    "# delete columns which are empty for better overview \n",
    "df.dropna(how='all', axis=1, inplace=True)\n",
    "# delete first to automatically generated columns \n",
    "df = df.iloc[: , 1:]"
   ]
  },
  {
   "cell_type": "code",
   "execution_count": 39,
   "metadata": {},
   "outputs": [],
   "source": [
    "# create excel writer object\n",
    "writer = pd.ExcelWriter('Data_inconsistencies.xlsx')\n",
    "# write dataframe to excel sheet named 'inconsistencies'\n",
    "df.to_excel(writer, 'inconsistencies')\n",
    "# save the excel file \n",
    "writer.save()"
   ]
  },
  {
   "cell_type": "code",
   "execution_count": null,
   "metadata": {},
   "outputs": [],
   "source": []
  }
 ],
 "metadata": {
  "interpreter": {
   "hash": "31f2aee4e71d21fbe5cf8b01ff0e069b9275f58929596ceb00d14d90e3e16cd6"
  },
  "kernelspec": {
   "display_name": "Python 3.8.9 64-bit",
   "language": "python",
   "name": "python3"
  },
  "language_info": {
   "codemirror_mode": {
    "name": "ipython",
    "version": 3
   },
   "file_extension": ".py",
   "mimetype": "text/x-python",
   "name": "python",
   "nbconvert_exporter": "python",
   "pygments_lexer": "ipython3",
   "version": "3.8.9"
  },
  "orig_nbformat": 4
 },
 "nbformat": 4,
 "nbformat_minor": 2
}
