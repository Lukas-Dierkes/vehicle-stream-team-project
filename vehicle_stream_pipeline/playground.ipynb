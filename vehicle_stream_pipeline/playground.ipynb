{
 "cells": [
  {
   "cell_type": "code",
   "execution_count": 39,
   "metadata": {},
   "outputs": [],
   "source": [
    "import pandas as pd \n",
    "import git\n",
    "import numpy as np\n",
    "from datetime import datetime as dt\n",
    "from vehicle_stream_pipeline.utils import get_shortest_ride, get_hotspots, calculate_drives, calculate_graph\n",
    "\n",
    "repo = git.Repo(\".\", search_parent_directories=True).git.rev_parse(\n",
    "    \"--show-toplevel\")"
   ]
  },
  {
   "cell_type": "code",
   "execution_count": 2,
   "metadata": {},
   "outputs": [
    {
     "name": "stderr",
     "output_type": "stream",
     "text": [
      "/var/folders/gb/hn_j3jkn5_5fm5ylgtcd9w_00000gn/T/ipykernel_47624/3440087016.py:1: DtypeWarning: Columns (44,45,46) have mixed types. Specify dtype option on import or set low_memory=False.\n",
      "  drives = pd.read_csv(f\"{repo}/data/cleaning/data_cleaned.csv\")\n"
     ]
    }
   ],
   "source": [
    "drives = pd.read_csv(f\"{repo}/data/cleaning/data_cleaned.csv\")\n",
    "drives = drives[(drives[\"state\"] == \"completed\")]\n",
    "edges = pd.read_excel(f\"{repo}/data/other/MoDstops+Preismodell.xlsx\", sheet_name= 'Liste 2022')"
   ]
  },
  {
   "cell_type": "code",
   "execution_count": 3,
   "metadata": {},
   "outputs": [],
   "source": [
    "startdate = drives.scheduled_to.min()\n",
    "startdate = dt.strptime(startdate, '%Y-%m-%d %H:%M:%S')\n",
    "startdate = startdate.strftime('%m/%d/%Y')\n",
    "start_date = dt.strptime(startdate, \"%m/%d/%Y\")\n",
    "enddate = drives.scheduled_to.max()\n",
    "enddate = dt.strptime(enddate, '%Y-%m-%d %H:%M:%S')\n",
    "enddate = enddate.strftime('%m/%d/%Y')\n",
    "end_date = dt.strptime(enddate, \"%m/%d/%Y\")"
   ]
  },
  {
   "cell_type": "code",
   "execution_count": 4,
   "metadata": {},
   "outputs": [],
   "source": [
    "aggregated_drives = calculate_drives(drives, start_date, end_date)"
   ]
  },
  {
   "cell_type": "code",
   "execution_count": 5,
   "metadata": {},
   "outputs": [],
   "source": [
    "graph = calculate_graph(aggregated_drives)"
   ]
  },
  {
   "cell_type": "code",
   "execution_count": 19,
   "metadata": {},
   "outputs": [],
   "source": [
    "hotspots = get_hotspots(edges, aggregated_drives)"
   ]
  },
  {
   "cell_type": "code",
   "execution_count": 32,
   "metadata": {},
   "outputs": [],
   "source": [
    "hotspots = [spot[0] for spot in hotspots]"
   ]
  },
  {
   "cell_type": "code",
   "execution_count": 40,
   "metadata": {},
   "outputs": [],
   "source": [
    "def add_drone_flights(df_edges, drives, drone_spots = [1008], radius = 500):\n",
    "    drone_flights = df_edges.iloc[:, :6]\n",
    "    drone_flights.drop(\n",
    "        ['Start Name', 'Ende Name', 'Route [m]'], axis=1, inplace=True)\n",
    "    drone_flights.rename(columns={'Luftlinie [m]': 'Luftlinie'}, inplace=True)\n",
    "    drone_flights = drone_flights[drone_flights.Luftlinie <= radius]\n",
    "\n",
    "    drone_flights['avg_time_to_destination'] = (\n",
    "        drone_flights.Luftlinie * 0.12) / 60 / 60 / 24\n",
    "\n",
    "    drone_flights = drone_flights[(drone_flights[\"start_id\"].isin(drone_spots)) | (drone_flights[\"end_id\"].isin(drone_spots))]\n",
    "    \n",
    "    drives_w_flights = pd.merge(drives, drone_flights, left_on=[\n",
    "                                \"pickup_address\", \"dropoff_address\"], right_on=[\"start_id\", \"end_id\"], how=\"left\")\n",
    "\n",
    "    drives_w_flights['avg_time_to_destination'] = np.where((drives_w_flights['avg_time_to_destination_x'] > drives_w_flights['avg_time_to_destination_y']),\n",
    "                                                           drives_w_flights.avg_time_to_destination_y,\n",
    "                                                           drives_w_flights.avg_time_to_destination_x)\n",
    "    \n",
    "    return drives_w_flights"
   ]
  },
  {
   "cell_type": "code",
   "execution_count": 41,
   "metadata": {},
   "outputs": [
    {
     "ename": "AttributeError",
     "evalue": "module 'pandas' has no attribute 'where'",
     "output_type": "error",
     "traceback": [
      "\u001b[0;31m---------------------------------------------------------------------------\u001b[0m",
      "\u001b[0;31mAttributeError\u001b[0m                            Traceback (most recent call last)",
      "\u001b[1;32m/Users/lukasdierkes/Desktop/Repos/vehicle-stream-team-project/vehicle_stream_pipeline/playground.ipynb Cell 9'\u001b[0m in \u001b[0;36m<cell line: 1>\u001b[0;34m()\u001b[0m\n\u001b[0;32m----> <a href='vscode-notebook-cell:/Users/lukasdierkes/Desktop/Repos/vehicle-stream-team-project/vehicle_stream_pipeline/playground.ipynb#ch0000022?line=0'>1</a>\u001b[0m drives_w_flights \u001b[39m=\u001b[39m add_drone_flights(edges, aggregated_drives, drone_spots \u001b[39m=\u001b[39;49m hotspots)\n",
      "\u001b[1;32m/Users/lukasdierkes/Desktop/Repos/vehicle-stream-team-project/vehicle_stream_pipeline/playground.ipynb Cell 8'\u001b[0m in \u001b[0;36madd_drone_flights\u001b[0;34m(df_edges, drives, drone_spots, radius)\u001b[0m\n\u001b[1;32m     <a href='vscode-notebook-cell:/Users/lukasdierkes/Desktop/Repos/vehicle-stream-team-project/vehicle_stream_pipeline/playground.ipynb#ch0000021?line=10'>11</a>\u001b[0m drone_flights \u001b[39m=\u001b[39m drone_flights[(drone_flights[\u001b[39m\"\u001b[39m\u001b[39mstart_id\u001b[39m\u001b[39m\"\u001b[39m]\u001b[39m.\u001b[39misin(drone_spots)) \u001b[39m|\u001b[39m (drone_flights[\u001b[39m\"\u001b[39m\u001b[39mend_id\u001b[39m\u001b[39m\"\u001b[39m]\u001b[39m.\u001b[39misin(drone_spots))]\n\u001b[1;32m     <a href='vscode-notebook-cell:/Users/lukasdierkes/Desktop/Repos/vehicle-stream-team-project/vehicle_stream_pipeline/playground.ipynb#ch0000021?line=12'>13</a>\u001b[0m drives_w_flights \u001b[39m=\u001b[39m pd\u001b[39m.\u001b[39mmerge(drives, drone_flights, left_on\u001b[39m=\u001b[39m[\n\u001b[1;32m     <a href='vscode-notebook-cell:/Users/lukasdierkes/Desktop/Repos/vehicle-stream-team-project/vehicle_stream_pipeline/playground.ipynb#ch0000021?line=13'>14</a>\u001b[0m                             \u001b[39m\"\u001b[39m\u001b[39mpickup_address\u001b[39m\u001b[39m\"\u001b[39m, \u001b[39m\"\u001b[39m\u001b[39mdropoff_address\u001b[39m\u001b[39m\"\u001b[39m], right_on\u001b[39m=\u001b[39m[\u001b[39m\"\u001b[39m\u001b[39mstart_id\u001b[39m\u001b[39m\"\u001b[39m, \u001b[39m\"\u001b[39m\u001b[39mend_id\u001b[39m\u001b[39m\"\u001b[39m], how\u001b[39m=\u001b[39m\u001b[39m\"\u001b[39m\u001b[39mleft\u001b[39m\u001b[39m\"\u001b[39m)\n\u001b[0;32m---> <a href='vscode-notebook-cell:/Users/lukasdierkes/Desktop/Repos/vehicle-stream-team-project/vehicle_stream_pipeline/playground.ipynb#ch0000021?line=15'>16</a>\u001b[0m drives_w_flights[\u001b[39m'\u001b[39m\u001b[39mavg_time_to_destination\u001b[39m\u001b[39m'\u001b[39m] \u001b[39m=\u001b[39m np\u001b[39m.\u001b[39;49mwhere((drives_w_flights[\u001b[39m'\u001b[39m\u001b[39mavg_time_to_destination_x\u001b[39m\u001b[39m'\u001b[39m] \u001b[39m>\u001b[39m drives_w_flights[\u001b[39m'\u001b[39m\u001b[39mavg_time_to_destination_y\u001b[39m\u001b[39m'\u001b[39m]),\n\u001b[1;32m     <a href='vscode-notebook-cell:/Users/lukasdierkes/Desktop/Repos/vehicle-stream-team-project/vehicle_stream_pipeline/playground.ipynb#ch0000021?line=16'>17</a>\u001b[0m                                                        drives_w_flights\u001b[39m.\u001b[39mavg_time_to_destination_y,\n\u001b[1;32m     <a href='vscode-notebook-cell:/Users/lukasdierkes/Desktop/Repos/vehicle-stream-team-project/vehicle_stream_pipeline/playground.ipynb#ch0000021?line=17'>18</a>\u001b[0m                                                        drives_w_flights\u001b[39m.\u001b[39mavg_time_to_destination_x)\n\u001b[1;32m     <a href='vscode-notebook-cell:/Users/lukasdierkes/Desktop/Repos/vehicle-stream-team-project/vehicle_stream_pipeline/playground.ipynb#ch0000021?line=19'>20</a>\u001b[0m \u001b[39mreturn\u001b[39;00m drives_w_flights\n",
      "File \u001b[0;32m/usr/local/lib/python3.9/site-packages/pandas/__init__.py:261\u001b[0m, in \u001b[0;36m__getattr__\u001b[0;34m(name)\u001b[0m\n\u001b[1;32m    <a href='file:///usr/local/lib/python3.9/site-packages/pandas/__init__.py?line=256'>257</a>\u001b[0m     \u001b[39mfrom\u001b[39;00m \u001b[39mpandas\u001b[39;00m\u001b[39m.\u001b[39;00m\u001b[39mcore\u001b[39;00m\u001b[39m.\u001b[39;00m\u001b[39marrays\u001b[39;00m\u001b[39m.\u001b[39;00m\u001b[39msparse\u001b[39;00m \u001b[39mimport\u001b[39;00m SparseArray \u001b[39mas\u001b[39;00m _SparseArray\n\u001b[1;32m    <a href='file:///usr/local/lib/python3.9/site-packages/pandas/__init__.py?line=258'>259</a>\u001b[0m     \u001b[39mreturn\u001b[39;00m _SparseArray\n\u001b[0;32m--> <a href='file:///usr/local/lib/python3.9/site-packages/pandas/__init__.py?line=260'>261</a>\u001b[0m \u001b[39mraise\u001b[39;00m \u001b[39mAttributeError\u001b[39;00m(\u001b[39mf\u001b[39m\u001b[39m\"\u001b[39m\u001b[39mmodule \u001b[39m\u001b[39m'\u001b[39m\u001b[39mpandas\u001b[39m\u001b[39m'\u001b[39m\u001b[39m has no attribute \u001b[39m\u001b[39m'\u001b[39m\u001b[39m{\u001b[39;00mname\u001b[39m}\u001b[39;00m\u001b[39m'\u001b[39m\u001b[39m\"\u001b[39m)\n",
      "\u001b[0;31mAttributeError\u001b[0m: module 'pandas' has no attribute 'where'"
     ]
    }
   ],
   "source": [
    "drives_w_flights = add_drone_flights(edges, aggregated_drives, drone_spots = hotspots)"
   ]
  },
  {
   "cell_type": "code",
   "execution_count": 36,
   "metadata": {},
   "outputs": [
    {
     "data": {
      "text/html": [
       "<div>\n",
       "<style scoped>\n",
       "    .dataframe tbody tr th:only-of-type {\n",
       "        vertical-align: middle;\n",
       "    }\n",
       "\n",
       "    .dataframe tbody tr th {\n",
       "        vertical-align: top;\n",
       "    }\n",
       "\n",
       "    .dataframe thead th {\n",
       "        text-align: right;\n",
       "    }\n",
       "</style>\n",
       "<table border=\"1\" class=\"dataframe\">\n",
       "  <thead>\n",
       "    <tr style=\"text-align: right;\">\n",
       "      <th></th>\n",
       "      <th>start_id</th>\n",
       "      <th>end_id</th>\n",
       "      <th>Luftlinie</th>\n",
       "      <th>avg_time_to_destination</th>\n",
       "    </tr>\n",
       "  </thead>\n",
       "  <tbody>\n",
       "    <tr>\n",
       "      <th>8</th>\n",
       "      <td>1001</td>\n",
       "      <td>1010</td>\n",
       "      <td>314</td>\n",
       "      <td>0.000436</td>\n",
       "    </tr>\n",
       "    <tr>\n",
       "      <th>203</th>\n",
       "      <td>1002</td>\n",
       "      <td>1005</td>\n",
       "      <td>262</td>\n",
       "      <td>0.000364</td>\n",
       "    </tr>\n",
       "    <tr>\n",
       "      <th>207</th>\n",
       "      <td>1002</td>\n",
       "      <td>1009</td>\n",
       "      <td>430</td>\n",
       "      <td>0.000597</td>\n",
       "    </tr>\n",
       "    <tr>\n",
       "      <th>208</th>\n",
       "      <td>1002</td>\n",
       "      <td>1010</td>\n",
       "      <td>257</td>\n",
       "      <td>0.000357</td>\n",
       "    </tr>\n",
       "    <tr>\n",
       "      <th>403</th>\n",
       "      <td>1003</td>\n",
       "      <td>1005</td>\n",
       "      <td>200</td>\n",
       "      <td>0.000278</td>\n",
       "    </tr>\n",
       "    <tr>\n",
       "      <th>...</th>\n",
       "      <td>...</td>\n",
       "      <td>...</td>\n",
       "      <td>...</td>\n",
       "      <td>...</td>\n",
       "    </tr>\n",
       "    <tr>\n",
       "      <th>31757</th>\n",
       "      <td>12007</td>\n",
       "      <td>12006</td>\n",
       "      <td>395</td>\n",
       "      <td>0.000549</td>\n",
       "    </tr>\n",
       "    <tr>\n",
       "      <th>31758</th>\n",
       "      <td>12007</td>\n",
       "      <td>12008</td>\n",
       "      <td>239</td>\n",
       "      <td>0.000332</td>\n",
       "    </tr>\n",
       "    <tr>\n",
       "      <th>31760</th>\n",
       "      <td>12007</td>\n",
       "      <td>12010</td>\n",
       "      <td>459</td>\n",
       "      <td>0.000637</td>\n",
       "    </tr>\n",
       "    <tr>\n",
       "      <th>31958</th>\n",
       "      <td>12008</td>\n",
       "      <td>12007</td>\n",
       "      <td>239</td>\n",
       "      <td>0.000332</td>\n",
       "    </tr>\n",
       "    <tr>\n",
       "      <th>32358</th>\n",
       "      <td>12010</td>\n",
       "      <td>12007</td>\n",
       "      <td>459</td>\n",
       "      <td>0.000637</td>\n",
       "    </tr>\n",
       "  </tbody>\n",
       "</table>\n",
       "<p>120 rows × 4 columns</p>\n",
       "</div>"
      ],
      "text/plain": [
       "       start_id  end_id  Luftlinie  avg_time_to_destination\n",
       "8          1001    1010        314                 0.000436\n",
       "203        1002    1005        262                 0.000364\n",
       "207        1002    1009        430                 0.000597\n",
       "208        1002    1010        257                 0.000357\n",
       "403        1003    1005        200                 0.000278\n",
       "...         ...     ...        ...                      ...\n",
       "31757     12007   12006        395                 0.000549\n",
       "31758     12007   12008        239                 0.000332\n",
       "31760     12007   12010        459                 0.000637\n",
       "31958     12008   12007        239                 0.000332\n",
       "32358     12010   12007        459                 0.000637\n",
       "\n",
       "[120 rows x 4 columns]"
      ]
     },
     "execution_count": 36,
     "metadata": {},
     "output_type": "execute_result"
    }
   ],
   "source": [
    "drives_w_flights"
   ]
  }
 ],
 "metadata": {
  "interpreter": {
   "hash": "aee8b7b246df8f9039afb4144a1f6fd8d2ca17a180786b69acc140d282b71a49"
  },
  "kernelspec": {
   "display_name": "Python 3.9.13 64-bit",
   "language": "python",
   "name": "python3"
  },
  "language_info": {
   "codemirror_mode": {
    "name": "ipython",
    "version": 3
   },
   "file_extension": ".py",
   "mimetype": "text/x-python",
   "name": "python",
   "nbconvert_exporter": "python",
   "pygments_lexer": "ipython3",
   "version": "3.9.13"
  },
  "orig_nbformat": 4
 },
 "nbformat": 4,
 "nbformat_minor": 2
}
